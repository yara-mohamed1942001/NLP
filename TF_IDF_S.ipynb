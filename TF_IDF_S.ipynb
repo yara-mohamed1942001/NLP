{
  "cells": [
    {
      "cell_type": "code",
      "execution_count": null,
      "metadata": {
        "colab": {
          "background_save": true,
          "base_uri": "https://localhost:8080/"
        },
        "id": "ntPdmK56EVdj",
        "outputId": "1d2a4f37-bbe4-435a-e4a8-5b26807a1ce8"
      },
      "outputs": [
        {
          "name": "stderr",
          "output_type": "stream",
          "text": [
            "[nltk_data] Downloading package punkt to /root/nltk_data...\n",
            "[nltk_data]   Package punkt is already up-to-date!\n",
            "[nltk_data] Downloading package wordnet to /root/nltk_data...\n",
            "[nltk_data]   Package wordnet is already up-to-date!\n",
            "[nltk_data] Downloading package stopwords to /root/nltk_data...\n",
            "[nltk_data]   Package stopwords is already up-to-date!\n",
            "Truncation was not explicitly activated but `max_length` is provided a specific value, please use `truncation=True` to explicitly truncate examples to max length. Defaulting to 'longest_first' truncation strategy. If you encode pairs of sequences (GLUE-style) with the tokenizer you can select this strategy more precisely by providing a specific strategy to `truncation`.\n",
            "Setting `pad_token_id` to `eos_token_id`:50256 for open-end generation.\n",
            "Setting `pad_token_id` to `eos_token_id`:50256 for open-end generation.\n"
          ]
        },
        {
          "name": "stdout",
          "output_type": "stream",
          "text": [
            "TF-IDF Matrix:\n",
            "[[0.16247628 0.40461123 0.08123814 0.08123814 0.34680963 0.08123814\n",
            "  0.08123814 0.08123814 0.08123814 0.40461123 0.08123814 0.08123814\n",
            "  0.08123814 0.28900802 0.34680963 0.08123814 0.         0.08123814\n",
            "  0.         0.40461123 0.08123814 0.08123814 0.08123814 0.08123814\n",
            "  0.08123814 0.08123814 0.08123814 0.08123814 0.08123814 0.08123814\n",
            "  0.08123814 0.08123814 0.08123814]\n",
            " [0.         0.43183468 0.         0.         0.48941264 0.\n",
            "  0.         0.         0.         0.31667877 0.         0.\n",
            "  0.         0.40304571 0.40304571 0.         0.12138572 0.\n",
            "  0.12138572 0.34546775 0.         0.         0.         0.\n",
            "  0.         0.         0.         0.         0.         0.\n",
            "  0.         0.         0.        ]]\n"
          ]
        }
      ],
      "source": [
        "from transformers import pipeline\n",
        "import nltk\n",
        "from nltk.corpus import stopwords\n",
        "from nltk.tokenize import word_tokenize\n",
        "from nltk.stem import WordNetLemmatizer\n",
        "import re\n",
        "from sklearn.feature_extraction.text import TfidfVectorizer\n",
        "\n",
        "nltk.download('punkt')\n",
        "nltk.download('wordnet')\n",
        "nltk.download('stopwords')\n",
        "\n",
        "def generate_documents(phrase, num_documents, model_name=\"EleutherAI/gpt-neo-2.7B\"):\n",
        "    gen_pipeline = pipeline(\"text-generation\", model=model_name)\n",
        "    documents = [gen_pipeline(phrase, max_length=150, num_return_sequences=1)[0]['generated_text'] for _ in range(num_documents)]\n",
        "    return documents\n",
        "\n",
        "def preprocess_text(text):\n",
        "    cleaned_text = re.sub(r'[^a-zA-Z\\s]', '', text)\n",
        "    normalized_text = cleaned_text.lower()\n",
        "    tokenized_text = word_tokenize(normalized_text)\n",
        "    lemmatizer = WordNetLemmatizer()\n",
        "    lemmatized_text = [lemmatizer.lemmatize(word) for word in tokenized_text]\n",
        "    stop_words = set(stopwords.words('english'))\n",
        "    processed_text = [word for word in lemmatized_text if word not in stop_words]\n",
        "    unique_words = set(processed_text)\n",
        "    len_3 = [unique_word for unique_word in unique_words if len(unique_word) < 3]\n",
        "    processed_text = [word for word in processed_text if word not in len_3]\n",
        "    unique_words = set(processed_text)\n",
        "    return processed_text\n",
        "\n",
        "# Generate documents\n",
        "phrase = \"The quick brown fox jumps over the lazy dog.\"\n",
        "num_documents = 2\n",
        "documents = generate_documents(phrase, num_documents)\n",
        "\n",
        "# Preprocess documents\n",
        "preprocessed_documents = [preprocess_text(doc) for doc in documents]\n",
        "\n",
        "# Convert preprocessed documents to strings\n",
        "preprocessed_documents_strings = [' '.join(doc) for doc in preprocessed_documents]\n",
        "\n",
        "# Apply TF-IDF\n",
        "tfidf_vectorizer = TfidfVectorizer()\n",
        "tfidf_matrix = tfidf_vectorizer.fit_transform(preprocessed_documents_strings)\n",
        "\n",
        "# Print TF-IDF matrix\n",
        "print(\"TF-IDF Matrix:\")\n",
        "print(tfidf_matrix.toarray())\n"
      ]
    },
    {
      "cell_type": "code",
      "execution_count": 6,
      "metadata": {
        "id": "I6Q8qlzsEuEB",
        "colab": {
          "base_uri": "https://localhost:8080/"
        },
        "outputId": "f79bba11-f16c-4905-9cb4-b4eecbec7f28"
      },
      "outputs": [
        {
          "output_type": "stream",
          "name": "stdout",
          "text": [
            "Normalized TF-IDF Matrix:\n",
            "[[0.16247628 0.08123814 0.08123814 0.40461123 0.08123814 0.40461123\n",
            "  0.08123814 0.         0.08123814 0.08123814 0.08123814 0.08123814\n",
            "  0.08123814 0.08123814 0.08123814 0.34680963 0.08123814 0.08123814\n",
            "  0.08123814 0.40461123 0.08123814 0.08123814 0.08123814 0.08123814\n",
            "  0.08123814 0.28900802 0.34680963 0.08123814 0.08123814 0.08123814\n",
            "  0.         0.08123814 0.08123814]\n",
            " [0.         0.         0.         0.34546775 0.         0.43183468\n",
            "  0.         0.12138572 0.         0.         0.         0.\n",
            "  0.         0.         0.         0.48941264 0.         0.\n",
            "  0.         0.31667877 0.         0.         0.         0.\n",
            "  0.         0.40304571 0.40304571 0.         0.         0.\n",
            "  0.12138572 0.         0.        ]]\n"
          ]
        }
      ],
      "source": [
        "import math\n",
        "import numpy as np\n",
        "\n",
        "def calculate_tf(term, document):\n",
        "    term_frequency = document.count(term)\n",
        "    total_terms = len(document)\n",
        "    return term_frequency / total_terms if total_terms else 0\n",
        "\n",
        "def calculate_idf(term, corpus):\n",
        "    total_documents = len(corpus)\n",
        "    documents_containing_term = sum(1 for doc in corpus if term in doc)\n",
        "    return math.log((total_documents + 1) / (documents_containing_term + 1)) + 1\n",
        "\n",
        "def calculate_tfidf(term, document, corpus):\n",
        "    tf = calculate_tf(term, document)\n",
        "    idf = calculate_idf(term, corpus)\n",
        "    return tf * idf\n",
        "\n",
        "def l2_normalize(matrix):\n",
        "    norms = np.linalg.norm(matrix, axis=1)\n",
        "    return matrix / norms[:, np.newaxis]\n",
        "\n",
        "# Assume preprocessed_documents is your list of preprocessed documents\n",
        "corpus = preprocessed_documents\n",
        "\n",
        "# Get unique terms from all documents\n",
        "unique_terms = set(term for doc in corpus for term in doc)\n",
        "\n",
        "# Calculate TF-IDF matrix\n",
        "tfidf_matrix = np.zeros((len(corpus), len(unique_terms)))\n",
        "for i, doc in enumerate(corpus):\n",
        "    for j, term in enumerate(unique_terms):\n",
        "        tfidf_matrix[i, j] = calculate_tfidf(term, doc, corpus)\n",
        "\n",
        "# Normalize TF-IDF matrix using L2 normalization\n",
        "normalized_tfidf_matrix = l2_normalize(tfidf_matrix)\n",
        "\n",
        "# Print normalized TF-IDF matrix\n",
        "print(\"Normalized TF-IDF Matrix:\")\n",
        "print(normalized_tfidf_matrix)\n"
      ]
    },
    {
      "cell_type": "code",
      "source": [],
      "metadata": {
        "id": "CIow-zX9OzPv"
      },
      "execution_count": null,
      "outputs": []
    }
  ],
  "metadata": {
    "colab": {
      "provenance": []
    },
    "kernelspec": {
      "display_name": "Python 3",
      "name": "python3"
    },
    "language_info": {
      "name": "python"
    }
  },
  "nbformat": 4,
  "nbformat_minor": 0
}