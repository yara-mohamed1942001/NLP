{
  "nbformat": 4,
  "nbformat_minor": 0,
  "metadata": {
    "colab": {
      "provenance": []
    },
    "kernelspec": {
      "name": "python3",
      "display_name": "Python 3"
    },
    "language_info": {
      "name": "python"
    }
  },
  "cells": [
    {
      "cell_type": "code",
      "source": [
        "! pip install wikipedia-api"
      ],
      "metadata": {
        "colab": {
          "base_uri": "https://localhost:8080/"
        },
        "id": "3-gt8FyOuxdr",
        "outputId": "301228aa-f5db-4ee9-a5f2-5cee7f7157d7"
      },
      "execution_count": null,
      "outputs": [
        {
          "output_type": "stream",
          "name": "stdout",
          "text": [
            "Collecting wikipedia-api\n",
            "  Downloading Wikipedia_API-0.6.0-py3-none-any.whl (14 kB)\n",
            "Requirement already satisfied: requests in /usr/local/lib/python3.10/dist-packages (from wikipedia-api) (2.31.0)\n",
            "Requirement already satisfied: charset-normalizer<4,>=2 in /usr/local/lib/python3.10/dist-packages (from requests->wikipedia-api) (3.3.2)\n",
            "Requirement already satisfied: idna<4,>=2.5 in /usr/local/lib/python3.10/dist-packages (from requests->wikipedia-api) (3.7)\n",
            "Requirement already satisfied: urllib3<3,>=1.21.1 in /usr/local/lib/python3.10/dist-packages (from requests->wikipedia-api) (2.0.7)\n",
            "Requirement already satisfied: certifi>=2017.4.17 in /usr/local/lib/python3.10/dist-packages (from requests->wikipedia-api) (2024.2.2)\n",
            "Installing collected packages: wikipedia-api\n",
            "Successfully installed wikipedia-api-0.6.0\n"
          ]
        }
      ]
    },
    {
      "cell_type": "code",
      "source": [
        "import wikipediaapi\n",
        "def import_wikipedia_content(topic, language='en'):\n",
        "    user_agent = \"My-Wikipedia-Scraper/1.0 (https://github.com/yourusername)\"\n",
        "    wiki_wiki = wikipediaapi.Wikipedia(user_agent=user_agent)\n",
        "    page = wiki_wiki.page(topic)\n",
        "    if page.exists():\n",
        "        return page.text\n",
        "    else:\n",
        "        return f\"Page '{topic}' does not exist on Wikipedia.\""
      ],
      "metadata": {
        "id": "KXpBsBvhu_gm"
      },
      "execution_count": 1,
      "outputs": []
    },
    {
      "cell_type": "code",
      "source": [
        "text1 = import_wikipedia_content('Artificial Intelligence')\n",
        "text2 = import_wikipedia_content('Computer Science')\n",
        "text3 = import_wikipedia_content('Machine Learning')\n",
        "text4 = import_wikipedia_content('Deep Learning')\n",
        "text5 = import_wikipedia_content('Natural Language Processing')\n",
        "text6 = import_wikipedia_content('Data Science')\n",
        "text = text1 + text2 + text3 + text4 + text5 + text6\n",
        "print(text)"
      ],
      "metadata": {
        "colab": {
          "base_uri": "https://localhost:8080/"
        },
        "id": "71stqzRHvcr5",
        "outputId": "2ae8bf01-7008-48e1-f767-1a04be52ad48"
      },
      "execution_count": 2,
      "outputs": [
        {
          "output_type": "stream",
          "name": "stdout",
          "text": [
            "Artificial intelligence (AI), in its broadest sense, is intelligence exhibited by machines, particularly computer systems. It is a field of research in computer science that develops and studies methods and software which enable machines to perceive their environment and uses learning and intelligence to take actions that maximize their chances of achieving defined goals. Such machines may be called AIs.\n",
            "AI technology is widely used throughout industry, government, and science. Some high-profile applications include advanced web search engines (e.g., Google Search); recommendation systems (used by YouTube, Amazon, and Netflix); interacting via human speech (e.g., Google Assistant, Siri, and Alexa); autonomous vehicles (e.g., Waymo); generative and creative tools (e.g., ChatGPT and AI art); and superhuman play and analysis in strategy games (e.g., chess and Go). However, many AI applications are not perceived as AI: \"A lot of cutting edge AI has filtered into general applications, often without being called AI because once something becomes useful enough and common enough it's not labeled AI anymore.\"\n",
            "Alan Turing was the first person to conduct substantial research in the field that he called machine intelligence. Artificial intelligence was founded as an academic discipline in 1956. The field went through multiple cycles of optimism, followed by periods of disappointment and loss of funding, known as AI winter. Funding and interest vastly increased after 2012 when deep learning surpassed all previous AI techniques, and after 2017 with the transformer architecture. This led to the AI boom of the early 2020s, with companies, universities, and laboratories overwhelmingly based in the United States pioneering significant advances in artificial intelligence.\n",
            "The growing use of artificial intelligence in the 21st century is influencing a societal and economic shift towards increased automation, data-driven decision-making, and the integration of AI systems into various economic sectors and areas of life, impacting job markets, healthcare, government, industry, and education. This raises questions about the long-term effects, ethical implications, and risks of AI, prompting discussions about regulatory policies to ensure the safety and benefits of the technology. \n",
            "The various sub-fields of AI research are centered around particular goals and the use of particular tools. The traditional goals of AI research include reasoning, knowledge representation, planning, learning, natural language processing, perception, and support for robotics. General intelligence—the ability to complete any task performable by a human on an at least equal level—is among the field's long-term goals.\n",
            "To reach these goals, AI researchers have adapted and integrated a wide range of techniques, including search and mathematical optimization, formal logic, artificial neural networks, and methods based on statistics, operations research, and economics. AI also draws upon psychology, linguistics, philosophy, neuroscience, and other fields.\n",
            "\n",
            "Goals\n",
            "The general problem of simulating (or creating) intelligence has been broken into sub-problems. These consist of particular traits or capabilities that researchers expect an intelligent system to display. The traits described below have received the most attention and cover the scope of AI research.\n",
            "\n",
            "Reasoning and problem solving\n",
            "Early researchers developed algorithms that imitated step-by-step reasoning that humans use when they solve puzzles or make logical deductions. By the late 1980s and 1990s, methods were developed for dealing with uncertain or incomplete information, employing concepts from probability and economics.\n",
            "Many of these algorithms are insufficient for solving large reasoning problems because they experience a \"combinatorial explosion\": they became exponentially slower as the problems grew larger. Even humans rarely use the step-by-step deduction that early AI research could model. They solve most of their problems using fast, intuitive judgments. Accurate and efficient reasoning is an unsolved problem.\n",
            "\n",
            "Knowledge representation\n",
            "Knowledge representation and knowledge engineering allow AI programs to answer questions intelligently and make deductions about real-world facts. Formal knowledge representations are used in content-based indexing and retrieval, scene interpretation, clinical decision support, knowledge discovery (mining \"interesting\" and actionable inferences from large databases), and other areas.\n",
            "A knowledge base is a body of knowledge represented in a form that can be used by a program. An ontology is the set of objects, relations, concepts, and properties used by a particular domain of knowledge. Knowledge bases need to represent things such as: objects, properties, categories and relations between objects; situations, events, states and time; causes and effects; knowledge about knowledge (what we know about what other people know); default reasoning (things that humans assume are true until they are told differently and will remain true even when other facts are changing); and many other aspects and domains of knowledge.\n",
            "Among the most difficult problems in knowledge representation are: the breadth of commonsense knowledge (the set of atomic facts that the average person knows is enormous); and the sub-symbolic form of most commonsense knowledge (much of what people know is not represented as \"facts\" or \"statements\" that they could express verbally). There is also the difficulty of knowledge acquisition, the problem of obtaining knowledge for AI applications.\n",
            "\n",
            "Planning and decision making\n",
            "An \"agent\" is anything that perceives and takes actions in the world. A rational agent has goals or preferences and takes actions to make them happen. In automated planning, the agent has a specific goal. In automated decision making, the agent has preferences—there are some situations it would prefer to be in, and some situations it is trying to avoid. The decision making agent assigns a number to each situation (called the \"utility\") that measures how much the agent prefers it. For each possible action, it can calculate the \"expected utility\": the utility of all possible outcomes of the action, weighted by the probability that the outcome will occur. It can then choose the action with the maximum expected utility.\n",
            "In classical planning, the agent knows exactly what the effect of any action will be. In most real-world problems, however, the agent may not be certain about the situation they are in (it is \"unknown\" or \"unobservable\") and it may not know for certain what will happen after each possible action (it is not \"deterministic\"). It must choose an action by making a probabilistic guess and then reassess the situation to see if the action worked.\n",
            "In some problems, the agent's preferences may be uncertain, especially if there are other agents or humans involved. These can be learned (e.g., with inverse reinforcement learning) or the agent can seek information to improve its preferences. Information value theory can be used to weigh the value of exploratory or experimental actions. The space of possible future actions and situations is typically intractably large, so the agents must take actions and evaluate situations while being uncertain what the outcome will be.\n",
            "A Markov decision process has a transition model that describes the probability that a particular action will change the state in a particular way, and a reward function that supplies the utility of each state and the cost of each action. A policy associates a decision with each possible state. The policy could be calculated (e.g., by iteration), be heuristic, or it can be learned.\n",
            "Game theory describes rational behavior of multiple interacting agents, and is used in AI programs that make decisions that involve other agents.\n",
            "\n",
            "Learning\n",
            "Machine learning is the study of programs that can improve their performance on a given task automatically. It has been a part of AI from the beginning.\n",
            "There are several kinds of machine learning. Unsupervised learning analyzes a stream of data and finds patterns and makes predictions without any other guidance. Supervised learning requires a human to label the input data first, and comes in two main varieties: classification (where the program must learn to predict what category the input belongs in) and regression (where the program must deduce a numeric function based on numeric input).\n",
            "In reinforcement learning the agent is rewarded for good responses and punished for bad ones. The agent learns to choose responses that are classified as \"good\". Transfer learning is when the knowledge gained from one problem is applied to a new problem. Deep learning is a type of machine learning that runs inputs through biologically inspired artificial neural networks for all of these types of learning.\n",
            "Computational learning theory can assess learners by computational complexity, by sample complexity (how much data is required), or by other notions of optimization.\n",
            "\n",
            "Natural language processing\n",
            "Natural language processing (NLP) allows programs to read, write and communicate in human languages such as English. Specific problems include speech recognition, speech synthesis, machine translation, information extraction, information retrieval and question answering.\n",
            "Early work, based on Noam Chomsky's generative grammar and semantic networks, had difficulty with word-sense disambiguation unless restricted to small domains called \"micro-worlds\" (due to the common sense knowledge problem). Margaret Masterman believed that it was meaning and not grammar that was the key to understanding languages, and that thesauri and not dictionaries should be the basis of computational language structure.\n",
            "Modern deep learning techniques for NLP include word embedding (representing words, typically as vectors encoding their meaning), transformers (a deep learning architecture using an attention mechanism), and others. In 2019, generative pre-trained transformer (or \"GPT\") language models began to generate coherent text, and by 2023 these models were able to get human-level scores on the bar exam, SAT test, GRE test, and many other real-world applications.\n",
            "\n",
            "Perception\n",
            "Machine perception is the ability to use input from sensors (such as cameras, microphones, wireless signals, active lidar, sonar, radar, and tactile sensors) to deduce aspects of the world. Computer vision is the ability to analyze visual input.\n",
            "The field includes speech recognition, image classification, facial recognition, object recognition, and robotic perception.\n",
            "\n",
            "Social intelligence\n",
            "Affective computing is an interdisciplinary umbrella that comprises systems that recognize, interpret, process or simulate human feeling, emotion and mood. For example, some virtual assistants are programmed to speak conversationally or even to banter humorously; it makes them appear more sensitive to the emotional dynamics of human interaction, or to otherwise facilitate human–computer interaction.\n",
            "However, this tends to give naïve users an unrealistic conception of the intelligence of existing computer agents. Moderate successes related to affective computing include textual sentiment analysis and, more recently, multimodal sentiment analysis, wherein AI classifies the affects displayed by a videotaped subject.\n",
            "\n",
            "General intelligence\n",
            "A machine with artificial general intelligence should be able to solve a wide variety of problems with breadth and versatility similar to human intelligence.\n",
            "\n",
            "Techniques\n",
            "AI research uses a wide variety of techniques to accomplish the goals above.\n",
            "\n",
            "Search and optimization\n",
            "AI can solve many problems by intelligently searching through many possible solutions. There are two very different kinds of search used in AI: state space search and local search.\n",
            "\n",
            "State space search\n",
            "State space search searches through a tree of possible states to try to find a goal state. For example, planning algorithms search through trees of goals and subgoals, attempting to find a path to a target goal, a process called means-ends analysis.\n",
            "Simple exhaustive searches are rarely sufficient for most real-world problems: the search space (the number of places to search) quickly grows to astronomical numbers. The result is a search that is too slow or never completes. \"Heuristics\" or \"rules of thumb\" can help to prioritize choices that are more likely to reach a goal.\n",
            "Adversarial search is used for game-playing programs, such as chess or Go. It searches through a tree of possible moves and counter-moves, looking for a winning position.\n",
            "\n",
            "Local search\n",
            "Local search uses mathematical optimization to find a solution to a problem. It begins with some form of guess and refines it incrementally.\n",
            "Gradient descent is a type of local search that optimizes a set of numerical parameters by incrementally adjusting them to minimize a loss function. Variants of gradient descent are commonly used to train neural networks.\n",
            "Another type of local search is evolutionary computation, which aims to iteratively improve a set of candidate solutions by \"mutating\" and \"recombining\" them, selecting only the fittest to survive each generation.\n",
            "Distributed search processes can coordinate via swarm intelligence algorithms. Two popular swarm algorithms used in search are particle swarm optimization (inspired by bird flocking) and ant colony optimization (inspired by ant trails).\n",
            "\n",
            "Logic\n",
            "Formal logic is used for reasoning and knowledge representation.\n",
            "Formal logic comes in two main forms: propositional logic (which operates on statements that are true or false and uses logical connectives such as \"and\", \"or\", \"not\" and \"implies\") and predicate logic (which also operates on objects, predicates and relations and uses quantifiers such as \"Every X is a Y\" and \"There are some Xs that are Ys\").\n",
            "Deductive reasoning in logic is the process of proving a new statement (conclusion) from other statements that are given and assumed to be true (the premises). Proofs can be structured as proof trees, in which nodes are labelled by sentences, and children nodes are connected to  parent nodes by inference rules.\n",
            "Given a problem and a set of premises, problem-solving reduces to searching for a proof tree whose root node is labelled by a solution of the problem and whose leaf nodes are labelled by premises or axioms. In the case of Horn clauses, problem-solving search can be performed by reasoning forwards from the premises or backwards from the problem. In the more general case of the clausal form of first-order logic, resolution is a single, axiom-free rule of inference, in which a problem is solved by proving a contradiction from premises that include the negation of the problem to be solved.\n",
            "Inference in both Horn clause logic and first-order logic is undecidable, and therefore intractable. However, backward reasoning with Horn clauses, which underpins computation in the logic programming language Prolog, is Turing complete. Moreover, its efficiency is competitive with computation in other symbolic programming languages.\n",
            "Fuzzy logic assigns a \"degree of truth\" between 0 and 1. It can therefore handle propositions that are vague and partially true.\n",
            "Non-monotonic logics, including logic programming with negation as failure, are designed to handle default reasoning.\n",
            "Other specialized versions of logic have been developed to describe many complex domains.\n",
            "\n",
            "Probabilistic methods for uncertain reasoning\n",
            "Many problems in AI (including in reasoning, planning, learning, perception, and robotics) require the agent to operate with incomplete or uncertain information. AI researchers have devised a number of tools to solve these problems using methods from probability theory and economics. Precise mathematical tools have been developed that analyze how an agent can make choices and plan, using decision theory, decision analysis, and information value theory. These tools include models such as Markov decision processes, dynamic decision networks, game theory and mechanism design.\n",
            "Bayesian networks are a tool that can be used for reasoning (using the Bayesian inference algorithm), learning (using the expectation-maximization algorithm), planning (using decision networks) and perception (using dynamic Bayesian networks).\n",
            "\n",
            "Probabilistic algorithms can also be used for filtering, prediction, smoothing and finding explanations for streams of data, helping perception systems to analyze processes that occur over time (e.g., hidden Markov models or Kalman filters).\n",
            "\n",
            "Classifiers and statistical learning methods\n",
            "The simplest AI applications can be divided into two types: classifiers (e.g., \"if shiny then diamond\"), on one hand, and controllers (e.g., \"if diamond then pick up\"), on the other hand. Classifiers are functions that use pattern matching to determine the closest match. They can be fine-tuned based on chosen examples using supervised learning. Each pattern (also called an \"observation\") is labeled with a certain predefined class. All the observations combined with their class labels are known as a data set. When a new observation is received, that observation is classified based on previous experience.\n",
            "There are many kinds of classifiers in use. The decision tree is the simplest and most widely used symbolic machine learning algorithm. K-nearest neighbor algorithm was the most widely used analogical AI until the mid-1990s, and Kernel methods such as the support vector machine (SVM) displaced k-nearest neighbor in the 1990s.\n",
            "The naive Bayes classifier is reportedly the \"most widely used learner\" at Google, due in part to its scalability.\n",
            "Neural networks are also used as classifiers.\n",
            "\n",
            "Artificial neural networks\n",
            "An artificial neural network is based on a collection of nodes also known as artificial neurons, which loosely model the neurons in a biological brain. It is trained to recognise patterns; once trained, it can recognise those patterns in fresh data. There is an input, at least one hidden layer of nodes and an output. Each node applies a function and once the weight crosses its specified threshold, the data is transmitted to the next layer. A network is typically called a deep neural network if it has at least 2 hidden layers.\n",
            "Learning algorithms for neural networks use local search to choose the weights that will get the right output for each input during training. The most common training technique is the backpropagation algorithm.\n",
            "Neural networks learn to model complex relationships between inputs and outputs and find patterns in data. In theory, a neural network can learn any function.\n",
            "In feedforward neural networks the signal passes in only one direction. Recurrent neural networks feed the output signal back into the input, which allows short-term memories of previous input events. Long short term memory is the most successful network architecture for recurrent networks.\n",
            "Perceptrons\n",
            "use only a single layer of neurons, deep learning uses multiple layers.\n",
            "Convolutional neural networks strengthen the connection between neurons that are \"close\" to each other—this is especially important in image processing, where a local set of neurons must identify an \"edge\" before the network can identify an object.\n",
            "\n",
            "Deep learning\n",
            "Deep learning\n",
            "uses several layers of neurons between the network's inputs and outputs. The multiple layers can progressively extract higher-level features from the raw input. For example, in image processing, lower layers may identify edges, while higher layers may identify the concepts relevant to a human such as digits or letters or faces.\n",
            "Deep learning has profoundly improved the performance of programs in many important subfields of artificial intelligence, including computer vision, speech recognition, natural language processing, image classification and others. The reason that deep learning performs so well in so many applications is not known as of 2023.\n",
            "The sudden success of deep learning in 2012–2015 did not occur because of some new discovery or theoretical breakthrough (deep neural networks and backpropagation had been described by many people, as far back as the 1950s)\n",
            "but because of two factors: the incredible increase in computer power (including the hundred-fold increase in speed by switching to GPUs) and the availability of vast amounts of training data, especially the giant curated datasets used for benchmark testing, such as ImageNet.\n",
            "\n",
            "GPT\n",
            "Generative pre-trained transformers (GPT) are large language models that are based on the semantic relationships between words in sentences (natural language processing). Text-based GPT models are pre-trained on a large corpus of text which can be from the internet. The pre-training consists in predicting the next token (a token being usually a word, subword, or punctuation). Throughout this pre-training, GPT models accumulate knowledge about the world, and can then generate human-like text by repeatedly predicting the next token. Typically, a subsequent training phase makes the model more truthful, useful and harmless, usually with a technique called reinforcement learning from human feedback (RLHF). Current GPT models are still prone to generating falsehoods called \"hallucinations\", although this can be reduced with RLHF and quality data. They are used in chatbots, which allow you to ask a question or request a task in simple text.\n",
            "Current models and services include: Gemini (formerly Bard), ChatGPT, Grok, Claude, Copilot and LLaMA. Multimodal GPT models can process different types of data (modalities) such as images, videos, sound and text.\n",
            "\n",
            "Specialized hardware and software\n",
            "In the late 2010s, graphics processing units (GPUs) that were increasingly designed with AI-specific enhancements and used with specialized TensorFlow software, had replaced previously used central processing unit (CPUs) as the dominant means for large-scale (commercial and academic) machine learning models' training. Historically, specialized languages, such as Lisp, Prolog, Python and others, had been used.\n",
            "\n",
            "Applications\n",
            "AI and machine learning technology is used in most of the essential applications of the 2020s, including: search engines (such as Google Search), targeting online advertisements, recommendation systems (offered by Netflix, YouTube or Amazon), driving internet traffic, targeted advertising (AdSense, Facebook), virtual assistants (such as Siri or Alexa), autonomous vehicles (including drones, ADAS and self-driving cars), automatic language translation (Microsoft Translator, Google Translate), facial recognition (Apple's Face ID or Microsoft's DeepFace and Google's FaceNet) and image labeling (used by Facebook, Apple's iPhoto and TikTok).\n",
            "\n",
            "Health and medicine\n",
            "The application of AI in medicine and medical research has the potential to increase patient care and quality of life. Through the lens of the Hippocratic Oath, medical professionals are ethically compelled to use AI, if applications can more accurately diagnose and treat patients.\n",
            "For medical research, AI is an important tool for processing and integrating big data. This is particularly important for organoid and tissue engineering development which use microscopy imaging as a key technique in fabrication. It has been suggested that AI can overcome discrepancies in funding allocated to different fields of research. New AI tools can deepen the understanding of biomedically relevant pathways. For example, AlphaFold 2 (2021) demonstrated the ability to approximate, in hours rather than months, the 3D structure of a protein. In 2023, it was reported that AI-guided drug discovery helped find a class of antibiotics capable of killing two different types of drug-resistant bacteria. In 2024, researchers used machine learning to accelerate the search for Parkinson's disease drug treatments. Their aim was to identify compounds that block the clumping, or aggregation, of alpha-synuclein (the protein that characterises Parkinson's disease). They were able to speed up the initial screening process ten-fold, and to reduce the cost by a thousand-fold.\n",
            "\n",
            "Games\n",
            "Game playing programs have been used since the 1950s to demonstrate and test AI's most advanced techniques. Deep Blue became the first computer chess-playing system to beat a reigning world chess champion, Garry Kasparov, on 11 May 1997. In 2011, in a Jeopardy! quiz show exhibition match, IBM's question answering system, Watson, defeated the two greatest Jeopardy! champions, Brad Rutter and Ken Jennings, by a significant margin. In March 2016, AlphaGo won 4 out of 5 games of Go in a match with Go champion Lee Sedol, becoming the first computer Go-playing system to beat a professional Go player without handicaps. Then in 2017 it defeated Ke Jie, who was the best Go player in the world. Other programs handle imperfect-information games, such as the poker-playing program Pluribus. DeepMind developed increasingly generalistic reinforcement learning models, such as with MuZero, which could be trained to play chess, Go, or Atari games. In 2019, DeepMind's AlphaStar achieved grandmaster level in StarCraft II, a particularly challenging real-time strategy game that involves incomplete knowledge of what happens on the map. In 2021, an AI agent competed in a PlayStation Gran Turismo competition, winning against four of the world's best Gran Turismo drivers using deep reinforcement learning.\n",
            "\n",
            "Military\n",
            "Various countries are deploying AI military applications. The main applications enhance command and control, communications, sensors, integration and interoperability. Research is targeting intelligence collection and analysis, logistics, cyber operations, information operations, and semiautonomous and autonomous vehicles. AI technologies enable coordination of sensors and effectors, threat detection and identification, marking of enemy positions, target acquisition, coordination and deconfliction of distributed Joint Fires between networked combat vehicles involving manned and unmanned teams. AI was incorporated into military operations in Iraq and Syria.\n",
            "In November 2023, US Vice President Kamala Harris disclosed a declaration signed by 31 nations to set guardrails for the military use of AI. The commitments include using legal reviews to ensure the compliance of military AI with international laws, and being cautious and transparent in the development of this technology.\n",
            "\n",
            "Generative AI\n",
            "In the early 2020s, generative AI gained widespread prominence. In March 2023, 58% of U.S. adults had heard about ChatGPT and 14% had tried it. The increasing realism and ease-of-use of AI-based text-to-image generators such as Midjourney, DALL-E, and Stable Diffusion sparked a trend of viral AI-generated photos. Widespread attention was gained by a fake photo of Pope Francis wearing a white puffer coat, the fictional arrest of Donald Trump, and a hoax of an attack on the Pentagon, as well as the usage in professional creative arts.\n",
            "\n",
            "Industry-specific tasks\n",
            "There are also thousands of successful AI applications used to solve specific problems for specific industries or institutions. In a 2017 survey, one in five companies reported they had incorporated \"AI\" in some offerings or processes. A few examples are energy storage, medical diagnosis, military logistics, applications that predict the result of judicial decisions, foreign policy, or supply chain management.\n",
            "In agriculture, AI has helped farmers identify areas that need irrigation, fertilization, pesticide treatments or increasing yield. Agronomists use AI to conduct research and development. AI has been used to predict the ripening time for crops such as tomatoes, monitor soil moisture, operate agricultural robots, conduct predictive analytics, classify livestock pig call emotions, automate greenhouses, detect diseases and pests, and save water.\n",
            "Artificial intelligence is used in astronomy to analyze increasing amounts of available data and applications, mainly for \"classification, regression, clustering, forecasting, generation, discovery, and the development of new scientific insights\" for example for discovering exoplanets, forecasting solar activity, and distinguishing between signals and instrumental effects in gravitational wave astronomy. It could also be used for activities in space such as space exploration, including analysis of data from space missions, real-time science decisions of spacecraft, space debris avoidance, and more autonomous operation.\n",
            "\n",
            "Ethics\n",
            "AI has potential benefits and potential risks. AI may be able to advance science and find solutions for serious problems: Demis Hassabis of Deep Mind hopes to \"solve intelligence, and then use that to solve everything else\". However, as the use of AI has become widespread, several unintended consequences and risks have been identified. In-production systems can sometimes not factor ethics and bias into their AI training processes, especially when the AI algorithms are inherently unexplainable in deep learning.\n",
            "\n",
            "Risks and harm\n",
            "Privacy and copyright\n",
            "Machine-learning algorithms require large amounts of data. The techniques used to acquire this data have raised concerns about privacy, surveillance and copyright.\n",
            "Technology companies collect a wide range of data from their users, including online activity, geolocation data, video and audio.\n",
            "For example, in order to build speech recognition algorithms, Amazon has recorded millions of private conversations and allowed temporary workers to listen to and transcribe some of them. Opinions about this widespread surveillance range from those who see it as a necessary evil to those for whom it is clearly unethical and a violation of the right to privacy.\n",
            "AI developers argue that this is the only way to deliver valuable applications. and have developed several techniques that attempt to preserve privacy while still obtaining the data, such as data aggregation, de-identification and differential privacy. Since 2016, some privacy experts, such as Cynthia Dwork, have begun to view privacy in terms of fairness. Brian Christian wrote that experts have pivoted \"from the question of 'what they know' to the question of 'what they're doing with it'.\"\n",
            "Generative AI is often trained on unlicensed copyrighted works, including in domains such as images or computer code; the output is then used under the rationale of \"fair use\". Experts disagree about how well and under what circumstances this rationale will hold up in courts of law; relevant factors may include \"the purpose and character of the use of the copyrighted work\" and \"the effect upon the potential market for the copyrighted work\". Website owners who do not wish to have their content scraped can indicate it in a \"robots.txt\" file. In 2023, leading authors (including John Grisham and Jonathan Franzen) sued AI companies for using their work to train generative AI. Another discussed approach is to envision a separate sui generis system of protection for creations generated by AI to ensure fair attribution and compensation for human authors.\n",
            "\n",
            "Misinformation\n",
            "YouTube, Facebook and others use recommender systems to guide users to more content. These AI programs were given the goal of maximizing user engagement (that is, the only goal was to keep people watching). The AI learned that users tended to choose misinformation, conspiracy theories, and extreme partisan content, and, to keep them watching, the AI recommended more of it. Users also tended to watch more content on the same subject, so the AI led people into filter bubbles where they received multiple versions of the same misinformation. This convinced many users that the misinformation was true, and ultimately undermined trust in institutions, the media and the government. The AI program had correctly learned to maximize its goal, but the result was harmful to society. After the U.S. election in 2016, major technology companies took steps to mitigate the problem.\n",
            "In 2022, generative AI began to create images, audio, video and text that are indistinguishable from real photographs, recordings, films or human writing. It is possible for bad actors to use this technology to create massive amounts of misinformation or propaganda. AI pioneer Geoffrey Hinton expressed concern about AI enabling \"authoritarian leaders to manipulate their electorates\" on a large scale, among other risks.\n",
            "\n",
            "Algorithmic bias and fairness\n",
            "Machine learning applications will be biased if they learn from biased data. The developers may not be aware that the bias exists.\n",
            "Bias can be introduced by the way training data is selected and by the way a model is deployed. If a biased algorithm is used to make decisions that can seriously harm people (as it can in medicine, finance, recruitment, housing or policing) then the algorithm may cause discrimination.\n",
            "Fairness in machine learning is the study of how to prevent the harm caused by algorithmic bias. It has become serious area of academic study within AI. Researchers have discovered it is not always possible to define \"fairness\" in a way that satisfies all stakeholders.\n",
            "On June 28, 2015, Google Photos's new image labeling feature mistakenly identified Jacky Alcine and a friend as \"gorillas\" because they were black. The system was trained on a dataset that contained very few images of black people, a problem called \"sample size disparity\". Google \"fixed\" this problem by preventing the system from labelling anything as a \"gorilla\". Eight years later, in 2023, Google Photos still could not identify a gorilla, and neither could similar products from Apple, Facebook, Microsoft and Amazon.\n",
            "COMPAS is a commercial program widely used by U.S. courts to assess the likelihood of a defendant becoming a recidivist.\n",
            "In 2016, Julia Angwin at ProPublica discovered that COMPAS exhibited racial bias, despite the fact that the program was not told the races of the defendants. Although the error rate for both whites and blacks was calibrated equal at exactly 61%, the errors for each race were different—the system consistently overestimated the chance that a black person would re-offend and would underestimate the chance that a white person would not re-offend. In 2017, several researchers showed that it was mathematically impossible for COMPAS to accommodate all possible measures of fairness when the base rates of re-offense were different for whites and blacks in the data.\n",
            "A program can make biased decisions even if the data does not explicitly mention a problematic feature (such as \"race\" or \"gender\"). The feature will correlate with other features (like \"address\", \"shopping history\" or \"first name\"), and the program will make the same decisions based on these features as it would on \"race\" or \"gender\".\n",
            "Moritz Hardt said \"the most robust fact in this research area is that fairness through blindness doesn't work.\"\n",
            "Criticism of COMPAS highlighted that machine learning models are designed to make \"predictions\" that are only valid if we assume that the future will resemble the past. If they are trained on data that includes the results of racist decisions in the past, machine learning models must predict that racist decisions will be made in the future. If an application then uses these predictions as recommendations, some of these \"recommendations\" will likely be racist. Thus, machine learning is not well suited to help make decisions in areas where there is hope that the future will be better than the past. It is necessarily descriptive and not proscriptive.\n",
            "Bias and unfairness may go undetected because the developers are overwhelmingly white and male: among AI engineers, about 4% are black and 20% are women.\n",
            "At its 2022 Conference on Fairness, Accountability, and Transparency (ACM FAccT 2022), the Association for Computing Machinery, in Seoul, South Korea, presented and published findings that recommend that until AI and robotics systems are demonstrated to be free of bias mistakes, they are unsafe, and the use of self-learning neural networks trained on vast, unregulated sources of flawed internet data should be curtailed.\n",
            "\n",
            "Lack of transparency\n",
            "Many AI systems are so complex that their designers cannot explain how they reach their decisions. Particularly with deep neural networks, in which there are a large amount of non-linear relationships between inputs and outputs. But some popular explainability techniques exist.\n",
            "It is impossible to be certain that a program is operating correctly if no one knows how exactly it works. There have been many cases where a machine learning program passed rigorous tests, but nevertheless learned something different than what the programmers intended. For example, a system that could identify skin diseases better than medical professionals was found to actually have a strong tendency to classify images with a ruler as \"cancerous\", because pictures of malignancies typically include a ruler to show the scale. Another machine learning system designed to help effectively allocate medical resources was found to classify patients with asthma as being at \"low risk\" of dying from pneumonia. Having asthma is actually a severe risk factor, but since the patients having asthma would usually get much more medical care, they were relatively unlikely to die according to the training data. The correlation between asthma and low risk of dying from pneumonia was real, but misleading.\n",
            "People who have been harmed by an algorithm's decision have a right to an explanation. Doctors, for example, are expected to clearly and completely explain to their colleagues the reasoning behind any decision they make. Early drafts of the European Union's General Data Protection Regulation in 2016 included an explicit statement that this right exists. Industry experts noted that this is an unsolved problem with no solution in sight. Regulators argued that nevertheless the harm is real: if the problem has no solution, the tools should not be used.\n",
            "DARPA established the XAI (\"Explainable Artificial Intelligence\") program in 2014 to try and solve these problems. \n",
            "There are several possible solutions to the transparency problem. SHAP tried to solve the transparency problems by visualising the contribution of each feature to the output. LIME can locally approximate a model with a simpler, interpretable model. Multitask learning provides a large number of outputs in addition to the target classification. These other outputs can help developers deduce what the network has learned. Deconvolution, DeepDream and other generative methods can allow developers to see what different layers of a deep network have learned and produce output that can suggest what the network is learning.\n",
            "\n",
            "Bad actors and weaponized AI\n",
            "Artificial intelligence provides a number of tools that are useful to bad actors, such as authoritarian governments, terrorists, criminals or rogue states.\n",
            "A lethal autonomous weapon is a machine that locates, selects and engages human targets without human supervision. Widely available AI tools can be used by bad actors to develop inexpensive autonomous weapons and, if produced at scale, they are potentially weapons of mass destruction. Even when used in conventional warfare, it is unlikely that they will be unable to reliably choose targets and could potentially kill an innocent person. In 2014, 30 nations (including China) supported a ban on autonomous weapons under the United Nations' Convention on Certain Conventional Weapons, however the United States and others disagreed. By 2015, over fifty countries were reported to be researching battlefield robots.\n",
            "AI tools make it easier for authoritarian governments to efficiently control their citizens in several ways. Face and voice recognition allow widespread surveillance. Machine learning, operating this data, can classify potential enemies of the state and prevent them from hiding. Recommendation systems can precisely target propaganda and misinformation for maximum effect. Deepfakes and generative AI aid in producing misinformation. Advanced AI can make authoritarian centralized decision making more competitive than liberal and decentralized systems such as markets. It lowers the cost and difficulty of digital warfare and advanced spyware. All these technologies have been available since 2020 or earlier—AI facial recognition systems are already being used for mass surveillance in China.\n",
            "There many other ways that AI is expected to help bad actors, some of which can not be foreseen. For example, machine-learning AI is able to design tens of thousands of toxic molecules in a matter of hours.\n",
            "\n",
            "Reliance on industry giants\n",
            "Training AI systems requires an enormous amount of computing power. Usually only Big Tech companies have the financial resources to make such investments. Smaller startups such as Cohere and OpenAI end up buying access to data centers from Google and Microsoft respectively.\n",
            "\n",
            "Technological unemployment\n",
            "Economists have frequently highlighted the risks of redundancies from AI, and speculated about unemployment if there is no adequate social policy for full employment.\n",
            "In the past, technology has tended to increase rather than reduce total employment, but economists acknowledge that \"we're in uncharted territory\" with AI. A survey of economists showed disagreement about whether the increasing use of robots and AI will cause a substantial increase in long-term unemployment, but they generally agree that it could be a net benefit if productivity gains are redistributed. Risk estimates vary; for example, in the 2010s, Michael Osborne and Carl Benedikt Frey estimated 47% of U.S. jobs are at \"high risk\" of potential automation, while an OECD report classified only 9% of U.S. jobs as \"high risk\". The methodology of speculating about future employment levels has been criticised as lacking evidential foundation, and for implying that technology, rather than social policy, creates unemployment, as opposed to redundancies. In April 2023, it was reported that 70% of the jobs for Chinese video game illustrators had been eliminated by generative artificial intelligence.\n",
            "Unlike previous waves of automation, many middle-class jobs may be eliminated by artificial intelligence; The Economist stated in 2015 that \"the worry that AI could do to white-collar jobs what steam power did to blue-collar ones during the Industrial Revolution\" is \"worth taking seriously\". Jobs at extreme risk range from paralegals to fast food cooks, while job demand is likely to increase for care-related professions ranging from personal healthcare to the clergy.\n",
            "From the early days of the development of artificial intelligence, there have been arguments, for example, those put forward by Joseph Weizenbaum, about whether tasks that can be done by computers actually should be done by them, given the difference between computers and humans, and between quantitative calculation and qualitative, value-based judgement.\n",
            "\n",
            "Existential risk\n",
            "It has been argued AI will become so powerful that humanity may irreversibly lose control of it. This could, as physicist Stephen Hawking stated, \"spell the end of the human race\". This scenario has been common in science fiction, when a computer or robot suddenly develops a human-like \"self-awareness\" (or \"sentience\" or \"consciousness\") and becomes a malevolent character. These sci-fi scenarios are misleading in several ways.\n",
            "First, AI does not require human-like \"sentience\" to be an existential risk. Modern AI programs are given specific goals and use learning and intelligence to achieve them. Philosopher Nick Bostrom argued that if one gives almost any goal to a sufficiently powerful AI, it may choose to destroy humanity to achieve it (he used the example of a paperclip factory manager). Stuart Russell gives the example of household robot that tries to find a way to kill its owner to prevent it from being unplugged, reasoning that \"you can't fetch the coffee if you're dead.\" In order to be safe for humanity, a superintelligence would have to be genuinely aligned with humanity's morality and values so that it is \"fundamentally on our side\".\n",
            "Second, Yuval Noah Harari argues that AI does not require a robot body or physical control to pose an existential risk. The essential parts of civilization are not physical. Things like ideologies, law, government, money and the economy are made of language; they exist because there are stories that billions of people believe. The current prevalence of misinformation suggests that an AI could use language to convince people to believe anything, even to take actions that are destructive.\n",
            "The opinions amongst experts and industry insiders are mixed, with sizable fractions both concerned and unconcerned by risk from eventual superintelligent AI. Personalities such as Stephen Hawking, Bill Gates, and Elon Musk have expressed concern about existential risk from AI.\n",
            "AI pioneers including Fei-Fei Li, Geoffrey Hinton, Yoshua Bengio, Cynthia Breazeal, Rana el Kaliouby, Demis Hassabis, Joy Buolamwini, and Sam Altman have expressed concerns about the risks of AI. In 2023, many leading AI experts issued the joint statement that \"Mitigating the risk of extinction from AI should be a global priority alongside other societal-scale risks such as pandemics and nuclear war\".\n",
            "Other researchers, however, spoke in favor of a less dystopian view. AI pioneer Juergen Schmidhuber did not sign the joint statement, emphasising that in 95% of all cases, AI research is about making \"human lives longer and healthier and easier.\" While the tools that are now being used to improve lives can also be used by bad actors, \"they can also be used against the bad actors.\" Andrew Ng also argued that \"it's a mistake to fall for the doomsday hype on AI—and that regulators who do will only benefit vested interests.\" Yann LeCun \"scoffs at his peers' dystopian scenarios of supercharged misinformation and even, eventually, human extinction.\" In the early 2010s, experts argued that the risks are too distant in the future to warrant research or that humans will be valuable from the perspective of a superintelligent machine. However, after 2016, the study of current and future risks and possible solutions became a serious area of research.\n",
            "\n",
            "Ethical machines and alignment\n",
            "Friendly AI are machines that have been designed from the beginning to minimize risks and to make choices that benefit humans. Eliezer Yudkowsky, who coined the term, argues that developing friendly AI should be a higher research priority: it may require a large investment and it must be completed before AI becomes an existential risk.\n",
            "Machines with intelligence have the potential to use their intelligence to make ethical decisions. The field of machine ethics provides machines with ethical principles and procedures for resolving ethical dilemmas.\n",
            "The field of machine ethics is also called computational morality,\n",
            "and was founded at an AAAI symposium in 2005.\n",
            "Other approaches include Wendell Wallach's \"artificial moral agents\" and Stuart J. Russell's three principles for developing provably beneficial machines.\n",
            "\n",
            "Open Source\n",
            "Active organizations in the AI open-source community include Hugging Face, Google, EleutherAI and Meta. Various AI models, such as Llama 2, Mistral or Stable Diffusion, have been made open-weight, meaning that their architecture and trained parameters (the \"weights\") are publicly available. Open-weight models can be freely fine-tuned, which allows companies to specialize them with their own data and for their own use-case. Open-weight models are useful for research and innovation, but can also be misused. Since they can be fine-tuned, any built-in security measure, such as objecting to harmful requests, can be trained away until it becomes ineffective. Some researchers warn that future AI models may develop dangerous capabilities (such as the potential to drastically facilitate bioterrorism), and that once released on the Internet, they can't be deleted everywhere if needed. They recommend pre-release audits and cost-benefit analyses.\n",
            "\n",
            "Frameworks\n",
            "Artificial Intelligence projects can have their ethical permissibility tested while designing, developing, and implementing an AI system. An AI framework such as the Care and Act Framework containing the SUM values—developed by the Alan Turing Institute tests projects in four main areas:\n",
            "\n",
            "RESPECT the dignity of individual people\n",
            "CONNECT with other people sincerely, openly and inclusively\n",
            "CARE for the wellbeing of everyone\n",
            "PROTECT social values, justice and the public interest\n",
            "Other developments in ethical frameworks include those decided upon during the Asilomar Conference, the Montreal Declaration for Responsible AI, and the IEEE's Ethics of Autonomous Systems initiative, among others; however, these principles do not go without their criticisms, especially regards to the people chosen contributes to these frameworks.\n",
            "Promotion of the wellbeing of the people and communities that these technologies affect requires consideration of the social and ethical implications at all stages of AI system design, development and implementation, and collaboration between job roles such as data scientists, product managers, data engineers, domain experts, and delivery managers.\n",
            "\n",
            "Regulation\n",
            "The regulation of artificial intelligence is the development of public sector policies and laws for promoting and regulating artificial intelligence (AI); it is therefore related to the broader regulation of algorithms. The regulatory and policy landscape for AI is an emerging issue in jurisdictions globally. According to AI Index at Stanford, the annual number of AI-related laws passed in the 127 survey countries jumped from one passed in 2016 to 37 passed in 2022 alone. Between 2016 and 2020, more than 30 countries adopted dedicated strategies for AI. Most EU member states had released national AI strategies, as had Canada, China, India, Japan, Mauritius, the Russian Federation, Saudi Arabia, United Arab Emirates, U.S., and Vietnam. Others were in the process of elaborating their own AI strategy, including Bangladesh, Malaysia and Tunisia. The Global Partnership on Artificial Intelligence was launched in June 2020, stating a need for AI to be developed in accordance with human rights and democratic values, to ensure public confidence and trust in the technology. Henry Kissinger, Eric Schmidt, and Daniel Huttenlocher published a joint statement in November 2021 calling for a government commission to regulate AI. In 2023, OpenAI leaders published recommendations for the governance of superintelligence, which they believe may happen in less than 10 years. In 2023, the United Nations also launched an advisory body to provide recommendations on AI governance; the body comprises technology company executives, governments officials and academics.\n",
            "In a 2022 Ipsos survey, attitudes towards AI varied greatly by country; 78% of Chinese citizens, but only 35% of Americans, agreed that \"products and services using AI have more benefits than drawbacks\". A 2023 Reuters/Ipsos poll found that 61% of Americans agree, and 22% disagree, that AI poses risks to humanity. In a 2023 Fox News poll, 35% of Americans thought it \"very important\", and an additional 41% thought it \"somewhat important\", for the federal government to regulate AI, versus 13% responding \"not very important\" and 8% responding \"not at all important\".\n",
            "In November 2023, the first global AI Safety Summit was held in Bletchley Park in the UK to discuss the near and far term risks of AI and the possibility of mandatory and voluntary regulatory frameworks. 28 countries including the United States, China, and the European Union issued a declaration at the start of the summit, calling for international co-operation to manage the challenges and risks of artificial intelligence.\n",
            "\n",
            "History\n",
            "The study of mechanical or \"formal\" reasoning began with philosophers and mathematicians in antiquity. The study of logic led directly to Alan Turing's theory of computation, which suggested that a machine, by shuffling symbols as simple as \"0\" and \"1\", could simulate any conceivable form of mathematical reasoning. This, along with concurrent discoveries in cybernetics, information theory and neurobiology, led researchers to consider the possibility of building an \"electronic brain\". \n",
            "They developed several areas of research that would become part of AI,\n",
            "such as McCullouch and Pitts design for \"artificial neurons\" in 1943, and Turing's influential 1950 paper 'Computing Machinery and Intelligence', which introduced the Turing test and showed that \"machine intelligence\" was plausible.\n",
            "The field of AI research was founded at a workshop at Dartmouth College in 1956. The attendees became the leaders of AI research in the 1960s. They and their students produced programs that the press described as \"astonishing\": computers were learning checkers strategies, solving word problems in algebra, proving logical theorems and speaking English. Artificial intelligence laboratories were set up at a number of British and U.S. Universities in the latter 1950s and early 1960s.\n",
            "Researchers in the 1960s and the 1970s were convinced that their methods would eventually succeed in creating a machine with general intelligence and considered this the goal of their field. Herbert Simon predicted, \"machines will be capable, within twenty years, of doing any work a man can do\". Marvin Minsky agreed, writing, \"within a generation ... the problem of creating 'artificial intelligence' will substantially be solved\". They had, however, underestimated the difficulty of the problem. In 1974, both the U.S. and British governments cut off exploratory research in response to the criticism of Sir James Lighthill and ongoing pressure from the U.S. Congress to fund more productive projects. Minsky's and Papert's book Perceptrons was understood as proving that artificial neural networks would never be useful for solving real-world tasks, thus discrediting the approach altogether. The \"AI winter\", a period when obtaining funding for AI projects was difficult, followed.\n",
            "In the early 1980s, AI research was revived by the commercial success of expert systems, a form of AI program that simulated the knowledge and analytical skills of human experts. By 1985, the market for AI had reached over a billion dollars. At the same time, Japan's fifth generation computer project inspired the U.S. and British governments to restore funding for academic research. However, beginning with the collapse of the Lisp Machine market in 1987, AI once again fell into disrepute, and a second, longer-lasting winter began.\n",
            "Up to this point, most of AI's funding had gone to projects which used high level symbols to represent mental objects like plans, goals, beliefs and known facts. In the 1980s, some researchers began to doubt that this approach would be able to imitate all the processes of human cognition, especially perception, robotics, learning and pattern recognition, and began to look into \"sub-symbolic\" approaches. Rodney Brooks rejected \"representation\" in general and focussed directly on engineering machines that move and survive. Judea Pearl, Lofti Zadeh and others developed methods that handled incomplete and uncertain information by making reasonable guesses rather than precise logic. But the most important development was the revival of \"connectionism\", including neural network research, by Geoffrey Hinton and others. In 1990, Yann LeCun successfully showed that convolutional neural networks can recognize handwritten digits, the first of many successful applications of neural networks.\n",
            "AI gradually restored its reputation in the late 1990s and early 21st century by exploiting formal mathematical methods and by finding specific solutions to specific problems. This \"narrow\" and \"formal\" focus allowed researchers to produce verifiable results and collaborate with other fields (such as statistics, economics and mathematics). By 2000, solutions developed by AI researchers were being widely used, although in the 1990s they were rarely described as \"artificial intelligence\".\n",
            "However, several academic researchers became concerned that AI was no longer pursuing its original goal of creating versatile, fully intelligent machines. Beginning around 2002, they founded the subfield of artificial general intelligence (or \"AGI\"), which had several well-funded institutions by the 2010s.\n",
            "Deep learning began to dominate industry benchmarks in 2012 and was adopted throughout the field.\n",
            "For many specific tasks, other methods were abandoned.\n",
            "Deep learning's success was based on both hardware improvements (faster computers, graphics processing units, cloud computing) and access to large amounts of data (including curated datasets, such as ImageNet). Deep learning's success led to an enormous increase in interest and funding in AI. The amount of machine learning research (measured by total publications) increased by 50% in the years 2015–2019.\n",
            "In 2016, issues of fairness and the misuse of technology were catapulted into center stage at machine learning conferences, publications vastly increased, funding became available, and many researchers re-focussed their careers on these issues. The alignment problem became a serious field of academic study.\n",
            "In the late teens and early 2020s, AGI companies began to deliver programs that created enormous interest. In 2015, AlphaGo, developed by DeepMind, beat the world champion Go player. The program was taught only the rules of the game and developed strategy by itself. GPT-3 is a large language model that was released in 2020 by OpenAI and is capable of generating high-quality human-like text. These programs, and others, inspired an aggressive AI boom, where large companies began investing billions in AI research. According to 'AI Impacts', about $50 billion annually was invested in \"AI\" around 2022 in the U.S. alone and about 20% of the new U.S. Computer Science PhD graduates have specialized in \"AI\".\n",
            "About 800,000 \"AI\"-related U.S. job openings existed in 2022.\n",
            "\n",
            "Philosophy\n",
            "Defining artificial intelligence\n",
            "Alan Turing wrote in 1950 \"I propose to consider the question 'can machines think'?\" He advised changing the question from whether a machine \"thinks\", to \"whether or not it is possible for machinery to show intelligent behaviour\". He devised the Turing test, which measures the ability of a machine to simulate human conversation. Since we can only observe the behavior of the machine, it does not matter if it is \"actually\" thinking or literally has a \"mind\". Turing notes that we can not determine these things about other people but \"it is usual to have a polite convention that everyone thinks\"\n",
            "Russell and Norvig agree with Turing that intelligence must be defined in terms of external behavior, not internal structure. However, they are critical that the test requires the machine to imitate humans. \"Aeronautical engineering texts,\" they wrote, \"do not define the goal of their field as making 'machines that fly so exactly like pigeons that they can fool other pigeons.'\" AI founder John McCarthy agreed, writing that \"Artificial intelligence is not, by definition, simulation of human intelligence\".\n",
            "McCarthy defines intelligence as \"the computational part of the ability to achieve goals in the world.\" Another AI founder, Marvin Minsky similarly describes it as \"the ability to solve hard problems\". The leading AI textbook defines it as the study of agents that perceive their environment and take actions that maximize their chances of achieving defined goals. These definitions view intelligence in terms of well-defined problems with well-defined solutions, where both the difficulty of the problem and the performance of the program are direct measures of the \"intelligence\" of the machine—and no other philosophical discussion is required, or may not even be possible.\n",
            "Another definition has been adopted by Google, a major practitioner in the field of AI. This definition stipulates the ability of systems to synthesize information as the manifestation of intelligence, similar to the way it is defined in biological intelligence.\n",
            "\n",
            "Evaluating approaches to AI\n",
            "No established unifying theory or paradigm has guided AI research for most of its history. The unprecedented success of statistical machine learning in the 2010s eclipsed all other approaches (so much so that some sources, especially in the business world, use the term \"artificial intelligence\" to mean \"machine learning with neural networks\"). This approach is mostly sub-symbolic, soft and narrow. Critics argue that these questions may have to be revisited by future generations of AI researchers.\n",
            "\n",
            "Symbolic AI and its limits\n",
            "Symbolic AI (or \"GOFAI\") simulated the high-level conscious reasoning that people use when they solve puzzles, express legal reasoning and do mathematics. They were highly successful at \"intelligent\" tasks such as algebra or IQ tests. In the 1960s, Newell and Simon proposed the physical symbol systems hypothesis: \"A physical symbol system has the necessary and sufficient means of general intelligent action.\"\n",
            "However, the symbolic approach failed on many tasks that humans solve easily, such as learning, recognizing an object or commonsense reasoning. Moravec's paradox is the discovery that high-level \"intelligent\" tasks were easy for AI, but low level \"instinctive\" tasks were extremely difficult. Philosopher Hubert Dreyfus had argued since the 1960s that human expertise depends on unconscious instinct rather than conscious symbol manipulation, and on having a \"feel\" for the situation, rather than explicit symbolic knowledge. Although his arguments had been ridiculed and ignored when they were first presented, eventually, AI research came to agree with him.\n",
            "The issue is not resolved: sub-symbolic reasoning can make many of the same inscrutable mistakes that human intuition does, such as algorithmic bias. Critics such as Noam Chomsky argue continuing research into symbolic AI will still be necessary to attain general intelligence, in part because sub-symbolic AI is a move away from explainable AI: it can be difficult or impossible to understand why a modern statistical AI program made a particular decision. The emerging field of neuro-symbolic artificial intelligence attempts to bridge the two approaches.\n",
            "\n",
            "Neat vs. scruffy\n",
            "\"Neats\" hope that intelligent behavior is described using simple, elegant principles (such as logic, optimization, or neural networks). \"Scruffies\" expect that it necessarily requires solving a large number of unrelated problems. Neats defend their programs with theoretical rigor, scruffies rely mainly on incremental testing to see if they work. This issue was actively discussed in the 1970s and 1980s, but eventually was seen as irrelevant. Modern AI has elements of both.\n",
            "\n",
            "Soft vs. hard computing\n",
            "Finding a provably correct or optimal solution is intractable for many important problems. Soft computing is a set of techniques, including genetic algorithms, fuzzy logic and neural networks, that are tolerant of imprecision, uncertainty, partial truth and approximation. Soft computing was introduced in the late 1980s and most successful AI programs in the 21st century are examples of soft computing with neural networks.\n",
            "\n",
            "Narrow vs. general AI\n",
            "AI researchers are divided as to whether to pursue the goals of artificial general intelligence and superintelligence directly or to solve as many specific problems as possible (narrow AI) in hopes these solutions will lead indirectly to the field's long-term goals. General intelligence is difficult to define and difficult to measure, and modern AI has had more verifiable successes by focusing on specific problems with specific solutions. The experimental sub-field of artificial general intelligence studies this area exclusively.\n",
            "\n",
            "Machine consciousness, sentience and mind\n",
            "The philosophy of mind does not know whether a machine can have a mind, consciousness and mental states, in the same sense that human beings do. This issue considers the internal experiences of the machine, rather than its external behavior. Mainstream AI research considers this issue irrelevant because it does not affect the goals of the field: to build machines that can solve problems using intelligence. Russell and Norvig add that \"[t]he additional project of making a machine conscious in exactly the way humans are is not one that we are equipped to take on.\" However, the question has become central to the philosophy of mind. It is also typically the central question at issue in artificial intelligence in fiction.\n",
            "\n",
            "Consciousness\n",
            "David Chalmers identified two problems in understanding the mind, which he named the \"hard\" and \"easy\" problems of consciousness. The easy problem is understanding how the brain processes signals, makes plans and controls behavior. The hard problem is explaining how this feels or why it should feel like anything at all, assuming we are right in thinking that it truly does feel like something (Dennett's consciousness illusionism says this is an illusion). Human information processing is easy to explain, however, human subjective experience is difficult to explain. For example, it is easy to imagine a color-blind person who has learned to identify which objects in their field of view are red, but it is not clear what would be required for the person to know what red looks like.\n",
            "\n",
            "Computationalism and functionalism\n",
            "Computationalism is the position in the philosophy of mind that the human mind is an information processing system and that thinking is a form of computing. Computationalism argues that the relationship between mind and body is similar or identical to the relationship between software and hardware and thus may be a solution to the mind–body problem. This philosophical position was inspired by the work of AI researchers and cognitive scientists in the 1960s and was originally proposed by philosophers Jerry Fodor and Hilary Putnam.\n",
            "Philosopher John Searle characterized this position as \"strong AI\": \"The appropriately programmed computer with the right inputs and outputs would thereby have a mind in exactly the same sense human beings have minds.\" Searle counters this assertion with his Chinese room argument, which attempts to show that, even if a machine perfectly simulates human behavior, there is still no reason to suppose it also has a mind.\n",
            "\n",
            "AI welfare and rights\n",
            "It is difficult or impossible to reliably evaluate whether an advanced AI is sentient (has the ability to feel), and if so, to what degree. But if there is a significant chance that a given machine can feel and suffer, then it may be entitled to certain rights or welfare protection measures, similarly to animals. Sapience (a set of capacities related to high intelligence, such as discernment or self-awareness) may provide another moral basis for AI rights. Robot rights are also sometimes proposed as a practical way to integrate autonomous agents into society.\n",
            "In 2017, the European Union considered granting \"electronic personhood\" to some of the most capable AI systems. Similarly to the legal status of companies, it would have conferred rights but also responsibilities. Critics argued in 2018 that granting rights to AI systems would downplay the importance of human rights, and that legislation should focus on user needs rather than speculative futuristic scenarios. They also noted that robots lacked the autonomy to take part to society on their own.\n",
            "Progress in AI increased interest in the topic. Proponents of AI welfare and rights often argue that AI sentience, if it emerges, would be particularly easy to deny. They warn that this may be a moral blind spot analogous to slavery or factory farming, which could lead to large-scale suffering if sentient AI is created and carelessly exploited.\n",
            "\n",
            "Future\n",
            "Superintelligence and the singularity\n",
            "A superintelligence is a hypothetical agent that would possess intelligence far surpassing that of the brightest and most gifted human mind.\n",
            "If research into artificial general intelligence produced sufficiently intelligent software, it might be able to reprogram and improve itself. The improved software would be even better at improving itself, leading to what I. J. Good called an \"intelligence explosion\" and Vernor Vinge called a \"singularity\".\n",
            "However, technologies cannot improve exponentially indefinitely, and typically follow an S-shaped curve, slowing when they reach the physical limits of what the technology can do.\n",
            "\n",
            "Transhumanism\n",
            "Robot designer Hans Moravec, cyberneticist Kevin Warwick, and inventor Ray Kurzweil have predicted that humans and machines will merge in the future into cyborgs that are more capable and powerful than either. This idea, called transhumanism, has roots in Aldous Huxley and Robert Ettinger.\n",
            "Edward Fredkin argues that \"artificial intelligence is the next stage in evolution\", an idea first proposed by Samuel Butler's \"Darwin among the Machines\" as far back as 1863, and expanded upon by George Dyson in his book of the same name in 1998.\n",
            "\n",
            "In fiction\n",
            "Thought-capable artificial beings have appeared as storytelling devices since antiquity, and have been a persistent theme in science fiction.\n",
            "A common trope in these works began with Mary Shelley's Frankenstein, where a human creation becomes a threat to its masters. This includes such works as Arthur C. Clarke's and Stanley Kubrick's 2001: A Space Odyssey (both 1968), with HAL 9000, the murderous computer in charge of the Discovery One spaceship, as well as The Terminator (1984) and The Matrix (1999). In contrast, the rare loyal robots such as Gort from The Day the Earth Stood Still (1951) and Bishop from Aliens (1986) are less prominent in popular culture.\n",
            "Isaac Asimov introduced the Three Laws of Robotics in many books and stories, most notably the \"Multivac\" series about a super-intelligent computer of the same name. Asimov's laws are often brought up during lay discussions of machine ethics; while almost all artificial intelligence researchers are familiar with Asimov's laws through popular culture, they generally consider the laws useless for many reasons, one of which is their ambiguity.\n",
            "Several works use AI to force us to confront the fundamental question of what makes us human, showing us artificial beings that have the ability to feel, and thus to suffer. This appears in Karel Čapek's R.U.R., the films A.I. Artificial Intelligence and Ex Machina, as well as the novel Do Androids Dream of Electric Sheep?, by Philip K. Dick. Dick considers the idea that our understanding of human subjectivity is altered by technology created with artificial intelligence.\n",
            "\n",
            "See also\n",
            "Artificial intelligence detection software – Software to detect AI-generated contentPages displaying short descriptions of redirect targets\n",
            "Behavior selection algorithm – Algorithm that selects actions for intelligent agents\n",
            "Business process automation – Technology-enabled automation of complex business processes\n",
            "Case-based reasoning – Process of solving new problems based on the solutions of similar past problems\n",
            "Computational intelligence – Ability of a computer to learn a specific task from data or experimental observation\n",
            "Digital immortality – Hypothetical concept of storing a personality in digital form\n",
            "Emergent algorithm – Algorithm exhibiting emergent behavior\n",
            "Female gendering of AI technologies – Gender biases in digital technologyPages displaying short descriptions of redirect targets\n",
            "Glossary of artificial intelligence – List of definitions of terms and concepts commonly used in the study of artificial intelligence\n",
            "Intelligence amplification – Use of information technology to augment human intelligence\n",
            "Mind uploading – Hypothetical process of digitally emulating a brain\n",
            "Robotic process automation – Form of business process automation technology\n",
            "Weak artificial intelligence – Form of artificial intelligence\n",
            "Wetware computer – Computer composed of organic material\n",
            "\n",
            "Explanatory notes\n",
            "References\n",
            "AI textbooks\n",
            "The two most widely used textbooks in 2023. (See the Open Syllabus).\n",
            "\n",
            "Russell, Stuart J.; Norvig, Peter. (2021). Artificial Intelligence: A Modern Approach (4th ed.). Hoboken: Pearson. ISBN 978-0134610993. LCCN 20190474.\n",
            "Rich, Elaine; Knight, Kevin; Nair, Shivashankar B (2010). Artificial Intelligence (3rd ed.). New Delhi: Tata McGraw Hill India. ISBN 978-0070087705.\n",
            "These were the four of the most widely used AI textbooks in 2008:\n",
            "\n",
            "History of AI\n",
            "Other sources\n",
            "Further reading\n",
            "External links\n",
            "\n",
            "\"Artificial Intelligence\". Internet Encyclopedia of Philosophy.\n",
            "Thomason, Richmond. \"Logic and Artificial Intelligence\". In Zalta, Edward N. (ed.). Stanford Encyclopedia of Philosophy.\n",
            "Artificial Intelligence. BBC Radio 4 discussion with John Agar, Alison Adam & Igor Aleksander (In Our Time, 8 December 2005).\n",
            "Theranostics and AI – The Next Advance in Cancer Precision MedicineComputer science is the study of computation, information, and automation. Computer science spans theoretical disciplines (such as algorithms, theory of computation, and information theory) to applied disciplines (including the design and implementation of hardware and software). \n",
            "Algorithms and data structures are central to computer science.\n",
            "The theory of computation concerns abstract models of computation and general classes of problems that can be solved using them. The fields of cryptography and computer security involve studying the means for secure communication and preventing security vulnerabilities. Computer graphics and computational geometry address the generation of images. Programming language theory considers different ways to describe computational processes, and database theory concerns the management of repositories of data. Human–computer interaction investigates the interfaces through which humans and computers interact, and software engineering focuses on the design and principles behind developing software. Areas such as operating systems, networks and embedded systems investigate the principles and design behind complex systems. Computer architecture describes the construction of computer components and computer-operated equipment. Artificial intelligence and machine learning aim to synthesize goal-orientated processes such as problem-solving, decision-making, environmental adaptation, planning and learning found in humans and animals. Within artificial intelligence, computer vision aims to understand and process image and video data, while natural language processing aims to understand and process textual and linguistic data.\n",
            "The fundamental concern of computer science is determining what can and cannot be automated. The Turing Award is generally recognized as the highest distinction in computer science.\n",
            "\n",
            "History\n",
            "The earliest foundations of what would become computer science predate the invention of the modern digital computer. Machines for calculating fixed numerical tasks such as the abacus have existed since antiquity, aiding in computations such as multiplication and division. Algorithms for performing computations have existed since antiquity, even before the development of sophisticated computing equipment.\n",
            "Wilhelm Schickard designed and constructed the first working mechanical calculator in 1623. In 1673, Gottfried Leibniz demonstrated a digital mechanical calculator, called the Stepped Reckoner. Leibniz may be considered the first computer scientist and information theorist, because of various reasons, including the fact that he documented the binary number system. In 1820, Thomas de Colmar launched the mechanical calculator industry when he invented his simplified arithmometer, the first calculating machine strong enough and reliable enough to be used daily in an office environment. Charles Babbage started the design of the first automatic mechanical calculator, his Difference Engine, in 1822, which eventually gave him the idea of the first programmable mechanical calculator, his Analytical Engine. He started developing this machine in 1834, and \"in less than two years, he had sketched out many of the salient features of the modern computer\". \"A crucial step was the adoption of a punched card system derived from the Jacquard loom\" making it infinitely programmable. In 1843, during the translation of a French article on the Analytical Engine, Ada Lovelace wrote, in one of the many notes she included, an algorithm to compute the Bernoulli numbers, which is considered to be the first published algorithm ever specifically tailored for implementation on a computer. Around 1885, Herman Hollerith invented the tabulator, which used punched cards to process statistical information; eventually his company became part of IBM. Following Babbage, although unaware of his earlier work, Percy Ludgate in 1909 published the 2nd of the only two designs for mechanical analytical engines in history. In 1914, the Spanish engineer Leonardo Torres Quevedo published his Essays on Automatics, and designed, inspired by Babbage, a theoretical electromechanical calculating machine which was to be controlled by a read-only program. The paper also introduced the idea of floating-point arithmetic. In 1920, to celebrate the 100th anniversary of the invention of the arithmometer, Torres presented in Paris the Electromechanical Arithmometer, a prototype that demonstrated the feasibility of an electromechanical analytical engine, on which commands could be typed and the results printed automatically. In 1937, one hundred years after Babbage's impossible dream, Howard Aiken convinced IBM, which was making all kinds of punched card equipment and was also in the calculator business to develop his giant programmable calculator, the ASCC/Harvard Mark I, based on Babbage's Analytical Engine, which itself used cards and a central computing unit. When the machine was finished, some hailed it as \"Babbage's dream come true\".\n",
            "\n",
            "During the 1940s, with the development of new and more powerful computing machines such as the Atanasoff–Berry computer and ENIAC, the term computer came to refer to the machines rather than their human predecessors. As it became clear that computers could be used for more than just mathematical calculations, the field of computer science broadened to study computation in general. In 1945, IBM founded the Watson Scientific Computing Laboratory at Columbia University in New York City. The renovated fraternity house on Manhattan's West Side was IBM's first laboratory devoted to pure science. The lab is the forerunner of IBM's Research Division, which today operates research facilities around the world. Ultimately, the close relationship between IBM and Columbia University was instrumental in the emergence of a new scientific discipline, with Columbia offering one of the first academic-credit courses in computer science in 1946. Computer science began to be established as a distinct academic discipline in the 1950s and early 1960s. The world's first computer science degree program, the Cambridge Diploma in Computer Science, began at the University of Cambridge Computer Laboratory in 1953. The first computer science department in the United States was formed at Purdue University in 1962. Since practical computers became available, many applications of computing have become distinct areas of study in their own rights.\n",
            "\n",
            "Etymology and scope\n",
            "Although first proposed in 1956, the term \"computer science\" appears in a 1959 article in Communications of the ACM,\n",
            "in which Louis Fein argues for the creation of a Graduate School in Computer Sciences analogous to the creation of Harvard Business School in 1921. Louis justifies the name by arguing that, like management science, the subject is applied and interdisciplinary in nature, while having the characteristics typical of an academic discipline.\n",
            "His efforts, and those of others such as numerical analyst George Forsythe, were rewarded: universities went on to create such departments, starting with Purdue in 1962. Despite its name, a significant amount of computer science does not involve the study of computers themselves. Because of this, several alternative names have been proposed. Certain departments of major universities prefer the term computing science, to emphasize precisely that difference. Danish scientist Peter Naur suggested the term datalogy, to reflect the fact that the scientific discipline revolves around data and data treatment, while not necessarily involving computers. The first scientific institution to use the term was the Department of Datalogy at the University of Copenhagen, founded in 1969, with Peter Naur being the first professor in datalogy. The term is used mainly in the Scandinavian countries. An alternative term, also proposed by Naur, is data science; this is now used for a multi-disciplinary field of data analysis, including statistics and databases.\n",
            "In the early days of computing, a number of terms for the practitioners of the field of computing were suggested in the Communications of the ACM—turingineer, turologist, flow-charts-man, applied meta-mathematician, and applied epistemologist. Three months later in the same journal, comptologist was suggested, followed next year by hypologist. The term computics has also been suggested. In Europe, terms derived from contracted translations of the expression \"automatic information\" (e.g. \"informazione automatica\" in Italian) or \"information and mathematics\" are often used, e.g. informatique (French), Informatik (German), informatica (Italian, Dutch), informática (Spanish, Portuguese), informatika (Slavic languages and Hungarian) or pliroforiki (πληροφορική, which means informatics) in Greek. Similar words have also been adopted in the UK (as in the School of Informatics, University of Edinburgh). \"In the U.S., however, informatics is linked with applied computing, or computing in the context of another domain.\"\n",
            "A folkloric quotation, often attributed to—but almost certainly not first formulated by—Edsger Dijkstra, states that \"computer science is no more about computers than astronomy is about telescopes.\" The design and deployment of computers and computer systems is generally considered the province of disciplines other than computer science. For example, the study of computer hardware is usually considered part of computer engineering, while the study of commercial computer systems and their deployment is often called information technology or information systems. However, there has been exchange of ideas between the various computer-related disciplines. Computer science research also often intersects other disciplines, such as cognitive science, linguistics, mathematics, physics, biology, Earth science, statistics, philosophy, and logic.\n",
            "Computer science is considered by some to have a much closer relationship with mathematics than many scientific disciplines, with some observers saying that computing is a mathematical science. Early computer science was strongly influenced by the work of mathematicians such as Kurt Gödel, Alan Turing, John von Neumann, Rózsa Péter and Alonzo Church and there continues to be a useful interchange of ideas between the two fields in areas such as mathematical logic, category theory, domain theory, and algebra.\n",
            "The relationship between computer science and software engineering is a contentious issue, which is further muddied by disputes over what the term \"software engineering\" means, and how computer science is defined. David Parnas, taking a cue from the relationship between other engineering and science disciplines, has claimed that the principal focus of computer science is studying the properties of computation in general, while the principal focus of software engineering is the design of specific computations to achieve practical goals, making the two separate but complementary disciplines.\n",
            "The academic, political, and funding aspects of computer science tend to depend on whether a department is formed with a mathematical emphasis or with an engineering emphasis. Computer science departments with a mathematics emphasis and with a numerical orientation consider alignment with computational science. Both types of departments tend to make efforts to bridge the field educationally if not across all research.\n",
            "\n",
            "Philosophy\n",
            "Epistemology of computer science\n",
            "Despite the word science in its name, there is debate over whether or not computer science is a discipline of science, mathematics, or engineering. Allen Newell and Herbert A. Simon argued in 1975, Computer science is an empirical discipline. We would have called it an experimental science, but like astronomy, economics, and geology, some of its unique forms of observation and experience do not fit a narrow stereotype of the experimental method. Nonetheless, they are experiments. Each new machine that is built is an experiment. Actually constructing the machine poses a question to nature; and we listen for the answer by observing the machine in operation and analyzing it by all analytical and measurement means available. It has since been argued that computer science can be classified as an empirical science since it makes use of empirical testing to evaluate the correctness of programs, but a problem remains in defining the laws and theorems of computer science (if any exist) and defining the nature of experiments in computer science. Proponents of classifying computer science as an engineering discipline argue that the reliability of computational systems is investigated in the same way as bridges in civil engineering and airplanes in aerospace engineering. They also argue that while empirical sciences observe what presently exists, computer science observes what is possible to exist and while scientists discover laws from observation, no proper laws have been found in computer science and it is instead concerned with creating phenomena.\n",
            "Proponents of classifying computer science as a mathematical discipline argue that computer programs are physical realizations of mathematical entities and programs that can be deductively reasoned through mathematical formal methods. Computer scientists Edsger W. Dijkstra and Tony Hoare regard instructions for computer programs as mathematical sentences and interpret formal semantics for programming languages as mathematical axiomatic systems.\n",
            "\n",
            "Paradigms of computer science\n",
            "A number of computer scientists have argued for the distinction of three separate paradigms in computer science. Peter Wegner argued that those paradigms are science, technology, and mathematics. Peter Denning's working group argued that they are theory, abstraction (modeling), and design. Amnon H. Eden described them as the \"rationalist paradigm\" (which treats computer science as a branch of mathematics, which is prevalent in theoretical computer science, and mainly employs deductive reasoning), the \"technocratic paradigm\" (which might be found in engineering approaches, most prominently in software engineering), and the \"scientific paradigm\" (which approaches computer-related artifacts from the empirical perspective of natural sciences, identifiable in some branches of artificial intelligence).\n",
            "Computer science focuses on methods involved in design, specification, programming, verification, implementation and testing of human-made computing systems.\n",
            "\n",
            "Fields\n",
            "As a discipline, computer science spans a range of topics from theoretical studies of algorithms and the limits of computation to the practical issues of implementing computing systems in hardware and software.\n",
            "CSAB, formerly called Computing Sciences Accreditation Board—which is made up of representatives of the Association for Computing Machinery (ACM), and the IEEE Computer Society (IEEE CS)—identifies four areas that it considers crucial to the discipline of computer science: theory of computation, algorithms and data structures, programming methodology and languages, and computer elements and architecture. In addition to these four areas, CSAB also identifies fields such as software engineering, artificial intelligence, computer networking and communication, database systems, parallel computation, distributed computation, human–computer interaction, computer graphics, operating systems, and numerical and symbolic computation as being important areas of computer science.\n",
            "\n",
            "Theoretical computer science\n",
            "Theoretical Computer Science is mathematical and abstract in spirit, but it derives its motivation from practical and everyday computation. It aims to understand the nature of computation and, as a consequence of this understanding, provide more efficient methodologies.\n",
            "\n",
            "Theory of computation\n",
            "According to Peter Denning, the fundamental question underlying computer science is, \"What can be automated?\" Theory of computation is focused on answering fundamental questions about what can be computed and what amount of resources are required to perform those computations. In an effort to answer the first question, computability theory examines which computational problems are solvable on various theoretical models of computation. The second question is addressed by computational complexity theory, which studies the time and space costs associated with different approaches to solving a multitude of computational problems.\n",
            "The famous P = NP? problem, one of the Millennium Prize Problems, is an open problem in the theory of computation.\n",
            "\n",
            "Information and coding theory\n",
            "Information theory, closely related to probability and statistics, is related to the quantification of information. This was developed by Claude Shannon to find fundamental limits on signal processing operations such as compressing data and on reliably storing and communicating data.\n",
            "Coding theory is the study of the properties of codes (systems for converting information from one form to another) and their fitness for a specific application. Codes are used for data compression, cryptography, error detection and correction, and more recently also for network coding. Codes are studied for the purpose of designing efficient and reliable data transmission methods.\n",
            "\n",
            "Data structures and algorithms\n",
            "Data structures and algorithms are the studies of commonly used computational methods and their computational efficiency.\n",
            "\n",
            "Programming language theory and formal methods\n",
            "Programming language theory is a branch of computer science that deals with the design, implementation, analysis, characterization, and classification of programming languages and their individual features. It falls within the discipline of computer science, both depending on and affecting mathematics, software engineering, and linguistics. It is an active research area, with numerous dedicated academic journals.\n",
            "Formal methods are a particular kind of mathematically based technique for the specification, development and verification of software and hardware systems. The use of formal methods for software and hardware design is motivated by the expectation that, as in other engineering disciplines, performing appropriate mathematical analysis can contribute to the reliability and robustness of a design. They form an important theoretical underpinning for software engineering, especially where safety or security is involved. Formal methods are a useful adjunct to software testing since they help avoid errors and can also give a framework for testing. For industrial use, tool support is required. However, the high cost of using formal methods means that they are usually only used in the development of high-integrity and life-critical systems, where safety or security is of utmost importance. Formal methods are best described as the application of a fairly broad variety of theoretical computer science fundamentals, in particular logic calculi, formal languages, automata theory, and program semantics, but also type systems and algebraic data types to problems in software and hardware specification and verification.\n",
            "\n",
            "Applied computer science\n",
            "Computer graphics and visualization\n",
            "Computer graphics is the study of digital visual contents and involves the synthesis and manipulation of image data. The study is connected to many other fields in computer science, including computer vision, image processing, and computational geometry, and is heavily applied in the fields of special effects and video games.\n",
            "\n",
            "Image and sound processing\n",
            "Information can take the form of images, sound, video or other multimedia. Bits of information can be streamed via signals. Its processing is the central notion of informatics, the European view on computing, which studies information processing algorithms independently of the type of information carrier – whether it is electrical, mechanical or biological. This field plays important role in information theory, telecommunications, information engineering and has applications in medical image computing and speech synthesis, among others. What is the lower bound on the complexity of fast Fourier transform algorithms? is one of unsolved problems in theoretical computer science.\n",
            "\n",
            "Computational science, finance and engineering\n",
            "Scientific computing (or computational science) is the field of study concerned with constructing mathematical models and quantitative analysis techniques and using computers to analyze and solve scientific problems. A major usage of scientific computing is simulation of various processes, including computational fluid dynamics, physical, electrical, and electronic systems and circuits, as well as societies and social situations (notably war games) along with their habitats, among many others. Modern computers enable optimization of such designs as complete aircraft. Notable in electrical and electronic circuit design are SPICE, as well as software for physical realization of new (or modified) designs. The latter includes essential design software for integrated circuits.\n",
            "\n",
            "Social computing and human–computer interaction\n",
            "Social computing is an area that is concerned with the intersection of social behavior and computational systems. Human–computer interaction research develops theories, principles, and guidelines for user interface designers.\n",
            "\n",
            "Software engineering\n",
            "Software engineering is the study of designing, implementing, and modifying the software in order to ensure it is of high quality, affordable, maintainable, and fast to build. It is a systematic approach to software design, involving the application of engineering practices to software. Software engineering deals with the organizing and analyzing of software—it does not just deal with the creation or manufacture of new software, but its internal arrangement and maintenance. For example software testing, systems engineering, technical debt and software development processes.\n",
            "\n",
            "Artificial intelligence\n",
            "Artificial intelligence (AI) aims to or is required to synthesize goal-orientated processes such as problem-solving, decision-making, environmental adaptation, learning, and communication found in humans and animals. From its origins in cybernetics and in the Dartmouth Conference (1956), artificial intelligence research has been necessarily cross-disciplinary, drawing on areas of expertise such as applied mathematics, symbolic logic, semiotics, electrical engineering, philosophy of mind, neurophysiology, and social intelligence. AI is associated in the popular mind with robotic development, but the main field of practical application has been as an embedded component in areas of software development, which require computational understanding. The starting point in the late 1940s was Alan Turing's question \"Can computers think?\", and the question remains effectively unanswered, although the Turing test is still used to assess computer output on the scale of human intelligence. But the automation of evaluative and predictive tasks has been increasingly successful as a substitute for human monitoring and intervention in domains of computer application involving complex real-world data.\n",
            "\n",
            "Computer systems\n",
            "Computer architecture and organization\n",
            "Computer architecture, or digital computer organization, is the conceptual design and fundamental operational structure of a computer system. It focuses largely on the way by which the central processing unit performs internally and accesses addresses in memory. Computer engineers study computational logic and design of computer hardware, from individual processor components, microcontrollers, personal computers to supercomputers and embedded systems. The term \"architecture\" in computer literature can be traced to the work of Lyle R. Johnson and Frederick P. Brooks Jr., members of the Machine Organization department in IBM's main research center in 1959.\n",
            "\n",
            "Concurrent, parallel and distributed computing\n",
            "Concurrency is a property of systems in which several computations are executing simultaneously, and potentially interacting with each other. A number of mathematical models have been developed for general concurrent computation including Petri nets, process calculi and the Parallel Random Access Machine model. When multiple computers are connected in a network while using concurrency, this is known as a distributed system. Computers within that distributed system have their own private memory, and information can be exchanged to achieve common goals.\n",
            "\n",
            "Computer networks\n",
            "This branch of computer science aims to manage networks between computers worldwide.\n",
            "\n",
            "Computer security and cryptography\n",
            "Computer security is a branch of computer technology with the objective of protecting information from unauthorized access, disruption, or modification while maintaining the accessibility and usability of the system for its intended users.\n",
            "Historical cryptography is the art of writing and deciphering secret messages. Modern cryptography is the scientific study of problems relating to distributed computations that can be attacked. Technologies studied in modern cryptography include symmetric and asymmetric encryption, digital signatures, cryptographic hash functions, key-agreement protocols, blockchain, zero-knowledge proofs, and garbled circuits.\n",
            "\n",
            "Databases and data mining\n",
            "A database is intended to organize, store, and retrieve large amounts of data easily. Digital databases are managed using database management systems to store, create, maintain, and search data, through database models and query languages. Data mining is a process of discovering patterns in large data sets.\n",
            "\n",
            "Discoveries\n",
            "The philosopher of computing Bill Rapaport noted three Great Insights of Computer Science:\n",
            "\n",
            "Gottfried Wilhelm Leibniz's, George Boole's, Alan Turing's, Claude Shannon's, and Samuel Morse's insight: there are only two objects that a computer has to deal with in order to represent \"anything\".\n",
            "All the information about any computable problem can be represented using only 0 and 1 (or any other bistable pair that can flip-flop between two easily distinguishable states, such as \"on/off\", \"magnetized/de-magnetized\", \"high-voltage/low-voltage\", etc.).\n",
            "\n",
            "Alan Turing's insight: there are only five actions that a computer has to perform in order to do \"anything\".\n",
            "Every algorithm can be expressed in a language for a computer consisting of only five basic instructions:\n",
            "move left one location;\n",
            "move right one location;\n",
            "read symbol at current location;\n",
            "print 0 at current location;\n",
            "print 1 at current location.\n",
            "\n",
            "Corrado Böhm and Giuseppe Jacopini's insight: there are only three ways of combining these actions (into more complex ones) that are needed in order for a computer to do \"anything\".\n",
            "Only three rules are needed to combine any set of basic instructions into more complex ones:\n",
            "sequence: first do this, then do that;\n",
            " selection: IF such-and-such is the case, THEN do this, ELSE do that;\n",
            "repetition: WHILE such-and-such is the case, DO this.\n",
            "The three rules of Boehm's and Jacopini's insight can be further simplified with the use of goto (which means it is more elementary than structured programming).\n",
            "\n",
            "Programming paradigms\n",
            "Programming languages can be used to accomplish different tasks in different ways. Common programming paradigms include:\n",
            "\n",
            "Functional programming, a style of building the structure and elements of computer programs that treats computation as the evaluation of mathematical functions and avoids state and mutable data. It is a declarative programming paradigm, which means programming is done with expressions or declarations instead of statements.\n",
            "Imperative programming, a programming paradigm that uses statements that change a program's state. In much the same way that the imperative mood in natural languages expresses commands, an imperative program consists of commands for the computer to perform. Imperative programming focuses on describing how a program operates.\n",
            "Object-oriented programming, a programming paradigm based on the concept of \"objects\", which may contain data, in the form of fields, often known as attributes; and code, in the form of procedures, often known as methods. A feature of objects is that an object's procedures can access and often modify the data fields of the object with which they are associated. Thus object-oriented computer programs are made out of objects that interact with one another.\n",
            "Service-oriented programming, a programming paradigm that uses \"services\" as the unit of computer work, to design and implement integrated business applications and mission critical software programs\n",
            "Many languages offer support for multiple paradigms, making the distinction more a matter of style than of technical capabilities.\n",
            "\n",
            "Research\n",
            "Conferences are important events for computer science research. During these conferences, researchers from the public and private sectors present their recent work and meet. Unlike in most other academic fields, in computer science, the prestige of conference papers is greater than that of journal publications. One proposed explanation for this is the quick development of this relatively new field requires rapid review and distribution of results, a task better handled by conferences than by journals.\n",
            "\n",
            "Education\n",
            "Computer Science, known by its near synonyms, Computing, Computer Studies, has been taught in UK schools since the days of batch processing, mark sensitive cards and paper tape but usually to a select few students. In 1981, the BBC produced a micro-computer and classroom network and Computer Studies became common for GCE O level students (11–16-year-old), and Computer Science to A level students. Its importance was recognised, and it became a compulsory part of the National Curriculum, for Key Stage 3 & 4. In September 2014 it became an entitlement for all pupils over the age of 4.\n",
            "In the US, with 14,000 school districts deciding the curriculum, provision was fractured. According to a 2010 report by the Association for Computing Machinery (ACM) and Computer Science Teachers Association (CSTA), only 14 out of 50 states have adopted significant education standards for high school computer science. According to a 2021 report, only 51% of high schools in the US offer computer science.\n",
            "Israel, New Zealand, and South Korea have included computer science in their national secondary education curricula, and several others are following.\n",
            "\n",
            "See also\n",
            "Notes\n",
            "References\n",
            "Further reading\n",
            "External links\n",
            "\n",
            "DBLP Computer Science Bibliography\n",
            "Association for Computing Machinery\n",
            "Institute of Electrical and Electronics EngineersMachine learning (ML) is a field of study in artificial intelligence concerned with the development and study of statistical algorithms that can learn from data and generalize to unseen data, and thus perform tasks without explicit instructions. Recently, artificial neural networks have been able to surpass many previous approaches in performance.\n",
            "ML finds application in many fields, including natural language processing, computer vision, speech recognition, email filtering, agriculture, and medicine. When applied to business problems, it is known under the name predictive analytics. Although not all machine learning is statistically based, computational statistics is an important source of the field's methods.\n",
            "The mathematical foundations of ML are provided by mathematical optimization (mathematical programming) methods. Data mining is a related (parallel) field of study, focusing on exploratory data analysis (EDA) through unsupervised learning. \n",
            "From a theoretical viewpoint, probably approximately correct (PAC) learning provides a framework for describing machine learning.\n",
            "\n",
            "History\n",
            "The term machine learning was coined in 1959 by Arthur Samuel, an IBM employee and pioneer in the field of computer gaming and artificial intelligence. The synonym self-teaching computers was also used in this time period.\n",
            "Although the earliest machine learning model was introduced in the 1950s when Arthur Samuel invented a program that calculated the winning chance in checkers for each side, the history of machine learning roots back to decades of human desire and effort to study human cognitive processes. In 1949, Canadian psychologist Donald Hebb published the book The Organization of Behavior, in which he introduced a theoretical neural structure formed by certain interactions among nerve cells. Hebb's model of neurons interacting with one another set a groundwork for how AIs and machine learning algorithms work under nodes, or artificial neurons used by computers to communicate data. Other researchers who have studied human cognitive systems contributed to the modern machine learning technologies as well, including logician Walter Pitts and Warren McCulloch, who proposed the early mathematical models of neural networks to come up with algorithms that mirror human thought processes.\n",
            "By the early 1960s an experimental \"learning machine\" with punched tape memory, called Cybertron, had been developed by Raytheon Company to analyze sonar signals, electrocardiograms, and speech patterns using rudimentary reinforcement learning. It was repetitively \"trained\" by a human operator/teacher to recognize patterns and equipped with a \"goof\" button to cause it to re-evaluate incorrect decisions. A representative book on research into machine learning during the 1960s was Nilsson's book on Learning Machines, dealing mostly with machine learning for pattern classification. Interest related to pattern recognition continued into the 1970s, as described by Duda and Hart in 1973. In 1981 a report was given on using teaching strategies so that an artificial neural network learns to recognize 40 characters (26 letters, 10 digits, and 4 special symbols) from a computer terminal.\n",
            "Tom M. Mitchell provided a widely quoted, more formal definition of the algorithms studied in the machine learning field: \"A computer program is said to learn from experience E with respect to some class of tasks T and performance measure P if its performance at tasks in T, as measured by P,  improves with experience E.\" This definition of the tasks in which machine learning is concerned offers a fundamentally operational definition rather than defining the field in cognitive terms. This follows Alan Turing's proposal in his paper \"Computing Machinery and Intelligence\", in which the question \"Can machines think?\" is replaced with the question \"Can machines do what we (as thinking entities) can do?\".\n",
            "Modern-day machine learning has two objectives.  One is to classify data based on models which have been developed; the other purpose is to make predictions for future outcomes based on these models. A hypothetical algorithm specific to classifying data may use computer vision of moles coupled with supervised learning in order to train it to classify the cancerous moles. A machine learning algorithm for stock trading may inform the trader of future potential predictions.\n",
            "\n",
            "Relationships to other fields\n",
            "Artificial intelligence\n",
            "As a scientific endeavor, machine learning grew out of the quest for artificial intelligence (AI). In the early days of AI as an academic discipline, some researchers were interested in having machines learn from data. They attempted to approach the problem with various symbolic methods, as well as what were then termed \"neural networks\"; these were mostly perceptrons and other models that were later found to be reinventions of the generalized linear models of statistics. Probabilistic reasoning was also employed, especially in automated medical diagnosis.: 488 \n",
            "However, an increasing emphasis on the logical, knowledge-based approach caused a rift between AI and machine learning. Probabilistic systems were plagued by theoretical and practical problems of data acquisition and representation.: 488  By 1980, expert systems had come to dominate AI, and statistics was out of favor. Work on symbolic/knowledge-based learning did continue within AI, leading to inductive logic programming(ILP), but the more statistical line of research was now outside the field of AI proper, in pattern recognition and information retrieval.: 708–710, 755  Neural networks research had been abandoned by AI and computer science around the same time. This line, too, was continued outside the AI/CS field, as \"connectionism\", by researchers from other disciplines including Hopfield, Rumelhart, and Hinton. Their main success came in the mid-1980s with the reinvention of backpropagation.: 25 \n",
            "Machine learning (ML), reorganized and recognized as its own field, started to flourish in the 1990s. The field changed its goal from achieving artificial intelligence to tackling solvable problems of a practical nature. It shifted focus away from the symbolic approaches it had inherited from AI, and toward methods and models borrowed from statistics, fuzzy logic, and probability theory.\n",
            "\n",
            "Data compression\n",
            "Data mining\n",
            "Machine learning and data mining often employ the same methods and overlap significantly, but while machine learning focuses on prediction, based on known properties learned from the training data, data mining focuses on the discovery of (previously) unknown properties in the data (this is the analysis step of knowledge discovery in databases). Data mining uses many machine learning methods, but with different goals; on the other hand, machine learning also employs data mining methods as \"unsupervised learning\" or as a preprocessing step to improve learner accuracy. Much of the confusion between these two research communities (which do often have separate conferences and separate journals, ECML PKDD being a major exception) comes from the basic assumptions they work with: in machine learning, performance is usually evaluated with respect to the ability to reproduce known knowledge, while in knowledge discovery and data mining (KDD) the key task is the discovery of previously unknown knowledge. Evaluated with respect to known knowledge, an uninformed (unsupervised) method will easily be outperformed by other supervised methods, while in a typical KDD task, supervised methods cannot be used due to the unavailability of training data.\n",
            "Machine learning also has intimate ties to optimization: many learning problems are formulated as minimization of some loss function on a training set of examples. Loss functions express the discrepancy between the predictions of the model being trained and the actual problem instances (for example, in classification, one wants to assign a label to instances, and models are trained to correctly predict the pre-assigned labels of a set of examples).\n",
            "\n",
            "Generalization\n",
            "The difference between optimization and machine learning arises from the goal of generalization: while optimization algorithms can minimize the loss on a training set, machine learning is concerned with minimizing the loss on unseen samples. Characterizing the generalization of various learning algorithms is an active topic of current research, especially for deep learning algorithms.\n",
            "\n",
            "Statistics\n",
            "Machine learning and statistics are closely related fields in terms of methods, but distinct in their principal goal: statistics draws population inferences from a sample, while machine learning finds generalizable predictive patterns. According to Michael I. Jordan, the ideas of machine learning, from methodological principles to theoretical tools, have had a long pre-history in statistics. He also suggested the term data science as a placeholder to call the overall field.\n",
            "Conventional statistical analyses require the a priori selection of a model most suitable for the study data set. In addition, only significant or theoretically relevant variables based on previous experience are included for analysis. In contrast, machine learning is not built on a pre-structured model; rather, the data shape the model by detecting underlying patterns. The more variables (input) used to train the model, the more accurate the ultimate model will be.\n",
            "Leo Breiman distinguished two statistical modeling paradigms: data model and algorithmic model, wherein \"algorithmic model\" means more or less the machine learning algorithms like Random Forest.\n",
            "Some statisticians have adopted methods from machine learning, leading to a combined field that they call statistical learning.\n",
            "\n",
            "Statistical physics\n",
            "Analytical and computational techniques derived from deep-rooted physics of disordered systems can be extended to large-scale problems, including machine learning, e.g., to analyze the weight space of deep neural networks. Statistical physics is thus finding applications in the area of medical diagnostics.\n",
            "\n",
            "Theory\n",
            "A core objective of a learner is to generalize from its experience. Generalization in this context is the ability of a learning machine to perform accurately on new, unseen examples/tasks after having experienced a learning data set. The training examples come from some generally unknown probability distribution (considered representative of the space of occurrences) and the learner has to build a general model about this space that enables it to produce sufficiently accurate predictions in new cases.\n",
            "The computational analysis of machine learning algorithms and their performance is a branch of theoretical computer science known as computational learning theory via the Probably Approximately Correct Learning (PAC) model. Because training sets are finite and the future is uncertain, learning theory usually does not yield guarantees of the performance of algorithms. Instead, probabilistic bounds on the performance are quite common. The bias–variance decomposition is one way to quantify generalization error.\n",
            "For the best performance in the context of generalization, the complexity of the hypothesis should match the complexity of the function underlying the data. If the hypothesis is less complex than the function, then the model has under fitted the data. If the complexity of the model is increased in response, then the training error decreases. But if the hypothesis is too complex, then the model is subject to overfitting and generalization will be poorer.\n",
            "In addition to performance bounds, learning theorists study the time complexity and feasibility of learning. In computational learning theory, a computation is considered feasible if it can be done in polynomial time. There are two kinds of time complexity results: Positive results show that a certain class of functions can be learned in polynomial time. Negative results show that certain classes cannot be learned in polynomial time.\n",
            "\n",
            "Approaches\n",
            "Machine learning approaches are traditionally divided into three broad categories, which correspond to learning paradigms, depending on the nature of the \"signal\" or \"feedback\" available to the learning system:\n",
            "\n",
            "Supervised learning: The computer is presented with example inputs and their desired outputs, given by a \"teacher\", and the goal is to learn a general rule that maps inputs to outputs.\n",
            "Unsupervised learning: No labels are given to the learning algorithm, leaving it on its own to find structure in its input. Unsupervised learning can be a goal in itself (discovering hidden patterns in data) or a means towards an end (feature learning).\n",
            "Reinforcement learning: A computer program interacts with a dynamic environment in which it must perform a certain goal (such as driving a vehicle or playing a game against an opponent). As it navigates its problem space, the program is provided feedback that's analogous to rewards, which it tries to maximize.\n",
            "Although each algorithm has advantages and limitations, no single algorithm works for all problems.\n",
            "\n",
            "Supervised learning\n",
            "Supervised learning algorithms build a mathematical model of a set of data that contains both the inputs and the desired outputs. The data is known as training data, and consists of a set of training examples. Each training example has one or more inputs and the desired output, also known as a supervisory signal.  In the mathematical model, each training example is represented by an array or vector, sometimes called a feature vector, and the training data is represented by a matrix. Through iterative optimization of an objective function, supervised learning algorithms learn a function that can be used to predict the output associated with new inputs. An optimal function allows the algorithm to correctly determine the output for inputs that were not a part of the training data. An algorithm that improves the accuracy of its outputs or predictions over time is said to have learned to perform that task.\n",
            "Types of supervised-learning algorithms include active learning, classification and regression. Classification algorithms are used when the outputs are restricted to a limited set of values, and regression algorithms are used when the outputs may have any numerical value within a range. As an example, for a classification algorithm that filters emails, the input would be an incoming email, and the output would be the name of the folder in which to file the email.\n",
            "Similarity learning is an area of supervised machine learning closely related to regression and classification, but the goal is to learn from examples using a similarity function that measures how similar or related two objects are. It has applications in ranking, recommendation systems, visual identity tracking, face verification, and speaker verification.\n",
            "\n",
            "Unsupervised learning\n",
            "Unsupervised learning algorithms find structures in data that has not been labeled, classified or categorized. Instead of responding to feedback, unsupervised learning algorithms identify commonalities in the data and react based on the presence or absence of such commonalities in each new piece of data. Central applications of unsupervised machine learning include clustering, dimensionality reduction, and density estimation. Unsupervised learning algorithms also streamlined the process of identifying large indel based haplotypes of a gene of interest from pan-genome.  \n",
            "\n",
            "Cluster analysis is the assignment of a set of observations into subsets (called clusters) so that observations within the same cluster are similar according to one or more predesignated criteria, while observations drawn from different clusters are dissimilar. Different clustering techniques make different assumptions on the structure of the data, often defined by some similarity metric and evaluated, for example, by internal compactness, or the similarity between members of the same cluster, and separation, the difference between clusters. Other methods are based on estimated density and graph connectivity.\n",
            "\n",
            "Semi-supervised learning\n",
            "Semi-supervised learning falls between unsupervised learning (without any labeled training data) and supervised learning (with completely labeled training data). Some of the training examples are missing training labels, yet many machine-learning researchers have found that unlabeled data, when used in conjunction with a small amount of labeled data, can produce a considerable improvement in learning accuracy.\n",
            "In weakly supervised learning, the training labels are noisy, limited, or imprecise; however, these labels are often cheaper to obtain, resulting in larger effective training sets.\n",
            "\n",
            "Reinforcement learning\n",
            "Reinforcement learning is an area of machine learning concerned with how software agents ought to take actions in an environment so as to maximize some notion of cumulative reward. Due to its generality, the field is studied in many other disciplines, such as game theory, control theory, operations research, information theory, simulation-based optimization, multi-agent systems, swarm intelligence, statistics and genetic algorithms. In reinforcement learning, the environment is typically represented as a Markov decision process (MDP). Many reinforcements learning algorithms use dynamic programming techniques. Reinforcement learning algorithms do not assume knowledge of an exact mathematical model of the MDP and are used when exact models are infeasible. Reinforcement learning algorithms are used in autonomous vehicles or in learning to play a game against a human opponent.\n",
            "\n",
            "Dimensionality reduction\n",
            "Dimensionality reduction is a process of reducing the number of random variables under consideration by obtaining a set of principal variables. In other words, it is a process of reducing the dimension of the feature set, also called the \"number of features\". Most of the dimensionality reduction techniques can be considered as either feature elimination or extraction. One of the popular methods of dimensionality reduction is principal component analysis (PCA). PCA involves changing higher-dimensional data (e.g., 3D) to a smaller space (e.g., 2D). This results in a smaller dimension of data (2D instead of 3D), while keeping all original variables in the model without changing the data.\n",
            "The manifold hypothesis proposes that high-dimensional data sets lie along low-dimensional manifolds, and many dimensionality reduction techniques make this assumption, leading to the area of manifold learning and manifold regularization.\n",
            "\n",
            "Other types\n",
            "Other approaches have been developed which do not fit neatly into this three-fold categorization, and sometimes more than one is used by the same machine learning system. For example, topic modeling, meta-learning.\n",
            "\n",
            "Self-learning\n",
            "Self-learning, as a machine learning paradigm was introduced in 1982 along with a neural network capable of self-learning, named crossbar adaptive array (CAA). It is learning with no external rewards and no external teacher advice. The CAA self-learning algorithm computes, in a crossbar fashion, both decisions about actions and emotions (feelings) about consequence situations. The system is driven by the interaction between cognition and emotion.\n",
            "The self-learning algorithm updates a memory matrix W =||w(a,s)|| such that in each iteration executes the following machine learning routine: \n",
            "\n",
            "in situation s perform action a\n",
            "receive a consequence situation s'\n",
            "compute emotion of being in the consequence situation v(s')\n",
            "update crossbar memory  w'(a,s) = w(a,s) + v(s')\n",
            "It is a system with only one input, situation, and only one output, action (or behavior) a. There is neither a separate reinforcement input nor an advice input from the environment. The backpropagated value (secondary reinforcement) is the emotion toward the consequence situation. The CAA exists in two environments, one is the behavioral environment where it behaves, and the other is the genetic environment, wherefrom it initially and only once receives initial emotions about situations to be encountered in the behavioral environment. After receiving the genome (species) vector from the genetic environment, the CAA learns a goal-seeking behavior, in an environment that contains both desirable and undesirable situations.\n",
            "\n",
            "Feature learning\n",
            "Several learning algorithms aim at discovering better representations of the inputs provided during training. Classic examples include principal component analysis and cluster analysis. Feature learning algorithms, also called representation learning algorithms, often attempt to preserve the information in their input but also transform it in a way that makes it useful, often as a pre-processing step before performing classification or predictions. This technique allows reconstruction of the inputs coming from the unknown data-generating distribution, while not being necessarily faithful to configurations that are implausible under that distribution. This replaces manual feature engineering, and allows a machine to both learn the features and use them to perform a specific task.\n",
            "Feature learning can be either supervised or unsupervised. In supervised feature learning, features are learned using labeled input data. Examples include artificial neural networks, multilayer perceptrons, and supervised dictionary learning. In unsupervised feature learning, features are learned with unlabeled input data.  Examples include dictionary learning, independent component analysis, autoencoders, matrix factorization and various forms of clustering.\n",
            "Manifold learning algorithms attempt to do so under the constraint that the learned representation is low-dimensional. Sparse coding algorithms attempt to do so under the constraint that the learned representation is sparse, meaning that the mathematical model has many zeros. Multilinear subspace learning algorithms aim to learn low-dimensional representations directly from tensor representations for multidimensional data, without reshaping them into higher-dimensional vectors. Deep learning algorithms discover multiple levels of representation, or a hierarchy of features, with higher-level, more abstract features defined in terms of (or generating) lower-level features. It has been argued that an intelligent machine is one that learns a representation that disentangles the underlying factors of variation that explain the observed data.\n",
            "Feature learning is motivated by the fact that machine learning tasks such as classification often require input that is mathematically and computationally convenient to process. However, real-world data such as images, video, and sensory data has not yielded attempts to algorithmically define specific features. An alternative is to discover such features or representations through examination, without relying on explicit algorithms.\n",
            "\n",
            "Sparse dictionary learning\n",
            "Sparse dictionary learning is a feature learning method where a training example is represented as a linear combination of basis functions, and is assumed to be a sparse matrix. The method is strongly NP-hard and difficult to solve approximately. A popular heuristic method for sparse dictionary learning is the K-SVD algorithm. Sparse dictionary learning has been applied in several contexts. In classification, the problem is to determine the class to which a previously unseen training example belongs. For a dictionary where each class has already been built, a new training example is associated with the class that is best sparsely represented by the corresponding dictionary. Sparse dictionary learning has also been applied in image de-noising. The key idea is that a clean image patch can be sparsely represented by an image dictionary, but the noise cannot.\n",
            "\n",
            "Anomaly detection\n",
            "In data mining, anomaly detection, also known as outlier detection, is the identification of rare items, events or observations which raise suspicions by differing significantly from the majority of the data. Typically, the anomalous items represent an issue such as bank fraud, a structural defect, medical problems or errors in a text. Anomalies are referred to as outliers, novelties, noise, deviations and exceptions.\n",
            "In particular, in the context of abuse and network intrusion detection, the interesting objects are often not rare objects, but unexpected bursts of inactivity. This pattern does not adhere to the common statistical definition of an outlier as a rare object. Many outlier detection methods (in particular, unsupervised algorithms) will fail on such data unless aggregated appropriately. Instead, a cluster analysis algorithm may be able to detect the micro-clusters formed by these patterns.\n",
            "Three broad categories of anomaly detection techniques exist. Unsupervised anomaly detection techniques detect anomalies in an unlabeled test data set under the assumption that the majority of the instances in the data set are normal, by looking for instances that seem to fit the least to the remainder of the data set. Supervised anomaly detection techniques require a data set that has been labeled as \"normal\" and \"abnormal\" and involves training a classifier (the key difference to many other statistical classification problems is the inherently unbalanced nature of outlier detection). Semi-supervised anomaly detection techniques construct a model representing normal behavior from a given normal training data set and then test the likelihood of a test instance to be generated by the model.\n",
            "\n",
            "Robot learning\n",
            "Robot learning is inspired by a multitude of machine learning methods, starting from supervised learning, reinforcement learning, and finally meta-learning (e.g. MAML).\n",
            "\n",
            "Association rules\n",
            "Association rule learning is a rule-based machine learning method for discovering relationships between variables in large databases. It is intended to identify strong rules discovered in databases using some measure of \"interestingness\".\n",
            "Rule-based machine learning is a general term for any machine learning method that identifies, learns, or evolves \"rules\" to store, manipulate or apply knowledge. The defining characteristic of a rule-based machine learning algorithm is the identification and utilization of a set of relational rules that collectively represent the knowledge captured by the system. This is in contrast to other machine learning algorithms that commonly identify a singular model that can be universally applied to any instance in order to make a prediction. Rule-based machine learning approaches include learning classifier systems, association rule learning, and artificial immune systems.\n",
            "Based on the concept of strong rules, Rakesh Agrawal, Tomasz Imieliński and Arun Swami introduced association rules for discovering regularities between products in large-scale transaction data recorded by point-of-sale (POS) systems in supermarkets. For example, the rule \n",
            "  \n",
            "    \n",
            "      \n",
            "        {\n",
            "        \n",
            "          o\n",
            "          n\n",
            "          i\n",
            "          o\n",
            "          n\n",
            "          s\n",
            "          ,\n",
            "          p\n",
            "          o\n",
            "          t\n",
            "          a\n",
            "          t\n",
            "          o\n",
            "          e\n",
            "          s\n",
            "        \n",
            "        }\n",
            "        ⇒\n",
            "        {\n",
            "        \n",
            "          b\n",
            "          u\n",
            "          r\n",
            "          g\n",
            "          e\n",
            "          r\n",
            "        \n",
            "        }\n",
            "      \n",
            "    \n",
            "    {\\displaystyle \\{\\mathrm {onions,potatoes} \\}\\Rightarrow \\{\\mathrm {burger} \\}}\n",
            "  \n",
            " found in the sales data of a supermarket would indicate that if a customer buys onions and potatoes together, they are likely to also buy hamburger meat. Such information can be used as the basis for decisions about marketing activities such as promotional pricing or product placements. In addition to market basket analysis, association rules are employed today in application areas including Web usage mining, intrusion detection, continuous production, and bioinformatics. In contrast with sequence mining, association rule learning typically does not consider the order of items either within a transaction or across transactions.\n",
            "Learning classifier systems (LCS) are a family of rule-based machine learning algorithms that combine a discovery component, typically a genetic algorithm, with a learning component, performing either supervised learning, reinforcement learning, or unsupervised learning. They seek to identify a set of context-dependent rules that collectively store and apply knowledge in a piecewise manner in order to make predictions.\n",
            "Inductive logic programming (ILP) is an approach to rule learning using logic programming as a uniform representation for input examples, background knowledge, and hypotheses. Given an encoding of the known background knowledge and a set of examples represented as a logical database of facts, an ILP system will derive a hypothesized logic program that entails all positive and no negative examples. Inductive programming is a related field that considers any kind of programming language for representing hypotheses (and not only logic programming), such as functional programs.\n",
            "Inductive logic programming is particularly useful in bioinformatics and natural language processing. Gordon Plotkin and Ehud Shapiro laid the initial theoretical foundation for inductive machine learning in a logical setting. Shapiro built their first implementation (Model Inference System) in 1981: a Prolog program that inductively inferred logic programs from positive and negative examples. The term inductive here refers to philosophical induction, suggesting a theory to explain observed facts, rather than mathematical induction, proving a property for all members of a well-ordered set.\n",
            "\n",
            "Models\n",
            "A machine learning model is a type of mathematical model which, after being \"trained\" on a given dataset, can be used to make predictions or classifications on new data. During training, a learning algorithm iteratively adjusts the model's internal parameters to minimize errors in its predictions. By extension the term model can refer to several level of specifity, from a general class of models and their associated learning algorithms, to a fully trained model with all its internal parameters tuned.\n",
            "Various types of models have been used and researched for machine learning systems, picking the best model for a task is called model selection.\n",
            "\n",
            "Artificial neural networks\n",
            "Artificial neural networks (ANNs), or connectionist systems, are computing systems vaguely inspired by the biological neural networks that constitute animal brains. Such systems \"learn\" to perform tasks by considering examples, generally without being programmed with any task-specific rules.\n",
            "An ANN is a model based on a collection of connected units or nodes called \"artificial neurons\", which loosely model the neurons in a biological brain. Each connection, like the synapses in a biological brain, can transmit information, a \"signal\", from one artificial neuron to another. An artificial neuron that receives a signal can process it and then signal additional artificial neurons connected to it. In common ANN implementations, the signal at a connection between artificial neurons is a real number, and the output of each artificial neuron is computed by some non-linear function of the sum of its inputs. The connections between artificial neurons are called \"edges\". Artificial neurons and edges typically have a weight that adjusts as learning proceeds. The weight increases or decreases the strength of the signal at a connection. Artificial neurons may have a threshold such that the signal is only sent if the aggregate signal crosses that threshold. Typically, artificial neurons are aggregated into layers. Different layers may perform different kinds of transformations on their inputs. Signals travel from the first layer (the input layer) to the last layer (the output layer), possibly after traversing the layers multiple times.\n",
            "The original goal of the ANN approach was to solve problems in the same way that a human brain would. However, over time, attention moved to performing specific tasks, leading to deviations from biology. Artificial neural networks have been used on a variety of tasks, including computer vision, speech recognition, machine translation, social network filtering, playing board and video games and medical diagnosis.\n",
            "Deep learning consists of multiple hidden layers in an artificial neural network. This approach tries to model the way the human brain processes light and sound into vision and hearing. Some successful applications of deep learning are computer vision and speech recognition.\n",
            "\n",
            "Decision trees\n",
            "Decision tree learning uses a decision tree as a predictive model to go from observations about an item (represented in the branches) to conclusions about the item's target value (represented in the leaves). It is one of the predictive modeling approaches used in statistics, data mining, and machine learning. Tree models where the target variable can take a discrete set of values are called classification trees; in these tree structures, leaves represent class labels, and branches represent conjunctions of features that lead to those class labels. Decision trees where the target variable can take continuous values (typically real numbers) are called regression trees. In decision analysis, a decision tree can be used to visually and explicitly represent decisions and decision making. In data mining, a decision tree describes data, but the resulting classification tree can be an input for decision-making.\n",
            "\n",
            "Support-vector machines\n",
            "Support-vector machines (SVMs), also known as support-vector networks, are a set of related supervised learning methods used for classification and regression. Given a set of training examples, each marked as belonging to one of two categories, an SVM training algorithm builds a model that predicts whether a new example falls into one category.  An SVM training algorithm is a non-probabilistic, binary, linear classifier, although methods such as Platt scaling exist to use SVM in a probabilistic classification setting. In addition to performing linear classification, SVMs can efficiently perform a non-linear classification using what is called the kernel trick, implicitly mapping their inputs into high-dimensional feature spaces.\n",
            "\n",
            "Regression analysis\n",
            "Regression analysis encompasses a large variety of statistical methods to estimate the relationship between input variables and their associated features. Its most common form is linear regression, where a single line is drawn to best fit the given data according to a mathematical criterion such as ordinary least squares. The latter is often extended by regularization methods to mitigate overfitting and bias, as in ridge regression. When dealing with non-linear problems, go-to models include polynomial regression (for example, used for trendline fitting in Microsoft Excel), logistic regression (often used in statistical classification) or even kernel regression, which introduces non-linearity by taking advantage of the kernel trick to implicitly map input variables to higher-dimensional space.\n",
            "\n",
            "Bayesian networks\n",
            "A Bayesian network, belief network, or directed acyclic graphical model is a probabilistic graphical model that represents a set of random variables and their conditional independence with a directed acyclic graph (DAG). For example, a Bayesian network could represent the probabilistic relationships between diseases and symptoms. Given symptoms, the network can be used to compute the probabilities of the presence of various diseases. Efficient algorithms exist that perform inference and learning. Bayesian networks that model sequences of variables, like speech signals or protein sequences, are called dynamic Bayesian networks. Generalizations of Bayesian networks that can represent and solve decision problems under uncertainty are called influence diagrams.\n",
            "\n",
            "Gaussian processes\n",
            "A Gaussian process is a stochastic process in which every finite collection of the random variables in the process has a multivariate normal distribution, and it relies on a pre-defined covariance function, or kernel, that models how pairs of points relate to each other depending on their locations.\n",
            "Given a set of observed points, or input–output examples, the distribution of the (unobserved) output of a new point as function of its input data can be directly computed by looking like the observed points and the covariances between those points and the new, unobserved point.\n",
            "Gaussian processes are popular surrogate models in Bayesian optimization used to do hyperparameter optimization.\n",
            "\n",
            "Genetic algorithms\n",
            "A genetic algorithm (GA) is a search algorithm and heuristic technique that mimics the process of natural selection, using methods such as mutation and crossover to generate new genotypes in the hope of finding good solutions to a given problem. In machine learning, genetic algorithms were used in the 1980s and 1990s. Conversely, machine learning techniques have been used to improve the performance of genetic and evolutionary algorithms.\n",
            "\n",
            "Belief functions\n",
            "The theory of belief functions, also referred to as evidence theory or Dempster–Shafer theory, is a general framework for reasoning with uncertainty, with understood connections to other frameworks such as probability, possibility and  imprecise probability theories. These theoretical frameworks can be thought of as a kind of learner and have some analogous properties of how evidence is combined (e.g.,  Dempster's rule of combination), just like how in a pmf-based Bayesian approach would combine probabilities. However, there are many caveats to these beliefs functions when compared to Bayesian approaches in order to incorporate ignorance and Uncertainty quantification. These belief function approaches that are implemented within the machine learning domain typically leverage a fusion approach of various ensemble methods to better handle the learner's decision boundary, low samples, and ambiguous class issues that standard machine learning approach tend to have difficulty resolving. However, the computational complexity of these algorithms are dependent on the number of propositions (classes), and can lead a much higher computation time when compared to other machine learning approaches.\n",
            "\n",
            "Training models\n",
            "Typically, machine learning models require a high quantity of reliable data in order for the models to perform accurate predictions. When training a machine learning model, machine learning engineers need to target and collect a large and representative sample of data. Data from the training set can be as varied as a corpus of text, a collection of images, sensor data, and data collected from individual users of a service. Overfitting is something to watch out for when training a machine learning model. Trained models derived from biased or non-evaluated data can result in skewed or undesired predictions. Bias models may result in detrimental outcomes thereby furthering the negative impacts on society or objectives. Algorithmic bias is a potential result of data not being fully prepared for training. Machine learning ethics is becoming a field of study and notably be integrated within machine learning engineering teams.\n",
            "\n",
            "Federated learning\n",
            "Federated learning is an adapted form of distributed artificial intelligence to training machine learning models that decentralizes the training process, allowing for users' privacy to be maintained by not needing to send their data to a centralized server. This also increases efficiency by decentralizing the training process to many devices. For example, Gboard uses federated machine learning to train search query prediction models on users' mobile phones without having to send individual searches back to Google.\n",
            "\n",
            "Applications\n",
            "There are many applications for machine learning, including:\n",
            "\n",
            "In 2006, the media-services provider Netflix held the first \"Netflix Prize\" competition to find a program to better predict user preferences and improve the accuracy of its existing Cinematch movie recommendation algorithm by at least 10%. A joint team made up of researchers from AT&T Labs-Research in collaboration with the teams Big Chaos and Pragmatic Theory built an ensemble model to win the Grand Prize in 2009 for $1 million. Shortly after the prize was awarded, Netflix realized that viewers' ratings were not the best indicators of their viewing patterns (\"everything is a recommendation\") and they changed their recommendation engine accordingly. In 2010 The Wall Street Journal wrote about the firm Rebellion Research and their use of machine learning to predict the financial crisis. In 2012, co-founder of Sun Microsystems, Vinod Khosla, predicted that 80% of medical doctors jobs would be lost in the next two decades to automated machine learning medical diagnostic software. In 2014, it was reported that a machine learning algorithm had been applied in the field of art history to study fine art paintings and that it may have revealed previously unrecognized influences among artists. In 2019 Springer Nature published the first research book created using machine learning. In 2020, machine learning technology was used to help make diagnoses and aid researchers in developing a cure for COVID-19. Machine learning was recently applied to predict the pro-environmental behavior of travelers. Recently, machine learning technology was also applied to optimize smartphone's performance and thermal behavior based on the user's interaction with the phone. When applied correctly, machine learning algorithms (MLAs) can utilize a wide range of company characteristics to predict stock returns without overfitting. By employing effective feature engineering and combining forecasts, MLAs can generate results that far surpass those obtained from basic linear techniques like OLS.\n",
            "Recent advancements in machine learning have extended into the field of quantum chemistry, where novel algorithms now enable the prediction of solvent effects on chemical reactions, thereby offering new tools for chemists to tailor experimental conditions for optimal outcomes.\n",
            "\n",
            "Limitations\n",
            "Although machine learning has been transformative in some fields, machine-learning programs often fail to deliver expected results. Reasons for this are numerous: lack of (suitable) data, lack of access to the data, data bias, privacy problems, badly chosen tasks and algorithms, wrong tools and people, lack of resources, and evaluation problems.\n",
            "The \"black box theory\" poses another yet significant challenge. Black box refers to a situation where the algorithm or the process of producing an output is entirely opaque, meaning that even the coders of the algorithm cannot audit the pattern that the machine extracted out of the data. The House of Lords Select Committee, which claimed that such an “intelligence system” that could have a “substantial impact on an individual’s life” would not be considered acceptable unless it provided “a full and satisfactory explanation for the decisions” it makes.\n",
            "In 2018, a self-driving car from Uber failed to detect a pedestrian, who was killed after a collision. Attempts to use machine learning in healthcare with the IBM Watson system failed to deliver even after years of time and billions of dollars invested. Microsoft's Bing Chat chatbot has been reported to produce hostile and offensive response against its users.\n",
            "Machine learning has been used as a strategy to update the evidence related to a systematic review and increased reviewer burden related to the growth of biomedical literature. While it has improved with training sets, it has not yet developed sufficiently to reduce the workload burden without limiting the necessary sensitivity for the findings research themselves.\n",
            "\n",
            "Bias\n",
            "Different machine learning approaches can suffer from different data biases. A machine learning system trained specifically on current customers may not be able to predict the needs of new customer groups that are not represented in the training data. When trained on human-made data, machine learning is likely to pick up the constitutional and unconscious biases already present in society.\n",
            "Language models learned from data have been shown to contain human-like biases. In an experiment carried out by ProPublica, an investigative journalism organization, a machine learning algorithm's insight into the recidivism rates among prisoners falsely flagged \"black defendants high risk twice as often as white defendants.\" In 2015, Google Photos would often tag black people as gorillas, and in 2018, this still was not well resolved, but Google reportedly was still using the workaround to remove all gorillas from the training data and thus was not able to recognize real gorillas at all. Similar issues with recognizing non-white people have been found in many other systems. In 2016, Microsoft tested Tay, a chatbot that learned from Twitter, and it quickly picked up racist and sexist language.\n",
            "Because of such challenges, the effective use of machine learning may take longer to be adopted in other domains. Concern for fairness in machine learning, that is, reducing bias in machine learning and propelling its use for human good, is increasingly expressed by artificial intelligence scientists, including Fei-Fei Li, who reminds engineers that \"[t]here's nothing artificial about AI. It's inspired by people, it's created by people, and—most importantly—it impacts people. It is a powerful tool we are only just beginning to understand, and that is a profound responsibility.\"\n",
            "\n",
            "Explainability\n",
            "Explainable AI (XAI), or Interpretable AI, or Explainable Machine Learning (XML), is artificial intelligence (AI) in which humans can understand the decisions or predictions made by the AI. It contrasts with the \"black box\" concept in machine learning where even its designers cannot explain why an AI arrived at a specific decision. By refining the mental models of users of AI-powered systems and dismantling their misconceptions, XAI promises to help users perform more effectively. XAI may be an implementation of the social right to explanation.\n",
            "\n",
            "Overfitting\n",
            "Settling on a bad, overly complex theory gerrymandered to fit all the past training data is known as overfitting. Many systems attempt to reduce overfitting by rewarding a theory in accordance with how well it fits the data but penalizing the theory in accordance with how complex the theory is.\n",
            "\n",
            "Other limitations and vulnerabilities\n",
            "Learners can also disappoint by \"learning the wrong lesson\". A toy example is that an image classifier trained only on pictures of brown horses and black cats might conclude that all brown patches are likely to be horses. A real-world example is that, unlike humans, current image classifiers often do not primarily make judgments from the spatial relationship between components of the picture, and they learn relationships between pixels that humans are oblivious to, but that still correlate with images of certain types of real objects. Modifying these patterns on a legitimate image can result in \"adversarial\" images that the system misclassifies.\n",
            "Adversarial vulnerabilities can also result in nonlinear systems, or from non-pattern perturbations. For some systems, it is possible to change the output by only changing a single adversarially chosen pixel. Machine learning models are often vulnerable to manipulation and/or evasion via adversarial machine learning.\n",
            "Researchers have demonstrated how backdoors can be placed undetectably into classifying (e.g., for categories \"spam\" and well-visible \"not spam\" of posts) machine learning models which are often developed and/or trained by third parties. Parties can change the classification of any input, including in cases for which a type of data/software transparency is provided, possibly including white-box access.\n",
            "\n",
            "Model assessments\n",
            "Classification of machine learning models can be validated by accuracy estimation techniques like the holdout method, which splits the data in a training and test set (conventionally 2/3 training set and 1/3 test set designation) and evaluates the performance of the training model on the test set. In comparison, the K-fold-cross-validation method randomly partitions the data into K subsets and then K experiments are performed each respectively considering 1 subset for evaluation and the remaining K-1 subsets for training the model. In addition to the holdout and cross-validation methods, bootstrap, which samples n instances with replacement from the dataset, can be used to assess model accuracy.\n",
            "In addition to overall accuracy, investigators frequently report sensitivity and specificity meaning True Positive Rate (TPR) and True Negative Rate (TNR) respectively. Similarly, investigators sometimes report the false positive rate (FPR) as well as the false negative rate (FNR). However, these rates are ratios that fail to reveal their numerators and denominators. The total operating characteristic (TOC) is an effective method to express a model's diagnostic ability. TOC shows the numerators and denominators of the previously mentioned rates, thus TOC provides more information than the commonly used receiver operating characteristic (ROC) and ROC's associated area under the curve (AUC).\n",
            "\n",
            "Ethics\n",
            "Machine learning poses a host of ethical questions. Systems that are trained on datasets collected with biases may exhibit these biases upon use (algorithmic bias), thus digitizing cultural prejudices. For example, in 1988, the UK's Commission for Racial Equality found that St. George's Medical School had been using a computer program trained from data of previous admissions staff and this program had denied nearly 60 candidates who were found to be either women or had non-European sounding names. Using job hiring data from a firm with racist hiring policies may lead to a machine learning system duplicating the bias by scoring job applicants by similarity to previous successful applicants. Another example includes predictive policing company Geolitica's predictive algorithm that resulted in “disproportionately high levels of over-policing in low-income and minority communities” after being trained with historical crime data.\n",
            "While responsible collection of data and documentation of algorithmic rules used by a system is considered a critical part of machine learning, some researchers blame lack of participation and representation of minority population in the field of AI for machine learning's vulnerability to biases. In fact, according to research carried out by the Computing Research Association (CRA) in 2021, “female faculty merely make up 16.1%” of all faculty members who focus on AI among several universities around the world. Furthermore, among the group of “new U.S. resident AI PhD graduates,” 45% identified as white, 22.4% as Asian, 3.2% as Hispanic, and 2.4% as African American, which further demonstrates a lack of diversity in the field of AI.\n",
            "AI can be well-equipped to make decisions in technical fields, which rely heavily on data and historical information. These decisions rely on objectivity and logical reasoning. Because human languages contain biases, machines trained on language corpora will necessarily also learn these biases.\n",
            "Other forms of ethical challenges, not related to personal biases, are seen in health care. There are concerns among health care professionals that these systems might not be designed in the public's interest but as income-generating machines. This is especially true in the United States where there is a long-standing ethical dilemma of improving health care, but also increasing profits. For example, the algorithms could be designed to provide patients with unnecessary tests or medication in which the algorithm's proprietary owners hold stakes. There is potential for machine learning in health care to provide professionals an additional tool to diagnose, medicate, and plan recovery paths for patients, but this requires these biases to be mitigated.\n",
            "\n",
            "Hardware\n",
            "Since the 2010s, advances in both machine learning algorithms and computer hardware have led to more efficient methods for training deep neural networks (a particular narrow subdomain of machine learning) that contain many layers of non-linear hidden units. By 2019, graphic processing units (GPUs), often with AI-specific enhancements, had displaced CPUs as the dominant method of training large-scale commercial cloud AI. OpenAI estimated the hardware computing used in the largest deep learning projects from AlexNet (2012) to AlphaZero (2017), and found a 300,000-fold increase in the amount of compute required, with a doubling-time trendline of 3.4 months.\n",
            "\n",
            "Neuromorphic/Physical Neural Networks\n",
            "A physical neural network or Neuromorphic computer  is a type of artificial neural network in which an electrically adjustable material is used to emulate the function of a neural synapse. \"Physical\" neural network is used to emphasize the reliance on physical hardware used to emulate neurons as opposed to software-based approaches. More generally the term is applicable to other artificial neural networks in which a memristor or other electrically adjustable resistance material is used to emulate a neural synapse.\n",
            "\n",
            "Embedded Machine Learning\n",
            "Embedded Machine Learning is a sub-field of machine learning, where the machine learning model is run on embedded systems with limited computing resources such as wearable computers, edge devices and microcontrollers. Running machine learning model in embedded devices removes the need for transferring and storing data on cloud servers for further processing, henceforth, reducing data breaches and privacy leaks happening because of transferring data, and also minimizes theft of intellectual properties, personal data and business secrets. Embedded Machine Learning could be applied through several techniques including hardware acceleration, using approximate computing, optimization of machine learning models and many more. Pruning, Quantization, Knowledge Distillation, Low-Rank Factorization, Network Architecture Search (NAS) & Parameter Sharing are few of the techniques used for optimization of machine learning models.\n",
            "\n",
            "Software\n",
            "Software suites containing a variety of machine learning algorithms include the following:\n",
            "\n",
            "Free and open-source software\n",
            "Proprietary software with free and open-source editions\n",
            "KNIME\n",
            "RapidMiner\n",
            "\n",
            "Proprietary software\n",
            "Journals\n",
            "Journal of Machine Learning Research\n",
            "Machine Learning\n",
            "Nature Machine Intelligence\n",
            "Neural Computation\n",
            "IEEE Transactions on Pattern Analysis and Machine Intelligence\n",
            "\n",
            "Conferences\n",
            "AAAI Conference on Artificial Intelligence\n",
            "Association for Computational Linguistics (ACL)\n",
            "European Conference on Machine Learning and Principles and Practice of Knowledge Discovery in Databases (ECML PKDD)\n",
            "International Conference on Computational Intelligence Methods for Bioinformatics and Biostatistics (CIBB)\n",
            "International Conference on Machine Learning (ICML)\n",
            "International Conference on Learning Representations (ICLR)\n",
            "International Conference on Intelligent Robots and Systems (IROS)\n",
            "Conference on Knowledge Discovery and Data Mining (KDD)\n",
            "Conference on Neural Information Processing Systems (NeurIPS)\n",
            "\n",
            "See also\n",
            "Automated machine learning – Process of automating the application of machine learning\n",
            "Big data – Extremely large or complex datasets\n",
            "Differentiable programming – Programming paradigm\n",
            "Force control\n",
            "List of important publications in machine learning\n",
            "List of datasets for machine-learning research\n",
            "\n",
            "References\n",
            "Sources\n",
            "Domingos, Pedro (September 22, 2015). The Master Algorithm: How the Quest for the Ultimate Learning Machine Will Remake Our World. Basic Books. ISBN 978-0465065707.\n",
            "Nilsson, Nils (1998). Artificial Intelligence: A New Synthesis. Morgan Kaufmann. ISBN 978-1-55860-467-4. Archived from the original on 26 July 2020. Retrieved 18 November 2019.\n",
            "Russell, Stuart J.; Norvig, Peter (2003), Artificial Intelligence: A Modern Approach (2nd ed.), Upper Saddle River, New Jersey: Prentice Hall, ISBN 0-13-790395-2.\n",
            "Poole, David; Mackworth, Alan; Goebel, Randy (1998). Computational Intelligence: A Logical Approach. New York: Oxford University Press. ISBN 978-0-19-510270-3. Archived from the original on 26 July 2020. Retrieved 22 August 2020.\n",
            "\n",
            "Further reading\n",
            "External links\n",
            "\n",
            " Quotations related to Machine learning at Wikiquote\n",
            "International Machine Learning Society\n",
            "mloss is an academic database of open-source machine learning software.Deep learning is the subset of machine learning methods based on neural networks with representation learning. The adjective \"deep\" refers to the use of multiple layers in the network. Methods used can be either supervised, semi-supervised or unsupervised.\n",
            "Deep-learning architectures such as deep neural networks, deep belief networks, recurrent neural networks, convolutional neural networks and transformers have been applied to fields including computer vision, speech recognition, natural language processing, machine translation, bioinformatics, drug design, medical image analysis, climate science, material inspection and board game programs, where they have produced results comparable to and in some cases surpassing human expert performance.\n",
            "Early forms of neural networks were inspired by information processing and distributed communication nodes in biological systems, in particular the human brain. However, current neural networks do not intend to model the brain function of organisms, and are generally seen as low quality models for that purpose.\n",
            "\n",
            "Overview\n",
            "Most modern deep learning models are based on multi-layered neural networks such as convolutional neural networks and transformers, although they can also include propositional formulas or latent variables organized layer-wise in deep generative models such as the nodes in deep belief networks and deep Boltzmann machines.\n",
            "Fundamentally, deep learning refers to a class of machine learning algorithms in which a hierarchy of layers is used to transform input data into a slightly more abstract and composite representation. For example, in an image recognition model, the raw input may be an image (represented as a tensor of pixels). The first representational layer may attempt to identify basic shapes such as lines and circles, the second layer may compose and encode arrangements of edges, the third layer may encode a nose and eyes, and the fourth layer may recognize that the image contains a face.\n",
            "Importantly, a deep learning process can learn which features to optimally place in which level on its own. Prior to deep learning, machine learning techniques often involved hand-crafted feature engineering to transform the data into a more suitable representation for a classification algorithm to operate upon. In the deep learning approach, features are not hand-crafted and the model discovers useful feature representations from the data automatically. This does not eliminate the need for hand-tuning; for example, varying numbers of layers and layer sizes can provide different degrees of abstraction.\n",
            "The word \"deep\" in \"deep learning\" refers to the number of layers through which the data is transformed. More precisely, deep learning systems have a substantial credit assignment path (CAP) depth. The CAP is the chain of transformations from input to output. CAPs describe potentially causal connections between input and output. For a feedforward neural network, the depth of the CAPs is that of the network and is the number of hidden layers plus one (as the output layer is also parameterized). For recurrent neural networks, in which a signal may propagate through a layer more than once, the CAP depth is potentially unlimited. No universally agreed-upon threshold of depth divides shallow learning from deep learning, but most researchers agree that deep learning involves CAP depth higher than 2. CAP of depth 2 has been shown to be a universal approximator in the sense that it can emulate any function. Beyond that, more layers do not add to the function approximator ability of the network. Deep models (CAP > 2) are able to extract better features than shallow models and hence, extra layers help in learning the features effectively.\n",
            "Deep learning architectures can be constructed with a greedy layer-by-layer method. Deep learning helps to disentangle these abstractions and pick out which features improve performance.\n",
            "Deep learning algorithms can be applied to unsupervised learning tasks. This is an important benefit because unlabeled data are more abundant than the labeled data. Examples of deep structures that can be trained in an unsupervised manner are deep belief networks.\n",
            "\n",
            "Interpretations\n",
            "Deep neural networks are generally interpreted in terms of the universal approximation theorem or probabilistic inference.\n",
            "The classic universal approximation theorem concerns the capacity of feedforward neural networks with a single hidden layer of finite size to approximate continuous functions. In 1989, the first proof was published by George Cybenko for sigmoid activation functions and was generalised to feed-forward multi-layer architectures in 1991 by Kurt Hornik. Recent work also showed that universal approximation also holds for non-bounded activation functions such as Kunihiko Fukushima's rectified linear unit.\n",
            "The universal approximation theorem for deep neural networks concerns the capacity of networks with bounded width but the depth is allowed to grow. Lu et al. proved that if the width of a deep neural network with ReLU activation is strictly larger than the input dimension, then the network can approximate any Lebesgue integrable function; if the width is smaller or equal to the input dimension, then a deep neural network is not a universal approximator.\n",
            "The probabilistic interpretation derives from the field of machine learning. It features inference, as well as the optimization concepts of training and testing, related to fitting and generalization, respectively. More specifically, the probabilistic interpretation considers the activation nonlinearity as a cumulative distribution function. The probabilistic interpretation led to the introduction of dropout as regularizer in neural networks. The probabilistic interpretation was introduced by researchers including Hopfield, Widrow and Narendra and popularized in surveys such as the one by Bishop.\n",
            "\n",
            "History\n",
            "There were two types of artificial neural network (ANN): feedforward neural networks (FNNs) and recurrent neural networks (RNNs). RNNs have cycles in their connectivity structure, FNNs don't. In the 1920s, Wilhelm Lenz and Ernst Ising created and analyzed the Ising model which is essentially a non-learning RNN architecture consisting of neuron-like threshold elements. In 1972, Shun'ichi Amari made this architecture adaptive. His learning RNN was popularised by John Hopfield in 1982.\n",
            "Charles Tappert writes that Frank Rosenblatt developed and explored all of the basic ingredients of the deep learning systems of today, referring to Rosenblatt's 1962 book which introduced multilayer perceptron (MLP) with 3 layers: an input layer, a hidden layer with randomized weights that did not learn, and an output layer. It also introduced variants, including a version with four-layer perceptrons where the last two layers have learned weights (and thus a proper multilayer perceptron).: section 16  In addition, term deep learning was proposed in 1986 by Rina Dechter although the history of its appearance is apparently more complicated.\n",
            "The first general, working learning algorithm for supervised, deep, feedforward, multilayer perceptrons was published by Alexey Ivakhnenko and Lapa in 1967. A 1971 paper described a deep network with eight layers trained by the group method of data handling.\n",
            "The first deep learning multilayer perceptron trained by stochastic gradient descent was published in 1967 by Shun'ichi Amari. In computer experiments conducted by Amari's student Saito, a five layer MLP with two modifiable layers learned  internal representations to classify non-linearily separable pattern classes. In 1987 Matthew Brand reported that wide 12-layer nonlinear perceptrons could be fully end-to-end trained to reproduce logic functions of nontrivial circuit depth via gradient descent on small batches of random input/output samples, but concluded that training time on contemporary hardware (sub-megaflop computers) made the technique impractical, and proposed using fixed random early layers as an input hash for a single modifiable layer.  Instead, subsequent developments in hardware and hyperparameter tunings have made end-to-end stochastic gradient descent the currently dominant training technique.\n",
            "In 1970, Seppo Linnainmaa published the reverse mode of automatic differentiation of discrete connected networks of nested differentiable functions. This became known as backpropagation. It is an efficient application of the chain rule derived by Gottfried Wilhelm Leibniz in 1673 to networks of differentiable nodes. \n",
            "The terminology \"back-propagating errors\" was actually introduced in 1962 by Rosenblatt, but he did not know how to implement this, although Henry J. Kelley had a continuous precursor of backpropagation already in 1960 in the context of control theory. In 1982, Paul Werbos applied backpropagation to MLPs in the way that has become standard. In 1985, David E. Rumelhart et al. published an experimental analysis of the technique.\n",
            "Deep learning architectures for convolutional neural networks (CNNs) with convolutional layers and downsampling layers began with the Neocognitron introduced by Kunihiko Fukushima in 1980. In 1969, he also introduced the ReLU (rectified linear unit) activation function. The rectifier has become the most popular activation function for CNNs and deep learning in general. CNNs have become an essential tool for computer vision.\n",
            "The term Deep Learning was introduced to the machine learning community by Rina Dechter in 1986, and to artificial neural networks by Igor Aizenberg and colleagues in 2000, in the context of Boolean threshold neurons.\n",
            "In 1988, Wei Zhang et al. applied the backpropagation algorithm \n",
            "to a convolutional neural network (a simplified Neocognitron with convolutional interconnections between the image feature layers and the last fully connected layer) for alphabet recognition. They also proposed an implementation of the CNN with an optical computing system. \n",
            "In 1989, Yann LeCun et al. applied backpropagation to a CNN with the purpose of recognizing handwritten ZIP codes on mail. While the algorithm worked, training required 3 days. Subsequently, Wei Zhang, et al. modified their model by removing the last fully connected layer and applied it for medical image object segmentation in 1991 and breast cancer detection in mammograms in 1994. LeNet-5 (1998), a 7-level CNN by Yann LeCun et al., that classifies digits, was applied by several banks to recognize hand-written numbers on checks  digitized in 32x32 pixel images.\n",
            "In the 1980s, backpropagation did not work well for deep learning with long credit assignment paths. To overcome this problem, Jürgen Schmidhuber (1992) proposed a hierarchy of RNNs pre-trained one level at a time by self-supervised learning. It uses predictive coding  to learn internal representations at multiple self-organizing time scales. This can substantially facilitate downstream deep learning. The RNN hierarchy can be collapsed into a single RNN, by distilling a higher level chunker network into a lower level automatizer network. In 1993, a chunker solved a deep learning task whose depth exceeded 1000.\n",
            "In 1992, Jürgen Schmidhuber also published an alternative to RNNs which is now called a linear Transformer or a  Transformer with linearized self-attention (save for a normalization operator). It learns internal spotlights of attention: a slow feedforward neural network learns by gradient descent to control the fast weights of another neural network through outer products of self-generated activation patterns FROM and TO (which are now called key and value for self-attention). This fast weight attention mapping is applied to a query pattern.\n",
            "The modern Transformer was introduced by Ashish Vaswani et al. in their 2017 paper \"Attention Is All You Need\". \n",
            "It combines this with a softmax operator and a projection matrix.\n",
            "Transformers have increasingly become the model of choice for natural language processing. Many modern large language models such as ChatGPT, GPT-4, and BERT use it. Transformers are also increasingly being used in computer vision.\n",
            "In 1991, Jürgen Schmidhuber also published adversarial neural networks that contest with each other in the form of a zero-sum game, where one network's gain is the other network's loss. The first network is a generative model that models a probability distribution over output patterns. The second network learns by gradient descent to predict the reactions of the environment to these patterns. This was called \"artificial curiosity\". In 2014, this principle was used in a generative adversarial network (GAN) by Ian Goodfellow et al. Here the environmental reaction is 1 or 0 depending on whether the first network's output is in a given set. This can be used to create realistic deepfakes. Excellent image quality is achieved by Nvidia's StyleGAN (2018) based on the Progressive GAN by Tero Karras et al. Here the GAN generator is grown from small to large scale in a pyramidal fashion.\n",
            "Sepp Hochreiter's diploma thesis (1991) was called \"one of the most important documents in the history of machine learning\" by his supervisor Schmidhuber. It not only tested the neural history compressor, but also identified and analyzed the vanishing gradient problem. Hochreiter proposed recurrent residual connections to solve this problem. This led to the deep learning method called long short-term memory (LSTM), published in 1997. LSTM recurrent neural networks can learn \"very deep learning\" tasks with long credit assignment paths that require memories of events that happened thousands of discrete time steps before. The \"vanilla LSTM\" with forget gate was introduced in 1999 by Felix Gers, Schmidhuber and Fred Cummins. LSTM has become the  most cited neural network of the 20th century.\n",
            "In 2015, Rupesh Kumar Srivastava, Klaus Greff, and Schmidhuber used LSTM principles to create the Highway network, a feedforward neural network with hundreds of layers, much deeper than previous networks. 7 months later, Kaiming He, Xiangyu Zhang;  Shaoqing Ren, and Jian Sun won the ImageNet 2015 competition with an open-gated or gateless Highway network variant called Residual neural network. This has become the most cited neural network of the 21st century.\n",
            "In 1994, André de Carvalho, together with Mike Fairhurst and David Bisset, published experimental results of a multi-layer boolean neural network, also known as a weightless neural network, composed of a 3-layers self-organising feature extraction neural network module (SOFT) followed by a multi-layer classification neural network module (GSN), which were independently trained. Each layer in the feature extraction module extracted features with growing complexity regarding the previous layer.\n",
            "In 1995, Brendan Frey demonstrated that it was possible to train (over two days) a network containing six fully connected layers and several hundred hidden units using the wake-sleep algorithm, co-developed with Peter Dayan and Hinton.\n",
            "Since 1997, Sven Behnke extended the feed-forward hierarchical convolutional approach in the Neural Abstraction Pyramid by lateral and backward connections in order to flexibly incorporate context into decisions and iteratively resolve local ambiguities.\n",
            "Simpler models that use task-specific handcrafted features such as Gabor filters and support vector machines (SVMs) were a popular choice in the 1990s and 2000s, because of artificial neural networks' computational cost and a lack of understanding of how the brain wires its biological networks.\n",
            "Both shallow and deep learning (e.g., recurrent nets) of ANNs for speech recognition have been explored for many years. These methods never outperformed non-uniform internal-handcrafting Gaussian mixture model/Hidden Markov model (GMM-HMM) technology based on generative models of speech trained discriminatively. Key difficulties have been analyzed, including gradient diminishing and weak temporal correlation structure in neural predictive models. Additional difficulties were the lack of training data and limited computing power. Most speech recognition researchers moved away from neural nets to pursue generative modeling. An exception was at SRI International in the late 1990s. Funded by the US government's NSA and DARPA, SRI studied deep neural networks (DNNs) in speech and speaker recognition. The speaker recognition team led by Larry Heck reported significant success with deep neural networks in speech processing in the 1998 National Institute of Standards and Technology Speaker Recognition evaluation. The SRI deep neural network was then deployed in the Nuance Verifier, representing the first major industrial application of deep learning. The principle of elevating \"raw\" features over hand-crafted optimization was first explored successfully in the architecture of deep autoencoder on the \"raw\" spectrogram or linear filter-bank features in the late 1990s, showing its superiority over the Mel-Cepstral features that contain stages of fixed transformation from spectrograms. The raw features of speech, waveforms, later produced excellent larger-scale results.\n",
            "Speech recognition was taken over by LSTM. In 2003, LSTM started to become competitive with traditional speech recognizers on certain tasks. In 2006, Alex Graves, Santiago Fernández, Faustino Gomez, and Schmidhuber combined it with connectionist temporal classification (CTC) in stacks of LSTM RNNs. In 2015, Google's speech recognition reportedly experienced a dramatic performance jump of 49% through CTC-trained LSTM, which they made available through Google Voice Search.\n",
            "The impact of deep learning in industry began in the early 2000s, when CNNs already processed an estimated 10% to 20% of all the checks written in the US, according to Yann LeCun. Industrial applications of deep learning to large-scale speech recognition started around 2010.\n",
            "In 2006, publications by Geoff Hinton, Ruslan Salakhutdinov, Osindero and Teh showed how a many-layered feedforward neural network could be effectively pre-trained one layer at a time, treating each layer in turn as an unsupervised restricted Boltzmann machine, then fine-tuning it using supervised backpropagation. The papers referred to learning for deep belief nets.\n",
            "The 2009 NIPS Workshop on Deep Learning for Speech Recognition was motivated by the limitations of deep generative models of speech, and the possibility that given more capable hardware and large-scale data sets that deep neural nets might become practical. It was believed that pre-training DNNs using generative models of deep belief nets (DBN) would overcome the main difficulties of neural nets. However, it was discovered that replacing pre-training with large amounts of training data for straightforward backpropagation when using DNNs with large, context-dependent output layers produced error rates dramatically lower than then-state-of-the-art Gaussian mixture model (GMM)/Hidden Markov Model (HMM) and also than more-advanced generative model-based systems. The nature of the recognition errors produced by the two types of systems was characteristically different, offering technical insights into how to integrate deep learning into the existing highly efficient, run-time speech decoding system deployed by all major speech recognition systems. Analysis around 2009–2010, contrasting the GMM (and other generative speech models) vs. DNN models, stimulated early industrial investment in deep learning for speech recognition.  That analysis was done with comparable performance (less than 1.5% in error rate) between discriminative DNNs and generative models.\n",
            "In 2010, researchers extended deep learning from TIMIT to large vocabulary speech recognition, by adopting large output layers of the DNN based on context-dependent HMM states constructed by decision trees.\n",
            "Deep learning is part of state-of-the-art systems in various disciplines, particularly computer vision and automatic speech recognition (ASR). Results on commonly used evaluation sets such as TIMIT (ASR) and MNIST (image classification), as well as a range of large-vocabulary speech recognition tasks have steadily improved. Convolutional neural networks were superseded for ASR by CTC for LSTM. but are more successful in computer vision.\n",
            "Advances in hardware have driven renewed interest in deep learning. In 2009, Nvidia was involved in what was called the \"big bang\" of deep learning, \"as deep-learning neural networks were trained with Nvidia graphics processing units (GPUs)\". That year, Andrew Ng determined that GPUs could increase the speed of deep-learning systems by about 100 times. In particular, GPUs are well-suited for the matrix/vector computations involved in machine learning. GPUs speed up training algorithms by orders of magnitude, reducing running times from weeks to days. Further, specialized hardware and algorithm optimizations can be used for efficient processing of deep learning models.\n",
            "\n",
            "Deep learning revolution\n",
            "In the late 2000s, deep learning started to outperform other methods in machine learning competitions.\n",
            "In 2009, a long short-term memory trained by connectionist temporal classification (Alex Graves, Santiago Fernández, Faustino Gomez, and Jürgen Schmidhuber, 2006) was the first RNN to win pattern recognition contests, winning three competitions in connected handwriting recognition. Google later used CTC-trained LSTM for speech recognition on the smartphone.\n",
            "Significant impacts in image or object recognition were felt from 2011 to 2012. Although CNNs trained by backpropagation had been around for decades, and GPU implementations of NNs for years, including CNNs, faster implementations of CNNs on GPUs were needed to progress on computer vision. In 2011, the DanNet by Dan Ciresan, Ueli Meier, Jonathan Masci, Luca Maria Gambardella, and Jürgen Schmidhuber achieved for the first time superhuman performance in a visual pattern recognition contest, outperforming traditional methods by a factor of 3. Also in 2011, DanNet won the ICDAR Chinese handwriting contest, and in May 2012, it won the ISBI image segmentation contest. Until 2011, CNNs did not play a major role at computer vision conferences, but in June 2012, a paper by Ciresan et al. at the leading conference CVPR showed how max-pooling CNNs on GPU can dramatically improve many vision benchmark records.  In September 2012, DanNet also won the ICPR contest on analysis of large medical images for cancer detection, and in the following year also the MICCAI Grand Challenge on the same topic. In October 2012, the similar AlexNet by Alex Krizhevsky, Ilya Sutskever, and Geoffrey Hinton won the large-scale ImageNet competition by a significant margin over shallow machine learning methods. \n",
            "The VGG-16 network by Karen Simonyan and Andrew Zisserman further reduced the error rate and\n",
            "won the ImageNet 2014 competition, following a similar trend in large-scale speech recognition.\n",
            "Image classification was then extended to the more challenging task of generating descriptions (captions) for images, often as a combination of CNNs and LSTMs.\n",
            "In 2012, a team led by George E. Dahl won the \"Merck Molecular Activity Challenge\" using multi-task deep neural networks to predict the biomolecular target of one drug. In 2014, Sepp Hochreiter's group used deep learning to detect off-target and toxic effects of environmental chemicals in nutrients, household products and drugs and won the \"Tox21 Data Challenge\" of NIH, FDA and NCATS.\n",
            "In 2016, Roger Parloff mentioned a \"deep learning revolution\" that has transformed the AI industry.\n",
            "In March 2019, Yoshua Bengio, Geoffrey Hinton and Yann LeCun were awarded the Turing Award for conceptual and engineering breakthroughs that have made deep neural networks a critical component of computing.\n",
            "\n",
            "Neural networks\n",
            "Artificial neural networks (ANNs) or connectionist systems are computing systems inspired by the biological neural networks that constitute animal brains. Such systems learn (progressively improve their ability) to do tasks by considering examples, generally without task-specific programming. For example, in image recognition, they might learn to identify images that contain cats by analyzing example images that have been manually labeled as \"cat\" or \"no cat\" and using the analytic results to identify cats in other images. They have found most use in applications difficult to express with a traditional computer algorithm using rule-based programming.\n",
            "An ANN is based on a collection of connected units called artificial neurons, (analogous to biological neurons in a biological brain). Each connection (synapse) between neurons can transmit a signal to another neuron. The receiving (postsynaptic) neuron can process the signal(s) and then signal downstream neurons connected to it. Neurons may have state, generally represented by real numbers, typically between 0 and 1. Neurons and synapses may also have a weight that varies as learning proceeds, which can increase or decrease the strength of the signal that it sends downstream.\n",
            "Typically, neurons are organized in layers. Different layers may perform different kinds of transformations on their inputs. Signals travel from the first (input), to the last (output) layer, possibly after traversing the layers multiple times.\n",
            "The original goal of the neural network approach was to solve problems in the same way that a human brain would. Over time, attention focused on matching specific mental abilities, leading to deviations from biology such as backpropagation, or passing information in the reverse direction and adjusting the network to reflect that information.\n",
            "Neural networks have been used on a variety of tasks, including computer vision, speech recognition, machine translation, social network filtering, playing board and video games and medical diagnosis.\n",
            "As of 2017, neural networks typically have a few thousand to a few million units and millions of connections. Despite this number being several order of magnitude less than the number of neurons on a human brain, these networks can perform many tasks at a level beyond that of humans (e.g., recognizing faces, or playing \"Go\").\n",
            "\n",
            "Deep neural networks\n",
            "A deep neural network (DNN) is an artificial neural network with multiple layers between the input and output layers. There are different types of neural networks but they always consist of the same components: neurons, synapses, weights, biases, and functions. These components as a whole function in a way that mimics functions of the human brain, and can be trained like any other ML algorithm.\n",
            "For example, a DNN that is trained to recognize dog breeds will go over the given image and calculate the probability that the dog in the image is a certain breed. The user can review the results and select which probabilities the network should display (above a certain threshold, etc.) and return the proposed label. Each mathematical manipulation as such is considered a layer, and complex DNN have many layers, hence the name \"deep\" networks.\n",
            "DNNs can model complex non-linear relationships. DNN architectures generate compositional models where the object is expressed as a layered composition of primitives. The extra layers enable composition of features from lower layers, potentially modeling complex data with fewer units than a similarly performing shallow network. For instance, it was proved that sparse multivariate polynomials are exponentially easier to approximate with DNNs than with shallow networks.\n",
            "Deep architectures include many variants of a few basic approaches. Each architecture has found success in specific domains. It is not always possible to compare the performance of multiple architectures, unless they have been evaluated on the same data sets.\n",
            "DNNs are typically feedforward networks in which data flows from the input layer to the output layer without looping back. At first, the DNN creates a map of virtual neurons and assigns random numerical values, or \"weights\", to connections between them. The weights and inputs are multiplied and return an output between 0 and 1. If the network did not accurately recognize a particular pattern, an algorithm would adjust the weights. That way the algorithm can make certain parameters more influential, until it determines the correct mathematical manipulation to fully process the data.\n",
            "Recurrent neural networks, in which data can flow in any direction, are used for applications such as language modeling. Long short-term memory is particularly effective for this use.\n",
            "Convolutional neural networks (CNNs) are used in computer vision. CNNs also have been applied to acoustic modeling for automatic speech recognition (ASR).\n",
            "\n",
            "Challenges\n",
            "As with ANNs, many issues can arise with naively trained DNNs. Two common issues are overfitting and computation time.\n",
            "DNNs are prone to overfitting because of the added layers of abstraction, which allow them to model rare dependencies in the training data. Regularization methods such as Ivakhnenko's unit pruning or weight decay (\n",
            "  \n",
            "    \n",
            "      \n",
            "        \n",
            "          ℓ\n",
            "          \n",
            "            2\n",
            "          \n",
            "        \n",
            "      \n",
            "    \n",
            "    {\\displaystyle \\ell _{2}}\n",
            "  \n",
            "-regularization) or sparsity (\n",
            "  \n",
            "    \n",
            "      \n",
            "        \n",
            "          ℓ\n",
            "          \n",
            "            1\n",
            "          \n",
            "        \n",
            "      \n",
            "    \n",
            "    {\\displaystyle \\ell _{1}}\n",
            "  \n",
            "-regularization) can be applied during training to combat overfitting. Alternatively dropout regularization randomly omits units from the hidden layers during training. This helps to exclude rare dependencies. Finally, data can be augmented via methods such as cropping and rotating such that smaller training sets can be increased in size to reduce the chances of overfitting.\n",
            "DNNs must consider many training parameters, such as the size (number of layers and number of units per layer), the learning rate, and initial weights. Sweeping through the parameter space for optimal parameters may not be feasible due to the cost in time and computational resources. Various tricks, such as batching (computing the gradient on several training examples at once rather than individual examples) speed up computation. Large processing capabilities of many-core architectures (such as GPUs or the Intel Xeon Phi) have produced significant speedups in training, because of the suitability of such processing architectures for the matrix and vector computations.\n",
            "Alternatively, engineers may look for other types of neural networks with more straightforward and convergent training algorithms. CMAC (cerebellar model articulation controller) is one such kind of neural network. It doesn't require learning rates or randomized initial weights. The training process can be guaranteed to converge in one step with a new batch of data, and the computational complexity of the training algorithm is linear with respect to the number of neurons involved.\n",
            "\n",
            "Hardware\n",
            "Since the 2010s, advances in both machine learning algorithms and computer hardware have led to more efficient methods for training deep neural networks that contain many layers of non-linear hidden units and a very large output layer. By 2019, graphic processing units (GPUs), often with AI-specific enhancements, had displaced CPUs as the dominant method of training large-scale commercial cloud AI. OpenAI estimated the hardware computation used in the largest deep learning projects from AlexNet (2012) to AlphaZero (2017), and found a 300,000-fold increase in the amount of computation required, with a doubling-time trendline of 3.4 months.\n",
            "Special electronic circuits called deep learning processors were designed to speed up deep learning algorithms. Deep learning processors include neural processing units (NPUs) in Huawei cellphones and cloud computing servers such as tensor processing units (TPU) in the Google Cloud Platform. Cerebras Systems has also built a dedicated system to handle large deep learning models, the CS-2, based on the largest processor in the industry, the second-generation Wafer Scale Engine (WSE-2).\n",
            "Atomically thin semiconductors are considered promising for energy-efficient deep learning hardware where the same basic device structure is used for both logic operations and data storage.\n",
            "In 2020, Marega et al. published experiments with a large-area active channel material for developing logic-in-memory devices and circuits based on floating-gate field-effect transistors (FGFETs).\n",
            "In 2021, J. Feldmann et al. proposed an integrated photonic hardware accelerator for parallel convolutional processing. The authors identify two key advantages of integrated photonics over its electronic counterparts: (1) massively parallel data transfer through wavelength division multiplexing in conjunction with frequency combs, and (2) extremely high data modulation speeds. Their system can execute trillions of multiply-accumulate operations per second, indicating the potential of integrated photonics in data-heavy AI applications.\n",
            "\n",
            "Applications\n",
            "Automatic speech recognition\n",
            "Large-scale automatic speech recognition is the first and most convincing successful case of deep learning. LSTM RNNs can learn \"Very Deep Learning\" tasks that involve multi-second intervals containing speech events separated by thousands of discrete time steps, where one time step corresponds to about 10 ms. LSTM with forget gates is competitive with traditional speech recognizers on certain tasks.\n",
            "The initial success in speech recognition was based on small-scale recognition tasks based on TIMIT. The data set contains 630 speakers from eight major dialects of American English, where each speaker reads 10 sentences. Its small size lets many configurations be tried. More importantly, the TIMIT task concerns phone-sequence recognition, which, unlike word-sequence recognition, allows weak phone bigram language models. This lets the strength of the acoustic modeling aspects of speech recognition be more easily analyzed. The error rates listed below, including these early results and measured as percent phone error rates (PER), have been summarized since 1991.\n",
            "\n",
            "The debut of DNNs for speaker recognition in the late 1990s and speech recognition around 2009-2011 and of LSTM around 2003–2007, accelerated progress in eight major areas:\n",
            "\n",
            "Scale-up/out and accelerated DNN training and decoding\n",
            "Sequence discriminative training\n",
            "Feature processing by deep models with solid understanding of the underlying mechanisms\n",
            "Adaptation of DNNs and related deep models\n",
            "Multi-task and transfer learning by DNNs and related deep models\n",
            "CNNs and how to design them to best exploit domain knowledge of speech\n",
            "RNN and its rich LSTM variants\n",
            "Other types of deep models including tensor-based models and integrated deep generative/discriminative models.\n",
            "All major commercial speech recognition systems (e.g., Microsoft Cortana, Xbox, Skype Translator, Amazon Alexa, Google Now, Apple Siri, Baidu and iFlyTek voice search, and a range of Nuance speech products, etc.) are based on deep learning.\n",
            "\n",
            "Image recognition\n",
            "A common evaluation set for image classification is the MNIST database data set. MNIST is composed of handwritten digits and includes 60,000 training examples and 10,000 test examples. As with TIMIT, its small size lets users test multiple configurations. A comprehensive list of results on this set is available.\n",
            "Deep learning-based image recognition has become \"superhuman\", producing more accurate results than human contestants. This first occurred in 2011 in recognition of traffic signs, and in 2014, with recognition of human faces.\n",
            "Deep learning-trained vehicles now interpret 360° camera views. Another example is Facial Dysmorphology Novel Analysis (FDNA) used to analyze cases of human malformation connected to a large database of genetic syndromes.\n",
            "\n",
            "Visual art processing\n",
            "Closely related to the progress that has been made in image recognition is the increasing application of deep learning techniques to various visual art tasks. DNNs have proven themselves capable, for example, of\n",
            "\n",
            "identifying the style period of a given painting\n",
            "Neural Style Transfer –  capturing the style of a given artwork and applying it in a visually pleasing manner to an arbitrary photograph or video\n",
            "generating striking imagery based on random visual input fields.\n",
            "\n",
            "Natural language processing\n",
            "Neural networks have been used for implementing language models since the early 2000s. LSTM helped to improve machine translation and language modeling.\n",
            "Other key techniques in this field are negative sampling and word embedding. Word embedding, such as word2vec, can be thought of as a representational layer in a deep learning architecture that transforms an atomic word into a positional representation of the word relative to other words in the dataset; the position is represented as a point in a vector space. Using word embedding as an RNN input layer allows the network to parse sentences and phrases using an effective compositional vector grammar. A compositional vector grammar can be thought of as probabilistic context free grammar (PCFG) implemented by an RNN. Recursive auto-encoders built atop word embeddings can assess sentence similarity and detect paraphrasing. Deep neural architectures provide the best results for constituency parsing, sentiment analysis, information retrieval, spoken language understanding, machine translation, contextual entity linking, writing style recognition, named-entity recognition (token classification), text classification, and others.\n",
            "Recent developments generalize word embedding to sentence embedding.\n",
            "Google Translate (GT) uses a large end-to-end long short-term memory (LSTM) network. Google Neural Machine Translation (GNMT) uses an example-based machine translation method in which the system \"learns from millions of examples\". It translates \"whole sentences at a time, rather than pieces\". Google Translate supports over one hundred languages. The network encodes the \"semantics of the sentence rather than simply memorizing phrase-to-phrase translations\". GT uses English as an intermediate between most language pairs.\n",
            "\n",
            "Drug discovery and toxicology\n",
            "A large percentage of candidate drugs fail to win regulatory approval. These failures are caused by insufficient efficacy (on-target effect), undesired interactions (off-target effects), or unanticipated toxic effects. Research has explored use of deep learning to predict the biomolecular targets, off-targets, and toxic effects of environmental chemicals in nutrients, household products and drugs.\n",
            "AtomNet is a deep learning system for structure-based rational drug design. AtomNet was used to predict novel candidate biomolecules for disease targets such as the Ebola virus and multiple sclerosis.\n",
            "In 2017 graph neural networks were used for the first time to predict various properties of molecules in a large toxicology data set. In 2019, generative neural networks were used to produce molecules that were validated experimentally all the way into mice.\n",
            "\n",
            "Customer relationship management\n",
            "Deep reinforcement learning has been used to approximate the value of possible direct marketing actions, defined in terms of RFM variables. The estimated value function was shown to have a natural interpretation as customer lifetime value.\n",
            "\n",
            "Recommendation systems\n",
            "Recommendation systems have used deep learning to extract meaningful features for a latent factor model for content-based music and journal recommendations. Multi-view deep learning has been applied for learning user preferences from multiple domains. The model uses a hybrid collaborative and content-based approach and enhances recommendations in multiple tasks.\n",
            "\n",
            "Bioinformatics\n",
            "An autoencoder ANN was used in bioinformatics, to predict gene ontology annotations and gene-function relationships.\n",
            "In medical informatics, deep learning was used to predict sleep quality based on data from wearables and predictions of health complications from electronic health record data.\n",
            "\n",
            "Deep Neural Network Estimations\n",
            "Deep neural networks can be used to estimate the entropy of a stochastic process and called Neural Joint Entropy Estimator (NJEE). Such an estimation provides insights on the effects of input random variables on an independent random variable. Practically, the DNN is trained as a classifier that maps an input vector or matrix X to an output probability distribution over the possible classes of random variable Y, given input X. For example, in image classification tasks, the NJEE maps a vector of pixels' color values to probabilities over possible image classes. In practice, the probability distribution of Y is obtained by a Softmax layer with number of nodes that is equal to the alphabet size of Y. NJEE uses continuously differentiable activation functions, such that the conditions for the universal approximation theorem holds. It is shown that this method provides a strongly consistent estimator and outperforms other methods in case of large alphabet sizes.\n",
            "\n",
            "Medical image analysis\n",
            "Deep learning has been shown to produce competitive results in medical application such as cancer cell classification, lesion detection, organ segmentation and image enhancement. Modern deep learning tools demonstrate the high accuracy of detecting various diseases and the helpfulness of their use by specialists to improve the diagnosis efficiency.\n",
            "\n",
            "Mobile advertising\n",
            "Finding the appropriate mobile audience for mobile advertising is always challenging, since many data points must be considered and analyzed before a target segment can be created and used in ad serving by any ad server. Deep learning has been used to interpret large, many-dimensioned advertising datasets. Many data points are collected during the request/serve/click internet advertising cycle. This information can form the basis of machine learning to improve ad selection.\n",
            "\n",
            "Image restoration\n",
            "Deep learning has been successfully applied to inverse problems such as denoising, super-resolution, inpainting, and film colorization. These applications include learning methods such as \"Shrinkage Fields for Effective Image Restoration\" which trains on an image dataset, and Deep Image Prior, which trains on the image that needs restoration.\n",
            "\n",
            "Financial fraud detection\n",
            "Deep learning is being successfully applied to financial fraud detection, tax evasion detection, and anti-money laundering.\n",
            "\n",
            "Materials science\n",
            "In November 2023, researchers at Google DeepMind and Lawrence Berkeley National Laboratory announced that they had developed an AI system known as GNoME. This system has contributed to materials science by discovering over 2 million new materials within a relatively short timeframe. GNoME employs deep learning techniques to efficiently explore potential material structures, achieving a significant increase in the identification of stable inorganic crystal structures. The system's predictions were validated through autonomous robotic experiments, demonstrating a noteworthy success rate of 71%. The data of newly discovered materials is publicly available through the Materials Project database, offering researchers the opportunity to identify materials with desired properties for various applications. This development has implications for the future of scientific discovery and the integration of AI in material science research, potentially expediting material innovation and reducing costs in product development. The use of AI and deep learning suggests the possibility of minimizing or eliminating manual lab experiments and allowing scientists to focus more on the design and analysis of unique compounds.\n",
            "\n",
            "Military\n",
            "The United States Department of Defense applied deep learning to train robots in new tasks through observation.\n",
            "\n",
            "Partial differential equations\n",
            "Physics informed neural networks have been used to solve partial differential equations in both forward and inverse problems in a data driven manner. One example is the reconstructing fluid flow governed by the Navier-Stokes equations. Using physics informed neural networks does not require the often expensive mesh generation that conventional CFD methods relies on.\n",
            "\n",
            "Image reconstruction\n",
            "Image reconstruction is the reconstruction of the underlying images from the image-related measurements. Several works showed the better and superior performance of the deep learning methods compared to analytical methods for various applications, e.g., spectral imaging  and ultrasound imaging.\n",
            "\n",
            "Epigenetic clock\n",
            "An epigenetic clock is a biochemical test that can be used to measure age. Galkin et al. used deep neural networks to train an epigenetic aging clock of unprecedented accuracy using >6,000 blood samples. The clock uses information from 1000 CpG sites and predicts people with certain conditions older than healthy controls: IBD, frontotemporal dementia, ovarian cancer, obesity. The aging clock was planned to be released for public use in 2021 by an Insilico Medicine spinoff company Deep Longevity.\n",
            "\n",
            "Relation to human cognitive and brain development\n",
            "Deep learning is closely related to a class of theories of brain development (specifically, neocortical development) proposed by cognitive neuroscientists in the early 1990s. These developmental theories were instantiated in computational models, making them predecessors of deep learning systems. These developmental models share the property that various proposed learning dynamics in the brain (e.g., a wave of nerve growth factor) support the self-organization somewhat analogous to the neural networks utilized in deep learning models. Like the neocortex, neural networks employ a hierarchy of layered filters in which each layer considers information from a prior layer (or the operating environment), and then passes its output (and possibly the original input), to other layers. This process yields a self-organizing stack of transducers, well-tuned to their operating environment. A 1995 description stated, \"...the infant's brain seems to organize itself under the influence of waves of so-called trophic-factors ... different regions of the brain become connected sequentially, with one layer of tissue maturing before another and so on until the whole brain is mature\".\n",
            "A variety of approaches have been used to investigate the plausibility of deep learning models from a neurobiological perspective. On the one hand, several variants of the backpropagation algorithm have been proposed in order to increase its processing realism. Other researchers have argued that unsupervised forms of deep learning, such as those based on hierarchical generative models and deep belief networks, may be closer to biological reality. In this respect, generative neural network models have been related to neurobiological evidence about sampling-based processing in the cerebral cortex.\n",
            "Although a systematic comparison between the human brain organization and the neuronal encoding in deep networks has not yet been established, several analogies have been reported. For example, the computations performed by deep learning units could be similar to those of actual neurons and neural populations. Similarly, the representations developed by deep learning models are similar to those measured in the primate visual system both at the single-unit and at the population levels.\n",
            "\n",
            "Commercial activity\n",
            "Facebook's AI lab performs tasks such as automatically tagging uploaded pictures with the names of the people in them.\n",
            "Google's DeepMind Technologies developed a system capable of learning how to play Atari video games using only pixels as data input. In 2015 they demonstrated their AlphaGo system, which learned the game of Go well enough to beat a professional Go player. Google Translate uses a neural network to translate between more than 100 languages.\n",
            "In 2017, Covariant.ai was launched, which focuses on integrating deep learning into factories.\n",
            "As of 2008, researchers at The University of Texas at Austin (UT) developed a machine learning framework called Training an Agent Manually via Evaluative Reinforcement, or TAMER, which proposed new methods for robots or computer programs to learn how to perform tasks by interacting with a human instructor. First developed as TAMER, a new algorithm called Deep TAMER was later introduced in 2018 during a collaboration between U.S. Army Research Laboratory (ARL) and UT researchers. Deep TAMER used deep learning to provide a robot with the ability to learn new tasks through observation. Using Deep TAMER, a robot learned a task with a human trainer, watching video streams or observing a human perform a task in-person. The robot later practiced the task with the help of some coaching from the trainer, who provided feedback such as \"good job\" and \"bad job\".\n",
            "\n",
            "Criticism and comment\n",
            "Deep learning has attracted both criticism and comment, in some cases from outside the field of computer science.\n",
            "\n",
            "Theory\n",
            "A main criticism concerns the lack of theory surrounding some methods. Learning in the most common deep architectures is implemented using well-understood gradient descent. However, the theory surrounding other algorithms, such as contrastive divergence is less clear. (e.g., Does it converge? If so, how fast? What is it approximating?) Deep learning methods are often looked at as a black box, with most confirmations done empirically, rather than theoretically.\n",
            "Others point out that deep learning should be looked at as a step towards realizing strong AI, not as an all-encompassing solution. Despite the power of deep learning methods, they still lack much of the functionality needed to realize this goal entirely. Research psychologist Gary Marcus noted:\n",
            "\n",
            "Realistically, deep learning is only part of the larger challenge of building intelligent machines. Such techniques lack ways of representing causal relationships (...) have no obvious ways of performing logical inferences, and they are also still a long way from integrating abstract knowledge, such as information about what objects are, what they are for, and how they are typically used. The most powerful A.I. systems, like Watson (...) use techniques like deep learning as just one element in a very complicated ensemble of techniques, ranging from the statistical technique of Bayesian inference to deductive reasoning.\n",
            "\n",
            "In further reference to the idea that artistic sensitivity might be inherent in relatively low levels of the cognitive hierarchy, a published series of graphic representations of the internal states of deep (20-30 layers) neural networks attempting to discern within essentially random data the images on which they were trained demonstrate a visual appeal: the original research notice received well over 1,000 comments, and was the subject of what was for a time the most frequently accessed article on The Guardian's website.\n",
            "\n",
            "Errors\n",
            "Some deep learning architectures display problematic behaviors, such as confidently classifying unrecognizable images as belonging to a familiar category of ordinary images (2014) and misclassifying minuscule perturbations of correctly classified images (2013). Goertzel hypothesized that these behaviors are due to limitations in their internal representations and that these limitations would inhibit integration into heterogeneous multi-component artificial general intelligence (AGI) architectures. These issues may possibly be addressed by deep learning architectures that internally form states homologous to image-grammar decompositions of observed entities and events. Learning a grammar (visual or linguistic) from training data would be equivalent to restricting the system to commonsense reasoning that operates on concepts in terms of grammatical production rules and is a basic goal of both human language acquisition and artificial intelligence (AI).\n",
            "\n",
            "Cyber threat\n",
            "As deep learning moves from the lab into the world, research and experience show that artificial neural networks are vulnerable to hacks and deception. By identifying patterns that these systems use to function, attackers can modify inputs to ANNs in such a way that the ANN finds a match that human observers would not recognize. For example, an attacker can make subtle changes to an image such that the ANN finds a match even though the image looks to a human nothing like the search target. Such manipulation is termed an \"adversarial attack\".\n",
            "In 2016 researchers used one ANN to doctor images in trial and error fashion, identify another's focal points, and thereby generate images that deceived it. The modified images looked no different to human eyes. Another group showed that printouts of doctored images then photographed successfully tricked an image classification system. One defense is reverse image search, in which a possible fake image is submitted to a site such as TinEye that can then find other instances of it. A refinement is to search using only parts of the image, to identify images from which that piece may have been taken.\n",
            "Another group showed that certain psychedelic spectacles could fool a facial recognition system into thinking ordinary people were celebrities, potentially allowing one person to impersonate another. In 2017 researchers added stickers to stop signs and caused an ANN to misclassify them.\n",
            "ANNs can however be further trained to detect attempts at deception, potentially leading attackers and defenders into an arms race similar to the kind that already defines the malware defense industry. ANNs have been trained to defeat ANN-based anti-malware software by repeatedly attacking a defense with malware that was continually altered by a genetic algorithm until it tricked the anti-malware while retaining its ability to damage the target.\n",
            "In 2016, another group demonstrated that certain sounds could make the Google Now voice command system open a particular web address, and hypothesized that this could \"serve as a stepping stone for further attacks (e.g., opening a web page hosting drive-by malware)\".\n",
            "In \"data poisoning\", false data is continually smuggled into a machine learning system's training set to prevent it from achieving mastery.\n",
            "\n",
            "Data collection ethics\n",
            "Most Deep Learning systems rely on training and verification data that is generated and/or annotated by humans. It has been argued in media philosophy that not only low-paid clickwork (e.g. on Amazon Mechanical Turk) is regularly deployed for this purpose, but also implicit forms of human microwork that are often not recognized as such. The philosopher Rainer Mühlhoff distinguishes five types of \"machinic capture\" of human microwork to generate training data: (1) gamification (the embedding of annotation or computation tasks in the flow of a game), (2) \"trapping and tracking\" (e.g. CAPTCHAs for image recognition or click-tracking on Google search results pages), (3) exploitation of social motivations (e.g. tagging faces on Facebook to obtain labeled facial images), (4) information mining (e.g. by leveraging quantified-self devices such as activity trackers) and (5) clickwork.\n",
            "Mühlhoff argues that in most commercial end-user applications of Deep Learning such as Facebook's face recognition system, the need for training data does not stop once an ANN is trained. Rather, there is a continued demand for human-generated verification data to constantly calibrate and update the ANN. For this purpose, Facebook introduced the feature that once a user is automatically recognized in an image, they receive a notification. They can choose whether or not they like to be publicly labeled on the image, or tell Facebook that it is not them in the picture. This user interface is a mechanism to generate \"a constant stream of verification data\" to further train the network in real-time. As Mühlhoff argues, the involvement of human users to generate training and verification data is so typical for most commercial end-user applications of Deep Learning that such systems may be referred to as \"human-aided artificial intelligence\".\n",
            "\n",
            "See also\n",
            "Applications of artificial intelligence\n",
            "Comparison of deep learning software\n",
            "Compressed sensing\n",
            "Differentiable programming\n",
            "Echo state network\n",
            "List of artificial intelligence projects\n",
            "Liquid state machine\n",
            "List of datasets for machine-learning research\n",
            "Reservoir computing\n",
            "Scale space and deep learning\n",
            "Sparse coding\n",
            "Stochastic parrot\n",
            "Topological deep learning\n",
            "\n",
            "References\n",
            "\n",
            "\n",
            "== Further reading ==Natural language processing (NLP) is an interdisciplinary subfield of computer science and information retrieval. It is primarily concerned with giving computers the ability to support and manipulate human language. It involves processing natural language datasets, such as text corpora or speech corpora, using either rule-based or probabilistic (i.e. statistical and, most recently, neural network-based) machine learning approaches. The goal is a computer capable of \"understanding\" the contents of documents, including the contextual nuances of the language within them. To this end, natural language processing often borrows ideas from theoretical linguistics. The technology can then accurately extract information and insights contained in the documents as well as categorize and organize the documents themselves.\n",
            "Challenges in natural language processing frequently involve speech recognition, natural-language understanding, and natural-language generation.\n",
            "\n",
            "History\n",
            "Natural language processing has its roots in the 1940s. Already in 1940, Alan Turing published an article titled \"Computing Machinery and Intelligence\" which proposed what is now called the Turing test as a criterion of intelligence, though at the time that was not articulated as a problem separate from artificial intelligence. The proposed test includes a task that involves the automated interpretation and generation of natural language.\n",
            "\n",
            "Symbolic NLP (1950s – early 1990s)\n",
            "The premise of symbolic NLP is well-summarized by John Searle's Chinese room experiment: Given a collection of rules (e.g., a Chinese phrasebook, with questions and matching answers), the computer emulates natural language understanding (or other NLP tasks) by applying those rules to the data it confronts.\n",
            "\n",
            "1950s: The Georgetown experiment in 1954 involved fully automatic translation of more than sixty Russian sentences into English. The authors claimed that within three or five years, machine translation would be a solved problem.  However, real progress was much slower, and after the ALPAC report in 1966, which found that ten-year-long research had failed to fulfill the expectations, funding for machine translation was dramatically reduced. Little further research in machine translation was conducted in America (though some research continued elsewhere, such as Japan and Europe) until the late 1980s when the first statistical machine translation systems were developed.\n",
            "1960s: Some notably successful natural language processing systems developed in the 1960s were SHRDLU, a natural language system working in restricted \"blocks worlds\" with restricted vocabularies, and ELIZA, a simulation of a Rogerian psychotherapist, written by Joseph Weizenbaum between 1964 and 1966. Using almost no information about human thought or emotion, ELIZA sometimes provided a startlingly human-like interaction. When the \"patient\" exceeded the very small knowledge base, ELIZA might provide a generic response, for example, responding to \"My head hurts\" with \"Why do you say your head hurts?\". Ross Quillian's successful work on natural language was demonstrated with a vocabulary of only twenty words, because that was all that would fit in a computer  memory at the time.\n",
            "1970s: During the 1970s, many programmers began to write \"conceptual ontologies\", which structured real-world information into computer-understandable data.  Examples are MARGIE (Schank, 1975), SAM (Cullingford, 1978), PAM (Wilensky, 1978), TaleSpin (Meehan, 1976), QUALM (Lehnert, 1977), Politics (Carbonell, 1979), and Plot Units (Lehnert 1981).  During this time, the first chatterbots were written (e.g., PARRY).\n",
            "1980s: The 1980s and early 1990s mark the heyday of symbolic methods in NLP. Focus areas of the time included research on rule-based parsing (e.g., the development of HPSG as a computational operationalization of generative grammar), morphology (e.g., two-level morphology), semantics (e.g., Lesk algorithm), reference (e.g., within Centering Theory) and other areas of natural language understanding (e.g., in the Rhetorical Structure Theory). Other lines of research were continued, e.g., the development of chatterbots with Racter and Jabberwacky. An important development (that eventually led to the statistical turn in the 1990s) was the rising importance of quantitative evaluation in this period.\n",
            "\n",
            "Statistical NLP (1990s–2010s)\n",
            "Up until the 1980s, most natural language processing systems were based on complex sets of hand-written rules.  Starting in the late 1980s, however, there was a revolution in natural language processing with the introduction of machine learning algorithms for language processing.  This was due to both the steady increase in computational power (see Moore's law) and the gradual lessening of the dominance of Chomskyan theories of linguistics (e.g. transformational grammar), whose theoretical underpinnings discouraged the sort of corpus linguistics that underlies the machine-learning approach to language processing. \n",
            "\n",
            "1990s: Many of the notable early successes on statistical methods in NLP occurred in the field of machine translation, due especially to work at IBM Research, such as IBM alignment models.  These systems were able to take advantage of existing multilingual textual corpora that had been produced by the Parliament of Canada and the European Union as a result of laws calling for the translation of all governmental proceedings into all official languages of the corresponding systems of government.  However, most other systems depended on corpora specifically developed for the tasks implemented by these systems, which was (and often continues to be) a major limitation in the success of these systems. As a result, a great deal of research has gone into methods of more effectively learning from limited amounts of data.\n",
            "2000s: With the growth of the web, increasing amounts of raw (unannotated) language data has become available since the mid-1990s. Research has thus increasingly focused on unsupervised and semi-supervised learning algorithms.  Such algorithms can learn from data that has not been hand-annotated with the desired answers or using a combination of annotated and non-annotated data.  Generally, this task is much more difficult than supervised learning, and typically produces less accurate results for a given amount of input data.  However, there is an enormous amount of non-annotated data available (including, among other things, the entire content of the World Wide Web), which can often make up for the inferior results if the algorithm used has a low enough time complexity to be practical.\n",
            "\n",
            "Neural NLP (present)\n",
            "In 2003, word n-gram model, at the time the best statistical algorithm, was overperformed by a multi-layer perceptron (with a single hidden layer and context length of several words trained on up to 14 million of words with a CPU cluster in language modelling) by Yoshua Bengio with co-authors. \n",
            "In 2010, Tomáš Mikolov (then a PhD student at Brno University of Technology) with co-authors applied a simple recurrent neural network with a single hidden layer to language modelling, and in the following years he went on to develop Word2vec. In the 2010s, representation learning and deep neural network-style (featuring many hidden layers) machine learning methods became widespread in natural language processing. That popularity was due partly to a flurry of results showing that such techniques can achieve state-of-the-art results in many natural language tasks, e.g., in language modeling and parsing. This is increasingly important in medicine and healthcare, where NLP helps analyze notes and text in electronic health records that would otherwise be inaccessible for study when seeking to improve care or protect patient privacy.\n",
            "\n",
            "Approaches: Symbolic, statistical, neural networks\n",
            "Symbolic approach, i.e., the hand-coding of a set of rules for manipulating symbols, coupled with a dictionary lookup, was historically the first approach used both by AI in general and by NLP in particular: such as by writing grammars or devising heuristic rules for stemming.\n",
            "Machine learning approaches, which include both statistical and neural networks, on the other hand, have many advantages over the symbolic approach: \n",
            "\n",
            "both statistical and neural networks methods can focus more on the most common cases extracted from a corpus of texts, whereas the rule-based approach needs to provide rules for both rare cases and common ones equally.\n",
            "language models, produced by either statistical or neural networks methods, are more robust to both unfamiliar (e.g. containing words or structures that have not been seen before) and erroneous input (e.g. with misspelled words or words accidentally omitted) in comparison to the rule-based systems, which are also more costly to produce.\n",
            "the larger such a (probabilistic) language model is, the more accurate it becomes, in contrast to rule-based systems that can gain accuracy only by increasing the amount and complexity of the rules leading to intractability problems.\n",
            "Although rule-based systems for manipulating symbols were still in use in 2020, they have become mostly obsolete with the advance of LLMs in 2023. \n",
            "Before that they were commonly used:\n",
            "\n",
            "when the amount of training data is insufficient to successfully apply machine learning methods, e.g., for the machine translation of low-resource languages such as provided by the Apertium system,\n",
            "for preprocessing in NLP pipelines, e.g., tokenization, or\n",
            "for postprocessing and transforming the output of NLP pipelines, e.g., for knowledge extraction from syntactic parses.\n",
            "\n",
            "Statistical approach\n",
            "In the late 1980s and mid-1990s, the statistical approach ended a period of AI winter, which was caused by the inefficiencies of the rule-based approaches.\n",
            "The earliest decision trees, producing systems of hard if–then rules, were still very similar to the old rule-based approaches.\n",
            "Only the introduction of hidden Markov models, applied to part-of-speech tagging, announced the end of the old rule-based approach.\n",
            "\n",
            "Neural networks\n",
            "A major drawback of statistical methods is that they require elaborate feature engineering. Since 2015, the statistical approach was replaced by the neural networks approach, using word embeddings to capture semantic properties of words. \n",
            "Intermediate tasks (e.g., part-of-speech tagging and dependency parsing) have not been needed anymore. \n",
            "Neural machine translation, based on then-newly-invented sequence-to-sequence transformations, made obsolete the intermediate steps, such as word alignment, previously necessary for statistical machine translation.\n",
            "\n",
            "Common NLP tasks\n",
            "The following is a list of some of the most commonly researched tasks in natural language processing. Some of these tasks have direct real-world applications, while others more commonly serve as subtasks that are used to aid in solving larger tasks.\n",
            "Though natural language processing tasks are closely intertwined, they can be subdivided into categories for convenience. A coarse division is given below.\n",
            "\n",
            "Text and speech processing\n",
            "Optical character recognition (OCR)\n",
            "Given an image representing printed text, determine the corresponding text.\n",
            "Speech recognition\n",
            "Given a sound clip of a person or people speaking, determine the textual representation of the speech.  This is the opposite of text to speech and is one of the extremely difficult problems colloquially termed \"AI-complete\" (see above).  In natural speech there are hardly any pauses between successive words, and thus speech segmentation is a necessary subtask of speech recognition (see below). In most spoken languages, the sounds representing successive letters blend into each other in a process termed coarticulation, so the conversion of the analog signal to discrete characters can be a very difficult process. Also, given that words in the same language are spoken by people with different accents, the speech recognition software must be able to recognize the wide variety of input as being identical to each other in terms of its textual equivalent.\n",
            "Speech segmentation\n",
            "Given a sound clip of a person or people speaking, separate it into words.  A subtask of speech recognition and typically grouped with it.\n",
            "Text-to-speech\n",
            "Given a text, transform those units and produce a spoken representation. Text-to-speech can be used to aid the visually impaired.\n",
            "Word segmentation (Tokenization)\n",
            "Tokenization is a process used in text analysis that divides text into individual words or word fragments. This technique results in two key components: a word index and tokenized text. The word index is a list that maps unique words to specific numerical identifiers, and the tokenized text replaces each word with its corresponding numerical token. These numerical tokens are then used in various deep learning methods.\n",
            "For a language like English, this is fairly trivial, since words are usually separated by spaces. However, some written languages like Chinese, Japanese and Thai do not mark word boundaries in such a fashion, and in those languages text segmentation is a significant task requiring knowledge of the vocabulary and morphology of words in the language. Sometimes this process is also used in cases like bag of words (BOW) creation in data mining.\n",
            "\n",
            "Morphological analysis\n",
            "Lemmatization\n",
            "The task of removing inflectional endings only and to return the base dictionary form of a word which is also known as a lemma. Lemmatization is another technique for reducing words to their normalized form. But in this case, the transformation actually uses a dictionary to map words to their actual form.\n",
            "Morphological segmentation\n",
            "Separate words into individual morphemes and identify the class of the morphemes. The difficulty of this task depends greatly on the complexity of the morphology (i.e., the structure of words) of the language being considered. English has fairly simple morphology, especially inflectional morphology, and thus it is often possible to ignore this task entirely and simply model all possible forms of a word (e.g., \"open, opens, opened, opening\") as separate words. In languages such as Turkish or Meitei, a highly agglutinated Indian language, however, such an approach is not possible, as each dictionary entry has thousands of possible word forms.\n",
            "Part-of-speech tagging\n",
            "Given a sentence, determine the part of speech (POS) for each word. Many words, especially common ones, can serve as multiple parts of speech. For example, \"book\" can be a noun (\"the book on the table\") or verb (\"to book a flight\"); \"set\" can be a noun, verb or adjective; and \"out\" can be any of at least five different parts of speech.\n",
            "Stemming\n",
            "The process of reducing inflected (or sometimes derived) words to a base form (e.g., \"close\" will be the root for \"closed\", \"closing\", \"close\", \"closer\" etc.). Stemming yields similar results as lemmatization, but does so on grounds of rules, not a dictionary.\n",
            "\n",
            "Syntactic analysis\n",
            "Grammar induction\n",
            "Generate a formal grammar that describes a language's syntax.\n",
            "Sentence breaking (also known as \"sentence boundary disambiguation\")\n",
            "Given a chunk of text, find the sentence boundaries. Sentence boundaries are often marked by periods or other punctuation marks, but these same characters can serve other purposes (e.g., marking abbreviations).\n",
            "Parsing\n",
            "Determine the parse tree (grammatical analysis) of a given sentence. The grammar for natural languages is ambiguous and typical sentences have multiple possible analyses: perhaps surprisingly, for a typical sentence there may be thousands of potential parses (most of which will seem completely nonsensical to a human). There are two primary types of parsing: dependency parsing and constituency parsing. Dependency parsing focuses on the relationships between words in a sentence (marking things like primary objects and predicates), whereas constituency parsing focuses on building out the parse tree using a probabilistic context-free grammar (PCFG) (see also stochastic grammar).\n",
            "\n",
            "Lexical semantics (of individual words in context)\n",
            "Lexical semantics\n",
            "What is the computational meaning of individual words in context?\n",
            "Distributional semantics\n",
            "How can we learn semantic representations from data?\n",
            "Named entity recognition (NER)\n",
            "Given a stream of text, determine which items in the text map to proper names, such as people or places, and what the type of each such name is (e.g. person, location, organization). Although capitalization can aid in recognizing named entities in languages such as English, this information cannot aid in determining the type of named entity, and in any case, is often inaccurate or insufficient.  For example, the first letter of a sentence is also capitalized, and named entities often span several words, only some of which are capitalized.  Furthermore, many other languages in non-Western scripts (e.g. Chinese or Arabic) do not have any capitalization at all, and even languages with capitalization may not consistently use it to distinguish names. For example, German capitalizes all nouns, regardless of whether they are names, and French and Spanish do not capitalize names that serve as adjectives. Another name for this task is token classification.\n",
            "Sentiment analysis (see also Multimodal sentiment analysis)\n",
            "Sentiment analysis is a computational method used to identify and classify the emotional intent behind text. This technique involves analyzing text to determine whether the expressed sentiment is positive, negative, or neutral. Models for sentiment classification typically utilize inputs such as word n-grams, Term Frequency-Inverse Document Frequency (TF-IDF) features, hand-generated features, or employ deep learning models designed to recognize both long-term and short-term dependencies in text sequences. The applications of sentiment analysis are diverse, extending to tasks such as categorizing customer reviews on various online platforms.\n",
            "Terminology extraction\n",
            "The goal of terminology extraction is to automatically extract relevant terms from a given corpus.\n",
            "Word-sense disambiguation (WSD)\n",
            "Many words have more than one meaning; we have to select the meaning which makes the most sense in context.  For this problem, we are typically given a list of words and associated word senses, e.g. from a dictionary or an online resource such as WordNet.\n",
            "Entity linking\n",
            "Many words—typically proper names—refer to named entities; here we have to select the entity (a famous individual, a location, a company, etc.) which is referred to in context.\n",
            "\n",
            "Relational semantics (semantics of individual sentences)\n",
            "Relationship extraction\n",
            "Given a chunk of text, identify the relationships among named entities (e.g. who is married to whom).\n",
            "Semantic parsing\n",
            "Given a piece of text (typically a sentence), produce a formal representation of its semantics, either as a graph (e.g., in AMR parsing) or in accordance with a logical formalism (e.g., in DRT parsing). This challenge typically includes aspects of several more elementary NLP tasks from semantics (e.g., semantic role labelling, word-sense disambiguation) and can be extended to include full-fledged discourse analysis (e.g., discourse analysis, coreference; see Natural language understanding below).\n",
            "Semantic role labelling (see also implicit semantic role labelling below)\n",
            "Given a single sentence, identify and disambiguate semantic predicates (e.g., verbal frames), then identify and classify the frame elements (semantic roles).\n",
            "\n",
            "Discourse (semantics beyond individual sentences)\n",
            "Coreference resolution\n",
            "Given a sentence or larger chunk of text, determine which words (\"mentions\") refer to the same objects (\"entities\"). Anaphora resolution is a specific example of this task, and is specifically concerned with matching up pronouns with the nouns or names to which they refer. The more general task of coreference resolution also includes identifying so-called \"bridging relationships\" involving referring expressions. For example, in a sentence such as \"He entered John's house through the front door\", \"the front door\" is a referring expression and the bridging relationship to be identified is the fact that the door being referred to is the front door of John's house (rather than of some other structure that might also be referred to).\n",
            "Discourse analysis\n",
            "This rubric includes several related tasks.  One task is discourse parsing, i.e., identifying the discourse structure of a connected text, i.e. the nature of the discourse relationships between sentences (e.g. elaboration, explanation, contrast).  Another possible task is recognizing and classifying the speech acts in a chunk of text (e.g. yes–no question, content question, statement, assertion, etc.).\n",
            "Implicit semantic role labelling\n",
            "Given a single sentence, identify and disambiguate semantic predicates (e.g., verbal frames) and their explicit semantic roles in the current sentence (see Semantic role labelling above). Then, identify semantic roles that are not explicitly realized in the current sentence, classify them into arguments that are explicitly realized elsewhere in the text and those that are not specified, and resolve the former against the local text. A closely related task is zero anaphora resolution, i.e., the extension of coreference resolution to pro-drop languages.\n",
            "Recognizing textual entailment\n",
            "Given two text fragments, determine if one being true entails the other, entails the other's negation, or allows the other to be either true or false.\n",
            "Topic segmentation and recognition\n",
            "Given a chunk of text, separate it into segments each of which is devoted to a topic, and identify the topic of the segment.\n",
            "Argument mining\n",
            "The goal of argument mining is the automatic extraction and identification of argumentative structures from natural language text with the aid of computer programs. Such argumentative structures include the premise, conclusions, the argument scheme and the relationship between the main and subsidiary argument, or the main and counter-argument within discourse.\n",
            "\n",
            "Higher-level NLP applications\n",
            "Automatic summarization (text summarization)\n",
            "Produce a readable summary of a chunk of text.  Often used to provide summaries of the text of a known type, such as research papers, articles in the financial section of a newspaper.\n",
            "Grammatical error correction\n",
            "Grammatical error detection and correction involves a great band-width of problems on all levels of linguistic analysis (phonology/orthography, morphology, syntax, semantics, pragmatics). Grammatical error correction is impactful since it affects hundreds of millions of people that use or acquire English as a second language. It has thus been subject to a number of shared tasks since 2011. As far as orthography, morphology, syntax and certain aspects of semantics are concerned, and due to the development of powerful neural language models such as GPT-2, this can now (2019) be considered a largely solved problem and is being marketed in various commercial applications.\n",
            "Logic translation\n",
            "Translate a text from a natural language into formal logic.\n",
            "Machine translation (MT)\n",
            "Automatically translate text from one human language to another.  This is one of the most difficult problems, and is a member of a class of problems colloquially termed \"AI-complete\", i.e. requiring all of the different types of knowledge that humans possess (grammar, semantics, facts about the real world, etc.) to solve properly.\n",
            "Natural-language understanding (NLU)\n",
            "Convert chunks of text into more formal representations such as first-order logic structures that are easier for computer programs to manipulate. Natural language understanding involves the identification of the intended semantic from the multiple possible semantics which can be derived from a natural language expression which usually takes the form of organized notations of natural language concepts. Introduction and creation of language metamodel and ontology are efficient however empirical solutions. An explicit formalization of natural language semantics without confusions with implicit assumptions such as closed-world assumption (CWA) vs. open-world assumption, or subjective Yes/No vs. objective True/False is expected for the construction of a basis of semantics formalization.\n",
            "Natural-language generation (NLG):\n",
            "Convert information from computer databases or semantic intents into readable human language.\n",
            "Book generation\n",
            "Not an NLP task proper but an extension of natural language generation and other NLP tasks is the creation of full-fledged books. The first machine-generated book was created by a rule-based system in 1984 (Racter, The policeman's beard is half-constructed). The first published work by a neural network was published in 2018, 1 the Road, marketed as a novel, contains sixty million words. Both these systems are basically elaborate but non-sensical (semantics-free) language models. The first machine-generated science book was published in 2019 (Beta Writer, Lithium-Ion Batteries, Springer, Cham). Unlike Racter and 1 the Road, this is grounded on factual knowledge and based on text summarization.\n",
            "Document AI\n",
            "A Document AI platform sits on top of the NLP technology enabling users with no prior experience of artificial intelligence, machine learning or NLP to quickly train a computer to extract the specific data they need from different document types. NLP-powered Document AI enables non-technical teams to quickly access information hidden in documents, for example, lawyers, business analysts and accountants.\n",
            "Dialogue management\n",
            "Computer systems intended to converse with a human.\n",
            "Question answering\n",
            "Given a human-language question, determine its answer. Typical questions have a specific right answer (such as \"What is the capital of Canada?\"), but sometimes open-ended questions are also considered (such as \"What is the meaning of life?\").\n",
            "Text-to-image generation\n",
            "Given a description of an image, generate an image that matches the description.\n",
            "Text-to-scene generation\n",
            "Given a description of a scene, generate a 3D model of the scene.\n",
            "Text-to-video\n",
            "Given a description of a video, generate a video that matches the description.\n",
            "\n",
            "General tendencies and (possible) future directions\n",
            "Based on long-standing trends in the field, it is possible to extrapolate future directions of NLP. As of 2020, three trends among the topics of the long-standing series of CoNLL Shared Tasks can be observed:\n",
            "\n",
            "Interest on increasingly abstract, \"cognitive\" aspects of natural language (1999–2001: shallow parsing, 2002–03: named entity recognition, 2006–09/2017–18: dependency syntax, 2004–05/2008–09 semantic role labelling, 2011–12 coreference, 2015–16: discourse parsing, 2019: semantic parsing).\n",
            "Increasing interest in multilinguality, and, potentially, multimodality (English since 1999; Spanish, Dutch since 2002; German since 2003; Bulgarian, Danish, Japanese, Portuguese, Slovenian, Swedish, Turkish since 2006; Basque, Catalan, Chinese, Greek, Hungarian, Italian, Turkish since 2007; Czech since 2009; Arabic since 2012; 2017: 40+ languages; 2018: 60+/100+ languages)\n",
            "Elimination of symbolic representations (rule-based over supervised towards weakly supervised methods, representation learning and end-to-end systems)\n",
            "\n",
            "Cognition\n",
            "Most higher-level NLP applications involve aspects that emulate intelligent behaviour and apparent comprehension of natural language. More broadly speaking, the technical operationalization of increasingly advanced aspects of cognitive behaviour represents one of the developmental trajectories of NLP (see trends among CoNLL shared tasks above).\n",
            "Cognition refers to \"the mental action or process of acquiring knowledge and understanding through thought, experience, and the senses.\" Cognitive science is the interdisciplinary, scientific study of the mind and its processes. Cognitive linguistics is an interdisciplinary branch of linguistics, combining knowledge and research from both psychology and linguistics. Especially during the age of symbolic NLP, the area of computational linguistics maintained strong ties with cognitive studies.\n",
            "As an example, George Lakoff offers a methodology to build natural language processing (NLP) algorithms through the perspective of cognitive science, along with the findings of cognitive linguistics, with two defining aspects:\n",
            "\n",
            "Apply the theory of conceptual metaphor, explained by Lakoff as \"the understanding of one idea, in terms of another\" which provides an idea of the intent of the author. For example, consider the English word big. When used in a comparison (\"That is a big tree\"), the author's intent is to imply that the tree is physically large relative to other trees or the authors experience.  When used metaphorically (\"Tomorrow is a big day\"), the author's intent to imply importance.  The intent behind other usages, like in \"She is a big person\", will remain somewhat ambiguous to a person and a cognitive NLP algorithm alike without additional information.\n",
            "Assign relative measures of meaning to a word, phrase, sentence or piece of text based on the information presented before and after the piece of text being analyzed, e.g., by means of a probabilistic context-free grammar (PCFG). The mathematical equation for such algorithms is presented in  US Patent 9269353:\n",
            "\n",
            "  \n",
            "    \n",
            "      \n",
            "        \n",
            "          R\n",
            "          M\n",
            "          M\n",
            "          (\n",
            "          t\n",
            "          o\n",
            "          k\n",
            "          e\n",
            "          \n",
            "            n\n",
            "            \n",
            "              N\n",
            "            \n",
            "          \n",
            "          )\n",
            "        \n",
            "        =\n",
            "        \n",
            "          P\n",
            "          M\n",
            "          M\n",
            "          (\n",
            "          t\n",
            "          o\n",
            "          k\n",
            "          e\n",
            "          \n",
            "            n\n",
            "            \n",
            "              N\n",
            "            \n",
            "          \n",
            "          )\n",
            "        \n",
            "        ×\n",
            "        \n",
            "          \n",
            "            1\n",
            "            \n",
            "              2\n",
            "              d\n",
            "            \n",
            "          \n",
            "        \n",
            "        \n",
            "          (\n",
            "          \n",
            "            \n",
            "              ∑\n",
            "              \n",
            "                i\n",
            "                =\n",
            "                −\n",
            "                d\n",
            "              \n",
            "              \n",
            "                d\n",
            "              \n",
            "            \n",
            "            \n",
            "              (\n",
            "              (\n",
            "              P\n",
            "              M\n",
            "              M\n",
            "              (\n",
            "              t\n",
            "              o\n",
            "              k\n",
            "              e\n",
            "              \n",
            "                n\n",
            "                \n",
            "                  N\n",
            "                \n",
            "              \n",
            "              )\n",
            "            \n",
            "            ×\n",
            "            \n",
            "              P\n",
            "              F\n",
            "              (\n",
            "              t\n",
            "              o\n",
            "              k\n",
            "              e\n",
            "              \n",
            "                n\n",
            "                \n",
            "                  N\n",
            "                  −\n",
            "                  i\n",
            "                \n",
            "              \n",
            "              ,\n",
            "              t\n",
            "              o\n",
            "              k\n",
            "              e\n",
            "              \n",
            "                n\n",
            "                \n",
            "                  N\n",
            "                \n",
            "              \n",
            "              ,\n",
            "              t\n",
            "              o\n",
            "              k\n",
            "              e\n",
            "              \n",
            "                n\n",
            "                \n",
            "                  N\n",
            "                  +\n",
            "                  i\n",
            "                \n",
            "              \n",
            "              )\n",
            "              \n",
            "                )\n",
            "                \n",
            "                  i\n",
            "                \n",
            "              \n",
            "            \n",
            "          \n",
            "          )\n",
            "        \n",
            "      \n",
            "    \n",
            "    {\\displaystyle {RMM(token_{N})}={PMM(token_{N})}\\times {\\frac {1}{2d}}\\left(\\sum _{i=-d}^{d}{((PMM(token_{N})}\\times {PF(token_{N-i},token_{N},token_{N+i}))_{i}}\\right)}\n",
            "  \n",
            "\n",
            "Where\n",
            "RMM is the relative measure of meaning\n",
            "token is any block of text, sentence, phrase or word\n",
            "N is the number of tokens being analyzed\n",
            "PMM is the probable measure of meaning based on a corpora\n",
            "d is the non zero location of the token along the sequence of N tokens\n",
            "PF is the probability function specific to a language\n",
            "Ties with cognitive linguistics are part of the historical heritage of NLP, but they have been less frequently addressed since the statistical turn during the 1990s. Nevertheless, approaches to develop cognitive models towards technically operationalizable frameworks have been pursued in the context of various frameworks, e.g., of cognitive grammar, functional grammar, construction grammar, computational psycholinguistics and cognitive neuroscience (e.g., ACT-R), however, with limited uptake in mainstream NLP (as measured by presence on major conferences of the ACL). More recently, ideas of cognitive NLP have been revived as an approach to achieve explainability, e.g., under the notion of \"cognitive AI\". Likewise, ideas of cognitive NLP are inherent to neural models multimodal NLP (although rarely made explicit) and developments in artificial intelligence, specifically tools and technologies using large language model approaches and new directions in artificial general intelligence based on the free energy principle by British neuroscientist and theoretician at University College London Karl J. Friston.\n",
            "\n",
            "See also\n",
            "References\n",
            "Further reading\n",
            "External links\n",
            " Media related to Natural language processing at Wikimedia CommonsData science is an interdisciplinary academic field that uses statistics, scientific computing, scientific methods, processes, algorithms and systems to extract or extrapolate knowledge and insights from potentially noisy, structured, or unstructured data. \n",
            "Data science also integrates domain knowledge from the underlying application domain (e.g., natural sciences, information technology, and medicine). Data science is multifaceted and can be described as a science, a research paradigm, a research method, a discipline, a workflow, and a profession.\n",
            "Data science is \"a concept to unify statistics, data analysis, informatics, and their related methods\" to \"understand and analyze actual phenomena\" with data. It uses techniques and theories drawn from many fields within the context of mathematics, statistics, computer science, information science, and domain knowledge. However, data science is different from computer science and information science. Turing Award winner Jim Gray imagined data science as a \"fourth paradigm\" of science (empirical, theoretical, computational, and now data-driven) and asserted that \"everything about science is changing because of the impact of information technology\" and the data deluge.\n",
            "A  data scientist is a professional who creates programming code and combines it with statistical knowledge to create insights from data.\n",
            "\n",
            "Foundations\n",
            "Data science is an interdisciplinary field focused on extracting knowledge from typically large data sets and applying the knowledge and insights from that data to solve problems in a wide range of application domains. The field encompasses preparing data for analysis, formulating data science problems, analyzing data, developing data-driven solutions, and presenting findings to inform high-level decisions in a broad range of application domains. As such, it incorporates skills from computer science, statistics, information science, mathematics, data visualization, information visualization, data sonification, data integration, graphic design, complex systems, communication and business. Statistician Nathan Yau, drawing on Ben Fry, also links data science to human–computer interaction: users should be able to intuitively control and explore data. In 2015, the American Statistical Association identified database management, statistics and machine learning, and distributed and parallel systems as the three emerging foundational professional communities.\n",
            "\n",
            "Relationship to statistics\n",
            "Many statisticians, including Nate Silver, have argued that data science is not a new field, but rather another name for statistics. Others argue that data science is distinct from statistics because it focuses on problems and techniques unique to digital data. Vasant Dhar writes that statistics emphasizes quantitative data and description. In contrast, data science deals with quantitative and qualitative data (e.g., from images, text, sensors, transactions, customer information, etc.) and emphasizes prediction and action. Andrew Gelman of Columbia University has described statistics as a non-essential part of data science.\n",
            "Stanford professor David Donoho writes that data science is not distinguished from statistics by the size of datasets or use of computing and that many graduate programs misleadingly advertise their analytics and statistics training as the essence of a data-science program. He describes data science as an applied field growing out of traditional statistics.\n",
            "\n",
            "Etymology\n",
            "Early usage\n",
            "In 1962, John Tukey described a field he called \"data analysis\", which resembles modern data science. In 1985, in a lecture given to the Chinese Academy of Sciences in Beijing, C. F. Jeff Wu used the term \"data science\" for the first time as an alternative name for statistics. Later, attendees at a 1992 statistics symposium at the University of Montpellier  II acknowledged the emergence of a new discipline focused on data of various origins and forms, combining established concepts and principles of statistics and data analysis with computing.\n",
            "The term \"data science\" has been traced back to 1974, when Peter Naur proposed it as an alternative name to computer science. In 1996, the International Federation of Classification Societies became the first conference to specifically feature data science as a topic. However, the definition was still in flux. After the 1985 lecture at the Chinese Academy of Sciences in Beijing, in 1997 C. F. Jeff Wu again suggested that statistics should be renamed data science. He reasoned that a new name would help statistics shed inaccurate stereotypes, such as being synonymous with accounting or limited to describing data. In 1998, Hayashi Chikio argued for data science as a new, interdisciplinary concept, with three aspects: data design, collection, and analysis.\n",
            "During the 1990s, popular terms for the process of finding patterns in datasets (which were increasingly large) included \"knowledge discovery\" and \"data mining\".\n",
            "\n",
            "Modern usage\n",
            "In 2012, technologists Thomas H. Davenport and DJ Patil declared \"Data Scientist: The Sexiest Job of the 21st Century\", a catchphrase that was picked up even by major-city newspapers like the New York Times and the Boston Globe. A decade later, they reaffirmed it, stating that \"the job is more in demand than ever with employers\".\n",
            "The modern conception of data science as an independent discipline is sometimes attributed to William S. Cleveland. In a 2001 paper, he advocated an expansion of statistics beyond theory into technical areas; because this would significantly change the field, it warranted a new name. \"Data science\" became more widely used in the next few years: in 2002, the Committee on Data for Science and Technology launched the Data Science Journal. In 2003, Columbia University launched The Journal of Data Science. In 2014, the American Statistical Association's Section on Statistical Learning and Data Mining changed its name to the Section on Statistical Learning and Data Science, reflecting the ascendant popularity of data science.\n",
            "The professional title of \"data scientist\" has been attributed to DJ Patil and Jeff Hammerbacher in 2008. Though it was used by the National Science Board in their 2005 report \"Long-Lived Digital Data Collections: Enabling Research and Education in the 21st Century\", it referred broadly to any key role in managing a digital data collection.\n",
            "There is still no consensus on the definition of data science, and it is considered by some to be a buzzword. Big data is a related marketing term. Data scientists are responsible for breaking down big data into usable information and creating software and algorithms that help companies and organizations determine optimal operations.\n",
            "\n",
            "Data science and data analysis\n",
            "Data science and data analysis are both important disciplines in the field of data management and analysis, but they differ in several key ways. While both fields involve working with data, data science is more of an interdisciplinary field that involves the application of statistical, computational, and machine learning methods to extract insights from data and make predictions, while data analysis is more focused on the examination and interpretation of data to identify patterns and trends.\n",
            "Data analysis typically involves working with smaller, structured datasets to answer specific questions or solve specific problems. This can involve tasks such as data cleaning, data visualization, and exploratory data analysis to gain insights into the data and develop hypotheses about relationships between variables. Data analysts typically use statistical methods to test these hypotheses and draw conclusions from the data. For example, a data analyst might analyze sales data to identify trends in customer behavior and make recommendations for marketing strategies.\n",
            "Data science, on the other hand, is a more complex and iterative process that involves working with larger, more complex datasets that often require advanced computational and statistical methods to analyze. Data scientists often work with unstructured data such as text or images and use machine learning algorithms to build predictive models and make data-driven decisions. In addition to statistical analysis, data science often involves tasks such as data preprocessing, feature engineering, and model selection. For instance, a data scientist might develop a recommendation system for an e-commerce platform by analyzing user behavior patterns and using machine learning algorithms to predict user preferences.\n",
            "While data analysis focuses on extracting insights from existing data, data science goes beyond that by incorporating the development and implementation of predictive models to make informed decisions. Data scientists are often responsible for collecting and cleaning data, selecting appropriate analytical techniques, and deploying models in real-world scenarios. They work at the intersection of mathematics, computer science, and domain expertise to solve complex problems and uncover hidden patterns in large datasets.\n",
            "Despite these differences, data science and data analysis are closely related fields and often require similar skill sets. Both fields require a solid foundation in statistics, programming, and data visualization, as well as the ability to communicate findings effectively to both technical and non-technical audiences. Both fields benefit from critical thinking and domain knowledge, as understanding the context and nuances of the data is essential for accurate analysis and modeling.\n",
            "In summary, data analysis and data science are distinct yet interconnected disciplines within the broader field of data management and analysis. Data analysis focuses on extracting insights and drawing conclusions from structured data, while data science involves a more comprehensive approach that combines statistical analysis, computational methods, and machine learning to extract insights, build predictive models, and drive data-driven decision-making. Both fields use data to understand patterns, make informed decisions, and solve complex problems across various domains.\n",
            "\n",
            "Cloud Computing for Data Science\n",
            "Cloud computing can offer access to large amounts of computational power and storage. In big data, where volumes of information are continually generated and processed, these platforms can be used to handle complex and resource-intensive analytical tasks.\n",
            "Some distributed computing frameworks are designed to handle big data workloads. These frameworks can enable data scientists to process and analyze large datasets in parallel, which can reducing processing times.\n",
            "\n",
            "Ethical consideration in Data Science\n",
            "Data science involve collecting, processing, and analyzing data which often including personal and sensitive information. Ethical concerns include potential privacy violations, bias perpetuation, and negative societal impacts \n",
            "Machine learning models can amplify existing biases present in training data, leading to discriminatory or unfair outcomes.\n",
            "\n",
            "See also\n",
            "Open Data Science Conference\n",
            "Scientific Data\n",
            "Women in Data\n",
            "Python (programming language)\n",
            "R (programming language)\n",
            "Data engineering\n",
            "Big data\n",
            "Machine learning\n",
            "\n",
            "\n",
            "== References ==\n"
          ]
        }
      ]
    },
    {
      "cell_type": "code",
      "source": [
        "import numpy as np\n",
        "import pandas as pd\n",
        "def preprocess(text):\n",
        "    def convert_to_lower(text):\n",
        "        copy_text = text\n",
        "        return copy_text.lower()\n",
        "\n",
        "    text = convert_to_lower(text)\n",
        "    import string\n",
        "\n",
        "    def remove_punctuations(text):\n",
        "        copy_text = text\n",
        "        punc = string.punctuation\n",
        "        return copy_text.translate(str.maketrans(\"\", \"\", punc))\n",
        "\n",
        "    text = remove_punctuations(text)\n",
        "    # from nltk.corpus import stopwords\n",
        "\n",
        "    # STOPWORDS = stopwords.words(\"english\")\n",
        "\n",
        "    # def remove_stopwords(text):\n",
        "    #     copy_text = text\n",
        "    #     copy_text = \" \".join([word for word in text.split() if word not in STOPWORDS])\n",
        "    #     return copy_text\n",
        "\n",
        "    # text = remove_stopwords(text)\n",
        "    import re\n",
        "\n",
        "    def remove_special_chars(text):\n",
        "        copy_text = text\n",
        "        copy_text = re.sub(\"[^a-zA-Z0-9]\", \" \", copy_text)\n",
        "        copy_text = re.sub(\"\\s+\", \" \", copy_text)\n",
        "        return copy_text\n",
        "\n",
        "    text = remove_special_chars(text)\n",
        "\n",
        "    def remove_url(text):\n",
        "        copy_text = text\n",
        "        return re.sub(r\"https?://\\S+|www\\.\\S+\", \"\", copy_text)\n",
        "\n",
        "    text = remove_url(text)\n",
        "\n",
        "    def remove_html_tags(text):\n",
        "        copy_text = text\n",
        "        return re.sub(r\"<.*?>\", \"\", copy_text)\n",
        "\n",
        "    text = remove_html_tags(text)\n",
        "\n",
        "    def remove_digits(text):\n",
        "        copy_text = text\n",
        "        return \"\".join([i for i in copy_text if not i.isdigit()])\n",
        "\n",
        "    text = remove_digits(text)\n",
        "\n",
        "    return text"
      ],
      "metadata": {
        "id": "Cb59cnbEvyMN"
      },
      "execution_count": 3,
      "outputs": []
    },
    {
      "cell_type": "code",
      "source": [
        "import nltk\n",
        "nltk.download('stopwords')\n",
        "nltk.download('wordnet')"
      ],
      "metadata": {
        "colab": {
          "base_uri": "https://localhost:8080/"
        },
        "id": "z_UJ9KjZ4ZdA",
        "outputId": "7aaa783c-3d12-4e74-b20d-b258d68b917a"
      },
      "execution_count": 6,
      "outputs": [
        {
          "output_type": "stream",
          "name": "stderr",
          "text": [
            "[nltk_data] Downloading package stopwords to /root/nltk_data...\n",
            "[nltk_data]   Package stopwords is already up-to-date!\n",
            "[nltk_data] Downloading package wordnet to /root/nltk_data...\n",
            "[nltk_data]   Package wordnet is already up-to-date!\n"
          ]
        },
        {
          "output_type": "execute_result",
          "data": {
            "text/plain": [
              "True"
            ]
          },
          "metadata": {},
          "execution_count": 6
        }
      ]
    },
    {
      "cell_type": "code",
      "source": [
        "text = preprocess(text)\n",
        "text"
      ],
      "metadata": {
        "colab": {
          "base_uri": "https://localhost:8080/",
          "height": 157
        },
        "id": "H0sLeHk34UO-",
        "outputId": "18456e10-bab2-4db4-e721-f4b739613856"
      },
      "execution_count": 4,
      "outputs": [
        {
          "output_type": "execute_result",
          "data": {
            "text/plain": [
              "'artificial intelligence ai in its broadest sense is intelligence exhibited by machines particularly computer systems it is a field of research in computer science that develops and studies methods and software which enable machines to perceive their environment and uses learning and intelligence to take actions that maximize their chances of achieving defined goals such machines may be called ais ai technology is widely used throughout industry government and science some highprofile applications include advanced web search engines eg google search recommendation systems used by youtube amazon and netflix interacting via human speech eg google assistant siri and alexa autonomous vehicles eg waymo generative and creative tools eg chatgpt and ai art and superhuman play and analysis in strategy games eg chess and go however many ai applications are not perceived as ai a lot of cutting edge ai has filtered into general applications often without being called ai because once something becomes useful enough and common enough its not labeled ai anymore alan turing was the first person to conduct substantial research in the field that he called machine intelligence artificial intelligence was founded as an academic discipline in  the field went through multiple cycles of optimism followed by periods of disappointment and loss of funding known as ai winter funding and interest vastly increased after  when deep learning surpassed all previous ai techniques and after  with the transformer architecture this led to the ai boom of the early s with companies universities and laboratories overwhelmingly based in the united states pioneering significant advances in artificial intelligence the growing use of artificial intelligence in the st century is influencing a societal and economic shift towards increased automation datadriven decisionmaking and the integration of ai systems into various economic sectors and areas of life impacting job markets healthcare government industry and education this raises questions about the longterm effects ethical implications and risks of ai prompting discussions about regulatory policies to ensure the safety and benefits of the technology the various subfields of ai research are centered around particular goals and the use of particular tools the traditional goals of ai research include reasoning knowledge representation planning learning natural language processing perception and support for robotics general intelligence the ability to complete any task performable by a human on an at least equal level is among the fields longterm goals to reach these goals ai researchers have adapted and integrated a wide range of techniques including search and mathematical optimization formal logic artificial neural networks and methods based on statistics operations research and economics ai also draws upon psychology linguistics philosophy neuroscience and other fields goals the general problem of simulating or creating intelligence has been broken into subproblems these consist of particular traits or capabilities that researchers expect an intelligent system to display the traits described below have received the most attention and cover the scope of ai research reasoning and problem solving early researchers developed algorithms that imitated stepbystep reasoning that humans use when they solve puzzles or make logical deductions by the late s and s methods were developed for dealing with uncertain or incomplete information employing concepts from probability and economics many of these algorithms are insufficient for solving large reasoning problems because they experience a combinatorial explosion they became exponentially slower as the problems grew larger even humans rarely use the stepbystep deduction that early ai research could model they solve most of their problems using fast intuitive judgments accurate and efficient reasoning is an unsolved problem knowledge representation knowledge representation and knowledge engineering allow ai programs to answer questions intelligently and make deductions about realworld facts formal knowledge representations are used in contentbased indexing and retrieval scene interpretation clinical decision support knowledge discovery mining interesting and actionable inferences from large databases and other areas a knowledge base is a body of knowledge represented in a form that can be used by a program an ontology is the set of objects relations concepts and properties used by a particular domain of knowledge knowledge bases need to represent things such as objects properties categories and relations between objects situations events states and time causes and effects knowledge about knowledge what we know about what other people know default reasoning things that humans assume are true until they are told differently and will remain true even when other facts are changing and many other aspects and domains of knowledge among the most difficult problems in knowledge representation are the breadth of commonsense knowledge the set of atomic facts that the average person knows is enormous and the subsymbolic form of most commonsense knowledge much of what people know is not represented as facts or statements that they could express verbally there is also the difficulty of knowledge acquisition the problem of obtaining knowledge for ai applications planning and decision making an agent is anything that perceives and takes actions in the world a rational agent has goals or preferences and takes actions to make them happen in automated planning the agent has a specific goal in automated decision making the agent has preferences there are some situations it would prefer to be in and some situations it is trying to avoid the decision making agent assigns a number to each situation called the utility that measures how much the agent prefers it for each possible action it can calculate the expected utility the utility of all possible outcomes of the action weighted by the probability that the outcome will occur it can then choose the action with the maximum expected utility in classical planning the agent knows exactly what the effect of any action will be in most realworld problems however the agent may not be certain about the situation they are in it is unknown or unobservable and it may not know for certain what will happen after each possible action it is not deterministic it must choose an action by making a probabilistic guess and then reassess the situation to see if the action worked in some problems the agents preferences may be uncertain especially if there are other agents or humans involved these can be learned eg with inverse reinforcement learning or the agent can seek information to improve its preferences information value theory can be used to weigh the value of exploratory or experimental actions the space of possible future actions and situations is typically intractably large so the agents must take actions and evaluate situations while being uncertain what the outcome will be a markov decision process has a transition model that describes the probability that a particular action will change the state in a particular way and a reward function that supplies the utility of each state and the cost of each action a policy associates a decision with each possible state the policy could be calculated eg by iteration be heuristic or it can be learned game theory describes rational behavior of multiple interacting agents and is used in ai programs that make decisions that involve other agents learning machine learning is the study of programs that can improve their performance on a given task automatically it has been a part of ai from the beginning there are several kinds of machine learning unsupervised learning analyzes a stream of data and finds patterns and makes predictions without any other guidance supervised learning requires a human to label the input data first and comes in two main varieties classification where the program must learn to predict what category the input belongs in and regression where the program must deduce a numeric function based on numeric input in reinforcement learning the agent is rewarded for good responses and punished for bad ones the agent learns to choose responses that are classified as good transfer learning is when the knowledge gained from one problem is applied to a new problem deep learning is a type of machine learning that runs inputs through biologically inspired artificial neural networks for all of these types of learning computational learning theory can assess learners by computational complexity by sample complexity how much data is required or by other notions of optimization natural language processing natural language processing nlp allows programs to read write and communicate in human languages such as english specific problems include speech recognition speech synthesis machine translation information extraction information retrieval and question answering early work based on noam chomskys generative grammar and semantic networks had difficulty with wordsense disambiguation unless restricted to small domains called microworlds due to the common sense knowledge problem margaret masterman believed that it was meaning and not grammar that was the key to understanding languages and that thesauri and not dictionaries should be the basis of computational language structure modern deep learning techniques for nlp include word embedding representing words typically as vectors encoding their meaning transformers a deep learning architecture using an attention mechanism and others in  generative pretrained transformer or gpt language models began to generate coherent text and by  these models were able to get humanlevel scores on the bar exam sat test gre test and many other realworld applications perception machine perception is the ability to use input from sensors such as cameras microphones wireless signals active lidar sonar radar and tactile sensors to deduce aspects of the world computer vision is the ability to analyze visual input the field includes speech recognition image classification facial recognition object recognition and robotic perception social intelligence affective computing is an interdisciplinary umbrella that comprises systems that recognize interpret process or simulate human feeling emotion and mood for example some virtual assistants are programmed to speak conversationally or even to banter humorously it makes them appear more sensitive to the emotional dynamics of human interaction or to otherwise facilitate human computer interaction however this tends to give na ve users an unrealistic conception of the intelligence of existing computer agents moderate successes related to affective computing include textual sentiment analysis and more recently multimodal sentiment analysis wherein ai classifies the affects displayed by a videotaped subject general intelligence a machine with artificial general intelligence should be able to solve a wide variety of problems with breadth and versatility similar to human intelligence techniques ai research uses a wide variety of techniques to accomplish the goals above search and optimization ai can solve many problems by intelligently searching through many possible solutions there are two very different kinds of search used in ai state space search and local search state space search state space search searches through a tree of possible states to try to find a goal state for example planning algorithms search through trees of goals and subgoals attempting to find a path to a target goal a process called meansends analysis simple exhaustive searches are rarely sufficient for most realworld problems the search space the number of places to search quickly grows to astronomical numbers the result is a search that is too slow or never completes heuristics or rules of thumb can help to prioritize choices that are more likely to reach a goal adversarial search is used for gameplaying programs such as chess or go it searches through a tree of possible moves and countermoves looking for a winning position local search local search uses mathematical optimization to find a solution to a problem it begins with some form of guess and refines it incrementally gradient descent is a type of local search that optimizes a set of numerical parameters by incrementally adjusting them to minimize a loss function variants of gradient descent are commonly used to train neural networks another type of local search is evolutionary computation which aims to iteratively improve a set of candidate solutions by mutating and recombining them selecting only the fittest to survive each generation distributed search processes can coordinate via swarm intelligence algorithms two popular swarm algorithms used in search are particle swarm optimization inspired by bird flocking and ant colony optimization inspired by ant trails logic formal logic is used for reasoning and knowledge representation formal logic comes in two main forms propositional logic which operates on statements that are true or false and uses logical connectives such as and or not and implies and predicate logic which also operates on objects predicates and relations and uses quantifiers such as every x is a y and there are some xs that are ys deductive reasoning in logic is the process of proving a new statement conclusion from other statements that are given and assumed to be true the premises proofs can be structured as proof trees in which nodes are labelled by sentences and children nodes are connected to parent nodes by inference rules given a problem and a set of premises problemsolving reduces to searching for a proof tree whose root node is labelled by a solution of the problem and whose leaf nodes are labelled by premises or axioms in the case of horn clauses problemsolving search can be performed by reasoning forwards from the premises or backwards from the problem in the more general case of the clausal form of firstorder logic resolution is a single axiomfree rule of inference in which a problem is solved by proving a contradiction from premises that include the negation of the problem to be solved inference in both horn clause logic and firstorder logic is undecidable and therefore intractable however backward reasoning with horn clauses which underpins computation in the logic programming language prolog is turing complete moreover its efficiency is competitive with computation in other symbolic programming languages fuzzy logic assigns a degree of truth between  and  it can therefore handle propositions that are vague and partially true nonmonotonic logics including logic programming with negation as failure are designed to handle default reasoning other specialized versions of logic have been developed to describe many complex domains probabilistic methods for uncertain reasoning many problems in ai including in reasoning planning learning perception and robotics require the agent to operate with incomplete or uncertain information ai researchers have devised a number of tools to solve these problems using methods from probability theory and economics precise mathematical tools have been developed that analyze how an agent can make choices and plan using decision theory decision analysis and information value theory these tools include models such as markov decision processes dynamic decision networks game theory and mechanism design bayesian networks are a tool that can be used for reasoning using the bayesian inference algorithm learning using the expectationmaximization algorithm planning using decision networks and perception using dynamic bayesian networks probabilistic algorithms can also be used for filtering prediction smoothing and finding explanations for streams of data helping perception systems to analyze processes that occur over time eg hidden markov models or kalman filters classifiers and statistical learning methods the simplest ai applications can be divided into two types classifiers eg if shiny then diamond on one hand and controllers eg if diamond then pick up on the other hand classifiers are functions that use pattern matching to determine the closest match they can be finetuned based on chosen examples using supervised learning each pattern also called an observation is labeled with a certain predefined class all the observations combined with their class labels are known as a data set when a new observation is received that observation is classified based on previous experience there are many kinds of classifiers in use the decision tree is the simplest and most widely used symbolic machine learning algorithm knearest neighbor algorithm was the most widely used analogical ai until the mids and kernel methods such as the support vector machine svm displaced knearest neighbor in the s the naive bayes classifier is reportedly the most widely used learner at google due in part to its scalability neural networks are also used as classifiers artificial neural networks an artificial neural network is based on a collection of nodes also known as artificial neurons which loosely model the neurons in a biological brain it is trained to recognise patterns once trained it can recognise those patterns in fresh data there is an input at least one hidden layer of nodes and an output each node applies a function and once the weight crosses its specified threshold the data is transmitted to the next layer a network is typically called a deep neural network if it has at least  hidden layers learning algorithms for neural networks use local search to choose the weights that will get the right output for each input during training the most common training technique is the backpropagation algorithm neural networks learn to model complex relationships between inputs and outputs and find patterns in data in theory a neural network can learn any function in feedforward neural networks the signal passes in only one direction recurrent neural networks feed the output signal back into the input which allows shortterm memories of previous input events long short term memory is the most successful network architecture for recurrent networks perceptrons use only a single layer of neurons deep learning uses multiple layers convolutional neural networks strengthen the connection between neurons that are close to each other this is especially important in image processing where a local set of neurons must identify an edge before the network can identify an object deep learning deep learning uses several layers of neurons between the networks inputs and outputs the multiple layers can progressively extract higherlevel features from the raw input for example in image processing lower layers may identify edges while higher layers may identify the concepts relevant to a human such as digits or letters or faces deep learning has profoundly improved the performance of programs in many important subfields of artificial intelligence including computer vision speech recognition natural language processing image classification and others the reason that deep learning performs so well in so many applications is not known as of  the sudden success of deep learning in   did not occur because of some new discovery or theoretical breakthrough deep neural networks and backpropagation had been described by many people as far back as the s but because of two factors the incredible increase in computer power including the hundredfold increase in speed by switching to gpus and the availability of vast amounts of training data especially the giant curated datasets used for benchmark testing such as imagenet gpt generative pretrained transformers gpt are large language models that are based on the semantic relationships between words in sentences natural language processing textbased gpt models are pretrained on a large corpus of text which can be from the internet the pretraining consists in predicting the next token a token being usually a word subword or punctuation throughout this pretraining gpt models accumulate knowledge about the world and can then generate humanlike text by repeatedly predicting the next token typically a subsequent training phase makes the model more truthful useful and harmless usually with a technique called reinforcement learning from human feedback rlhf current gpt models are still prone to generating falsehoods called hallucinations although this can be reduced with rlhf and quality data they are used in chatbots which allow you to ask a question or request a task in simple text current models and services include gemini formerly bard chatgpt grok claude copilot and llama multimodal gpt models can process different types of data modalities such as images videos sound and text specialized hardware and software in the late s graphics processing units gpus that were increasingly designed with aispecific enhancements and used with specialized tensorflow software had replaced previously used central processing unit cpus as the dominant means for largescale commercial and academic machine learning models training historically specialized languages such as lisp prolog python and others had been used applications ai and machine learning technology is used in most of the essential applications of the s including search engines such as google search targeting online advertisements recommendation systems offered by netflix youtube or amazon driving internet traffic targeted advertising adsense facebook virtual assistants such as siri or alexa autonomous vehicles including drones adas and selfdriving cars automatic language translation microsoft translator google translate facial recognition apples face id or microsofts deepface and googles facenet and image labeling used by facebook apples iphoto and tiktok health and medicine the application of ai in medicine and medical research has the potential to increase patient care and quality of life through the lens of the hippocratic oath medical professionals are ethically compelled to use ai if applications can more accurately diagnose and treat patients for medical research ai is an important tool for processing and integrating big data this is particularly important for organoid and tissue engineering development which use microscopy imaging as a key technique in fabrication it has been suggested that ai can overcome discrepancies in funding allocated to different fields of research new ai tools can deepen the understanding of biomedically relevant pathways for example alphafold   demonstrated the ability to approximate in hours rather than months the d structure of a protein in  it was reported that aiguided drug discovery helped find a class of antibiotics capable of killing two different types of drugresistant bacteria in  researchers used machine learning to accelerate the search for parkinsons disease drug treatments their aim was to identify compounds that block the clumping or aggregation of alphasynuclein the protein that characterises parkinsons disease they were able to speed up the initial screening process tenfold and to reduce the cost by a thousandfold games game playing programs have been used since the s to demonstrate and test ais most advanced techniques deep blue became the first computer chessplaying system to beat a reigning world chess champion garry kasparov on  may  in  in a jeopardy quiz show exhibition match ibms question answering system watson defeated the two greatest jeopardy champions brad rutter and ken jennings by a significant margin in march  alphago won  out of  games of go in a match with go champion lee sedol becoming the first computer goplaying system to beat a professional go player without handicaps then in  it defeated ke jie who was the best go player in the world other programs handle imperfectinformation games such as the pokerplaying program pluribus deepmind developed increasingly generalistic reinforcement learning models such as with muzero which could be trained to play chess go or atari games in  deepminds alphastar achieved grandmaster level in starcraft ii a particularly challenging realtime strategy game that involves incomplete knowledge of what happens on the map in  an ai agent competed in a playstation gran turismo competition winning against four of the worlds best gran turismo drivers using deep reinforcement learning military various countries are deploying ai military applications the main applications enhance command and control communications sensors integration and interoperability research is targeting intelligence collection and analysis logistics cyber operations information operations and semiautonomous and autonomous vehicles ai technologies enable coordination of sensors and effectors threat detection and identification marking of enemy positions target acquisition coordination and deconfliction of distributed joint fires between networked combat vehicles involving manned and unmanned teams ai was incorporated into military operations in iraq and syria in november  us vice president kamala harris disclosed a declaration signed by  nations to set guardrails for the military use of ai the commitments include using legal reviews to ensure the compliance of military ai with international laws and being cautious and transparent in the development of this technology generative ai in the early s generative ai gained widespread prominence in march   of us adults had heard about chatgpt and  had tried it the increasing realism and easeofuse of aibased texttoimage generators such as midjourney dalle and stable diffusion sparked a trend of viral aigenerated photos widespread attention was gained by a fake photo of pope francis wearing a white puffer coat the fictional arrest of donald trump and a hoax of an attack on the pentagon as well as the usage in professional creative arts industryspecific tasks there are also thousands of successful ai applications used to solve specific problems for specific industries or institutions in a  survey one in five companies reported they had incorporated ai in some offerings or processes a few examples are energy storage medical diagnosis military logistics applications that predict the result of judicial decisions foreign policy or supply chain management in agriculture ai has helped farmers identify areas that need irrigation fertilization pesticide treatments or increasing yield agronomists use ai to conduct research and development ai has been used to predict the ripening time for crops such as tomatoes monitor soil moisture operate agricultural robots conduct predictive analytics classify livestock pig call emotions automate greenhouses detect diseases and pests and save water artificial intelligence is used in astronomy to analyze increasing amounts of available data and applications mainly for classification regression clustering forecasting generation discovery and the development of new scientific insights for example for discovering exoplanets forecasting solar activity and distinguishing between signals and instrumental effects in gravitational wave astronomy it could also be used for activities in space such as space exploration including analysis of data from space missions realtime science decisions of spacecraft space debris avoidance and more autonomous operation ethics ai has potential benefits and potential risks ai may be able to advance science and find solutions for serious problems demis hassabis of deep mind hopes to solve intelligence and then use that to solve everything else however as the use of ai has become widespread several unintended consequences and risks have been identified inproduction systems can sometimes not factor ethics and bias into their ai training processes especially when the ai algorithms are inherently unexplainable in deep learning risks and harm privacy and copyright machinelearning algorithms require large amounts of data the techniques used to acquire this data have raised concerns about privacy surveillance and copyright technology companies collect a wide range of data from their users including online activity geolocation data video and audio for example in order to build speech recognition algorithms amazon has recorded millions of private conversations and allowed temporary workers to listen to and transcribe some of them opinions about this widespread surveillance range from those who see it as a necessary evil to those for whom it is clearly unethical and a violation of the right to privacy ai developers argue that this is the only way to deliver valuable applications and have developed several techniques that attempt to preserve privacy while still obtaining the data such as data aggregation deidentification and differential privacy since  some privacy experts such as cynthia dwork have begun to view privacy in terms of fairness brian christian wrote that experts have pivoted from the question of what they know to the question of what theyre doing with it generative ai is often trained on unlicensed copyrighted works including in domains such as images or computer code the output is then used under the rationale of fair use experts disagree about how well and under what circumstances this rationale will hold up in courts of law relevant factors may include the purpose and character of the use of the copyrighted work and the effect upon the potential market for the copyrighted work website owners who do not wish to have their content scraped can indicate it in a robotstxt file in  leading authors including john grisham and jonathan franzen sued ai companies for using their work to train generative ai another discussed approach is to envision a separate sui generis system of protection for creations generated by ai to ensure fair attribution and compensation for human authors misinformation youtube facebook and others use recommender systems to guide users to more content these ai programs were given the goal of maximizing user engagement that is the only goal was to keep people watching the ai learned that users tended to choose misinformation conspiracy theories and extreme partisan content and to keep them watching the ai recommended more of it users also tended to watch more content on the same subject so the ai led people into filter bubbles where they received multiple versions of the same misinformation this convinced many users that the misinformation was true and ultimately undermined trust in institutions the media and the government the ai program had correctly learned to maximize its goal but the result was harmful to society after the us election in  major technology companies took steps to mitigate the problem in  generative ai began to create images audio video and text that are indistinguishable from real photographs recordings films or human writing it is possible for bad actors to use this technology to create massive amounts of misinformation or propaganda ai pioneer geoffrey hinton expressed concern about ai enabling authoritarian leaders to manipulate their electorates on a large scale among other risks algorithmic bias and fairness machine learning applications will be biased if they learn from biased data the developers may not be aware that the bias exists bias can be introduced by the way training data is selected and by the way a model is deployed if a biased algorithm is used to make decisions that can seriously harm people as it can in medicine finance recruitment housing or policing then the algorithm may cause discrimination fairness in machine learning is the study of how to prevent the harm caused by algorithmic bias it has become serious area of academic study within ai researchers have discovered it is not always possible to define fairness in a way that satisfies all stakeholders on june   google photoss new image labeling feature mistakenly identified jacky alcine and a friend as gorillas because they were black the system was trained on a dataset that contained very few images of black people a problem called sample size disparity google fixed this problem by preventing the system from labelling anything as a gorilla eight years later in  google photos still could not identify a gorilla and neither could similar products from apple facebook microsoft and amazon compas is a commercial program widely used by us courts to assess the likelihood of a defendant becoming a recidivist in  julia angwin at propublica discovered that compas exhibited racial bias despite the fact that the program was not told the races of the defendants although the error rate for both whites and blacks was calibrated equal at exactly  the errors for each race were different the system consistently overestimated the chance that a black person would reoffend and would underestimate the chance that a white person would not reoffend in  several researchers showed that it was mathematically impossible for compas to accommodate all possible measures of fairness when the base rates of reoffense were different for whites and blacks in the data a program can make biased decisions even if the data does not explicitly mention a problematic feature such as race or gender the feature will correlate with other features like address shopping history or first name and the program will make the same decisions based on these features as it would on race or gender moritz hardt said the most robust fact in this research area is that fairness through blindness doesnt work criticism of compas highlighted that machine learning models are designed to make predictions that are only valid if we assume that the future will resemble the past if they are trained on data that includes the results of racist decisions in the past machine learning models must predict that racist decisions will be made in the future if an application then uses these predictions as recommendations some of these recommendations will likely be racist thus machine learning is not well suited to help make decisions in areas where there is hope that the future will be better than the past it is necessarily descriptive and not proscriptive bias and unfairness may go undetected because the developers are overwhelmingly white and male among ai engineers about  are black and  are women at its  conference on fairness accountability and transparency acm facct  the association for computing machinery in seoul south korea presented and published findings that recommend that until ai and robotics systems are demonstrated to be free of bias mistakes they are unsafe and the use of selflearning neural networks trained on vast unregulated sources of flawed internet data should be curtailed lack of transparency many ai systems are so complex that their designers cannot explain how they reach their decisions particularly with deep neural networks in which there are a large amount of nonlinear relationships between inputs and outputs but some popular explainability techniques exist it is impossible to be certain that a program is operating correctly if no one knows how exactly it works there have been many cases where a machine learning program passed rigorous tests but nevertheless learned something different than what the programmers intended for example a system that could identify skin diseases better than medical professionals was found to actually have a strong tendency to classify images with a ruler as cancerous because pictures of malignancies typically include a ruler to show the scale another machine learning system designed to help effectively allocate medical resources was found to classify patients with asthma as being at low risk of dying from pneumonia having asthma is actually a severe risk factor but since the patients having asthma would usually get much more medical care they were relatively unlikely to die according to the training data the correlation between asthma and low risk of dying from pneumonia was real but misleading people who have been harmed by an algorithms decision have a right to an explanation doctors for example are expected to clearly and completely explain to their colleagues the reasoning behind any decision they make early drafts of the european unions general data protection regulation in  included an explicit statement that this right exists industry experts noted that this is an unsolved problem with no solution in sight regulators argued that nevertheless the harm is real if the problem has no solution the tools should not be used darpa established the xai explainable artificial intelligence program in  to try and solve these problems there are several possible solutions to the transparency problem shap tried to solve the transparency problems by visualising the contribution of each feature to the output lime can locally approximate a model with a simpler interpretable model multitask learning provides a large number of outputs in addition to the target classification these other outputs can help developers deduce what the network has learned deconvolution deepdream and other generative methods can allow developers to see what different layers of a deep network have learned and produce output that can suggest what the network is learning bad actors and weaponized ai artificial intelligence provides a number of tools that are useful to bad actors such as authoritarian governments terrorists criminals or rogue states a lethal autonomous weapon is a machine that locates selects and engages human targets without human supervision widely available ai tools can be used by bad actors to develop inexpensive autonomous weapons and if produced at scale they are potentially weapons of mass destruction even when used in conventional warfare it is unlikely that they will be unable to reliably choose targets and could potentially kill an innocent person in   nations including china supported a ban on autonomous weapons under the united nations convention on certain conventional weapons however the united states and others disagreed by  over fifty countries were reported to be researching battlefield robots ai tools make it easier for authoritarian governments to efficiently control their citizens in several ways face and voice recognition allow widespread surveillance machine learning operating this data can classify potential enemies of the state and prevent them from hiding recommendation systems can precisely target propaganda and misinformation for maximum effect deepfakes and generative ai aid in producing misinformation advanced ai can make authoritarian centralized decision making more competitive than liberal and decentralized systems such as markets it lowers the cost and difficulty of digital warfare and advanced spyware all these technologies have been available since  or earlier ai facial recognition systems are already being used for mass surveillance in china there many other ways that ai is expected to help bad actors some of which can not be foreseen for example machinelearning ai is able to design tens of thousands of toxic molecules in a matter of hours reliance on industry giants training ai systems requires an enormous amount of computing power usually only big tech companies have the financial resources to make such investments smaller startups such as cohere and openai end up buying access to data centers from google and microsoft respectively technological unemployment economists have frequently highlighted the risks of redundancies from ai and speculated about unemployment if there is no adequate social policy for full employment in the past technology has tended to increase rather than reduce total employment but economists acknowledge that were in uncharted territory with ai a survey of economists showed disagreement about whether the increasing use of robots and ai will cause a substantial increase in longterm unemployment but they generally agree that it could be a net benefit if productivity gains are redistributed risk estimates vary for example in the s michael osborne and carl benedikt frey estimated  of us jobs are at high risk of potential automation while an oecd report classified only  of us jobs as high risk the methodology of speculating about future employment levels has been criticised as lacking evidential foundation and for implying that technology rather than social policy creates unemployment as opposed to redundancies in april  it was reported that  of the jobs for chinese video game illustrators had been eliminated by generative artificial intelligence unlike previous waves of automation many middleclass jobs may be eliminated by artificial intelligence the economist stated in  that the worry that ai could do to whitecollar jobs what steam power did to bluecollar ones during the industrial revolution is worth taking seriously jobs at extreme risk range from paralegals to fast food cooks while job demand is likely to increase for carerelated professions ranging from personal healthcare to the clergy from the early days of the development of artificial intelligence there have been arguments for example those put forward by joseph weizenbaum about whether tasks that can be done by computers actually should be done by them given the difference between computers and humans and between quantitative calculation and qualitative valuebased judgement existential risk it has been argued ai will become so powerful that humanity may irreversibly lose control of it this could as physicist stephen hawking stated spell the end of the human race this scenario has been common in science fiction when a computer or robot suddenly develops a humanlike selfawareness or sentience or consciousness and becomes a malevolent character these scifi scenarios are misleading in several ways first ai does not require humanlike sentience to be an existential risk modern ai programs are given specific goals and use learning and intelligence to achieve them philosopher nick bostrom argued that if one gives almost any goal to a sufficiently powerful ai it may choose to destroy humanity to achieve it he used the example of a paperclip factory manager stuart russell gives the example of household robot that tries to find a way to kill its owner to prevent it from being unplugged reasoning that you cant fetch the coffee if youre dead in order to be safe for humanity a superintelligence would have to be genuinely aligned with humanitys morality and values so that it is fundamentally on our side second yuval noah harari argues that ai does not require a robot body or physical control to pose an existential risk the essential parts of civilization are not physical things like ideologies law government money and the economy are made of language they exist because there are stories that billions of people believe the current prevalence of misinformation suggests that an ai could use language to convince people to believe anything even to take actions that are destructive the opinions amongst experts and industry insiders are mixed with sizable fractions both concerned and unconcerned by risk from eventual superintelligent ai personalities such as stephen hawking bill gates and elon musk have expressed concern about existential risk from ai ai pioneers including feifei li geoffrey hinton yoshua bengio cynthia breazeal rana el kaliouby demis hassabis joy buolamwini and sam altman have expressed concerns about the risks of ai in  many leading ai experts issued the joint statement that mitigating the risk of extinction from ai should be a global priority alongside other societalscale risks such as pandemics and nuclear war other researchers however spoke in favor of a less dystopian view ai pioneer juergen schmidhuber did not sign the joint statement emphasising that in  of all cases ai research is about making human lives longer and healthier and easier while the tools that are now being used to improve lives can also be used by bad actors they can also be used against the bad actors andrew ng also argued that its a mistake to fall for the doomsday hype on ai and that regulators who do will only benefit vested interests yann lecun scoffs at his peers dystopian scenarios of supercharged misinformation and even eventually human extinction in the early s experts argued that the risks are too distant in the future to warrant research or that humans will be valuable from the perspective of a superintelligent machine however after  the study of current and future risks and possible solutions became a serious area of research ethical machines and alignment friendly ai are machines that have been designed from the beginning to minimize risks and to make choices that benefit humans eliezer yudkowsky who coined the term argues that developing friendly ai should be a higher research priority it may require a large investment and it must be completed before ai becomes an existential risk machines with intelligence have the potential to use their intelligence to make ethical decisions the field of machine ethics provides machines with ethical principles and procedures for resolving ethical dilemmas the field of machine ethics is also called computational morality and was founded at an aaai symposium in  other approaches include wendell wallachs artificial moral agents and stuart j russells three principles for developing provably beneficial machines open source active organizations in the ai opensource community include hugging face google eleutherai and meta various ai models such as llama  mistral or stable diffusion have been made openweight meaning that their architecture and trained parameters the weights are publicly available openweight models can be freely finetuned which allows companies to specialize them with their own data and for their own usecase openweight models are useful for research and innovation but can also be misused since they can be finetuned any builtin security measure such as objecting to harmful requests can be trained away until it becomes ineffective some researchers warn that future ai models may develop dangerous capabilities such as the potential to drastically facilitate bioterrorism and that once released on the internet they cant be deleted everywhere if needed they recommend prerelease audits and costbenefit analyses frameworks artificial intelligence projects can have their ethical permissibility tested while designing developing and implementing an ai system an ai framework such as the care and act framework containing the sum values developed by the alan turing institute tests projects in four main areas respect the dignity of individual people connect with other people sincerely openly and inclusively care for the wellbeing of everyone protect social values justice and the public interest other developments in ethical frameworks include those decided upon during the asilomar conference the montreal declaration for responsible ai and the ieees ethics of autonomous systems initiative among others however these principles do not go without their criticisms especially regards to the people chosen contributes to these frameworks promotion of the wellbeing of the people and communities that these technologies affect requires consideration of the social and ethical implications at all stages of ai system design development and implementation and collaboration between job roles such as data scientists product managers data engineers domain experts and delivery managers regulation the regulation of artificial intelligence is the development of public sector policies and laws for promoting and regulating artificial intelligence ai it is therefore related to the broader regulation of algorithms the regulatory and policy landscape for ai is an emerging issue in jurisdictions globally according to ai index at stanford the annual number of airelated laws passed in the  survey countries jumped from one passed in  to  passed in  alone between  and  more than  countries adopted dedicated strategies for ai most eu member states had released national ai strategies as had canada china india japan mauritius the russian federation saudi arabia united arab emirates us and vietnam others were in the process of elaborating their own ai strategy including bangladesh malaysia and tunisia the global partnership on artificial intelligence was launched in june  stating a need for ai to be developed in accordance with human rights and democratic values to ensure public confidence and trust in the technology henry kissinger eric schmidt and daniel huttenlocher published a joint statement in november  calling for a government commission to regulate ai in  openai leaders published recommendations for the governance of superintelligence which they believe may happen in less than  years in  the united nations also launched an advisory body to provide recommendations on ai governance the body comprises technology company executives governments officials and academics in a  ipsos survey attitudes towards ai varied greatly by country  of chinese citizens but only  of americans agreed that products and services using ai have more benefits than drawbacks a  reutersipsos poll found that  of americans agree and  disagree that ai poses risks to humanity in a  fox news poll  of americans thought it very important and an additional  thought it somewhat important for the federal government to regulate ai versus  responding not very important and  responding not at all important in november  the first global ai safety summit was held in bletchley park in the uk to discuss the near and far term risks of ai and the possibility of mandatory and voluntary regulatory frameworks  countries including the united states china and the european union issued a declaration at the start of the summit calling for international cooperation to manage the challenges and risks of artificial intelligence history the study of mechanical or formal reasoning began with philosophers and mathematicians in antiquity the study of logic led directly to alan turings theory of computation which suggested that a machine by shuffling symbols as simple as  and  could simulate any conceivable form of mathematical reasoning this along with concurrent discoveries in cybernetics information theory and neurobiology led researchers to consider the possibility of building an electronic brain they developed several areas of research that would become part of ai such as mccullouch and pitts design for artificial neurons in  and turings influential  paper computing machinery and intelligence which introduced the turing test and showed that machine intelligence was plausible the field of ai research was founded at a workshop at dartmouth college in  the attendees became the leaders of ai research in the s they and their students produced programs that the press described as astonishing computers were learning checkers strategies solving word problems in algebra proving logical theorems and speaking english artificial intelligence laboratories were set up at a number of british and us universities in the latter s and early s researchers in the s and the s were convinced that their methods would eventually succeed in creating a machine with general intelligence and considered this the goal of their field herbert simon predicted machines will be capable within twenty years of doing any work a man can do marvin minsky agreed writing within a generation the problem of creating artificial intelligence will substantially be solved they had however underestimated the difficulty of the problem in  both the us and british governments cut off exploratory research in response to the criticism of sir james lighthill and ongoing pressure from the us congress to fund more productive projects minskys and paperts book perceptrons was understood as proving that artificial neural networks would never be useful for solving realworld tasks thus discrediting the approach altogether the ai winter a period when obtaining funding for ai projects was difficult followed in the early s ai research was revived by the commercial success of expert systems a form of ai program that simulated the knowledge and analytical skills of human experts by  the market for ai had reached over a billion dollars at the same time japans fifth generation computer project inspired the us and british governments to restore funding for academic research however beginning with the collapse of the lisp machine market in  ai once again fell into disrepute and a second longerlasting winter began up to this point most of ais funding had gone to projects which used high level symbols to represent mental objects like plans goals beliefs and known facts in the s some researchers began to doubt that this approach would be able to imitate all the processes of human cognition especially perception robotics learning and pattern recognition and began to look into subsymbolic approaches rodney brooks rejected representation in general and focussed directly on engineering machines that move and survive judea pearl lofti zadeh and others developed methods that handled incomplete and uncertain information by making reasonable guesses rather than precise logic but the most important development was the revival of connectionism including neural network research by geoffrey hinton and others in  yann lecun successfully showed that convolutional neural networks can recognize handwritten digits the first of many successful applications of neural networks ai gradually restored its reputation in the late s and early st century by exploiting formal mathematical methods and by finding specific solutions to specific problems this narrow and formal focus allowed researchers to produce verifiable results and collaborate with other fields such as statistics economics and mathematics by  solutions developed by ai researchers were being widely used although in the s they were rarely described as artificial intelligence however several academic researchers became concerned that ai was no longer pursuing its original goal of creating versatile fully intelligent machines beginning around  they founded the subfield of artificial general intelligence or agi which had several wellfunded institutions by the s deep learning began to dominate industry benchmarks in  and was adopted throughout the field for many specific tasks other methods were abandoned deep learnings success was based on both hardware improvements faster computers graphics processing units cloud computing and access to large amounts of data including curated datasets such as imagenet deep learnings success led to an enormous increase in interest and funding in ai the amount of machine learning research measured by total publications increased by  in the years   in  issues of fairness and the misuse of technology were catapulted into center stage at machine learning conferences publications vastly increased funding became available and many researchers refocussed their careers on these issues the alignment problem became a serious field of academic study in the late teens and early s agi companies began to deliver programs that created enormous interest in  alphago developed by deepmind beat the world champion go player the program was taught only the rules of the game and developed strategy by itself gpt is a large language model that was released in  by openai and is capable of generating highquality humanlike text these programs and others inspired an aggressive ai boom where large companies began investing billions in ai research according to ai impacts about  billion annually was invested in ai around  in the us alone and about  of the new us computer science phd graduates have specialized in ai about  airelated us job openings existed in  philosophy defining artificial intelligence alan turing wrote in  i propose to consider the question can machines think he advised changing the question from whether a machine thinks to whether or not it is possible for machinery to show intelligent behaviour he devised the turing test which measures the ability of a machine to simulate human conversation since we can only observe the behavior of the machine it does not matter if it is actually thinking or literally has a mind turing notes that we can not determine these things about other people but it is usual to have a polite convention that everyone thinks russell and norvig agree with turing that intelligence must be defined in terms of external behavior not internal structure however they are critical that the test requires the machine to imitate humans aeronautical engineering texts they wrote do not define the goal of their field as making machines that fly so exactly like pigeons that they can fool other pigeons ai founder john mccarthy agreed writing that artificial intelligence is not by definition simulation of human intelligence mccarthy defines intelligence as the computational part of the ability to achieve goals in the world another ai founder marvin minsky similarly describes it as the ability to solve hard problems the leading ai textbook defines it as the study of agents that perceive their environment and take actions that maximize their chances of achieving defined goals these definitions view intelligence in terms of welldefined problems with welldefined solutions where both the difficulty of the problem and the performance of the program are direct measures of the intelligence of the machine and no other philosophical discussion is required or may not even be possible another definition has been adopted by google a major practitioner in the field of ai this definition stipulates the ability of systems to synthesize information as the manifestation of intelligence similar to the way it is defined in biological intelligence evaluating approaches to ai no established unifying theory or paradigm has guided ai research for most of its history the unprecedented success of statistical machine learning in the s eclipsed all other approaches so much so that some sources especially in the business world use the term artificial intelligence to mean machine learning with neural networks this approach is mostly subsymbolic soft and narrow critics argue that these questions may have to be revisited by future generations of ai researchers symbolic ai and its limits symbolic ai or gofai simulated the highlevel conscious reasoning that people use when they solve puzzles express legal reasoning and do mathematics they were highly successful at intelligent tasks such as algebra or iq tests in the s newell and simon proposed the physical symbol systems hypothesis a physical symbol system has the necessary and sufficient means of general intelligent action however the symbolic approach failed on many tasks that humans solve easily such as learning recognizing an object or commonsense reasoning moravecs paradox is the discovery that highlevel intelligent tasks were easy for ai but low level instinctive tasks were extremely difficult philosopher hubert dreyfus had argued since the s that human expertise depends on unconscious instinct rather than conscious symbol manipulation and on having a feel for the situation rather than explicit symbolic knowledge although his arguments had been ridiculed and ignored when they were first presented eventually ai research came to agree with him the issue is not resolved subsymbolic reasoning can make many of the same inscrutable mistakes that human intuition does such as algorithmic bias critics such as noam chomsky argue continuing research into symbolic ai will still be necessary to attain general intelligence in part because subsymbolic ai is a move away from explainable ai it can be difficult or impossible to understand why a modern statistical ai program made a particular decision the emerging field of neurosymbolic artificial intelligence attempts to bridge the two approaches neat vs scruffy neats hope that intelligent behavior is described using simple elegant principles such as logic optimization or neural networks scruffies expect that it necessarily requires solving a large number of unrelated problems neats defend their programs with theoretical rigor scruffies rely mainly on incremental testing to see if they work this issue was actively discussed in the s and s but eventually was seen as irrelevant modern ai has elements of both soft vs hard computing finding a provably correct or optimal solution is intractable for many important problems soft computing is a set of techniques including genetic algorithms fuzzy logic and neural networks that are tolerant of imprecision uncertainty partial truth and approximation soft computing was introduced in the late s and most successful ai programs in the st century are examples of soft computing with neural networks narrow vs general ai ai researchers are divided as to whether to pursue the goals of artificial general intelligence and superintelligence directly or to solve as many specific problems as possible narrow ai in hopes these solutions will lead indirectly to the fields longterm goals general intelligence is difficult to define and difficult to measure and modern ai has had more verifiable successes by focusing on specific problems with specific solutions the experimental subfield of artificial general intelligence studies this area exclusively machine consciousness sentience and mind the philosophy of mind does not know whether a machine can have a mind consciousness and mental states in the same sense that human beings do this issue considers the internal experiences of the machine rather than its external behavior mainstream ai research considers this issue irrelevant because it does not affect the goals of the field to build machines that can solve problems using intelligence russell and norvig add that the additional project of making a machine conscious in exactly the way humans are is not one that we are equipped to take on however the question has become central to the philosophy of mind it is also typically the central question at issue in artificial intelligence in fiction consciousness david chalmers identified two problems in understanding the mind which he named the hard and easy problems of consciousness the easy problem is understanding how the brain processes signals makes plans and controls behavior the hard problem is explaining how this feels or why it should feel like anything at all assuming we are right in thinking that it truly does feel like something dennetts consciousness illusionism says this is an illusion human information processing is easy to explain however human subjective experience is difficult to explain for example it is easy to imagine a colorblind person who has learned to identify which objects in their field of view are red but it is not clear what would be required for the person to know what red looks like computationalism and functionalism computationalism is the position in the philosophy of mind that the human mind is an information processing system and that thinking is a form of computing computationalism argues that the relationship between mind and body is similar or identical to the relationship between software and hardware and thus may be a solution to the mind body problem this philosophical position was inspired by the work of ai researchers and cognitive scientists in the s and was originally proposed by philosophers jerry fodor and hilary putnam philosopher john searle characterized this position as strong ai the appropriately programmed computer with the right inputs and outputs would thereby have a mind in exactly the same sense human beings have minds searle counters this assertion with his chinese room argument which attempts to show that even if a machine perfectly simulates human behavior there is still no reason to suppose it also has a mind ai welfare and rights it is difficult or impossible to reliably evaluate whether an advanced ai is sentient has the ability to feel and if so to what degree but if there is a significant chance that a given machine can feel and suffer then it may be entitled to certain rights or welfare protection measures similarly to animals sapience a set of capacities related to high intelligence such as discernment or selfawareness may provide another moral basis for ai rights robot rights are also sometimes proposed as a practical way to integrate autonomous agents into society in  the european union considered granting electronic personhood to some of the most capable ai systems similarly to the legal status of companies it would have conferred rights but also responsibilities critics argued in  that granting rights to ai systems would downplay the importance of human rights and that legislation should focus on user needs rather than speculative futuristic scenarios they also noted that robots lacked the autonomy to take part to society on their own progress in ai increased interest in the topic proponents of ai welfare and rights often argue that ai sentience if it emerges would be particularly easy to deny they warn that this may be a moral blind spot analogous to slavery or factory farming which could lead to largescale suffering if sentient ai is created and carelessly exploited future superintelligence and the singularity a superintelligence is a hypothetical agent that would possess intelligence far surpassing that of the brightest and most gifted human mind if research into artificial general intelligence produced sufficiently intelligent software it might be able to reprogram and improve itself the improved software would be even better at improving itself leading to what i j good called an intelligence explosion and vernor vinge called a singularity however technologies cannot improve exponentially indefinitely and typically follow an sshaped curve slowing when they reach the physical limits of what the technology can do transhumanism robot designer hans moravec cyberneticist kevin warwick and inventor ray kurzweil have predicted that humans and machines will merge in the future into cyborgs that are more capable and powerful than either this idea called transhumanism has roots in aldous huxley and robert ettinger edward fredkin argues that artificial intelligence is the next stage in evolution an idea first proposed by samuel butlers darwin among the machines as far back as  and expanded upon by george dyson in his book of the same name in  in fiction thoughtcapable artificial beings have appeared as storytelling devices since antiquity and have been a persistent theme in science fiction a common trope in these works began with mary shelleys frankenstein where a human creation becomes a threat to its masters this includes such works as arthur c clarkes and stanley kubricks  a space odyssey both  with hal  the murderous computer in charge of the discovery one spaceship as well as the terminator  and the matrix  in contrast the rare loyal robots such as gort from the day the earth stood still  and bishop from aliens  are less prominent in popular culture isaac asimov introduced the three laws of robotics in many books and stories most notably the multivac series about a superintelligent computer of the same name asimovs laws are often brought up during lay discussions of machine ethics while almost all artificial intelligence researchers are familiar with asimovs laws through popular culture they generally consider the laws useless for many reasons one of which is their ambiguity several works use ai to force us to confront the fundamental question of what makes us human showing us artificial beings that have the ability to feel and thus to suffer this appears in karel apeks rur the films ai artificial intelligence and ex machina as well as the novel do androids dream of electric sheep by philip k dick dick considers the idea that our understanding of human subjectivity is altered by technology created with artificial intelligence see also artificial intelligence detection software software to detect aigenerated contentpages displaying short descriptions of redirect targets behavior selection algorithm algorithm that selects actions for intelligent agents business process automation technologyenabled automation of complex business processes casebased reasoning process of solving new problems based on the solutions of similar past problems computational intelligence ability of a computer to learn a specific task from data or experimental observation digital immortality hypothetical concept of storing a personality in digital form emergent algorithm algorithm exhibiting emergent behavior female gendering of ai technologies gender biases in digital technologypages displaying short descriptions of redirect targets glossary of artificial intelligence list of definitions of terms and concepts commonly used in the study of artificial intelligence intelligence amplification use of information technology to augment human intelligence mind uploading hypothetical process of digitally emulating a brain robotic process automation form of business process automation technology weak artificial intelligence form of artificial intelligence wetware computer computer composed of organic material explanatory notes references ai textbooks the two most widely used textbooks in  see the open syllabus russell stuart j norvig peter  artificial intelligence a modern approach th ed hoboken pearson isbn  lccn  rich elaine knight kevin nair shivashankar b  artificial intelligence rd ed new delhi tata mcgraw hill india isbn  these were the four of the most widely used ai textbooks in  history of ai other sources further reading external links artificial intelligence internet encyclopedia of philosophy thomason richmond logic and artificial intelligence in zalta edward n ed stanford encyclopedia of philosophy artificial intelligence bbc radio  discussion with john agar alison adam igor aleksander in our time  december  theranostics and ai the next advance in cancer precision medicinecomputer science is the study of computation information and automation computer science spans theoretical disciplines such as algorithms theory of computation and information theory to applied disciplines including the design and implementation of hardware and software algorithms and data structures are central to computer science the theory of computation concerns abstract models of computation and general classes of problems that can be solved using them the fields of cryptography and computer security involve studying the means for secure communication and preventing security vulnerabilities computer graphics and computational geometry address the generation of images programming language theory considers different ways to describe computational processes and database theory concerns the management of repositories of data human computer interaction investigates the interfaces through which humans and computers interact and software engineering focuses on the design and principles behind developing software areas such as operating systems networks and embedded systems investigate the principles and design behind complex systems computer architecture describes the construction of computer components and computeroperated equipment artificial intelligence and machine learning aim to synthesize goalorientated processes such as problemsolving decisionmaking environmental adaptation planning and learning found in humans and animals within artificial intelligence computer vision aims to understand and process image and video data while natural language processing aims to understand and process textual and linguistic data the fundamental concern of computer science is determining what can and cannot be automated the turing award is generally recognized as the highest distinction in computer science history the earliest foundations of what would become computer science predate the invention of the modern digital computer machines for calculating fixed numerical tasks such as the abacus have existed since antiquity aiding in computations such as multiplication and division algorithms for performing computations have existed since antiquity even before the development of sophisticated computing equipment wilhelm schickard designed and constructed the first working mechanical calculator in  in  gottfried leibniz demonstrated a digital mechanical calculator called the stepped reckoner leibniz may be considered the first computer scientist and information theorist because of various reasons including the fact that he documented the binary number system in  thomas de colmar launched the mechanical calculator industry when he invented his simplified arithmometer the first calculating machine strong enough and reliable enough to be used daily in an office environment charles babbage started the design of the first automatic mechanical calculator his difference engine in  which eventually gave him the idea of the first programmable mechanical calculator his analytical engine he started developing this machine in  and in less than two years he had sketched out many of the salient features of the modern computer a crucial step was the adoption of a punched card system derived from the jacquard loom making it infinitely programmable in  during the translation of a french article on the analytical engine ada lovelace wrote in one of the many notes she included an algorithm to compute the bernoulli numbers which is considered to be the first published algorithm ever specifically tailored for implementation on a computer around  herman hollerith invented the tabulator which used punched cards to process statistical information eventually his company became part of ibm following babbage although unaware of his earlier work percy ludgate in  published the nd of the only two designs for mechanical analytical engines in history in  the spanish engineer leonardo torres quevedo published his essays on automatics and designed inspired by babbage a theoretical electromechanical calculating machine which was to be controlled by a readonly program the paper also introduced the idea of floatingpoint arithmetic in  to celebrate the th anniversary of the invention of the arithmometer torres presented in paris the electromechanical arithmometer a prototype that demonstrated the feasibility of an electromechanical analytical engine on which commands could be typed and the results printed automatically in  one hundred years after babbages impossible dream howard aiken convinced ibm which was making all kinds of punched card equipment and was also in the calculator business to develop his giant programmable calculator the asccharvard mark i based on babbages analytical engine which itself used cards and a central computing unit when the machine was finished some hailed it as babbages dream come true during the s with the development of new and more powerful computing machines such as the atanasoff berry computer and eniac the term computer came to refer to the machines rather than their human predecessors as it became clear that computers could be used for more than just mathematical calculations the field of computer science broadened to study computation in general in  ibm founded the watson scientific computing laboratory at columbia university in new york city the renovated fraternity house on manhattans west side was ibms first laboratory devoted to pure science the lab is the forerunner of ibms research division which today operates research facilities around the world ultimately the close relationship between ibm and columbia university was instrumental in the emergence of a new scientific discipline with columbia offering one of the first academiccredit courses in computer science in  computer science began to be established as a distinct academic discipline in the s and early s the worlds first computer science degree program the cambridge diploma in computer science began at the university of cambridge computer laboratory in  the first computer science department in the united states was formed at purdue university in  since practical computers became available many applications of computing have become distinct areas of study in their own rights etymology and scope although first proposed in  the term computer science appears in a  article in communications of the acm in which louis fein argues for the creation of a graduate school in computer sciences analogous to the creation of harvard business school in  louis justifies the name by arguing that like management science the subject is applied and interdisciplinary in nature while having the characteristics typical of an academic discipline his efforts and those of others such as numerical analyst george forsythe were rewarded universities went on to create such departments starting with purdue in  despite its name a significant amount of computer science does not involve the study of computers themselves because of this several alternative names have been proposed certain departments of major universities prefer the term computing science to emphasize precisely that difference danish scientist peter naur suggested the term datalogy to reflect the fact that the scientific discipline revolves around data and data treatment while not necessarily involving computers the first scientific institution to use the term was the department of datalogy at the university of copenhagen founded in  with peter naur being the first professor in datalogy the term is used mainly in the scandinavian countries an alternative term also proposed by naur is data science this is now used for a multidisciplinary field of data analysis including statistics and databases in the early days of computing a number of terms for the practitioners of the field of computing were suggested in the communications of the acm turingineer turologist flowchartsman applied metamathematician and applied epistemologist three months later in the same journal comptologist was suggested followed next year by hypologist the term computics has also been suggested in europe terms derived from contracted translations of the expression automatic information eg informazione automatica in italian or information and mathematics are often used eg informatique french informatik german informatica italian dutch inform tica spanish portuguese informatika slavic languages and hungarian or pliroforiki which means informatics in greek similar words have also been adopted in the uk as in the school of informatics university of edinburgh in the us however informatics is linked with applied computing or computing in the context of another domain a folkloric quotation often attributed to but almost certainly not first formulated by edsger dijkstra states that computer science is no more about computers than astronomy is about telescopes the design and deployment of computers and computer systems is generally considered the province of disciplines other than computer science for example the study of computer hardware is usually considered part of computer engineering while the study of commercial computer systems and their deployment is often called information technology or information systems however there has been exchange of ideas between the various computerrelated disciplines computer science research also often intersects other disciplines such as cognitive science linguistics mathematics physics biology earth science statistics philosophy and logic computer science is considered by some to have a much closer relationship with mathematics than many scientific disciplines with some observers saying that computing is a mathematical science early computer science was strongly influenced by the work of mathematicians such as kurt g del alan turing john von neumann r zsa p ter and alonzo church and there continues to be a useful interchange of ideas between the two fields in areas such as mathematical logic category theory domain theory and algebra the relationship between computer science and software engineering is a contentious issue which is further muddied by disputes over what the term software engineering means and how computer science is defined david parnas taking a cue from the relationship between other engineering and science disciplines has claimed that the principal focus of computer science is studying the properties of computation in general while the principal focus of software engineering is the design of specific computations to achieve practical goals making the two separate but complementary disciplines the academic political and funding aspects of computer science tend to depend on whether a department is formed with a mathematical emphasis or with an engineering emphasis computer science departments with a mathematics emphasis and with a numerical orientation consider alignment with computational science both types of departments tend to make efforts to bridge the field educationally if not across all research philosophy epistemology of computer science despite the word science in its name there is debate over whether or not computer science is a discipline of science mathematics or engineering allen newell and herbert a simon argued in  computer science is an empirical discipline we would have called it an experimental science but like astronomy economics and geology some of its unique forms of observation and experience do not fit a narrow stereotype of the experimental method nonetheless they are experiments each new machine that is built is an experiment actually constructing the machine poses a question to nature and we listen for the answer by observing the machine in operation and analyzing it by all analytical and measurement means available it has since been argued that computer science can be classified as an empirical science since it makes use of empirical testing to evaluate the correctness of programs but a problem remains in defining the laws and theorems of computer science if any exist and defining the nature of experiments in computer science proponents of classifying computer science as an engineering discipline argue that the reliability of computational systems is investigated in the same way as bridges in civil engineering and airplanes in aerospace engineering they also argue that while empirical sciences observe what presently exists computer science observes what is possible to exist and while scientists discover laws from observation no proper laws have been found in computer science and it is instead concerned with creating phenomena proponents of classifying computer science as a mathematical discipline argue that computer programs are physical realizations of mathematical entities and programs that can be deductively reasoned through mathematical formal methods computer scientists edsger w dijkstra and tony hoare regard instructions for computer programs as mathematical sentences and interpret formal semantics for programming languages as mathematical axiomatic systems paradigms of computer science a number of computer scientists have argued for the distinction of three separate paradigms in computer science peter wegner argued that those paradigms are science technology and mathematics peter dennings working group argued that they are theory abstraction modeling and design amnon h eden described them as the rationalist paradigm which treats computer science as a branch of mathematics which is prevalent in theoretical computer science and mainly employs deductive reasoning the technocratic paradigm which might be found in engineering approaches most prominently in software engineering and the scientific paradigm which approaches computerrelated artifacts from the empirical perspective of natural sciences identifiable in some branches of artificial intelligence computer science focuses on methods involved in design specification programming verification implementation and testing of humanmade computing systems fields as a discipline computer science spans a range of topics from theoretical studies of algorithms and the limits of computation to the practical issues of implementing computing systems in hardware and software csab formerly called computing sciences accreditation board which is made up of representatives of the association for computing machinery acm and the ieee computer society ieee cs identifies four areas that it considers crucial to the discipline of computer science theory of computation algorithms and data structures programming methodology and languages and computer elements and architecture in addition to these four areas csab also identifies fields such as software engineering artificial intelligence computer networking and communication database systems parallel computation distributed computation human computer interaction computer graphics operating systems and numerical and symbolic computation as being important areas of computer science theoretical computer science theoretical computer science is mathematical and abstract in spirit but it derives its motivation from practical and everyday computation it aims to understand the nature of computation and as a consequence of this understanding provide more efficient methodologies theory of computation according to peter denning the fundamental question underlying computer science is what can be automated theory of computation is focused on answering fundamental questions about what can be computed and what amount of resources are required to perform those computations in an effort to answer the first question computability theory examines which computational problems are solvable on various theoretical models of computation the second question is addressed by computational complexity theory which studies the time and space costs associated with different approaches to solving a multitude of computational problems the famous p np problem one of the millennium prize problems is an open problem in the theory of computation information and coding theory information theory closely related to probability and statistics is related to the quantification of information this was developed by claude shannon to find fundamental limits on signal processing operations such as compressing data and on reliably storing and communicating data coding theory is the study of the properties of codes systems for converting information from one form to another and their fitness for a specific application codes are used for data compression cryptography error detection and correction and more recently also for network coding codes are studied for the purpose of designing efficient and reliable data transmission methods data structures and algorithms data structures and algorithms are the studies of commonly used computational methods and their computational efficiency programming language theory and formal methods programming language theory is a branch of computer science that deals with the design implementation analysis characterization and classification of programming languages and their individual features it falls within the discipline of computer science both depending on and affecting mathematics software engineering and linguistics it is an active research area with numerous dedicated academic journals formal methods are a particular kind of mathematically based technique for the specification development and verification of software and hardware systems the use of formal methods for software and hardware design is motivated by the expectation that as in other engineering disciplines performing appropriate mathematical analysis can contribute to the reliability and robustness of a design they form an important theoretical underpinning for software engineering especially where safety or security is involved formal methods are a useful adjunct to software testing since they help avoid errors and can also give a framework for testing for industrial use tool support is required however the high cost of using formal methods means that they are usually only used in the development of highintegrity and lifecritical systems where safety or security is of utmost importance formal methods are best described as the application of a fairly broad variety of theoretical computer science fundamentals in particular logic calculi formal languages automata theory and program semantics but also type systems and algebraic data types to problems in software and hardware specification and verification applied computer science computer graphics and visualization computer graphics is the study of digital visual contents and involves the synthesis and manipulation of image data the study is connected to many other fields in computer science including computer vision image processing and computational geometry and is heavily applied in the fields of special effects and video games image and sound processing information can take the form of images sound video or other multimedia bits of information can be streamed via signals its processing is the central notion of informatics the european view on computing which studies information processing algorithms independently of the type of information carrier whether it is electrical mechanical or biological this field plays important role in information theory telecommunications information engineering and has applications in medical image computing and speech synthesis among others what is the lower bound on the complexity of fast fourier transform algorithms is one of unsolved problems in theoretical computer science computational science finance and engineering scientific computing or computational science is the field of study concerned with constructing mathematical models and quantitative analysis techniques and using computers to analyze and solve scientific problems a major usage of scientific computing is simulation of various processes including computational fluid dynamics physical electrical and electronic systems and circuits as well as societies and social situations notably war games along with their habitats among many others modern computers enable optimization of such designs as complete aircraft notable in electrical and electronic circuit design are spice as well as software for physical realization of new or modified designs the latter includes essential design software for integrated circuits social computing and human computer interaction social computing is an area that is concerned with the intersection of social behavior and computational systems human computer interaction research develops theories principles and guidelines for user interface designers software engineering software engineering is the study of designing implementing and modifying the software in order to ensure it is of high quality affordable maintainable and fast to build it is a systematic approach to software design involving the application of engineering practices to software software engineering deals with the organizing and analyzing of software it does not just deal with the creation or manufacture of new software but its internal arrangement and maintenance for example software testing systems engineering technical debt and software development processes artificial intelligence artificial intelligence ai aims to or is required to synthesize goalorientated processes such as problemsolving decisionmaking environmental adaptation learning and communication found in humans and animals from its origins in cybernetics and in the dartmouth conference  artificial intelligence research has been necessarily crossdisciplinary drawing on areas of expertise such as applied mathematics symbolic logic semiotics electrical engineering philosophy of mind neurophysiology and social intelligence ai is associated in the popular mind with robotic development but the main field of practical application has been as an embedded component in areas of software development which require computational understanding the starting point in the late s was alan turings question can computers think and the question remains effectively unanswered although the turing test is still used to assess computer output on the scale of human intelligence but the automation of evaluative and predictive tasks has been increasingly successful as a substitute for human monitoring and intervention in domains of computer application involving complex realworld data computer systems computer architecture and organization computer architecture or digital computer organization is the conceptual design and fundamental operational structure of a computer system it focuses largely on the way by which the central processing unit performs internally and accesses addresses in memory computer engineers study computational logic and design of computer hardware from individual processor components microcontrollers personal computers to supercomputers and embedded systems the term architecture in computer literature can be traced to the work of lyle r johnson and frederick p brooks jr members of the machine organization department in ibms main research center in  concurrent parallel and distributed computing concurrency is a property of systems in which several computations are executing simultaneously and potentially interacting with each other a number of mathematical models have been developed for general concurrent computation including petri nets process calculi and the parallel random access machine model when multiple computers are connected in a network while using concurrency this is known as a distributed system computers within that distributed system have their own private memory and information can be exchanged to achieve common goals computer networks this branch of computer science aims to manage networks between computers worldwide computer security and cryptography computer security is a branch of computer technology with the objective of protecting information from unauthorized access disruption or modification while maintaining the accessibility and usability of the system for its intended users historical cryptography is the art of writing and deciphering secret messages modern cryptography is the scientific study of problems relating to distributed computations that can be attacked technologies studied in modern cryptography include symmetric and asymmetric encryption digital signatures cryptographic hash functions keyagreement protocols blockchain zeroknowledge proofs and garbled circuits databases and data mining a database is intended to organize store and retrieve large amounts of data easily digital databases are managed using database management systems to store create maintain and search data through database models and query languages data mining is a process of discovering patterns in large data sets discoveries the philosopher of computing bill rapaport noted three great insights of computer science gottfried wilhelm leibnizs george booles alan turings claude shannons and samuel morses insight there are only two objects that a computer has to deal with in order to represent anything all the information about any computable problem can be represented using only  and  or any other bistable pair that can flipflop between two easily distinguishable states such as onoff magnetizeddemagnetized highvoltagelowvoltage etc alan turings insight there are only five actions that a computer has to perform in order to do anything every algorithm can be expressed in a language for a computer consisting of only five basic instructions move left one location move right one location read symbol at current location print  at current location print  at current location corrado b hm and giuseppe jacopinis insight there are only three ways of combining these actions into more complex ones that are needed in order for a computer to do anything only three rules are needed to combine any set of basic instructions into more complex ones sequence first do this then do that selection if suchandsuch is the case then do this else do that repetition while suchandsuch is the case do this the three rules of boehms and jacopinis insight can be further simplified with the use of goto which means it is more elementary than structured programming programming paradigms programming languages can be used to accomplish different tasks in different ways common programming paradigms include functional programming a style of building the structure and elements of computer programs that treats computation as the evaluation of mathematical functions and avoids state and mutable data it is a declarative programming paradigm which means programming is done with expressions or declarations instead of statements imperative programming a programming paradigm that uses statements that change a programs state in much the same way that the imperative mood in natural languages expresses commands an imperative program consists of commands for the computer to perform imperative programming focuses on describing how a program operates objectoriented programming a programming paradigm based on the concept of objects which may contain data in the form of fields often known as attributes and code in the form of procedures often known as methods a feature of objects is that an objects procedures can access and often modify the data fields of the object with which they are associated thus objectoriented computer programs are made out of objects that interact with one another serviceoriented programming a programming paradigm that uses services as the unit of computer work to design and implement integrated business applications and mission critical software programs many languages offer support for multiple paradigms making the distinction more a matter of style than of technical capabilities research conferences are important events for computer science research during these conferences researchers from the public and private sectors present their recent work and meet unlike in most other academic fields in computer science the prestige of conference papers is greater than that of journal publications one proposed explanation for this is the quick development of this relatively new field requires rapid review and distribution of results a task better handled by conferences than by journals education computer science known by its near synonyms computing computer studies has been taught in uk schools since the days of batch processing mark sensitive cards and paper tape but usually to a select few students in  the bbc produced a microcomputer and classroom network and computer studies became common for gce o level students  yearold and computer science to a level students its importance was recognised and it became a compulsory part of the national curriculum for key stage   in september  it became an entitlement for all pupils over the age of  in the us with  school districts deciding the curriculum provision was fractured according to a  report by the association for computing machinery acm and computer science teachers association csta only  out of  states have adopted significant education standards for high school computer science according to a  report only  of high schools in the us offer computer science israel new zealand and south korea have included computer science in their national secondary education curricula and several others are following see also notes references further reading external links dblp computer science bibliography association for computing machinery institute of electrical and electronics engineersmachine learning ml is a field of study in artificial intelligence concerned with the development and study of statistical algorithms that can learn from data and generalize to unseen data and thus perform tasks without explicit instructions recently artificial neural networks have been able to surpass many previous approaches in performance ml finds application in many fields including natural language processing computer vision speech recognition email filtering agriculture and medicine when applied to business problems it is known under the name predictive analytics although not all machine learning is statistically based computational statistics is an important source of the fields methods the mathematical foundations of ml are provided by mathematical optimization mathematical programming methods data mining is a related parallel field of study focusing on exploratory data analysis eda through unsupervised learning from a theoretical viewpoint probably approximately correct pac learning provides a framework for describing machine learning history the term machine learning was coined in  by arthur samuel an ibm employee and pioneer in the field of computer gaming and artificial intelligence the synonym selfteaching computers was also used in this time period although the earliest machine learning model was introduced in the s when arthur samuel invented a program that calculated the winning chance in checkers for each side the history of machine learning roots back to decades of human desire and effort to study human cognitive processes in  canadian psychologist donald hebb published the book the organization of behavior in which he introduced a theoretical neural structure formed by certain interactions among nerve cells hebbs model of neurons interacting with one another set a groundwork for how ais and machine learning algorithms work under nodes or artificial neurons used by computers to communicate data other researchers who have studied human cognitive systems contributed to the modern machine learning technologies as well including logician walter pitts and warren mcculloch who proposed the early mathematical models of neural networks to come up with algorithms that mirror human thought processes by the early s an experimental learning machine with punched tape memory called cybertron had been developed by raytheon company to analyze sonar signals electrocardiograms and speech patterns using rudimentary reinforcement learning it was repetitively trained by a human operatorteacher to recognize patterns and equipped with a goof button to cause it to reevaluate incorrect decisions a representative book on research into machine learning during the s was nilssons book on learning machines dealing mostly with machine learning for pattern classification interest related to pattern recognition continued into the s as described by duda and hart in  in  a report was given on using teaching strategies so that an artificial neural network learns to recognize  characters  letters  digits and  special symbols from a computer terminal tom m mitchell provided a widely quoted more formal definition of the algorithms studied in the machine learning field a computer program is said to learn from experience e with respect to some class of tasks t and performance measure p if its performance at tasks in t as measured by p improves with experience e this definition of the tasks in which machine learning is concerned offers a fundamentally operational definition rather than defining the field in cognitive terms this follows alan turings proposal in his paper computing machinery and intelligence in which the question can machines think is replaced with the question can machines do what we as thinking entities can do modernday machine learning has two objectives one is to classify data based on models which have been developed the other purpose is to make predictions for future outcomes based on these models a hypothetical algorithm specific to classifying data may use computer vision of moles coupled with supervised learning in order to train it to classify the cancerous moles a machine learning algorithm for stock trading may inform the trader of future potential predictions relationships to other fields artificial intelligence as a scientific endeavor machine learning grew out of the quest for artificial intelligence ai in the early days of ai as an academic discipline some researchers were interested in having machines learn from data they attempted to approach the problem with various symbolic methods as well as what were then termed neural networks these were mostly perceptrons and other models that were later found to be reinventions of the generalized linear models of statistics probabilistic reasoning was also employed especially in automated medical diagnosis  however an increasing emphasis on the logical knowledgebased approach caused a rift between ai and machine learning probabilistic systems were plagued by theoretical and practical problems of data acquisition and representation  by  expert systems had come to dominate ai and statistics was out of favor work on symbolicknowledgebased learning did continue within ai leading to inductive logic programmingilp but the more statistical line of research was now outside the field of ai proper in pattern recognition and information retrieval    neural networks research had been abandoned by ai and computer science around the same time this line too was continued outside the aics field as connectionism by researchers from other disciplines including hopfield rumelhart and hinton their main success came in the mids with the reinvention of backpropagation  machine learning ml reorganized and recognized as its own field started to flourish in the s the field changed its goal from achieving artificial intelligence to tackling solvable problems of a practical nature it shifted focus away from the symbolic approaches it had inherited from ai and toward methods and models borrowed from statistics fuzzy logic and probability theory data compression data mining machine learning and data mining often employ the same methods and overlap significantly but while machine learning focuses on prediction based on known properties learned from the training data data mining focuses on the discovery of previously unknown properties in the data this is the analysis step of knowledge discovery in databases data mining uses many machine learning methods but with different goals on the other hand machine learning also employs data mining methods as unsupervised learning or as a preprocessing step to improve learner accuracy much of the confusion between these two research communities which do often have separate conferences and separate journals ecml pkdd being a major exception comes from the basic assumptions they work with in machine learning performance is usually evaluated with respect to the ability to reproduce known knowledge while in knowledge discovery and data mining kdd the key task is the discovery of previously unknown knowledge evaluated with respect to known knowledge an uninformed unsupervised method will easily be outperformed by other supervised methods while in a typical kdd task supervised methods cannot be used due to the unavailability of training data machine learning also has intimate ties to optimization many learning problems are formulated as minimization of some loss function on a training set of examples loss functions express the discrepancy between the predictions of the model being trained and the actual problem instances for example in classification one wants to assign a label to instances and models are trained to correctly predict the preassigned labels of a set of examples generalization the difference between optimization and machine learning arises from the goal of generalization while optimization algorithms can minimize the loss on a training set machine learning is concerned with minimizing the loss on unseen samples characterizing the generalization of various learning algorithms is an active topic of current research especially for deep learning algorithms statistics machine learning and statistics are closely related fields in terms of methods but distinct in their principal goal statistics draws population inferences from a sample while machine learning finds generalizable predictive patterns according to michael i jordan the ideas of machine learning from methodological principles to theoretical tools have had a long prehistory in statistics he also suggested the term data science as a placeholder to call the overall field conventional statistical analyses require the a priori selection of a model most suitable for the study data set in addition only significant or theoretically relevant variables based on previous experience are included for analysis in contrast machine learning is not built on a prestructured model rather the data shape the model by detecting underlying patterns the more variables input used to train the model the more accurate the ultimate model will be leo breiman distinguished two statistical modeling paradigms data model and algorithmic model wherein algorithmic model means more or less the machine learning algorithms like random forest some statisticians have adopted methods from machine learning leading to a combined field that they call statistical learning statistical physics analytical and computational techniques derived from deeprooted physics of disordered systems can be extended to largescale problems including machine learning eg to analyze the weight space of deep neural networks statistical physics is thus finding applications in the area of medical diagnostics theory a core objective of a learner is to generalize from its experience generalization in this context is the ability of a learning machine to perform accurately on new unseen examplestasks after having experienced a learning data set the training examples come from some generally unknown probability distribution considered representative of the space of occurrences and the learner has to build a general model about this space that enables it to produce sufficiently accurate predictions in new cases the computational analysis of machine learning algorithms and their performance is a branch of theoretical computer science known as computational learning theory via the probably approximately correct learning pac model because training sets are finite and the future is uncertain learning theory usually does not yield guarantees of the performance of algorithms instead probabilistic bounds on the performance are quite common the bias variance decomposition is one way to quantify generalization error for the best performance in the context of generalization the complexity of the hypothesis should match the complexity of the function underlying the data if the hypothesis is less complex than the function then the model has under fitted the data if the complexity of the model is increased in response then the training error decreases but if the hypothesis is too complex then the model is subject to overfitting and generalization will be poorer in addition to performance bounds learning theorists study the time complexity and feasibility of learning in computational learning theory a computation is considered feasible if it can be done in polynomial time there are two kinds of time complexity results positive results show that a certain class of functions can be learned in polynomial time negative results show that certain classes cannot be learned in polynomial time approaches machine learning approaches are traditionally divided into three broad categories which correspond to learning paradigms depending on the nature of the signal or feedback available to the learning system supervised learning the computer is presented with example inputs and their desired outputs given by a teacher and the goal is to learn a general rule that maps inputs to outputs unsupervised learning no labels are given to the learning algorithm leaving it on its own to find structure in its input unsupervised learning can be a goal in itself discovering hidden patterns in data or a means towards an end feature learning reinforcement learning a computer program interacts with a dynamic environment in which it must perform a certain goal such as driving a vehicle or playing a game against an opponent as it navigates its problem space the program is provided feedback thats analogous to rewards which it tries to maximize although each algorithm has advantages and limitations no single algorithm works for all problems supervised learning supervised learning algorithms build a mathematical model of a set of data that contains both the inputs and the desired outputs the data is known as training data and consists of a set of training examples each training example has one or more inputs and the desired output also known as a supervisory signal in the mathematical model each training example is represented by an array or vector sometimes called a feature vector and the training data is represented by a matrix through iterative optimization of an objective function supervised learning algorithms learn a function that can be used to predict the output associated with new inputs an optimal function allows the algorithm to correctly determine the output for inputs that were not a part of the training data an algorithm that improves the accuracy of its outputs or predictions over time is said to have learned to perform that task types of supervisedlearning algorithms include active learning classification and regression classification algorithms are used when the outputs are restricted to a limited set of values and regression algorithms are used when the outputs may have any numerical value within a range as an example for a classification algorithm that filters emails the input would be an incoming email and the output would be the name of the folder in which to file the email similarity learning is an area of supervised machine learning closely related to regression and classification but the goal is to learn from examples using a similarity function that measures how similar or related two objects are it has applications in ranking recommendation systems visual identity tracking face verification and speaker verification unsupervised learning unsupervised learning algorithms find structures in data that has not been labeled classified or categorized instead of responding to feedback unsupervised learning algorithms identify commonalities in the data and react based on the presence or absence of such commonalities in each new piece of data central applications of unsupervised machine learning include clustering dimensionality reduction and density estimation unsupervised learning algorithms also streamlined the process of identifying large indel based haplotypes of a gene of interest from pangenome cluster analysis is the assignment of a set of observations into subsets called clusters so that observations within the same cluster are similar according to one or more predesignated criteria while observations drawn from different clusters are dissimilar different clustering techniques make different assumptions on the structure of the data often defined by some similarity metric and evaluated for example by internal compactness or the similarity between members of the same cluster and separation the difference between clusters other methods are based on estimated density and graph connectivity semisupervised learning semisupervised learning falls between unsupervised learning without any labeled training data and supervised learning with completely labeled training data some of the training examples are missing training labels yet many machinelearning researchers have found that unlabeled data when used in conjunction with a small amount of labeled data can produce a considerable improvement in learning accuracy in weakly supervised learning the training labels are noisy limited or imprecise however these labels are often cheaper to obtain resulting in larger effective training sets reinforcement learning reinforcement learning is an area of machine learning concerned with how software agents ought to take actions in an environment so as to maximize some notion of cumulative reward due to its generality the field is studied in many other disciplines such as game theory control theory operations research information theory simulationbased optimization multiagent systems swarm intelligence statistics and genetic algorithms in reinforcement learning the environment is typically represented as a markov decision process mdp many reinforcements learning algorithms use dynamic programming techniques reinforcement learning algorithms do not assume knowledge of an exact mathematical model of the mdp and are used when exact models are infeasible reinforcement learning algorithms are used in autonomous vehicles or in learning to play a game against a human opponent dimensionality reduction dimensionality reduction is a process of reducing the number of random variables under consideration by obtaining a set of principal variables in other words it is a process of reducing the dimension of the feature set also called the number of features most of the dimensionality reduction techniques can be considered as either feature elimination or extraction one of the popular methods of dimensionality reduction is principal component analysis pca pca involves changing higherdimensional data eg d to a smaller space eg d this results in a smaller dimension of data d instead of d while keeping all original variables in the model without changing the data the manifold hypothesis proposes that highdimensional data sets lie along lowdimensional manifolds and many dimensionality reduction techniques make this assumption leading to the area of manifold learning and manifold regularization other types other approaches have been developed which do not fit neatly into this threefold categorization and sometimes more than one is used by the same machine learning system for example topic modeling metalearning selflearning selflearning as a machine learning paradigm was introduced in  along with a neural network capable of selflearning named crossbar adaptive array caa it is learning with no external rewards and no external teacher advice the caa selflearning algorithm computes in a crossbar fashion both decisions about actions and emotions feelings about consequence situations the system is driven by the interaction between cognition and emotion the selflearning algorithm updates a memory matrix w was such that in each iteration executes the following machine learning routine in situation s perform action a receive a consequence situation s compute emotion of being in the consequence situation vs update crossbar memory was was vs it is a system with only one input situation and only one output action or behavior a there is neither a separate reinforcement input nor an advice input from the environment the backpropagated value secondary reinforcement is the emotion toward the consequence situation the caa exists in two environments one is the behavioral environment where it behaves and the other is the genetic environment wherefrom it initially and only once receives initial emotions about situations to be encountered in the behavioral environment after receiving the genome species vector from the genetic environment the caa learns a goalseeking behavior in an environment that contains both desirable and undesirable situations feature learning several learning algorithms aim at discovering better representations of the inputs provided during training classic examples include principal component analysis and cluster analysis feature learning algorithms also called representation learning algorithms often attempt to preserve the information in their input but also transform it in a way that makes it useful often as a preprocessing step before performing classification or predictions this technique allows reconstruction of the inputs coming from the unknown datagenerating distribution while not being necessarily faithful to configurations that are implausible under that distribution this replaces manual feature engineering and allows a machine to both learn the features and use them to perform a specific task feature learning can be either supervised or unsupervised in supervised feature learning features are learned using labeled input data examples include artificial neural networks multilayer perceptrons and supervised dictionary learning in unsupervised feature learning features are learned with unlabeled input data examples include dictionary learning independent component analysis autoencoders matrix factorization and various forms of clustering manifold learning algorithms attempt to do so under the constraint that the learned representation is lowdimensional sparse coding algorithms attempt to do so under the constraint that the learned representation is sparse meaning that the mathematical model has many zeros multilinear subspace learning algorithms aim to learn lowdimensional representations directly from tensor representations for multidimensional data without reshaping them into higherdimensional vectors deep learning algorithms discover multiple levels of representation or a hierarchy of features with higherlevel more abstract features defined in terms of or generating lowerlevel features it has been argued that an intelligent machine is one that learns a representation that disentangles the underlying factors of variation that explain the observed data feature learning is motivated by the fact that machine learning tasks such as classification often require input that is mathematically and computationally convenient to process however realworld data such as images video and sensory data has not yielded attempts to algorithmically define specific features an alternative is to discover such features or representations through examination without relying on explicit algorithms sparse dictionary learning sparse dictionary learning is a feature learning method where a training example is represented as a linear combination of basis functions and is assumed to be a sparse matrix the method is strongly nphard and difficult to solve approximately a popular heuristic method for sparse dictionary learning is the ksvd algorithm sparse dictionary learning has been applied in several contexts in classification the problem is to determine the class to which a previously unseen training example belongs for a dictionary where each class has already been built a new training example is associated with the class that is best sparsely represented by the corresponding dictionary sparse dictionary learning has also been applied in image denoising the key idea is that a clean image patch can be sparsely represented by an image dictionary but the noise cannot anomaly detection in data mining anomaly detection also known as outlier detection is the identification of rare items events or observations which raise suspicions by differing significantly from the majority of the data typically the anomalous items represent an issue such as bank fraud a structural defect medical problems or errors in a text anomalies are referred to as outliers novelties noise deviations and exceptions in particular in the context of abuse and network intrusion detection the interesting objects are often not rare objects but unexpected bursts of inactivity this pattern does not adhere to the common statistical definition of an outlier as a rare object many outlier detection methods in particular unsupervised algorithms will fail on such data unless aggregated appropriately instead a cluster analysis algorithm may be able to detect the microclusters formed by these patterns three broad categories of anomaly detection techniques exist unsupervised anomaly detection techniques detect anomalies in an unlabeled test data set under the assumption that the majority of the instances in the data set are normal by looking for instances that seem to fit the least to the remainder of the data set supervised anomaly detection techniques require a data set that has been labeled as normal and abnormal and involves training a classifier the key difference to many other statistical classification problems is the inherently unbalanced nature of outlier detection semisupervised anomaly detection techniques construct a model representing normal behavior from a given normal training data set and then test the likelihood of a test instance to be generated by the model robot learning robot learning is inspired by a multitude of machine learning methods starting from supervised learning reinforcement learning and finally metalearning eg maml association rules association rule learning is a rulebased machine learning method for discovering relationships between variables in large databases it is intended to identify strong rules discovered in databases using some measure of interestingness rulebased machine learning is a general term for any machine learning method that identifies learns or evolves rules to store manipulate or apply knowledge the defining characteristic of a rulebased machine learning algorithm is the identification and utilization of a set of relational rules that collectively represent the knowledge captured by the system this is in contrast to other machine learning algorithms that commonly identify a singular model that can be universally applied to any instance in order to make a prediction rulebased machine learning approaches include learning classifier systems association rule learning and artificial immune systems based on the concept of strong rules rakesh agrawal tomasz imieli ski and arun swami introduced association rules for discovering regularities between products in largescale transaction data recorded by pointofsale pos systems in supermarkets for example the rule o n i o n s p o t a t o e s b u r g e r displaystyle mathrm onionspotatoes rightarrow mathrm burger found in the sales data of a supermarket would indicate that if a customer buys onions and potatoes together they are likely to also buy hamburger meat such information can be used as the basis for decisions about marketing activities such as promotional pricing or product placements in addition to market basket analysis association rules are employed today in application areas including web usage mining intrusion detection continuous production and bioinformatics in contrast with sequence mining association rule learning typically does not consider the order of items either within a transaction or across transactions learning classifier systems lcs are a family of rulebased machine learning algorithms that combine a discovery component typically a genetic algorithm with a learning component performing either supervised learning reinforcement learning or unsupervised learning they seek to identify a set of contextdependent rules that collectively store and apply knowledge in a piecewise manner in order to make predictions inductive logic programming ilp is an approach to rule learning using logic programming as a uniform representation for input examples background knowledge and hypotheses given an encoding of the known background knowledge and a set of examples represented as a logical database of facts an ilp system will derive a hypothesized logic program that entails all positive and no negative examples inductive programming is a related field that considers any kind of programming language for representing hypotheses and not only logic programming such as functional programs inductive logic programming is particularly useful in bioinformatics and natural language processing gordon plotkin and ehud shapiro laid the initial theoretical foundation for inductive machine learning in a logical setting shapiro built their first implementation model inference system in  a prolog program that inductively inferred logic programs from positive and negative examples the term inductive here refers to philosophical induction suggesting a theory to explain observed facts rather than mathematical induction proving a property for all members of a wellordered set models a machine learning model is a type of mathematical model which after being trained on a given dataset can be used to make predictions or classifications on new data during training a learning algorithm iteratively adjusts the models internal parameters to minimize errors in its predictions by extension the term model can refer to several level of specifity from a general class of models and their associated learning algorithms to a fully trained model with all its internal parameters tuned various types of models have been used and researched for machine learning systems picking the best model for a task is called model selection artificial neural networks artificial neural networks anns or connectionist systems are computing systems vaguely inspired by the biological neural networks that constitute animal brains such systems learn to perform tasks by considering examples generally without being programmed with any taskspecific rules an ann is a model based on a collection of connected units or nodes called artificial neurons which loosely model the neurons in a biological brain each connection like the synapses in a biological brain can transmit information a signal from one artificial neuron to another an artificial neuron that receives a signal can process it and then signal additional artificial neurons connected to it in common ann implementations the signal at a connection between artificial neurons is a real number and the output of each artificial neuron is computed by some nonlinear function of the sum of its inputs the connections between artificial neurons are called edges artificial neurons and edges typically have a weight that adjusts as learning proceeds the weight increases or decreases the strength of the signal at a connection artificial neurons may have a threshold such that the signal is only sent if the aggregate signal crosses that threshold typically artificial neurons are aggregated into layers different layers may perform different kinds of transformations on their inputs signals travel from the first layer the input layer to the last layer the output layer possibly after traversing the layers multiple times the original goal of the ann approach was to solve problems in the same way that a human brain would however over time attention moved to performing specific tasks leading to deviations from biology artificial neural networks have been used on a variety of tasks including computer vision speech recognition machine translation social network filtering playing board and video games and medical diagnosis deep learning consists of multiple hidden layers in an artificial neural network this approach tries to model the way the human brain processes light and sound into vision and hearing some successful applications of deep learning are computer vision and speech recognition decision trees decision tree learning uses a decision tree as a predictive model to go from observations about an item represented in the branches to conclusions about the items target value represented in the leaves it is one of the predictive modeling approaches used in statistics data mining and machine learning tree models where the target variable can take a discrete set of values are called classification trees in these tree structures leaves represent class labels and branches represent conjunctions of features that lead to those class labels decision trees where the target variable can take continuous values typically real numbers are called regression trees in decision analysis a decision tree can be used to visually and explicitly represent decisions and decision making in data mining a decision tree describes data but the resulting classification tree can be an input for decisionmaking supportvector machines supportvector machines svms also known as supportvector networks are a set of related supervised learning methods used for classification and regression given a set of training examples each marked as belonging to one of two categories an svm training algorithm builds a model that predicts whether a new example falls into one category an svm training algorithm is a nonprobabilistic binary linear classifier although methods such as platt scaling exist to use svm in a probabilistic classification setting in addition to performing linear classification svms can efficiently perform a nonlinear classification using what is called the kernel trick implicitly mapping their inputs into highdimensional feature spaces regression analysis regression analysis encompasses a large variety of statistical methods to estimate the relationship between input variables and their associated features its most common form is linear regression where a single line is drawn to best fit the given data according to a mathematical criterion such as ordinary least squares the latter is often extended by regularization methods to mitigate overfitting and bias as in ridge regression when dealing with nonlinear problems goto models include polynomial regression for example used for trendline fitting in microsoft excel logistic regression often used in statistical classification or even kernel regression which introduces nonlinearity by taking advantage of the kernel trick to implicitly map input variables to higherdimensional space bayesian networks a bayesian network belief network or directed acyclic graphical model is a probabilistic graphical model that represents a set of random variables and their conditional independence with a directed acyclic graph dag for example a bayesian network could represent the probabilistic relationships between diseases and symptoms given symptoms the network can be used to compute the probabilities of the presence of various diseases efficient algorithms exist that perform inference and learning bayesian networks that model sequences of variables like speech signals or protein sequences are called dynamic bayesian networks generalizations of bayesian networks that can represent and solve decision problems under uncertainty are called influence diagrams gaussian processes a gaussian process is a stochastic process in which every finite collection of the random variables in the process has a multivariate normal distribution and it relies on a predefined covariance function or kernel that models how pairs of points relate to each other depending on their locations given a set of observed points or input output examples the distribution of the unobserved output of a new point as function of its input data can be directly computed by looking like the observed points and the covariances between those points and the new unobserved point gaussian processes are popular surrogate models in bayesian optimization used to do hyperparameter optimization genetic algorithms a genetic algorithm ga is a search algorithm and heuristic technique that mimics the process of natural selection using methods such as mutation and crossover to generate new genotypes in the hope of finding good solutions to a given problem in machine learning genetic algorithms were used in the s and s conversely machine learning techniques have been used to improve the performance of genetic and evolutionary algorithms belief functions the theory of belief functions also referred to as evidence theory or dempster shafer theory is a general framework for reasoning with uncertainty with understood connections to other frameworks such as probability possibility and imprecise probability theories these theoretical frameworks can be thought of as a kind of learner and have some analogous properties of how evidence is combined eg dempsters rule of combination just like how in a pmfbased bayesian approach would combine probabilities however there are many caveats to these beliefs functions when compared to bayesian approaches in order to incorporate ignorance and uncertainty quantification these belief function approaches that are implemented within the machine learning domain typically leverage a fusion approach of various ensemble methods to better handle the learners decision boundary low samples and ambiguous class issues that standard machine learning approach tend to have difficulty resolving however the computational complexity of these algorithms are dependent on the number of propositions classes and can lead a much higher computation time when compared to other machine learning approaches training models typically machine learning models require a high quantity of reliable data in order for the models to perform accurate predictions when training a machine learning model machine learning engineers need to target and collect a large and representative sample of data data from the training set can be as varied as a corpus of text a collection of images sensor data and data collected from individual users of a service overfitting is something to watch out for when training a machine learning model trained models derived from biased or nonevaluated data can result in skewed or undesired predictions bias models may result in detrimental outcomes thereby furthering the negative impacts on society or objectives algorithmic bias is a potential result of data not being fully prepared for training machine learning ethics is becoming a field of study and notably be integrated within machine learning engineering teams federated learning federated learning is an adapted form of distributed artificial intelligence to training machine learning models that decentralizes the training process allowing for users privacy to be maintained by not needing to send their data to a centralized server this also increases efficiency by decentralizing the training process to many devices for example gboard uses federated machine learning to train search query prediction models on users mobile phones without having to send individual searches back to google applications there are many applications for machine learning including in  the mediaservices provider netflix held the first netflix prize competition to find a program to better predict user preferences and improve the accuracy of its existing cinematch movie recommendation algorithm by at least  a joint team made up of researchers from att labsresearch in collaboration with the teams big chaos and pragmatic theory built an ensemble model to win the grand prize in  for  million shortly after the prize was awarded netflix realized that viewers ratings were not the best indicators of their viewing patterns everything is a recommendation and they changed their recommendation engine accordingly in  the wall street journal wrote about the firm rebellion research and their use of machine learning to predict the financial crisis in  cofounder of sun microsystems vinod khosla predicted that  of medical doctors jobs would be lost in the next two decades to automated machine learning medical diagnostic software in  it was reported that a machine learning algorithm had been applied in the field of art history to study fine art paintings and that it may have revealed previously unrecognized influences among artists in  springer nature published the first research book created using machine learning in  machine learning technology was used to help make diagnoses and aid researchers in developing a cure for covid machine learning was recently applied to predict the proenvironmental behavior of travelers recently machine learning technology was also applied to optimize smartphones performance and thermal behavior based on the users interaction with the phone when applied correctly machine learning algorithms mlas can utilize a wide range of company characteristics to predict stock returns without overfitting by employing effective feature engineering and combining forecasts mlas can generate results that far surpass those obtained from basic linear techniques like ols recent advancements in machine learning have extended into the field of quantum chemistry where novel algorithms now enable the prediction of solvent effects on chemical reactions thereby offering new tools for chemists to tailor experimental conditions for optimal outcomes limitations although machine learning has been transformative in some fields machinelearning programs often fail to deliver expected results reasons for this are numerous lack of suitable data lack of access to the data data bias privacy problems badly chosen tasks and algorithms wrong tools and people lack of resources and evaluation problems the black box theory poses another yet significant challenge black box refers to a situation where the algorithm or the process of producing an output is entirely opaque meaning that even the coders of the algorithm cannot audit the pattern that the machine extracted out of the data the house of lords select committee which claimed that such an intelligence system that could have a substantial impact on an individual s life would not be considered acceptable unless it provided a full and satisfactory explanation for the decisions it makes in  a selfdriving car from uber failed to detect a pedestrian who was killed after a collision attempts to use machine learning in healthcare with the ibm watson system failed to deliver even after years of time and billions of dollars invested microsofts bing chat chatbot has been reported to produce hostile and offensive response against its users machine learning has been used as a strategy to update the evidence related to a systematic review and increased reviewer burden related to the growth of biomedical literature while it has improved with training sets it has not yet developed sufficiently to reduce the workload burden without limiting the necessary sensitivity for the findings research themselves bias different machine learning approaches can suffer from different data biases a machine learning system trained specifically on current customers may not be able to predict the needs of new customer groups that are not represented in the training data when trained on humanmade data machine learning is likely to pick up the constitutional and unconscious biases already present in society language models learned from data have been shown to contain humanlike biases in an experiment carried out by propublica an investigative journalism organization a machine learning algorithms insight into the recidivism rates among prisoners falsely flagged black defendants high risk twice as often as white defendants in  google photos would often tag black people as gorillas and in  this still was not well resolved but google reportedly was still using the workaround to remove all gorillas from the training data and thus was not able to recognize real gorillas at all similar issues with recognizing nonwhite people have been found in many other systems in  microsoft tested tay a chatbot that learned from twitter and it quickly picked up racist and sexist language because of such challenges the effective use of machine learning may take longer to be adopted in other domains concern for fairness in machine learning that is reducing bias in machine learning and propelling its use for human good is increasingly expressed by artificial intelligence scientists including feifei li who reminds engineers that theres nothing artificial about ai its inspired by people its created by people and most importantly it impacts people it is a powerful tool we are only just beginning to understand and that is a profound responsibility explainability explainable ai xai or interpretable ai or explainable machine learning xml is artificial intelligence ai in which humans can understand the decisions or predictions made by the ai it contrasts with the black box concept in machine learning where even its designers cannot explain why an ai arrived at a specific decision by refining the mental models of users of aipowered systems and dismantling their misconceptions xai promises to help users perform more effectively xai may be an implementation of the social right to explanation overfitting settling on a bad overly complex theory gerrymandered to fit all the past training data is known as overfitting many systems attempt to reduce overfitting by rewarding a theory in accordance with how well it fits the data but penalizing the theory in accordance with how complex the theory is other limitations and vulnerabilities learners can also disappoint by learning the wrong lesson a toy example is that an image classifier trained only on pictures of brown horses and black cats might conclude that all brown patches are likely to be horses a realworld example is that unlike humans current image classifiers often do not primarily make judgments from the spatial relationship between components of the picture and they learn relationships between pixels that humans are oblivious to but that still correlate with images of certain types of real objects modifying these patterns on a legitimate image can result in adversarial images that the system misclassifies adversarial vulnerabilities can also result in nonlinear systems or from nonpattern perturbations for some systems it is possible to change the output by only changing a single adversarially chosen pixel machine learning models are often vulnerable to manipulation andor evasion via adversarial machine learning researchers have demonstrated how backdoors can be placed undetectably into classifying eg for categories spam and wellvisible not spam of posts machine learning models which are often developed andor trained by third parties parties can change the classification of any input including in cases for which a type of datasoftware transparency is provided possibly including whitebox access model assessments classification of machine learning models can be validated by accuracy estimation techniques like the holdout method which splits the data in a training and test set conventionally  training set and  test set designation and evaluates the performance of the training model on the test set in comparison the kfoldcrossvalidation method randomly partitions the data into k subsets and then k experiments are performed each respectively considering  subset for evaluation and the remaining k subsets for training the model in addition to the holdout and crossvalidation methods bootstrap which samples n instances with replacement from the dataset can be used to assess model accuracy in addition to overall accuracy investigators frequently report sensitivity and specificity meaning true positive rate tpr and true negative rate tnr respectively similarly investigators sometimes report the false positive rate fpr as well as the false negative rate fnr however these rates are ratios that fail to reveal their numerators and denominators the total operating characteristic toc is an effective method to express a models diagnostic ability toc shows the numerators and denominators of the previously mentioned rates thus toc provides more information than the commonly used receiver operating characteristic roc and rocs associated area under the curve auc ethics machine learning poses a host of ethical questions systems that are trained on datasets collected with biases may exhibit these biases upon use algorithmic bias thus digitizing cultural prejudices for example in  the uks commission for racial equality found that st georges medical school had been using a computer program trained from data of previous admissions staff and this program had denied nearly  candidates who were found to be either women or had noneuropean sounding names using job hiring data from a firm with racist hiring policies may lead to a machine learning system duplicating the bias by scoring job applicants by similarity to previous successful applicants another example includes predictive policing company geoliticas predictive algorithm that resulted in disproportionately high levels of overpolicing in lowincome and minority communities after being trained with historical crime data while responsible collection of data and documentation of algorithmic rules used by a system is considered a critical part of machine learning some researchers blame lack of participation and representation of minority population in the field of ai for machine learnings vulnerability to biases in fact according to research carried out by the computing research association cra in  female faculty merely make up  of all faculty members who focus on ai among several universities around the world furthermore among the group of new us resident ai phd graduates  identified as white  as asian  as hispanic and  as african american which further demonstrates a lack of diversity in the field of ai ai can be wellequipped to make decisions in technical fields which rely heavily on data and historical information these decisions rely on objectivity and logical reasoning because human languages contain biases machines trained on language corpora will necessarily also learn these biases other forms of ethical challenges not related to personal biases are seen in health care there are concerns among health care professionals that these systems might not be designed in the publics interest but as incomegenerating machines this is especially true in the united states where there is a longstanding ethical dilemma of improving health care but also increasing profits for example the algorithms could be designed to provide patients with unnecessary tests or medication in which the algorithms proprietary owners hold stakes there is potential for machine learning in health care to provide professionals an additional tool to diagnose medicate and plan recovery paths for patients but this requires these biases to be mitigated hardware since the s advances in both machine learning algorithms and computer hardware have led to more efficient methods for training deep neural networks a particular narrow subdomain of machine learning that contain many layers of nonlinear hidden units by  graphic processing units gpus often with aispecific enhancements had displaced cpus as the dominant method of training largescale commercial cloud ai openai estimated the hardware computing used in the largest deep learning projects from alexnet  to alphazero  and found a fold increase in the amount of compute required with a doublingtime trendline of  months neuromorphicphysical neural networks a physical neural network or neuromorphic computer is a type of artificial neural network in which an electrically adjustable material is used to emulate the function of a neural synapse physical neural network is used to emphasize the reliance on physical hardware used to emulate neurons as opposed to softwarebased approaches more generally the term is applicable to other artificial neural networks in which a memristor or other electrically adjustable resistance material is used to emulate a neural synapse embedded machine learning embedded machine learning is a subfield of machine learning where the machine learning model is run on embedded systems with limited computing resources such as wearable computers edge devices and microcontrollers running machine learning model in embedded devices removes the need for transferring and storing data on cloud servers for further processing henceforth reducing data breaches and privacy leaks happening because of transferring data and also minimizes theft of intellectual properties personal data and business secrets embedded machine learning could be applied through several techniques including hardware acceleration using approximate computing optimization of machine learning models and many more pruning quantization knowledge distillation lowrank factorization network architecture search nas parameter sharing are few of the techniques used for optimization of machine learning models software software suites containing a variety of machine learning algorithms include the following free and opensource software proprietary software with free and opensource editions knime rapidminer proprietary software journals journal of machine learning research machine learning nature machine intelligence neural computation ieee transactions on pattern analysis and machine intelligence conferences aaai conference on artificial intelligence association for computational linguistics acl european conference on machine learning and principles and practice of knowledge discovery in databases ecml pkdd international conference on computational intelligence methods for bioinformatics and biostatistics cibb international conference on machine learning icml international conference on learning representations iclr international conference on intelligent robots and systems iros conference on knowledge discovery and data mining kdd conference on neural information processing systems neurips see also automated machine learning process of automating the application of machine learning big data extremely large or complex datasets differentiable programming programming paradigm force control list of important publications in machine learning list of datasets for machinelearning research references sources domingos pedro september   the master algorithm how the quest for the ultimate learning machine will remake our world basic books isbn  nilsson nils  artificial intelligence a new synthesis morgan kaufmann isbn  archived from the original on  july  retrieved  november  russell stuart j norvig peter  artificial intelligence a modern approach nd ed upper saddle river new jersey prentice hall isbn  poole david mackworth alan goebel randy  computational intelligence a logical approach new york oxford university press isbn  archived from the original on  july  retrieved  august  further reading external links quotations related to machine learning at wikiquote international machine learning society mloss is an academic database of opensource machine learning softwaredeep learning is the subset of machine learning methods based on neural networks with representation learning the adjective deep refers to the use of multiple layers in the network methods used can be either supervised semisupervised or unsupervised deeplearning architectures such as deep neural networks deep belief networks recurrent neural networks convolutional neural networks and transformers have been applied to fields including computer vision speech recognition natural language processing machine translation bioinformatics drug design medical image analysis climate science material inspection and board game programs where they have produced results comparable to and in some cases surpassing human expert performance early forms of neural networks were inspired by information processing and distributed communication nodes in biological systems in particular the human brain however current neural networks do not intend to model the brain function of organisms and are generally seen as low quality models for that purpose overview most modern deep learning models are based on multilayered neural networks such as convolutional neural networks and transformers although they can also include propositional formulas or latent variables organized layerwise in deep generative models such as the nodes in deep belief networks and deep boltzmann machines fundamentally deep learning refers to a class of machine learning algorithms in which a hierarchy of layers is used to transform input data into a slightly more abstract and composite representation for example in an image recognition model the raw input may be an image represented as a tensor of pixels the first representational layer may attempt to identify basic shapes such as lines and circles the second layer may compose and encode arrangements of edges the third layer may encode a nose and eyes and the fourth layer may recognize that the image contains a face importantly a deep learning process can learn which features to optimally place in which level on its own prior to deep learning machine learning techniques often involved handcrafted feature engineering to transform the data into a more suitable representation for a classification algorithm to operate upon in the deep learning approach features are not handcrafted and the model discovers useful feature representations from the data automatically this does not eliminate the need for handtuning for example varying numbers of layers and layer sizes can provide different degrees of abstraction the word deep in deep learning refers to the number of layers through which the data is transformed more precisely deep learning systems have a substantial credit assignment path cap depth the cap is the chain of transformations from input to output caps describe potentially causal connections between input and output for a feedforward neural network the depth of the caps is that of the network and is the number of hidden layers plus one as the output layer is also parameterized for recurrent neural networks in which a signal may propagate through a layer more than once the cap depth is potentially unlimited no universally agreedupon threshold of depth divides shallow learning from deep learning but most researchers agree that deep learning involves cap depth higher than  cap of depth  has been shown to be a universal approximator in the sense that it can emulate any function beyond that more layers do not add to the function approximator ability of the network deep models cap  are able to extract better features than shallow models and hence extra layers help in learning the features effectively deep learning architectures can be constructed with a greedy layerbylayer method deep learning helps to disentangle these abstractions and pick out which features improve performance deep learning algorithms can be applied to unsupervised learning tasks this is an important benefit because unlabeled data are more abundant than the labeled data examples of deep structures that can be trained in an unsupervised manner are deep belief networks interpretations deep neural networks are generally interpreted in terms of the universal approximation theorem or probabilistic inference the classic universal approximation theorem concerns the capacity of feedforward neural networks with a single hidden layer of finite size to approximate continuous functions in  the first proof was published by george cybenko for sigmoid activation functions and was generalised to feedforward multilayer architectures in  by kurt hornik recent work also showed that universal approximation also holds for nonbounded activation functions such as kunihiko fukushimas rectified linear unit the universal approximation theorem for deep neural networks concerns the capacity of networks with bounded width but the depth is allowed to grow lu et al proved that if the width of a deep neural network with relu activation is strictly larger than the input dimension then the network can approximate any lebesgue integrable function if the width is smaller or equal to the input dimension then a deep neural network is not a universal approximator the probabilistic interpretation derives from the field of machine learning it features inference as well as the optimization concepts of training and testing related to fitting and generalization respectively more specifically the probabilistic interpretation considers the activation nonlinearity as a cumulative distribution function the probabilistic interpretation led to the introduction of dropout as regularizer in neural networks the probabilistic interpretation was introduced by researchers including hopfield widrow and narendra and popularized in surveys such as the one by bishop history there were two types of artificial neural network ann feedforward neural networks fnns and recurrent neural networks rnns rnns have cycles in their connectivity structure fnns dont in the s wilhelm lenz and ernst ising created and analyzed the ising model which is essentially a nonlearning rnn architecture consisting of neuronlike threshold elements in  shunichi amari made this architecture adaptive his learning rnn was popularised by john hopfield in  charles tappert writes that frank rosenblatt developed and explored all of the basic ingredients of the deep learning systems of today referring to rosenblatts  book which introduced multilayer perceptron mlp with  layers an input layer a hidden layer with randomized weights that did not learn and an output layer it also introduced variants including a version with fourlayer perceptrons where the last two layers have learned weights and thus a proper multilayer perceptron section  in addition term deep learning was proposed in  by rina dechter although the history of its appearance is apparently more complicated the first general working learning algorithm for supervised deep feedforward multilayer perceptrons was published by alexey ivakhnenko and lapa in  a  paper described a deep network with eight layers trained by the group method of data handling the first deep learning multilayer perceptron trained by stochastic gradient descent was published in  by shunichi amari in computer experiments conducted by amaris student saito a five layer mlp with two modifiable layers learned internal representations to classify nonlinearily separable pattern classes in  matthew brand reported that wide layer nonlinear perceptrons could be fully endtoend trained to reproduce logic functions of nontrivial circuit depth via gradient descent on small batches of random inputoutput samples but concluded that training time on contemporary hardware submegaflop computers made the technique impractical and proposed using fixed random early layers as an input hash for a single modifiable layer instead subsequent developments in hardware and hyperparameter tunings have made endtoend stochastic gradient descent the currently dominant training technique in  seppo linnainmaa published the reverse mode of automatic differentiation of discrete connected networks of nested differentiable functions this became known as backpropagation it is an efficient application of the chain rule derived by gottfried wilhelm leibniz in  to networks of differentiable nodes the terminology backpropagating errors was actually introduced in  by rosenblatt but he did not know how to implement this although henry j kelley had a continuous precursor of backpropagation already in  in the context of control theory in  paul werbos applied backpropagation to mlps in the way that has become standard in  david e rumelhart et al published an experimental analysis of the technique deep learning architectures for convolutional neural networks cnns with convolutional layers and downsampling layers began with the neocognitron introduced by kunihiko fukushima in  in  he also introduced the relu rectified linear unit activation function the rectifier has become the most popular activation function for cnns and deep learning in general cnns have become an essential tool for computer vision the term deep learning was introduced to the machine learning community by rina dechter in  and to artificial neural networks by igor aizenberg and colleagues in  in the context of boolean threshold neurons in  wei zhang et al applied the backpropagation algorithm to a convolutional neural network a simplified neocognitron with convolutional interconnections between the image feature layers and the last fully connected layer for alphabet recognition they also proposed an implementation of the cnn with an optical computing system in  yann lecun et al applied backpropagation to a cnn with the purpose of recognizing handwritten zip codes on mail while the algorithm worked training required  days subsequently wei zhang et al modified their model by removing the last fully connected layer and applied it for medical image object segmentation in  and breast cancer detection in mammograms in  lenet  a level cnn by yann lecun et al that classifies digits was applied by several banks to recognize handwritten numbers on checks digitized in x pixel images in the s backpropagation did not work well for deep learning with long credit assignment paths to overcome this problem j rgen schmidhuber  proposed a hierarchy of rnns pretrained one level at a time by selfsupervised learning it uses predictive coding to learn internal representations at multiple selforganizing time scales this can substantially facilitate downstream deep learning the rnn hierarchy can be collapsed into a single rnn by distilling a higher level chunker network into a lower level automatizer network in  a chunker solved a deep learning task whose depth exceeded  in  j rgen schmidhuber also published an alternative to rnns which is now called a linear transformer or a transformer with linearized selfattention save for a normalization operator it learns internal spotlights of attention a slow feedforward neural network learns by gradient descent to control the fast weights of another neural network through outer products of selfgenerated activation patterns from and to which are now called key and value for selfattention this fast weight attention mapping is applied to a query pattern the modern transformer was introduced by ashish vaswani et al in their  paper attention is all you need it combines this with a softmax operator and a projection matrix transformers have increasingly become the model of choice for natural language processing many modern large language models such as chatgpt gpt and bert use it transformers are also increasingly being used in computer vision in  j rgen schmidhuber also published adversarial neural networks that contest with each other in the form of a zerosum game where one networks gain is the other networks loss the first network is a generative model that models a probability distribution over output patterns the second network learns by gradient descent to predict the reactions of the environment to these patterns this was called artificial curiosity in  this principle was used in a generative adversarial network gan by ian goodfellow et al here the environmental reaction is  or  depending on whether the first networks output is in a given set this can be used to create realistic deepfakes excellent image quality is achieved by nvidias stylegan  based on the progressive gan by tero karras et al here the gan generator is grown from small to large scale in a pyramidal fashion sepp hochreiters diploma thesis  was called one of the most important documents in the history of machine learning by his supervisor schmidhuber it not only tested the neural history compressor but also identified and analyzed the vanishing gradient problem hochreiter proposed recurrent residual connections to solve this problem this led to the deep learning method called long shortterm memory lstm published in  lstm recurrent neural networks can learn very deep learning tasks with long credit assignment paths that require memories of events that happened thousands of discrete time steps before the vanilla lstm with forget gate was introduced in  by felix gers schmidhuber and fred cummins lstm has become the most cited neural network of the th century in  rupesh kumar srivastava klaus greff and schmidhuber used lstm principles to create the highway network a feedforward neural network with hundreds of layers much deeper than previous networks  months later kaiming he xiangyu zhang shaoqing ren and jian sun won the imagenet  competition with an opengated or gateless highway network variant called residual neural network this has become the most cited neural network of the st century in  andr de carvalho together with mike fairhurst and david bisset published experimental results of a multilayer boolean neural network also known as a weightless neural network composed of a layers selforganising feature extraction neural network module soft followed by a multilayer classification neural network module gsn which were independently trained each layer in the feature extraction module extracted features with growing complexity regarding the previous layer in  brendan frey demonstrated that it was possible to train over two days a network containing six fully connected layers and several hundred hidden units using the wakesleep algorithm codeveloped with peter dayan and hinton since  sven behnke extended the feedforward hierarchical convolutional approach in the neural abstraction pyramid by lateral and backward connections in order to flexibly incorporate context into decisions and iteratively resolve local ambiguities simpler models that use taskspecific handcrafted features such as gabor filters and support vector machines svms were a popular choice in the s and s because of artificial neural networks computational cost and a lack of understanding of how the brain wires its biological networks both shallow and deep learning eg recurrent nets of anns for speech recognition have been explored for many years these methods never outperformed nonuniform internalhandcrafting gaussian mixture modelhidden markov model gmmhmm technology based on generative models of speech trained discriminatively key difficulties have been analyzed including gradient diminishing and weak temporal correlation structure in neural predictive models additional difficulties were the lack of training data and limited computing power most speech recognition researchers moved away from neural nets to pursue generative modeling an exception was at sri international in the late s funded by the us governments nsa and darpa sri studied deep neural networks dnns in speech and speaker recognition the speaker recognition team led by larry heck reported significant success with deep neural networks in speech processing in the  national institute of standards and technology speaker recognition evaluation the sri deep neural network was then deployed in the nuance verifier representing the first major industrial application of deep learning the principle of elevating raw features over handcrafted optimization was first explored successfully in the architecture of deep autoencoder on the raw spectrogram or linear filterbank features in the late s showing its superiority over the melcepstral features that contain stages of fixed transformation from spectrograms the raw features of speech waveforms later produced excellent largerscale results speech recognition was taken over by lstm in  lstm started to become competitive with traditional speech recognizers on certain tasks in  alex graves santiago fern ndez faustino gomez and schmidhuber combined it with connectionist temporal classification ctc in stacks of lstm rnns in  googles speech recognition reportedly experienced a dramatic performance jump of  through ctctrained lstm which they made available through google voice search the impact of deep learning in industry began in the early s when cnns already processed an estimated  to  of all the checks written in the us according to yann lecun industrial applications of deep learning to largescale speech recognition started around  in  publications by geoff hinton ruslan salakhutdinov osindero and teh showed how a manylayered feedforward neural network could be effectively pretrained one layer at a time treating each layer in turn as an unsupervised restricted boltzmann machine then finetuning it using supervised backpropagation the papers referred to learning for deep belief nets the  nips workshop on deep learning for speech recognition was motivated by the limitations of deep generative models of speech and the possibility that given more capable hardware and largescale data sets that deep neural nets might become practical it was believed that pretraining dnns using generative models of deep belief nets dbn would overcome the main difficulties of neural nets however it was discovered that replacing pretraining with large amounts of training data for straightforward backpropagation when using dnns with large contextdependent output layers produced error rates dramatically lower than thenstateoftheart gaussian mixture model gmmhidden markov model hmm and also than moreadvanced generative modelbased systems the nature of the recognition errors produced by the two types of systems was characteristically different offering technical insights into how to integrate deep learning into the existing highly efficient runtime speech decoding system deployed by all major speech recognition systems analysis around   contrasting the gmm and other generative speech models vs dnn models stimulated early industrial investment in deep learning for speech recognition that analysis was done with comparable performance less than  in error rate between discriminative dnns and generative models in  researchers extended deep learning from timit to large vocabulary speech recognition by adopting large output layers of the dnn based on contextdependent hmm states constructed by decision trees deep learning is part of stateoftheart systems in various disciplines particularly computer vision and automatic speech recognition asr results on commonly used evaluation sets such as timit asr and mnist image classification as well as a range of largevocabulary speech recognition tasks have steadily improved convolutional neural networks were superseded for asr by ctc for lstm but are more successful in computer vision advances in hardware have driven renewed interest in deep learning in  nvidia was involved in what was called the big bang of deep learning as deeplearning neural networks were trained with nvidia graphics processing units gpus that year andrew ng determined that gpus could increase the speed of deeplearning systems by about  times in particular gpus are wellsuited for the matrixvector computations involved in machine learning gpus speed up training algorithms by orders of magnitude reducing running times from weeks to days further specialized hardware and algorithm optimizations can be used for efficient processing of deep learning models deep learning revolution in the late s deep learning started to outperform other methods in machine learning competitions in  a long shortterm memory trained by connectionist temporal classification alex graves santiago fern ndez faustino gomez and j rgen schmidhuber  was the first rnn to win pattern recognition contests winning three competitions in connected handwriting recognition google later used ctctrained lstm for speech recognition on the smartphone significant impacts in image or object recognition were felt from  to  although cnns trained by backpropagation had been around for decades and gpu implementations of nns for years including cnns faster implementations of cnns on gpus were needed to progress on computer vision in  the dannet by dan ciresan ueli meier jonathan masci luca maria gambardella and j rgen schmidhuber achieved for the first time superhuman performance in a visual pattern recognition contest outperforming traditional methods by a factor of  also in  dannet won the icdar chinese handwriting contest and in may  it won the isbi image segmentation contest until  cnns did not play a major role at computer vision conferences but in june  a paper by ciresan et al at the leading conference cvpr showed how maxpooling cnns on gpu can dramatically improve many vision benchmark records in september  dannet also won the icpr contest on analysis of large medical images for cancer detection and in the following year also the miccai grand challenge on the same topic in october  the similar alexnet by alex krizhevsky ilya sutskever and geoffrey hinton won the largescale imagenet competition by a significant margin over shallow machine learning methods the vgg network by karen simonyan and andrew zisserman further reduced the error rate and won the imagenet  competition following a similar trend in largescale speech recognition image classification was then extended to the more challenging task of generating descriptions captions for images often as a combination of cnns and lstms in  a team led by george e dahl won the merck molecular activity challenge using multitask deep neural networks to predict the biomolecular target of one drug in  sepp hochreiters group used deep learning to detect offtarget and toxic effects of environmental chemicals in nutrients household products and drugs and won the tox data challenge of nih fda and ncats in  roger parloff mentioned a deep learning revolution that has transformed the ai industry in march  yoshua bengio geoffrey hinton and yann lecun were awarded the turing award for conceptual and engineering breakthroughs that have made deep neural networks a critical component of computing neural networks artificial neural networks anns or connectionist systems are computing systems inspired by the biological neural networks that constitute animal brains such systems learn progressively improve their ability to do tasks by considering examples generally without taskspecific programming for example in image recognition they might learn to identify images that contain cats by analyzing example images that have been manually labeled as cat or no cat and using the analytic results to identify cats in other images they have found most use in applications difficult to express with a traditional computer algorithm using rulebased programming an ann is based on a collection of connected units called artificial neurons analogous to biological neurons in a biological brain each connection synapse between neurons can transmit a signal to another neuron the receiving postsynaptic neuron can process the signals and then signal downstream neurons connected to it neurons may have state generally represented by real numbers typically between  and  neurons and synapses may also have a weight that varies as learning proceeds which can increase or decrease the strength of the signal that it sends downstream typically neurons are organized in layers different layers may perform different kinds of transformations on their inputs signals travel from the first input to the last output layer possibly after traversing the layers multiple times the original goal of the neural network approach was to solve problems in the same way that a human brain would over time attention focused on matching specific mental abilities leading to deviations from biology such as backpropagation or passing information in the reverse direction and adjusting the network to reflect that information neural networks have been used on a variety of tasks including computer vision speech recognition machine translation social network filtering playing board and video games and medical diagnosis as of  neural networks typically have a few thousand to a few million units and millions of connections despite this number being several order of magnitude less than the number of neurons on a human brain these networks can perform many tasks at a level beyond that of humans eg recognizing faces or playing go deep neural networks a deep neural network dnn is an artificial neural network with multiple layers between the input and output layers there are different types of neural networks but they always consist of the same components neurons synapses weights biases and functions these components as a whole function in a way that mimics functions of the human brain and can be trained like any other ml algorithm for example a dnn that is trained to recognize dog breeds will go over the given image and calculate the probability that the dog in the image is a certain breed the user can review the results and select which probabilities the network should display above a certain threshold etc and return the proposed label each mathematical manipulation as such is considered a layer and complex dnn have many layers hence the name deep networks dnns can model complex nonlinear relationships dnn architectures generate compositional models where the object is expressed as a layered composition of primitives the extra layers enable composition of features from lower layers potentially modeling complex data with fewer units than a similarly performing shallow network for instance it was proved that sparse multivariate polynomials are exponentially easier to approximate with dnns than with shallow networks deep architectures include many variants of a few basic approaches each architecture has found success in specific domains it is not always possible to compare the performance of multiple architectures unless they have been evaluated on the same data sets dnns are typically feedforward networks in which data flows from the input layer to the output layer without looping back at first the dnn creates a map of virtual neurons and assigns random numerical values or weights to connections between them the weights and inputs are multiplied and return an output between  and  if the network did not accurately recognize a particular pattern an algorithm would adjust the weights that way the algorithm can make certain parameters more influential until it determines the correct mathematical manipulation to fully process the data recurrent neural networks in which data can flow in any direction are used for applications such as language modeling long shortterm memory is particularly effective for this use convolutional neural networks cnns are used in computer vision cnns also have been applied to acoustic modeling for automatic speech recognition asr challenges as with anns many issues can arise with naively trained dnns two common issues are overfitting and computation time dnns are prone to overfitting because of the added layers of abstraction which allow them to model rare dependencies in the training data regularization methods such as ivakhnenkos unit pruning or weight decay  displaystyle ell  regularization or sparsity  displaystyle ell  regularization can be applied during training to combat overfitting alternatively dropout regularization randomly omits units from the hidden layers during training this helps to exclude rare dependencies finally data can be augmented via methods such as cropping and rotating such that smaller training sets can be increased in size to reduce the chances of overfitting dnns must consider many training parameters such as the size number of layers and number of units per layer the learning rate and initial weights sweeping through the parameter space for optimal parameters may not be feasible due to the cost in time and computational resources various tricks such as batching computing the gradient on several training examples at once rather than individual examples speed up computation large processing capabilities of manycore architectures such as gpus or the intel xeon phi have produced significant speedups in training because of the suitability of such processing architectures for the matrix and vector computations alternatively engineers may look for other types of neural networks with more straightforward and convergent training algorithms cmac cerebellar model articulation controller is one such kind of neural network it doesnt require learning rates or randomized initial weights the training process can be guaranteed to converge in one step with a new batch of data and the computational complexity of the training algorithm is linear with respect to the number of neurons involved hardware since the s advances in both machine learning algorithms and computer hardware have led to more efficient methods for training deep neural networks that contain many layers of nonlinear hidden units and a very large output layer by  graphic processing units gpus often with aispecific enhancements had displaced cpus as the dominant method of training largescale commercial cloud ai openai estimated the hardware computation used in the largest deep learning projects from alexnet  to alphazero  and found a fold increase in the amount of computation required with a doublingtime trendline of  months special electronic circuits called deep learning processors were designed to speed up deep learning algorithms deep learning processors include neural processing units npus in huawei cellphones and cloud computing servers such as tensor processing units tpu in the google cloud platform cerebras systems has also built a dedicated system to handle large deep learning models the cs based on the largest processor in the industry the secondgeneration wafer scale engine wse atomically thin semiconductors are considered promising for energyefficient deep learning hardware where the same basic device structure is used for both logic operations and data storage in  marega et al published experiments with a largearea active channel material for developing logicinmemory devices and circuits based on floatinggate fieldeffect transistors fgfets in  j feldmann et al proposed an integrated photonic hardware accelerator for parallel convolutional processing the authors identify two key advantages of integrated photonics over its electronic counterparts  massively parallel data transfer through wavelength division multiplexing in conjunction with frequency combs and  extremely high data modulation speeds their system can execute trillions of multiplyaccumulate operations per second indicating the potential of integrated photonics in dataheavy ai applications applications automatic speech recognition largescale automatic speech recognition is the first and most convincing successful case of deep learning lstm rnns can learn very deep learning tasks that involve multisecond intervals containing speech events separated by thousands of discrete time steps where one time step corresponds to about  ms lstm with forget gates is competitive with traditional speech recognizers on certain tasks the initial success in speech recognition was based on smallscale recognition tasks based on timit the data set contains  speakers from eight major dialects of american english where each speaker reads  sentences its small size lets many configurations be tried more importantly the timit task concerns phonesequence recognition which unlike wordsequence recognition allows weak phone bigram language models this lets the strength of the acoustic modeling aspects of speech recognition be more easily analyzed the error rates listed below including these early results and measured as percent phone error rates per have been summarized since  the debut of dnns for speaker recognition in the late s and speech recognition around  and of lstm around   accelerated progress in eight major areas scaleupout and accelerated dnn training and decoding sequence discriminative training feature processing by deep models with solid understanding of the underlying mechanisms adaptation of dnns and related deep models multitask and transfer learning by dnns and related deep models cnns and how to design them to best exploit domain knowledge of speech rnn and its rich lstm variants other types of deep models including tensorbased models and integrated deep generativediscriminative models all major commercial speech recognition systems eg microsoft cortana xbox skype translator amazon alexa google now apple siri baidu and iflytek voice search and a range of nuance speech products etc are based on deep learning image recognition a common evaluation set for image classification is the mnist database data set mnist is composed of handwritten digits and includes  training examples and  test examples as with timit its small size lets users test multiple configurations a comprehensive list of results on this set is available deep learningbased image recognition has become superhuman producing more accurate results than human contestants this first occurred in  in recognition of traffic signs and in  with recognition of human faces deep learningtrained vehicles now interpret  camera views another example is facial dysmorphology novel analysis fdna used to analyze cases of human malformation connected to a large database of genetic syndromes visual art processing closely related to the progress that has been made in image recognition is the increasing application of deep learning techniques to various visual art tasks dnns have proven themselves capable for example of identifying the style period of a given painting neural style transfer capturing the style of a given artwork and applying it in a visually pleasing manner to an arbitrary photograph or video generating striking imagery based on random visual input fields natural language processing neural networks have been used for implementing language models since the early s lstm helped to improve machine translation and language modeling other key techniques in this field are negative sampling and word embedding word embedding such as wordvec can be thought of as a representational layer in a deep learning architecture that transforms an atomic word into a positional representation of the word relative to other words in the dataset the position is represented as a point in a vector space using word embedding as an rnn input layer allows the network to parse sentences and phrases using an effective compositional vector grammar a compositional vector grammar can be thought of as probabilistic context free grammar pcfg implemented by an rnn recursive autoencoders built atop word embeddings can assess sentence similarity and detect paraphrasing deep neural architectures provide the best results for constituency parsing sentiment analysis information retrieval spoken language understanding machine translation contextual entity linking writing style recognition namedentity recognition token classification text classification and others recent developments generalize word embedding to sentence embedding google translate gt uses a large endtoend long shortterm memory lstm network google neural machine translation gnmt uses an examplebased machine translation method in which the system learns from millions of examples it translates whole sentences at a time rather than pieces google translate supports over one hundred languages the network encodes the semantics of the sentence rather than simply memorizing phrasetophrase translations gt uses english as an intermediate between most language pairs drug discovery and toxicology a large percentage of candidate drugs fail to win regulatory approval these failures are caused by insufficient efficacy ontarget effect undesired interactions offtarget effects or unanticipated toxic effects research has explored use of deep learning to predict the biomolecular targets offtargets and toxic effects of environmental chemicals in nutrients household products and drugs atomnet is a deep learning system for structurebased rational drug design atomnet was used to predict novel candidate biomolecules for disease targets such as the ebola virus and multiple sclerosis in  graph neural networks were used for the first time to predict various properties of molecules in a large toxicology data set in  generative neural networks were used to produce molecules that were validated experimentally all the way into mice customer relationship management deep reinforcement learning has been used to approximate the value of possible direct marketing actions defined in terms of rfm variables the estimated value function was shown to have a natural interpretation as customer lifetime value recommendation systems recommendation systems have used deep learning to extract meaningful features for a latent factor model for contentbased music and journal recommendations multiview deep learning has been applied for learning user preferences from multiple domains the model uses a hybrid collaborative and contentbased approach and enhances recommendations in multiple tasks bioinformatics an autoencoder ann was used in bioinformatics to predict gene ontology annotations and genefunction relationships in medical informatics deep learning was used to predict sleep quality based on data from wearables and predictions of health complications from electronic health record data deep neural network estimations deep neural networks can be used to estimate the entropy of a stochastic process and called neural joint entropy estimator njee such an estimation provides insights on the effects of input random variables on an independent random variable practically the dnn is trained as a classifier that maps an input vector or matrix x to an output probability distribution over the possible classes of random variable y given input x for example in image classification tasks the njee maps a vector of pixels color values to probabilities over possible image classes in practice the probability distribution of y is obtained by a softmax layer with number of nodes that is equal to the alphabet size of y njee uses continuously differentiable activation functions such that the conditions for the universal approximation theorem holds it is shown that this method provides a strongly consistent estimator and outperforms other methods in case of large alphabet sizes medical image analysis deep learning has been shown to produce competitive results in medical application such as cancer cell classification lesion detection organ segmentation and image enhancement modern deep learning tools demonstrate the high accuracy of detecting various diseases and the helpfulness of their use by specialists to improve the diagnosis efficiency mobile advertising finding the appropriate mobile audience for mobile advertising is always challenging since many data points must be considered and analyzed before a target segment can be created and used in ad serving by any ad server deep learning has been used to interpret large manydimensioned advertising datasets many data points are collected during the requestserveclick internet advertising cycle this information can form the basis of machine learning to improve ad selection image restoration deep learning has been successfully applied to inverse problems such as denoising superresolution inpainting and film colorization these applications include learning methods such as shrinkage fields for effective image restoration which trains on an image dataset and deep image prior which trains on the image that needs restoration financial fraud detection deep learning is being successfully applied to financial fraud detection tax evasion detection and antimoney laundering materials science in november  researchers at google deepmind and lawrence berkeley national laboratory announced that they had developed an ai system known as gnome this system has contributed to materials science by discovering over  million new materials within a relatively short timeframe gnome employs deep learning techniques to efficiently explore potential material structures achieving a significant increase in the identification of stable inorganic crystal structures the systems predictions were validated through autonomous robotic experiments demonstrating a noteworthy success rate of  the data of newly discovered materials is publicly available through the materials project database offering researchers the opportunity to identify materials with desired properties for various applications this development has implications for the future of scientific discovery and the integration of ai in material science research potentially expediting material innovation and reducing costs in product development the use of ai and deep learning suggests the possibility of minimizing or eliminating manual lab experiments and allowing scientists to focus more on the design and analysis of unique compounds military the united states department of defense applied deep learning to train robots in new tasks through observation partial differential equations physics informed neural networks have been used to solve partial differential equations in both forward and inverse problems in a data driven manner one example is the reconstructing fluid flow governed by the navierstokes equations using physics informed neural networks does not require the often expensive mesh generation that conventional cfd methods relies on image reconstruction image reconstruction is the reconstruction of the underlying images from the imagerelated measurements several works showed the better and superior performance of the deep learning methods compared to analytical methods for various applications eg spectral imaging and ultrasound imaging epigenetic clock an epigenetic clock is a biochemical test that can be used to measure age galkin et al used deep neural networks to train an epigenetic aging clock of unprecedented accuracy using  blood samples the clock uses information from  cpg sites and predicts people with certain conditions older than healthy controls ibd frontotemporal dementia ovarian cancer obesity the aging clock was planned to be released for public use in  by an insilico medicine spinoff company deep longevity relation to human cognitive and brain development deep learning is closely related to a class of theories of brain development specifically neocortical development proposed by cognitive neuroscientists in the early s these developmental theories were instantiated in computational models making them predecessors of deep learning systems these developmental models share the property that various proposed learning dynamics in the brain eg a wave of nerve growth factor support the selforganization somewhat analogous to the neural networks utilized in deep learning models like the neocortex neural networks employ a hierarchy of layered filters in which each layer considers information from a prior layer or the operating environment and then passes its output and possibly the original input to other layers this process yields a selforganizing stack of transducers welltuned to their operating environment a  description stated the infants brain seems to organize itself under the influence of waves of socalled trophicfactors different regions of the brain become connected sequentially with one layer of tissue maturing before another and so on until the whole brain is mature a variety of approaches have been used to investigate the plausibility of deep learning models from a neurobiological perspective on the one hand several variants of the backpropagation algorithm have been proposed in order to increase its processing realism other researchers have argued that unsupervised forms of deep learning such as those based on hierarchical generative models and deep belief networks may be closer to biological reality in this respect generative neural network models have been related to neurobiological evidence about samplingbased processing in the cerebral cortex although a systematic comparison between the human brain organization and the neuronal encoding in deep networks has not yet been established several analogies have been reported for example the computations performed by deep learning units could be similar to those of actual neurons and neural populations similarly the representations developed by deep learning models are similar to those measured in the primate visual system both at the singleunit and at the population levels commercial activity facebooks ai lab performs tasks such as automatically tagging uploaded pictures with the names of the people in them googles deepmind technologies developed a system capable of learning how to play atari video games using only pixels as data input in  they demonstrated their alphago system which learned the game of go well enough to beat a professional go player google translate uses a neural network to translate between more than  languages in  covariantai was launched which focuses on integrating deep learning into factories as of  researchers at the university of texas at austin ut developed a machine learning framework called training an agent manually via evaluative reinforcement or tamer which proposed new methods for robots or computer programs to learn how to perform tasks by interacting with a human instructor first developed as tamer a new algorithm called deep tamer was later introduced in  during a collaboration between us army research laboratory arl and ut researchers deep tamer used deep learning to provide a robot with the ability to learn new tasks through observation using deep tamer a robot learned a task with a human trainer watching video streams or observing a human perform a task inperson the robot later practiced the task with the help of some coaching from the trainer who provided feedback such as good job and bad job criticism and comment deep learning has attracted both criticism and comment in some cases from outside the field of computer science theory a main criticism concerns the lack of theory surrounding some methods learning in the most common deep architectures is implemented using wellunderstood gradient descent however the theory surrounding other algorithms such as contrastive divergence is less clear eg does it converge if so how fast what is it approximating deep learning methods are often looked at as a black box with most confirmations done empirically rather than theoretically others point out that deep learning should be looked at as a step towards realizing strong ai not as an allencompassing solution despite the power of deep learning methods they still lack much of the functionality needed to realize this goal entirely research psychologist gary marcus noted realistically deep learning is only part of the larger challenge of building intelligent machines such techniques lack ways of representing causal relationships have no obvious ways of performing logical inferences and they are also still a long way from integrating abstract knowledge such as information about what objects are what they are for and how they are typically used the most powerful ai systems like watson use techniques like deep learning as just one element in a very complicated ensemble of techniques ranging from the statistical technique of bayesian inference to deductive reasoning in further reference to the idea that artistic sensitivity might be inherent in relatively low levels of the cognitive hierarchy a published series of graphic representations of the internal states of deep  layers neural networks attempting to discern within essentially random data the images on which they were trained demonstrate a visual appeal the original research notice received well over  comments and was the subject of what was for a time the most frequently accessed article on the guardians website errors some deep learning architectures display problematic behaviors such as confidently classifying unrecognizable images as belonging to a familiar category of ordinary images  and misclassifying minuscule perturbations of correctly classified images  goertzel hypothesized that these behaviors are due to limitations in their internal representations and that these limitations would inhibit integration into heterogeneous multicomponent artificial general intelligence agi architectures these issues may possibly be addressed by deep learning architectures that internally form states homologous to imagegrammar decompositions of observed entities and events learning a grammar visual or linguistic from training data would be equivalent to restricting the system to commonsense reasoning that operates on concepts in terms of grammatical production rules and is a basic goal of both human language acquisition and artificial intelligence ai cyber threat as deep learning moves from the lab into the world research and experience show that artificial neural networks are vulnerable to hacks and deception by identifying patterns that these systems use to function attackers can modify inputs to anns in such a way that the ann finds a match that human observers would not recognize for example an attacker can make subtle changes to an image such that the ann finds a match even though the image looks to a human nothing like the search target such manipulation is termed an adversarial attack in  researchers used one ann to doctor images in trial and error fashion identify anothers focal points and thereby generate images that deceived it the modified images looked no different to human eyes another group showed that printouts of doctored images then photographed successfully tricked an image classification system one defense is reverse image search in which a possible fake image is submitted to a site such as tineye that can then find other instances of it a refinement is to search using only parts of the image to identify images from which that piece may have been taken another group showed that certain psychedelic spectacles could fool a facial recognition system into thinking ordinary people were celebrities potentially allowing one person to impersonate another in  researchers added stickers to stop signs and caused an ann to misclassify them anns can however be further trained to detect attempts at deception potentially leading attackers and defenders into an arms race similar to the kind that already defines the malware defense industry anns have been trained to defeat annbased antimalware software by repeatedly attacking a defense with malware that was continually altered by a genetic algorithm until it tricked the antimalware while retaining its ability to damage the target in  another group demonstrated that certain sounds could make the google now voice command system open a particular web address and hypothesized that this could serve as a stepping stone for further attacks eg opening a web page hosting driveby malware in data poisoning false data is continually smuggled into a machine learning systems training set to prevent it from achieving mastery data collection ethics most deep learning systems rely on training and verification data that is generated andor annotated by humans it has been argued in media philosophy that not only lowpaid clickwork eg on amazon mechanical turk is regularly deployed for this purpose but also implicit forms of human microwork that are often not recognized as such the philosopher rainer m hlhoff distinguishes five types of machinic capture of human microwork to generate training data  gamification the embedding of annotation or computation tasks in the flow of a game  trapping and tracking eg captchas for image recognition or clicktracking on google search results pages  exploitation of social motivations eg tagging faces on facebook to obtain labeled facial images  information mining eg by leveraging quantifiedself devices such as activity trackers and  clickwork m hlhoff argues that in most commercial enduser applications of deep learning such as facebooks face recognition system the need for training data does not stop once an ann is trained rather there is a continued demand for humangenerated verification data to constantly calibrate and update the ann for this purpose facebook introduced the feature that once a user is automatically recognized in an image they receive a notification they can choose whether or not they like to be publicly labeled on the image or tell facebook that it is not them in the picture this user interface is a mechanism to generate a constant stream of verification data to further train the network in realtime as m hlhoff argues the involvement of human users to generate training and verification data is so typical for most commercial enduser applications of deep learning that such systems may be referred to as humanaided artificial intelligence see also applications of artificial intelligence comparison of deep learning software compressed sensing differentiable programming echo state network list of artificial intelligence projects liquid state machine list of datasets for machinelearning research reservoir computing scale space and deep learning sparse coding stochastic parrot topological deep learning references further reading natural language processing nlp is an interdisciplinary subfield of computer science and information retrieval it is primarily concerned with giving computers the ability to support and manipulate human language it involves processing natural language datasets such as text corpora or speech corpora using either rulebased or probabilistic ie statistical and most recently neural networkbased machine learning approaches the goal is a computer capable of understanding the contents of documents including the contextual nuances of the language within them to this end natural language processing often borrows ideas from theoretical linguistics the technology can then accurately extract information and insights contained in the documents as well as categorize and organize the documents themselves challenges in natural language processing frequently involve speech recognition naturallanguage understanding and naturallanguage generation history natural language processing has its roots in the s already in  alan turing published an article titled computing machinery and intelligence which proposed what is now called the turing test as a criterion of intelligence though at the time that was not articulated as a problem separate from artificial intelligence the proposed test includes a task that involves the automated interpretation and generation of natural language symbolic nlp s early s the premise of symbolic nlp is wellsummarized by john searles chinese room experiment given a collection of rules eg a chinese phrasebook with questions and matching answers the computer emulates natural language understanding or other nlp tasks by applying those rules to the data it confronts s the georgetown experiment in  involved fully automatic translation of more than sixty russian sentences into english the authors claimed that within three or five years machine translation would be a solved problem however real progress was much slower and after the alpac report in  which found that tenyearlong research had failed to fulfill the expectations funding for machine translation was dramatically reduced little further research in machine translation was conducted in america though some research continued elsewhere such as japan and europe until the late s when the first statistical machine translation systems were developed s some notably successful natural language processing systems developed in the s were shrdlu a natural language system working in restricted blocks worlds with restricted vocabularies and eliza a simulation of a rogerian psychotherapist written by joseph weizenbaum between  and  using almost no information about human thought or emotion eliza sometimes provided a startlingly humanlike interaction when the patient exceeded the very small knowledge base eliza might provide a generic response for example responding to my head hurts with why do you say your head hurts ross quillians successful work on natural language was demonstrated with a vocabulary of only twenty words because that was all that would fit in a computer memory at the time s during the s many programmers began to write conceptual ontologies which structured realworld information into computerunderstandable data examples are margie schank  sam cullingford  pam wilensky  talespin meehan  qualm lehnert  politics carbonell  and plot units lehnert  during this time the first chatterbots were written eg parry s the s and early s mark the heyday of symbolic methods in nlp focus areas of the time included research on rulebased parsing eg the development of hpsg as a computational operationalization of generative grammar morphology eg twolevel morphology semantics eg lesk algorithm reference eg within centering theory and other areas of natural language understanding eg in the rhetorical structure theory other lines of research were continued eg the development of chatterbots with racter and jabberwacky an important development that eventually led to the statistical turn in the s was the rising importance of quantitative evaluation in this period statistical nlp s s up until the s most natural language processing systems were based on complex sets of handwritten rules starting in the late s however there was a revolution in natural language processing with the introduction of machine learning algorithms for language processing this was due to both the steady increase in computational power see moores law and the gradual lessening of the dominance of chomskyan theories of linguistics eg transformational grammar whose theoretical underpinnings discouraged the sort of corpus linguistics that underlies the machinelearning approach to language processing s many of the notable early successes on statistical methods in nlp occurred in the field of machine translation due especially to work at ibm research such as ibm alignment models these systems were able to take advantage of existing multilingual textual corpora that had been produced by the parliament of canada and the european union as a result of laws calling for the translation of all governmental proceedings into all official languages of the corresponding systems of government however most other systems depended on corpora specifically developed for the tasks implemented by these systems which was and often continues to be a major limitation in the success of these systems as a result a great deal of research has gone into methods of more effectively learning from limited amounts of data s with the growth of the web increasing amounts of raw unannotated language data has become available since the mids research has thus increasingly focused on unsupervised and semisupervised learning algorithms such algorithms can learn from data that has not been handannotated with the desired answers or using a combination of annotated and nonannotated data generally this task is much more difficult than supervised learning and typically produces less accurate results for a given amount of input data however there is an enormous amount of nonannotated data available including among other things the entire content of the world wide web which can often make up for the inferior results if the algorithm used has a low enough time complexity to be practical neural nlp present in  word ngram model at the time the best statistical algorithm was overperformed by a multilayer perceptron with a single hidden layer and context length of several words trained on up to  million of words with a cpu cluster in language modelling by yoshua bengio with coauthors in  tom mikolov then a phd student at brno university of technology with coauthors applied a simple recurrent neural network with a single hidden layer to language modelling and in the following years he went on to develop wordvec in the s representation learning and deep neural networkstyle featuring many hidden layers machine learning methods became widespread in natural language processing that popularity was due partly to a flurry of results showing that such techniques can achieve stateoftheart results in many natural language tasks eg in language modeling and parsing this is increasingly important in medicine and healthcare where nlp helps analyze notes and text in electronic health records that would otherwise be inaccessible for study when seeking to improve care or protect patient privacy approaches symbolic statistical neural networks symbolic approach ie the handcoding of a set of rules for manipulating symbols coupled with a dictionary lookup was historically the first approach used both by ai in general and by nlp in particular such as by writing grammars or devising heuristic rules for stemming machine learning approaches which include both statistical and neural networks on the other hand have many advantages over the symbolic approach both statistical and neural networks methods can focus more on the most common cases extracted from a corpus of texts whereas the rulebased approach needs to provide rules for both rare cases and common ones equally language models produced by either statistical or neural networks methods are more robust to both unfamiliar eg containing words or structures that have not been seen before and erroneous input eg with misspelled words or words accidentally omitted in comparison to the rulebased systems which are also more costly to produce the larger such a probabilistic language model is the more accurate it becomes in contrast to rulebased systems that can gain accuracy only by increasing the amount and complexity of the rules leading to intractability problems although rulebased systems for manipulating symbols were still in use in  they have become mostly obsolete with the advance of llms in  before that they were commonly used when the amount of training data is insufficient to successfully apply machine learning methods eg for the machine translation of lowresource languages such as provided by the apertium system for preprocessing in nlp pipelines eg tokenization or for postprocessing and transforming the output of nlp pipelines eg for knowledge extraction from syntactic parses statistical approach in the late s and mids the statistical approach ended a period of ai winter which was caused by the inefficiencies of the rulebased approaches the earliest decision trees producing systems of hard if then rules were still very similar to the old rulebased approaches only the introduction of hidden markov models applied to partofspeech tagging announced the end of the old rulebased approach neural networks a major drawback of statistical methods is that they require elaborate feature engineering since  the statistical approach was replaced by the neural networks approach using word embeddings to capture semantic properties of words intermediate tasks eg partofspeech tagging and dependency parsing have not been needed anymore neural machine translation based on thennewlyinvented sequencetosequence transformations made obsolete the intermediate steps such as word alignment previously necessary for statistical machine translation common nlp tasks the following is a list of some of the most commonly researched tasks in natural language processing some of these tasks have direct realworld applications while others more commonly serve as subtasks that are used to aid in solving larger tasks though natural language processing tasks are closely intertwined they can be subdivided into categories for convenience a coarse division is given below text and speech processing optical character recognition ocr given an image representing printed text determine the corresponding text speech recognition given a sound clip of a person or people speaking determine the textual representation of the speech this is the opposite of text to speech and is one of the extremely difficult problems colloquially termed aicomplete see above in natural speech there are hardly any pauses between successive words and thus speech segmentation is a necessary subtask of speech recognition see below in most spoken languages the sounds representing successive letters blend into each other in a process termed coarticulation so the conversion of the analog signal to discrete characters can be a very difficult process also given that words in the same language are spoken by people with different accents the speech recognition software must be able to recognize the wide variety of input as being identical to each other in terms of its textual equivalent speech segmentation given a sound clip of a person or people speaking separate it into words a subtask of speech recognition and typically grouped with it texttospeech given a text transform those units and produce a spoken representation texttospeech can be used to aid the visually impaired word segmentation tokenization tokenization is a process used in text analysis that divides text into individual words or word fragments this technique results in two key components a word index and tokenized text the word index is a list that maps unique words to specific numerical identifiers and the tokenized text replaces each word with its corresponding numerical token these numerical tokens are then used in various deep learning methods for a language like english this is fairly trivial since words are usually separated by spaces however some written languages like chinese japanese and thai do not mark word boundaries in such a fashion and in those languages text segmentation is a significant task requiring knowledge of the vocabulary and morphology of words in the language sometimes this process is also used in cases like bag of words bow creation in data mining morphological analysis lemmatization the task of removing inflectional endings only and to return the base dictionary form of a word which is also known as a lemma lemmatization is another technique for reducing words to their normalized form but in this case the transformation actually uses a dictionary to map words to their actual form morphological segmentation separate words into individual morphemes and identify the class of the morphemes the difficulty of this task depends greatly on the complexity of the morphology ie the structure of words of the language being considered english has fairly simple morphology especially inflectional morphology and thus it is often possible to ignore this task entirely and simply model all possible forms of a word eg open opens opened opening as separate words in languages such as turkish or meitei a highly agglutinated indian language however such an approach is not possible as each dictionary entry has thousands of possible word forms partofspeech tagging given a sentence determine the part of speech pos for each word many words especially common ones can serve as multiple parts of speech for example book can be a noun the book on the table or verb to book a flight set can be a noun verb or adjective and out can be any of at least five different parts of speech stemming the process of reducing inflected or sometimes derived words to a base form eg close will be the root for closed closing close closer etc stemming yields similar results as lemmatization but does so on grounds of rules not a dictionary syntactic analysis grammar induction generate a formal grammar that describes a languages syntax sentence breaking also known as sentence boundary disambiguation given a chunk of text find the sentence boundaries sentence boundaries are often marked by periods or other punctuation marks but these same characters can serve other purposes eg marking abbreviations parsing determine the parse tree grammatical analysis of a given sentence the grammar for natural languages is ambiguous and typical sentences have multiple possible analyses perhaps surprisingly for a typical sentence there may be thousands of potential parses most of which will seem completely nonsensical to a human there are two primary types of parsing dependency parsing and constituency parsing dependency parsing focuses on the relationships between words in a sentence marking things like primary objects and predicates whereas constituency parsing focuses on building out the parse tree using a probabilistic contextfree grammar pcfg see also stochastic grammar lexical semantics of individual words in context lexical semantics what is the computational meaning of individual words in context distributional semantics how can we learn semantic representations from data named entity recognition ner given a stream of text determine which items in the text map to proper names such as people or places and what the type of each such name is eg person location organization although capitalization can aid in recognizing named entities in languages such as english this information cannot aid in determining the type of named entity and in any case is often inaccurate or insufficient for example the first letter of a sentence is also capitalized and named entities often span several words only some of which are capitalized furthermore many other languages in nonwestern scripts eg chinese or arabic do not have any capitalization at all and even languages with capitalization may not consistently use it to distinguish names for example german capitalizes all nouns regardless of whether they are names and french and spanish do not capitalize names that serve as adjectives another name for this task is token classification sentiment analysis see also multimodal sentiment analysis sentiment analysis is a computational method used to identify and classify the emotional intent behind text this technique involves analyzing text to determine whether the expressed sentiment is positive negative or neutral models for sentiment classification typically utilize inputs such as word ngrams term frequencyinverse document frequency tfidf features handgenerated features or employ deep learning models designed to recognize both longterm and shortterm dependencies in text sequences the applications of sentiment analysis are diverse extending to tasks such as categorizing customer reviews on various online platforms terminology extraction the goal of terminology extraction is to automatically extract relevant terms from a given corpus wordsense disambiguation wsd many words have more than one meaning we have to select the meaning which makes the most sense in context for this problem we are typically given a list of words and associated word senses eg from a dictionary or an online resource such as wordnet entity linking many words typically proper names refer to named entities here we have to select the entity a famous individual a location a company etc which is referred to in context relational semantics semantics of individual sentences relationship extraction given a chunk of text identify the relationships among named entities eg who is married to whom semantic parsing given a piece of text typically a sentence produce a formal representation of its semantics either as a graph eg in amr parsing or in accordance with a logical formalism eg in drt parsing this challenge typically includes aspects of several more elementary nlp tasks from semantics eg semantic role labelling wordsense disambiguation and can be extended to include fullfledged discourse analysis eg discourse analysis coreference see natural language understanding below semantic role labelling see also implicit semantic role labelling below given a single sentence identify and disambiguate semantic predicates eg verbal frames then identify and classify the frame elements semantic roles discourse semantics beyond individual sentences coreference resolution given a sentence or larger chunk of text determine which words mentions refer to the same objects entities anaphora resolution is a specific example of this task and is specifically concerned with matching up pronouns with the nouns or names to which they refer the more general task of coreference resolution also includes identifying socalled bridging relationships involving referring expressions for example in a sentence such as he entered johns house through the front door the front door is a referring expression and the bridging relationship to be identified is the fact that the door being referred to is the front door of johns house rather than of some other structure that might also be referred to discourse analysis this rubric includes several related tasks one task is discourse parsing ie identifying the discourse structure of a connected text ie the nature of the discourse relationships between sentences eg elaboration explanation contrast another possible task is recognizing and classifying the speech acts in a chunk of text eg yes no question content question statement assertion etc implicit semantic role labelling given a single sentence identify and disambiguate semantic predicates eg verbal frames and their explicit semantic roles in the current sentence see semantic role labelling above then identify semantic roles that are not explicitly realized in the current sentence classify them into arguments that are explicitly realized elsewhere in the text and those that are not specified and resolve the former against the local text a closely related task is zero anaphora resolution ie the extension of coreference resolution to prodrop languages recognizing textual entailment given two text fragments determine if one being true entails the other entails the others negation or allows the other to be either true or false topic segmentation and recognition given a chunk of text separate it into segments each of which is devoted to a topic and identify the topic of the segment argument mining the goal of argument mining is the automatic extraction and identification of argumentative structures from natural language text with the aid of computer programs such argumentative structures include the premise conclusions the argument scheme and the relationship between the main and subsidiary argument or the main and counterargument within discourse higherlevel nlp applications automatic summarization text summarization produce a readable summary of a chunk of text often used to provide summaries of the text of a known type such as research papers articles in the financial section of a newspaper grammatical error correction grammatical error detection and correction involves a great bandwidth of problems on all levels of linguistic analysis phonologyorthography morphology syntax semantics pragmatics grammatical error correction is impactful since it affects hundreds of millions of people that use or acquire english as a second language it has thus been subject to a number of shared tasks since  as far as orthography morphology syntax and certain aspects of semantics are concerned and due to the development of powerful neural language models such as gpt this can now  be considered a largely solved problem and is being marketed in various commercial applications logic translation translate a text from a natural language into formal logic machine translation mt automatically translate text from one human language to another this is one of the most difficult problems and is a member of a class of problems colloquially termed aicomplete ie requiring all of the different types of knowledge that humans possess grammar semantics facts about the real world etc to solve properly naturallanguage understanding nlu convert chunks of text into more formal representations such as firstorder logic structures that are easier for computer programs to manipulate natural language understanding involves the identification of the intended semantic from the multiple possible semantics which can be derived from a natural language expression which usually takes the form of organized notations of natural language concepts introduction and creation of language metamodel and ontology are efficient however empirical solutions an explicit formalization of natural language semantics without confusions with implicit assumptions such as closedworld assumption cwa vs openworld assumption or subjective yesno vs objective truefalse is expected for the construction of a basis of semantics formalization naturallanguage generation nlg convert information from computer databases or semantic intents into readable human language book generation not an nlp task proper but an extension of natural language generation and other nlp tasks is the creation of fullfledged books the first machinegenerated book was created by a rulebased system in  racter the policemans beard is halfconstructed the first published work by a neural network was published in   the road marketed as a novel contains sixty million words both these systems are basically elaborate but nonsensical semanticsfree language models the first machinegenerated science book was published in  beta writer lithiumion batteries springer cham unlike racter and  the road this is grounded on factual knowledge and based on text summarization document ai a document ai platform sits on top of the nlp technology enabling users with no prior experience of artificial intelligence machine learning or nlp to quickly train a computer to extract the specific data they need from different document types nlppowered document ai enables nontechnical teams to quickly access information hidden in documents for example lawyers business analysts and accountants dialogue management computer systems intended to converse with a human question answering given a humanlanguage question determine its answer typical questions have a specific right answer such as what is the capital of canada but sometimes openended questions are also considered such as what is the meaning of life texttoimage generation given a description of an image generate an image that matches the description texttoscene generation given a description of a scene generate a d model of the scene texttovideo given a description of a video generate a video that matches the description general tendencies and possible future directions based on longstanding trends in the field it is possible to extrapolate future directions of nlp as of  three trends among the topics of the longstanding series of conll shared tasks can be observed interest on increasingly abstract cognitive aspects of natural language   shallow parsing   named entity recognition    dependency syntax    semantic role labelling   coreference   discourse parsing  semantic parsing increasing interest in multilinguality and potentially multimodality english since  spanish dutch since  german since  bulgarian danish japanese portuguese slovenian swedish turkish since  basque catalan chinese greek hungarian italian turkish since  czech since  arabic since    languages   languages elimination of symbolic representations rulebased over supervised towards weakly supervised methods representation learning and endtoend systems cognition most higherlevel nlp applications involve aspects that emulate intelligent behaviour and apparent comprehension of natural language more broadly speaking the technical operationalization of increasingly advanced aspects of cognitive behaviour represents one of the developmental trajectories of nlp see trends among conll shared tasks above cognition refers to the mental action or process of acquiring knowledge and understanding through thought experience and the senses cognitive science is the interdisciplinary scientific study of the mind and its processes cognitive linguistics is an interdisciplinary branch of linguistics combining knowledge and research from both psychology and linguistics especially during the age of symbolic nlp the area of computational linguistics maintained strong ties with cognitive studies as an example george lakoff offers a methodology to build natural language processing nlp algorithms through the perspective of cognitive science along with the findings of cognitive linguistics with two defining aspects apply the theory of conceptual metaphor explained by lakoff as the understanding of one idea in terms of another which provides an idea of the intent of the author for example consider the english word big when used in a comparison that is a big tree the authors intent is to imply that the tree is physically large relative to other trees or the authors experience when used metaphorically tomorrow is a big day the authors intent to imply importance the intent behind other usages like in she is a big person will remain somewhat ambiguous to a person and a cognitive nlp algorithm alike without additional information assign relative measures of meaning to a word phrase sentence or piece of text based on the information presented before and after the piece of text being analyzed eg by means of a probabilistic contextfree grammar pcfg the mathematical equation for such algorithms is presented in us patent  r m m t o k e n n p m m t o k e n n   d i d d p m m t o k e n n p f t o k e n n i t o k e n n t o k e n n i i displaystyle rmmtokennpmmtokenntimes frac dleftsum iddpmmtokenntimes pftokennitokenntokenniiright where rmm is the relative measure of meaning token is any block of text sentence phrase or word n is the number of tokens being analyzed pmm is the probable measure of meaning based on a corpora d is the non zero location of the token along the sequence of n tokens pf is the probability function specific to a language ties with cognitive linguistics are part of the historical heritage of nlp but they have been less frequently addressed since the statistical turn during the s nevertheless approaches to develop cognitive models towards technically operationalizable frameworks have been pursued in the context of various frameworks eg of cognitive grammar functional grammar construction grammar computational psycholinguistics and cognitive neuroscience eg actr however with limited uptake in mainstream nlp as measured by presence on major conferences of the acl more recently ideas of cognitive nlp have been revived as an approach to achieve explainability eg under the notion of cognitive ai likewise ideas of cognitive nlp are inherent to neural models multimodal nlp although rarely made explicit and developments in artificial intelligence specifically tools and technologies using large language model approaches and new directions in artificial general intelligence based on the free energy principle by british neuroscientist and theoretician at university college london karl j friston see also references further reading external links media related to natural language processing at wikimedia commonsdata science is an interdisciplinary academic field that uses statistics scientific computing scientific methods processes algorithms and systems to extract or extrapolate knowledge and insights from potentially noisy structured or unstructured data data science also integrates domain knowledge from the underlying application domain eg natural sciences information technology and medicine data science is multifaceted and can be described as a science a research paradigm a research method a discipline a workflow and a profession data science is a concept to unify statistics data analysis informatics and their related methods to understand and analyze actual phenomena with data it uses techniques and theories drawn from many fields within the context of mathematics statistics computer science information science and domain knowledge however data science is different from computer science and information science turing award winner jim gray imagined data science as a fourth paradigm of science empirical theoretical computational and now datadriven and asserted that everything about science is changing because of the impact of information technology and the data deluge a data scientist is a professional who creates programming code and combines it with statistical knowledge to create insights from data foundations data science is an interdisciplinary field focused on extracting knowledge from typically large data sets and applying the knowledge and insights from that data to solve problems in a wide range of application domains the field encompasses preparing data for analysis formulating data science problems analyzing data developing datadriven solutions and presenting findings to inform highlevel decisions in a broad range of application domains as such it incorporates skills from computer science statistics information science mathematics data visualization information visualization data sonification data integration graphic design complex systems communication and business statistician nathan yau drawing on ben fry also links data science to human computer interaction users should be able to intuitively control and explore data in  the american statistical association identified database management statistics and machine learning and distributed and parallel systems as the three emerging foundational professional communities relationship to statistics many statisticians including nate silver have argued that data science is not a new field but rather another name for statistics others argue that data science is distinct from statistics because it focuses on problems and techniques unique to digital data vasant dhar writes that statistics emphasizes quantitative data and description in contrast data science deals with quantitative and qualitative data eg from images text sensors transactions customer information etc and emphasizes prediction and action andrew gelman of columbia university has described statistics as a nonessential part of data science stanford professor david donoho writes that data science is not distinguished from statistics by the size of datasets or use of computing and that many graduate programs misleadingly advertise their analytics and statistics training as the essence of a datascience program he describes data science as an applied field growing out of traditional statistics etymology early usage in  john tukey described a field he called data analysis which resembles modern data science in  in a lecture given to the chinese academy of sciences in beijing c f jeff wu used the term data science for the first time as an alternative name for statistics later attendees at a  statistics symposium at the university of montpellier ii acknowledged the emergence of a new discipline focused on data of various origins and forms combining established concepts and principles of statistics and data analysis with computing the term data science has been traced back to  when peter naur proposed it as an alternative name to computer science in  the international federation of classification societies became the first conference to specifically feature data science as a topic however the definition was still in flux after the  lecture at the chinese academy of sciences in beijing in  c f jeff wu again suggested that statistics should be renamed data science he reasoned that a new name would help statistics shed inaccurate stereotypes such as being synonymous with accounting or limited to describing data in  hayashi chikio argued for data science as a new interdisciplinary concept with three aspects data design collection and analysis during the s popular terms for the process of finding patterns in datasets which were increasingly large included knowledge discovery and data mining modern usage in  technologists thomas h davenport and dj patil declared data scientist the sexiest job of the st century a catchphrase that was picked up even by majorcity newspapers like the new york times and the boston globe a decade later they reaffirmed it stating that the job is more in demand than ever with employers the modern conception of data science as an independent discipline is sometimes attributed to william s cleveland in a  paper he advocated an expansion of statistics beyond theory into technical areas because this would significantly change the field it warranted a new name data science became more widely used in the next few years in  the committee on data for science and technology launched the data science journal in  columbia university launched the journal of data science in  the american statistical associations section on statistical learning and data mining changed its name to the section on statistical learning and data science reflecting the ascendant popularity of data science the professional title of data scientist has been attributed to dj patil and jeff hammerbacher in  though it was used by the national science board in their  report longlived digital data collections enabling research and education in the st century it referred broadly to any key role in managing a digital data collection there is still no consensus on the definition of data science and it is considered by some to be a buzzword big data is a related marketing term data scientists are responsible for breaking down big data into usable information and creating software and algorithms that help companies and organizations determine optimal operations data science and data analysis data science and data analysis are both important disciplines in the field of data management and analysis but they differ in several key ways while both fields involve working with data data science is more of an interdisciplinary field that involves the application of statistical computational and machine learning methods to extract insights from data and make predictions while data analysis is more focused on the examination and interpretation of data to identify patterns and trends data analysis typically involves working with smaller structured datasets to answer specific questions or solve specific problems this can involve tasks such as data cleaning data visualization and exploratory data analysis to gain insights into the data and develop hypotheses about relationships between variables data analysts typically use statistical methods to test these hypotheses and draw conclusions from the data for example a data analyst might analyze sales data to identify trends in customer behavior and make recommendations for marketing strategies data science on the other hand is a more complex and iterative process that involves working with larger more complex datasets that often require advanced computational and statistical methods to analyze data scientists often work with unstructured data such as text or images and use machine learning algorithms to build predictive models and make datadriven decisions in addition to statistical analysis data science often involves tasks such as data preprocessing feature engineering and model selection for instance a data scientist might develop a recommendation system for an ecommerce platform by analyzing user behavior patterns and using machine learning algorithms to predict user preferences while data analysis focuses on extracting insights from existing data data science goes beyond that by incorporating the development and implementation of predictive models to make informed decisions data scientists are often responsible for collecting and cleaning data selecting appropriate analytical techniques and deploying models in realworld scenarios they work at the intersection of mathematics computer science and domain expertise to solve complex problems and uncover hidden patterns in large datasets despite these differences data science and data analysis are closely related fields and often require similar skill sets both fields require a solid foundation in statistics programming and data visualization as well as the ability to communicate findings effectively to both technical and nontechnical audiences both fields benefit from critical thinking and domain knowledge as understanding the context and nuances of the data is essential for accurate analysis and modeling in summary data analysis and data science are distinct yet interconnected disciplines within the broader field of data management and analysis data analysis focuses on extracting insights and drawing conclusions from structured data while data science involves a more comprehensive approach that combines statistical analysis computational methods and machine learning to extract insights build predictive models and drive datadriven decisionmaking both fields use data to understand patterns make informed decisions and solve complex problems across various domains cloud computing for data science cloud computing can offer access to large amounts of computational power and storage in big data where volumes of information are continually generated and processed these platforms can be used to handle complex and resourceintensive analytical tasks some distributed computing frameworks are designed to handle big data workloads these frameworks can enable data scientists to process and analyze large datasets in parallel which can reducing processing times ethical consideration in data science data science involve collecting processing and analyzing data which often including personal and sensitive information ethical concerns include potential privacy violations bias perpetuation and negative societal impacts machine learning models can amplify existing biases present in training data leading to discriminatory or unfair outcomes see also open data science conference scientific data women in data python programming language r programming language data engineering big data machine learning references '"
            ],
            "application/vnd.google.colaboratory.intrinsic+json": {
              "type": "string"
            }
          },
          "metadata": {},
          "execution_count": 4
        }
      ]
    },
    {
      "cell_type": "code",
      "source": [
        "print(sorted(set(text)))"
      ],
      "metadata": {
        "colab": {
          "base_uri": "https://localhost:8080/"
        },
        "id": "mytvlomg4Wqv",
        "outputId": "84f65665-f3f2-4952-8f8e-30ba539c2a79"
      },
      "execution_count": 5,
      "outputs": [
        {
          "output_type": "stream",
          "name": "stdout",
          "text": [
            "[' ', 'a', 'b', 'c', 'd', 'e', 'f', 'g', 'h', 'i', 'j', 'k', 'l', 'm', 'n', 'o', 'p', 'q', 'r', 's', 't', 'u', 'v', 'w', 'x', 'y', 'z']\n"
          ]
        }
      ]
    },
    {
      "cell_type": "code",
      "source": [
        "tokens = text.split()\n",
        "tokens[:10]"
      ],
      "metadata": {
        "colab": {
          "base_uri": "https://localhost:8080/"
        },
        "id": "2NijkKve469T",
        "outputId": "642f3131-8451-47ba-9d23-0925cff3ff86"
      },
      "execution_count": 6,
      "outputs": [
        {
          "output_type": "execute_result",
          "data": {
            "text/plain": [
              "['artificial',\n",
              " 'intelligence',\n",
              " 'ai',\n",
              " 'in',\n",
              " 'its',\n",
              " 'broadest',\n",
              " 'sense',\n",
              " 'is',\n",
              " 'intelligence',\n",
              " 'exhibited']"
            ]
          },
          "metadata": {},
          "execution_count": 6
        }
      ]
    },
    {
      "cell_type": "code",
      "source": [
        "length = 50 + 1\n",
        "lines = []\n",
        "for i in range(length, len(tokens)):\n",
        "    seq = tokens[i - length:i]\n",
        "    line = \" \".join(seq)\n",
        "    lines.append(line)"
      ],
      "metadata": {
        "id": "gztew49R5huI"
      },
      "execution_count": 7,
      "outputs": []
    },
    {
      "cell_type": "code",
      "source": [
        "lines[0]"
      ],
      "metadata": {
        "colab": {
          "base_uri": "https://localhost:8080/",
          "height": 70
        },
        "id": "ITc5hOr36nF_",
        "outputId": "80f102d4-b968-494c-91fb-892924492e19"
      },
      "execution_count": 8,
      "outputs": [
        {
          "output_type": "execute_result",
          "data": {
            "text/plain": [
              "'artificial intelligence ai in its broadest sense is intelligence exhibited by machines particularly computer systems it is a field of research in computer science that develops and studies methods and software which enable machines to perceive their environment and uses learning and intelligence to take actions that maximize their chances of'"
            ],
            "application/vnd.google.colaboratory.intrinsic+json": {
              "type": "string"
            }
          },
          "metadata": {},
          "execution_count": 8
        }
      ]
    },
    {
      "cell_type": "code",
      "source": [
        "tokens[50]"
      ],
      "metadata": {
        "colab": {
          "base_uri": "https://localhost:8080/",
          "height": 35
        },
        "id": "Ywa7lEQi6oac",
        "outputId": "108d3d31-a60b-4c00-e6b4-0fd9bc42b722"
      },
      "execution_count": 9,
      "outputs": [
        {
          "output_type": "execute_result",
          "data": {
            "text/plain": [
              "'of'"
            ],
            "application/vnd.google.colaboratory.intrinsic+json": {
              "type": "string"
            }
          },
          "metadata": {},
          "execution_count": 9
        }
      ]
    },
    {
      "cell_type": "code",
      "source": [
        "len(lines)"
      ],
      "metadata": {
        "colab": {
          "base_uri": "https://localhost:8080/"
        },
        "id": "HzCb2YRs8TS-",
        "outputId": "4a82987c-7421-49d7-b25e-f15244c60e8f"
      },
      "execution_count": 10,
      "outputs": [
        {
          "output_type": "execute_result",
          "data": {
            "text/plain": [
              "37590"
            ]
          },
          "metadata": {},
          "execution_count": 10
        }
      ]
    },
    {
      "cell_type": "markdown",
      "source": [
        "## Perpare X, Y"
      ],
      "metadata": {
        "id": "iqcLdXMC8Mcf"
      }
    },
    {
      "cell_type": "code",
      "source": [
        "# import keras\n",
        "from keras.preprocessing.text import Tokenizer\n",
        "from keras.utils import to_categorical\n",
        "from keras.preprocessing.sequence import pad_sequences\n",
        "from keras.models import Sequential\n",
        "from keras.layers import Dense, LSTM, Embedding, SimpleRNN"
      ],
      "metadata": {
        "id": "UiI7PKH_61Vl"
      },
      "execution_count": 11,
      "outputs": []
    },
    {
      "cell_type": "code",
      "source": [
        "tokenizer = Tokenizer()\n",
        "tokenizer.fit_on_texts(lines)\n",
        "sequences = tokenizer.texts_to_sequences(lines)"
      ],
      "metadata": {
        "id": "_8BcPN0T8u7W"
      },
      "execution_count": 12,
      "outputs": []
    },
    {
      "cell_type": "code",
      "source": [
        "sequences = np.array(sequences)"
      ],
      "metadata": {
        "id": "bHUFfl4A-JDA"
      },
      "execution_count": 13,
      "outputs": []
    },
    {
      "cell_type": "code",
      "source": [
        "X, y = sequences[:, :-1], sequences[:, -1]"
      ],
      "metadata": {
        "id": "dWSEevSP-K1x"
      },
      "execution_count": 14,
      "outputs": []
    },
    {
      "cell_type": "code",
      "source": [
        "X[0]"
      ],
      "metadata": {
        "colab": {
          "base_uri": "https://localhost:8080/"
        },
        "id": "H2QPuluB-rkE",
        "outputId": "55446bf9-db3a-413d-fc45-e59d86b0976a"
      },
      "execution_count": 15,
      "outputs": [
        {
          "output_type": "execute_result",
          "data": {
            "text/plain": [
              "array([  38,   36,   19,    6,   65, 5726,  982,    7,   36, 2878,   13,\n",
              "        174,  696,   24,   39,   23,    7,    4,   84,    2,   57,    6,\n",
              "         24,   28,    8, 1900,    3,  618,   50,    3,   94,   33,  979,\n",
              "        174,    5, 2876,   54,  336,    3,  203,    9,    3,   36,    5,\n",
              "        433,  363,    8, 1169,   54, 1899])"
            ]
          },
          "metadata": {},
          "execution_count": 15
        }
      ]
    },
    {
      "cell_type": "code",
      "source": [
        "y[0]"
      ],
      "metadata": {
        "colab": {
          "base_uri": "https://localhost:8080/"
        },
        "id": "8zYophlF-wIZ",
        "outputId": "1f9dfb42-135b-4fb8-aae0-4f39d307b38d"
      },
      "execution_count": 16,
      "outputs": [
        {
          "output_type": "execute_result",
          "data": {
            "text/plain": [
              "2"
            ]
          },
          "metadata": {},
          "execution_count": 16
        }
      ]
    },
    {
      "cell_type": "code",
      "source": [
        "vocab_size = len(tokenizer.word_index) + 1 # +1: 1-based"
      ],
      "metadata": {
        "id": "jX_NRsl__emk"
      },
      "execution_count": 17,
      "outputs": []
    },
    {
      "cell_type": "code",
      "source": [
        "y_cat = to_categorical(y, num_classes=vocab_size)\n",
        "# X.shape[1]"
      ],
      "metadata": {
        "id": "luucPTCZ-_LT"
      },
      "execution_count": 18,
      "outputs": []
    },
    {
      "cell_type": "markdown",
      "source": [
        "## Model"
      ],
      "metadata": {
        "id": "oBtr6t4uAP-X"
      }
    },
    {
      "cell_type": "code",
      "source": [
        "model = Sequential()\n",
        "model.add(Embedding(vocab_size,50 ,input_length=X.shape[1]))\n",
        "model.add(SimpleRNN(100))\n",
        "model.add(Dense(vocab_size, activation='softmax'))\n",
        "model.summary()"
      ],
      "metadata": {
        "colab": {
          "base_uri": "https://localhost:8080/"
        },
        "id": "3PYP4c6-_3gv",
        "outputId": "d37bb0c5-653a-4494-927c-dfaedc39d950"
      },
      "execution_count": 26,
      "outputs": [
        {
          "output_type": "stream",
          "name": "stdout",
          "text": [
            "Model: \"sequential_3\"\n",
            "_________________________________________________________________\n",
            " Layer (type)                Output Shape              Param #   \n",
            "=================================================================\n",
            " embedding_3 (Embedding)     (None, 50, 50)            286350    \n",
            "                                                                 \n",
            " simple_rnn_3 (SimpleRNN)    (None, 100)               15100     \n",
            "                                                                 \n",
            " dense_2 (Dense)             (None, 5727)              578427    \n",
            "                                                                 \n",
            "=================================================================\n",
            "Total params: 879877 (3.36 MB)\n",
            "Trainable params: 879877 (3.36 MB)\n",
            "Non-trainable params: 0 (0.00 Byte)\n",
            "_________________________________________________________________\n"
          ]
        }
      ]
    },
    {
      "cell_type": "code",
      "source": [
        "model.compile(loss='categorical_crossentropy', optimizer='adam', metrics=['accuracy'])"
      ],
      "metadata": {
        "id": "BTErue39A1Ni"
      },
      "execution_count": 27,
      "outputs": []
    },
    {
      "cell_type": "code",
      "source": [
        "model.fit(X, y_cat, batch_size=128, epochs=100)"
      ],
      "metadata": {
        "colab": {
          "base_uri": "https://localhost:8080/"
        },
        "id": "I0ggK5zHA8PT",
        "outputId": "5b714e04-c3c1-46c5-a9b2-33430df09c52"
      },
      "execution_count": 28,
      "outputs": [
        {
          "output_type": "stream",
          "name": "stdout",
          "text": [
            "Epoch 1/100\n",
            "294/294 [==============================] - 11s 34ms/step - loss: 7.1667 - accuracy: 0.0451\n",
            "Epoch 2/100\n",
            "294/294 [==============================] - 10s 34ms/step - loss: 6.6548 - accuracy: 0.0662\n",
            "Epoch 3/100\n",
            "294/294 [==============================] - 10s 34ms/step - loss: 6.4019 - accuracy: 0.0844\n",
            "Epoch 4/100\n",
            "294/294 [==============================] - 10s 34ms/step - loss: 6.1601 - accuracy: 0.1032\n",
            "Epoch 5/100\n",
            "294/294 [==============================] - 11s 36ms/step - loss: 5.9180 - accuracy: 0.1202\n",
            "Epoch 6/100\n",
            "294/294 [==============================] - 10s 34ms/step - loss: 5.6817 - accuracy: 0.1341\n",
            "Epoch 7/100\n",
            "294/294 [==============================] - 11s 38ms/step - loss: 5.4523 - accuracy: 0.1457\n",
            "Epoch 8/100\n",
            "294/294 [==============================] - 10s 33ms/step - loss: 5.2315 - accuracy: 0.1570\n",
            "Epoch 9/100\n",
            "294/294 [==============================] - 10s 34ms/step - loss: 5.0179 - accuracy: 0.1694\n",
            "Epoch 10/100\n",
            "294/294 [==============================] - 10s 34ms/step - loss: 4.8148 - accuracy: 0.1856\n",
            "Epoch 11/100\n",
            "294/294 [==============================] - 10s 34ms/step - loss: 4.6192 - accuracy: 0.2034\n",
            "Epoch 12/100\n",
            "294/294 [==============================] - 10s 34ms/step - loss: 4.4282 - accuracy: 0.2236\n",
            "Epoch 13/100\n",
            "294/294 [==============================] - 10s 34ms/step - loss: 4.2496 - accuracy: 0.2472\n",
            "Epoch 14/100\n",
            "294/294 [==============================] - 10s 34ms/step - loss: 4.0721 - accuracy: 0.2688\n",
            "Epoch 15/100\n",
            "294/294 [==============================] - 10s 33ms/step - loss: 3.9033 - accuracy: 0.2923\n",
            "Epoch 16/100\n",
            "294/294 [==============================] - 10s 34ms/step - loss: 3.7424 - accuracy: 0.3153\n",
            "Epoch 17/100\n",
            "294/294 [==============================] - 10s 34ms/step - loss: 3.5897 - accuracy: 0.3370\n",
            "Epoch 18/100\n",
            "294/294 [==============================] - 10s 34ms/step - loss: 3.4442 - accuracy: 0.3577\n",
            "Epoch 19/100\n",
            "294/294 [==============================] - 15s 51ms/step - loss: 3.3076 - accuracy: 0.3793\n",
            "Epoch 20/100\n",
            "294/294 [==============================] - 11s 39ms/step - loss: 3.1750 - accuracy: 0.4016\n",
            "Epoch 21/100\n",
            "294/294 [==============================] - 13s 44ms/step - loss: 3.0531 - accuracy: 0.4203\n",
            "Epoch 22/100\n",
            "294/294 [==============================] - 10s 34ms/step - loss: 2.9381 - accuracy: 0.4390\n",
            "Epoch 23/100\n",
            "294/294 [==============================] - 10s 34ms/step - loss: 2.8265 - accuracy: 0.4567\n",
            "Epoch 24/100\n",
            "294/294 [==============================] - 12s 39ms/step - loss: 2.7211 - accuracy: 0.4735\n",
            "Epoch 25/100\n",
            "294/294 [==============================] - 13s 43ms/step - loss: 2.6224 - accuracy: 0.4916\n",
            "Epoch 26/100\n",
            "294/294 [==============================] - 12s 39ms/step - loss: 2.5267 - accuracy: 0.5073\n",
            "Epoch 27/100\n",
            "294/294 [==============================] - 12s 43ms/step - loss: 2.4391 - accuracy: 0.5218\n",
            "Epoch 28/100\n",
            "294/294 [==============================] - 14s 47ms/step - loss: 2.3503 - accuracy: 0.5373\n",
            "Epoch 29/100\n",
            "294/294 [==============================] - 11s 38ms/step - loss: 2.2715 - accuracy: 0.5533\n",
            "Epoch 30/100\n",
            "294/294 [==============================] - 14s 46ms/step - loss: 2.1916 - accuracy: 0.5672\n",
            "Epoch 31/100\n",
            "294/294 [==============================] - 10s 35ms/step - loss: 2.1193 - accuracy: 0.5788\n",
            "Epoch 32/100\n",
            "294/294 [==============================] - 10s 33ms/step - loss: 2.0483 - accuracy: 0.5899\n",
            "Epoch 33/100\n",
            "294/294 [==============================] - 10s 35ms/step - loss: 1.9788 - accuracy: 0.6050\n",
            "Epoch 34/100\n",
            "294/294 [==============================] - 10s 36ms/step - loss: 1.9197 - accuracy: 0.6165\n",
            "Epoch 35/100\n",
            "294/294 [==============================] - 13s 46ms/step - loss: 1.8569 - accuracy: 0.6257\n",
            "Epoch 36/100\n",
            "294/294 [==============================] - 10s 35ms/step - loss: 1.7948 - accuracy: 0.6392\n",
            "Epoch 37/100\n",
            "294/294 [==============================] - 12s 42ms/step - loss: 1.7413 - accuracy: 0.6476\n",
            "Epoch 38/100\n",
            "294/294 [==============================] - 13s 44ms/step - loss: 1.6840 - accuracy: 0.6599\n",
            "Epoch 39/100\n",
            "294/294 [==============================] - 14s 49ms/step - loss: 1.6366 - accuracy: 0.6690\n",
            "Epoch 40/100\n",
            "294/294 [==============================] - 12s 41ms/step - loss: 1.5815 - accuracy: 0.6821\n",
            "Epoch 41/100\n",
            "294/294 [==============================] - 12s 41ms/step - loss: 1.5355 - accuracy: 0.6878\n",
            "Epoch 42/100\n",
            "294/294 [==============================] - 10s 34ms/step - loss: 1.4888 - accuracy: 0.6996\n",
            "Epoch 43/100\n",
            "294/294 [==============================] - 11s 36ms/step - loss: 1.4474 - accuracy: 0.7074\n",
            "Epoch 44/100\n",
            "294/294 [==============================] - 10s 33ms/step - loss: 1.4008 - accuracy: 0.7175\n",
            "Epoch 45/100\n",
            "294/294 [==============================] - 16s 55ms/step - loss: 1.3605 - accuracy: 0.7248\n",
            "Epoch 46/100\n",
            "294/294 [==============================] - 12s 41ms/step - loss: 1.3227 - accuracy: 0.7345\n",
            "Epoch 47/100\n",
            "294/294 [==============================] - 12s 42ms/step - loss: 1.2835 - accuracy: 0.7402\n",
            "Epoch 48/100\n",
            "294/294 [==============================] - 11s 38ms/step - loss: 1.2494 - accuracy: 0.7502\n",
            "Epoch 49/100\n",
            "294/294 [==============================] - 11s 39ms/step - loss: 1.2099 - accuracy: 0.7587\n",
            "Epoch 50/100\n",
            "294/294 [==============================] - 13s 43ms/step - loss: 1.1778 - accuracy: 0.7616\n",
            "Epoch 51/100\n",
            "294/294 [==============================] - 15s 50ms/step - loss: 1.1447 - accuracy: 0.7695\n",
            "Epoch 52/100\n",
            "294/294 [==============================] - 13s 46ms/step - loss: 1.1105 - accuracy: 0.7762\n",
            "Epoch 53/100\n",
            "294/294 [==============================] - 12s 42ms/step - loss: 1.0842 - accuracy: 0.7824\n",
            "Epoch 54/100\n",
            "294/294 [==============================] - 10s 34ms/step - loss: 1.0528 - accuracy: 0.7893\n",
            "Epoch 55/100\n",
            "294/294 [==============================] - 10s 34ms/step - loss: 1.0265 - accuracy: 0.7938\n",
            "Epoch 56/100\n",
            "294/294 [==============================] - 10s 34ms/step - loss: 1.0131 - accuracy: 0.7969\n",
            "Epoch 57/100\n",
            "294/294 [==============================] - 10s 34ms/step - loss: 0.9721 - accuracy: 0.8055\n",
            "Epoch 58/100\n",
            "294/294 [==============================] - 10s 34ms/step - loss: 0.9571 - accuracy: 0.8076\n",
            "Epoch 59/100\n",
            "294/294 [==============================] - 10s 34ms/step - loss: 0.9238 - accuracy: 0.8136\n",
            "Epoch 60/100\n",
            "294/294 [==============================] - 10s 35ms/step - loss: 0.8900 - accuracy: 0.8238\n",
            "Epoch 61/100\n",
            "294/294 [==============================] - 11s 37ms/step - loss: 0.8726 - accuracy: 0.8268\n",
            "Epoch 62/100\n",
            "294/294 [==============================] - 10s 34ms/step - loss: 0.8528 - accuracy: 0.8306\n",
            "Epoch 63/100\n",
            "294/294 [==============================] - 10s 35ms/step - loss: 0.8308 - accuracy: 0.8342\n",
            "Epoch 64/100\n",
            "294/294 [==============================] - 10s 35ms/step - loss: 0.8097 - accuracy: 0.8396\n",
            "Epoch 65/100\n",
            "294/294 [==============================] - 12s 41ms/step - loss: 0.7897 - accuracy: 0.8447\n",
            "Epoch 66/100\n",
            "294/294 [==============================] - 13s 43ms/step - loss: 0.7720 - accuracy: 0.8468\n",
            "Epoch 67/100\n",
            "294/294 [==============================] - 12s 40ms/step - loss: 0.7825 - accuracy: 0.8432\n",
            "Epoch 68/100\n",
            "294/294 [==============================] - 12s 42ms/step - loss: 0.7322 - accuracy: 0.8564\n",
            "Epoch 69/100\n",
            "294/294 [==============================] - 15s 50ms/step - loss: 0.7145 - accuracy: 0.8591\n",
            "Epoch 70/100\n",
            "294/294 [==============================] - 13s 43ms/step - loss: 0.6889 - accuracy: 0.8656\n",
            "Epoch 71/100\n",
            "294/294 [==============================] - 13s 43ms/step - loss: 0.6782 - accuracy: 0.8658\n",
            "Epoch 72/100\n",
            "294/294 [==============================] - 11s 39ms/step - loss: 0.6729 - accuracy: 0.8682\n",
            "Epoch 73/100\n",
            "294/294 [==============================] - 11s 36ms/step - loss: 0.6567 - accuracy: 0.8707\n",
            "Epoch 74/100\n",
            "294/294 [==============================] - 13s 45ms/step - loss: 0.6515 - accuracy: 0.8707\n",
            "Epoch 75/100\n",
            "294/294 [==============================] - 13s 46ms/step - loss: 0.6180 - accuracy: 0.8799\n",
            "Epoch 76/100\n",
            "294/294 [==============================] - 10s 34ms/step - loss: 0.6027 - accuracy: 0.8830\n",
            "Epoch 77/100\n",
            "294/294 [==============================] - 10s 33ms/step - loss: 0.5912 - accuracy: 0.8868\n",
            "Epoch 78/100\n",
            "294/294 [==============================] - 11s 36ms/step - loss: 0.5831 - accuracy: 0.8865\n",
            "Epoch 79/100\n",
            "294/294 [==============================] - 11s 36ms/step - loss: 0.5858 - accuracy: 0.8845\n",
            "Epoch 80/100\n",
            "294/294 [==============================] - 10s 34ms/step - loss: 0.5709 - accuracy: 0.8881\n",
            "Epoch 81/100\n",
            "294/294 [==============================] - 10s 34ms/step - loss: 0.5378 - accuracy: 0.8987\n",
            "Epoch 82/100\n",
            "294/294 [==============================] - 10s 34ms/step - loss: 0.5211 - accuracy: 0.9003\n",
            "Epoch 83/100\n",
            "294/294 [==============================] - 10s 34ms/step - loss: 0.5173 - accuracy: 0.9027\n",
            "Epoch 84/100\n",
            "294/294 [==============================] - 10s 35ms/step - loss: 0.5019 - accuracy: 0.9058\n",
            "Epoch 85/100\n",
            "294/294 [==============================] - 11s 37ms/step - loss: 0.5002 - accuracy: 0.9032\n",
            "Epoch 86/100\n",
            "294/294 [==============================] - 11s 38ms/step - loss: 0.4832 - accuracy: 0.9086\n",
            "Epoch 87/100\n",
            "294/294 [==============================] - 11s 38ms/step - loss: 0.4748 - accuracy: 0.9119\n",
            "Epoch 88/100\n",
            "294/294 [==============================] - 12s 39ms/step - loss: 0.4816 - accuracy: 0.9078\n",
            "Epoch 89/100\n",
            "294/294 [==============================] - 10s 33ms/step - loss: 0.4748 - accuracy: 0.9081\n",
            "Epoch 90/100\n",
            "294/294 [==============================] - 10s 34ms/step - loss: 0.4434 - accuracy: 0.9176\n",
            "Epoch 91/100\n",
            "294/294 [==============================] - 11s 39ms/step - loss: 0.4226 - accuracy: 0.9218\n",
            "Epoch 92/100\n",
            "294/294 [==============================] - 10s 35ms/step - loss: 0.4119 - accuracy: 0.9248\n",
            "Epoch 93/100\n",
            "294/294 [==============================] - 11s 38ms/step - loss: 0.4109 - accuracy: 0.9245\n",
            "Epoch 94/100\n",
            "294/294 [==============================] - 10s 34ms/step - loss: 0.4244 - accuracy: 0.9207\n",
            "Epoch 95/100\n",
            "294/294 [==============================] - 10s 35ms/step - loss: 0.4175 - accuracy: 0.9214\n",
            "Epoch 96/100\n",
            "294/294 [==============================] - 10s 34ms/step - loss: 0.4036 - accuracy: 0.9257\n",
            "Epoch 97/100\n",
            "294/294 [==============================] - 11s 36ms/step - loss: 0.3872 - accuracy: 0.9292\n",
            "Epoch 98/100\n",
            "294/294 [==============================] - 10s 34ms/step - loss: 0.3715 - accuracy: 0.9329\n",
            "Epoch 99/100\n",
            "294/294 [==============================] - 10s 33ms/step - loss: 0.3673 - accuracy: 0.9338\n",
            "Epoch 100/100\n",
            "294/294 [==============================] - 10s 35ms/step - loss: 0.3570 - accuracy: 0.9368\n"
          ]
        },
        {
          "output_type": "execute_result",
          "data": {
            "text/plain": [
              "<keras.src.callbacks.History at 0x7d58892ec940>"
            ]
          },
          "metadata": {},
          "execution_count": 28
        }
      ]
    },
    {
      "cell_type": "code",
      "source": [
        "model.save('text_gen.model')"
      ],
      "metadata": {
        "id": "0nT52C0VDaFj"
      },
      "execution_count": 29,
      "outputs": []
    },
    {
      "cell_type": "code",
      "source": [
        "import tensorflow as tf\n",
        "model = tf.keras.models.load_model('text_gen.model')"
      ],
      "metadata": {
        "id": "FgqsHz6iFQ5V"
      },
      "execution_count": 19,
      "outputs": []
    },
    {
      "cell_type": "code",
      "source": [
        "def generate_text(model, tokenizer, text_seq_length, seed_text, n_words):\n",
        "    text = []\n",
        "    for _ in range(n_words):\n",
        "        encoded = tokenizer.texts_to_sequences([seed_text])[0]\n",
        "        # truncate if the size > 50\n",
        "        encoded = pad_sequences([encoded], maxlen=text_seq_length, truncating='pre')\n",
        "        # y_pred = model.predict_classes(encoded)\n",
        "        predictions = model.predict(encoded, verbose=0)\n",
        "        y_pred = np.argmax(predictions, axis=-1)\n",
        "        predicted_word = ''\n",
        "        for word, idx in tokenizer.word_index.items():\n",
        "            if idx == y_pred:\n",
        "                predicted_word = word\n",
        "                break\n",
        "        text.append(predicted_word)\n",
        "        seed_text += ' ' + predicted_word\n",
        "    return ' '.join(text)"
      ],
      "metadata": {
        "id": "LdzA6_zXBiON"
      },
      "execution_count": 20,
      "outputs": []
    },
    {
      "cell_type": "code",
      "source": [
        "seq_length = X.shape[1]\n",
        "input_text = lines[505]\n",
        "gen_text = generate_text(model, tokenizer, seq_length, input_text, 20)"
      ],
      "metadata": {
        "id": "PtDZkyXiESmB"
      },
      "execution_count": 21,
      "outputs": []
    },
    {
      "cell_type": "code",
      "source": [
        "input_text"
      ],
      "metadata": {
        "colab": {
          "base_uri": "https://localhost:8080/",
          "height": 70
        },
        "id": "Wj9-MC_9GgyC",
        "outputId": "8cf98288-ca54-48b6-ad17-ebe5172274b0"
      },
      "execution_count": 22,
      "outputs": [
        {
          "output_type": "execute_result",
          "data": {
            "text/plain": [
              "'late s and s methods were developed for dealing with uncertain or incomplete information employing concepts from probability and economics many of these algorithms are insufficient for solving large reasoning problems because they experience a combinatorial explosion they became exponentially slower as the problems grew larger even humans rarely use the'"
            ],
            "application/vnd.google.colaboratory.intrinsic+json": {
              "type": "string"
            }
          },
          "metadata": {},
          "execution_count": 22
        }
      ]
    },
    {
      "cell_type": "code",
      "source": [
        "gen_text"
      ],
      "metadata": {
        "colab": {
          "base_uri": "https://localhost:8080/",
          "height": 52
        },
        "id": "xi6FG5ekExfV",
        "outputId": "0863f46f-6cc0-4699-f0e7-82b6f9e64cb4"
      },
      "execution_count": 23,
      "outputs": [
        {
          "output_type": "execute_result",
          "data": {
            "text/plain": [
              "'stepbystep deduction that early ai is competitive with nodes and text may aid in determining logic technology applications informatics and'"
            ],
            "application/vnd.google.colaboratory.intrinsic+json": {
              "type": "string"
            }
          },
          "metadata": {},
          "execution_count": 23
        }
      ]
    },
    {
      "cell_type": "code",
      "source": [
        "input_text = \"artificial intelligence\"\n",
        "gen_text = generate_text(model, tokenizer, seq_length, input_text, 30)"
      ],
      "metadata": {
        "id": "RTFs0X1sEydr"
      },
      "execution_count": 30,
      "outputs": []
    },
    {
      "cell_type": "code",
      "source": [
        "gen_text"
      ],
      "metadata": {
        "colab": {
          "base_uri": "https://localhost:8080/",
          "height": 52
        },
        "id": "dENZbFU5HCsy",
        "outputId": "33882664-650a-422d-e5d3-296060439fdb"
      },
      "execution_count": 31,
      "outputs": [
        {
          "output_type": "execute_result",
          "data": {
            "text/plain": [
              "'connected often as a hypothesized logic when the machine was finished some hailed it as babbages dream come true during the s with the development of which they are not'"
            ],
            "application/vnd.google.colaboratory.intrinsic+json": {
              "type": "string"
            }
          },
          "metadata": {},
          "execution_count": 31
        }
      ]
    },
    {
      "cell_type": "markdown",
      "source": [
        "## Character based prediction"
      ],
      "metadata": {
        "id": "HTdjGXQkP-Ey"
      }
    },
    {
      "cell_type": "code",
      "source": [
        "characters = sorted(set(text))\n",
        "\n",
        "char_to_index = dict((c, i) for i, c in enumerate(characters))\n",
        "index_to_char = dict((i, c) for i, c in enumerate(characters))"
      ],
      "metadata": {
        "id": "NBzguZjiQAPV"
      },
      "execution_count": 33,
      "outputs": []
    },
    {
      "cell_type": "code",
      "source": [
        "SEQ_LENGTH = 40\n",
        "STEP_SIZE = 3\n",
        "\n",
        "sentences = []\n",
        "next_char = []"
      ],
      "metadata": {
        "id": "3LacN2h7QN8w"
      },
      "execution_count": 36,
      "outputs": []
    },
    {
      "cell_type": "code",
      "source": [
        "for i in range(0, len(text) - SEQ_LENGTH, STEP_SIZE):\n",
        "    sentences.append(text[i: i + SEQ_LENGTH])\n",
        "    next_char.append(text[i + SEQ_LENGTH])"
      ],
      "metadata": {
        "id": "jPAACjK1QPuj"
      },
      "execution_count": 37,
      "outputs": []
    },
    {
      "cell_type": "code",
      "source": [
        "x = np.zeros((len(sentences), SEQ_LENGTH,\n",
        "              len(characters)), dtype=np.bool_)\n",
        "y = np.zeros((len(sentences),\n",
        "              len(characters)), dtype=np.bool_)\n",
        "\n",
        "for i, satz in enumerate(sentences):\n",
        "    for t, char in enumerate(satz):\n",
        "        x[i, t, char_to_index[char]] = 1\n",
        "    y[i, char_to_index[next_char[i]]] = 1"
      ],
      "metadata": {
        "id": "3OWXGlDDQRu6"
      },
      "execution_count": 38,
      "outputs": []
    },
    {
      "cell_type": "code",
      "source": [
        "from tensorflow.keras.models import Sequential\n",
        "from tensorflow.keras.optimizers import RMSprop, Adam\n",
        "from tensorflow.keras.layers import Activation, Dense, SimpleRNN, BatchNormalization, Dropout"
      ],
      "metadata": {
        "id": "NVK4NrKfQThS"
      },
      "execution_count": 48,
      "outputs": []
    },
    {
      "cell_type": "code",
      "source": [
        "model = Sequential()\n",
        "model.add(SimpleRNN(256, input_shape=(SEQ_LENGTH, len(characters))))\n",
        "model.add(Activation('relu'))\n",
        "model.add(Dense(len(characters)))\n",
        "model.add(Activation('softmax'))\n",
        "model.summary()"
      ],
      "metadata": {
        "colab": {
          "base_uri": "https://localhost:8080/"
        },
        "id": "IskNheHqQZG7",
        "outputId": "17538c8f-3788-471e-c00b-31c36b89973c"
      },
      "execution_count": 42,
      "outputs": [
        {
          "output_type": "stream",
          "name": "stdout",
          "text": [
            "Model: \"sequential_1\"\n",
            "_________________________________________________________________\n",
            " Layer (type)                Output Shape              Param #   \n",
            "=================================================================\n",
            " simple_rnn_1 (SimpleRNN)    (None, 256)               72704     \n",
            "                                                                 \n",
            " activation_2 (Activation)   (None, 256)               0         \n",
            "                                                                 \n",
            " dense_1 (Dense)             (None, 27)                6939      \n",
            "                                                                 \n",
            " activation_3 (Activation)   (None, 27)                0         \n",
            "                                                                 \n",
            "=================================================================\n",
            "Total params: 79643 (311.11 KB)\n",
            "Trainable params: 79643 (311.11 KB)\n",
            "Non-trainable params: 0 (0.00 Byte)\n",
            "_________________________________________________________________\n"
          ]
        }
      ]
    },
    {
      "cell_type": "code",
      "source": [
        "model.compile(loss='categorical_crossentropy',\n",
        "              optimizer=Adam(learning_rate=0.01),\n",
        "              metrics=['accuracy'])"
      ],
      "metadata": {
        "id": "KHcftEnZQbNY"
      },
      "execution_count": 49,
      "outputs": []
    },
    {
      "cell_type": "code",
      "source": [
        "model.fit(x, y, batch_size=128, epochs=5)"
      ],
      "metadata": {
        "colab": {
          "base_uri": "https://localhost:8080/"
        },
        "id": "kMumfyZ3RQDI",
        "outputId": "4e8e05d6-c7f4-49d3-bcfb-eeee4160ff64"
      },
      "execution_count": 50,
      "outputs": [
        {
          "output_type": "stream",
          "name": "stdout",
          "text": [
            "Epoch 1/5\n",
            "648/648 [==============================] - 39s 58ms/step - loss: 2.9094 - accuracy: 0.1437\n",
            "Epoch 2/5\n",
            "648/648 [==============================] - 35s 54ms/step - loss: 2.9086 - accuracy: 0.1455\n",
            "Epoch 3/5\n",
            "648/648 [==============================] - 37s 57ms/step - loss: 2.9093 - accuracy: 0.1454\n",
            "Epoch 4/5\n",
            "648/648 [==============================] - 38s 59ms/step - loss: 2.9114 - accuracy: 0.1447\n",
            "Epoch 5/5\n",
            "648/648 [==============================] - 36s 55ms/step - loss: 2.9090 - accuracy: 0.1450\n"
          ]
        },
        {
          "output_type": "execute_result",
          "data": {
            "text/plain": [
              "<keras.src.callbacks.History at 0x7848dde05210>"
            ]
          },
          "metadata": {},
          "execution_count": 50
        }
      ]
    },
    {
      "cell_type": "code",
      "source": [
        "model.save('text_gen_char.model')"
      ],
      "metadata": {
        "id": "odi6mTCQQ5qg"
      },
      "execution_count": 51,
      "outputs": []
    },
    {
      "cell_type": "code",
      "source": [
        "model = tf.keras.models.load_model('text_gen_char.model')"
      ],
      "metadata": {
        "id": "d4wupgGyVtcm"
      },
      "execution_count": 52,
      "outputs": []
    },
    {
      "cell_type": "code",
      "source": [
        "def sample(preds, temperature=1.0):\n",
        "    preds = np.asarray(preds).astype('float64')\n",
        "    preds = np.log(preds) / temperature\n",
        "    exp_preds = np.exp(preds)\n",
        "    preds = exp_preds / np.sum(exp_preds)\n",
        "    probas = np.random.multinomial(1, preds, 1)\n",
        "    return np.argmax(probas)"
      ],
      "metadata": {
        "id": "r8mE1QK7QdQr"
      },
      "execution_count": 53,
      "outputs": []
    },
    {
      "cell_type": "code",
      "source": [
        "import random\n",
        "def generate_text(sentence, length, temperature):\n",
        "    start_index = random.randint(0, len(text) - SEQ_LENGTH - 1)\n",
        "    generated = ''\n",
        "    generated += sentence\n",
        "    for i in range(length):\n",
        "        x_predictions = np.zeros((1, SEQ_LENGTH, len(characters)))\n",
        "        for t, char in enumerate(sentence):\n",
        "            x_predictions[0, t, char_to_index[char]] = 1\n",
        "\n",
        "        predictions = model.predict(x_predictions, verbose=0)[0]\n",
        "        next_index = sample(predictions,\n",
        "                                 temperature)\n",
        "        next_character = index_to_char[next_index]\n",
        "\n",
        "        generated += next_character\n",
        "        sentence = sentence[1:] + next_character\n",
        "    return generated"
      ],
      "metadata": {
        "id": "FDvDjQyDQfRM"
      },
      "execution_count": 54,
      "outputs": []
    },
    {
      "cell_type": "code",
      "source": [
        "res = generate_text(input_text, 160, 0.7)"
      ],
      "metadata": {
        "id": "GR2j2PGLQhhI"
      },
      "execution_count": 57,
      "outputs": []
    },
    {
      "cell_type": "code",
      "source": [
        "res"
      ],
      "metadata": {
        "colab": {
          "base_uri": "https://localhost:8080/",
          "height": 52
        },
        "id": "8gfEg6HFVzrl",
        "outputId": "489607cb-289a-4a12-aefd-c56b7f4298f3"
      },
      "execution_count": 58,
      "outputs": [
        {
          "output_type": "execute_result",
          "data": {
            "text/plain": [
              "'artificial intelligence  nn ertua aw  n esatsauhartb sh rpdoe aanaemracsrinliiue  s ieootheaserlieurier parsap i  es  eshe a  stddhr tiahse t tp sneesits reie ri ss ealeece ir tslaetf'"
            ],
            "application/vnd.google.colaboratory.intrinsic+json": {
              "type": "string"
            }
          },
          "metadata": {},
          "execution_count": 58
        }
      ]
    },
    {
      "cell_type": "markdown",
      "source": [
        "## Glove will be crash"
      ],
      "metadata": {
        "id": "cskp3yTDWOp3"
      }
    },
    {
      "cell_type": "markdown",
      "source": [
        "## Using glove for word embedding"
      ],
      "metadata": {
        "id": "HCzx6hPrHbPE"
      }
    },
    {
      "cell_type": "code",
      "source": [
        "! wget https://downloads.cs.stanford.edu/nlp/data/glove.6B.zip\n",
        "\n",
        "! unzip -q glove.6B.zip"
      ],
      "metadata": {
        "colab": {
          "base_uri": "https://localhost:8080/"
        },
        "id": "_x4SHQSxHfyR",
        "outputId": "e08f5e55-d96d-4a55-b9c2-016b53075e34"
      },
      "execution_count": 51,
      "outputs": [
        {
          "output_type": "stream",
          "name": "stdout",
          "text": [
            "--2024-05-07 03:34:40--  https://downloads.cs.stanford.edu/nlp/data/glove.6B.zip\n",
            "Resolving downloads.cs.stanford.edu (downloads.cs.stanford.edu)... 171.64.64.22\n",
            "Connecting to downloads.cs.stanford.edu (downloads.cs.stanford.edu)|171.64.64.22|:443... connected.\n",
            "HTTP request sent, awaiting response... 200 OK\n",
            "Length: 862182613 (822M) [application/zip]\n",
            "Saving to: ‘glove.6B.zip’\n",
            "\n",
            "glove.6B.zip        100%[===================>] 822.24M  5.02MB/s    in 2m 39s  \n",
            "\n",
            "2024-05-07 03:37:19 (5.18 MB/s) - ‘glove.6B.zip’ saved [862182613/862182613]\n",
            "\n"
          ]
        }
      ]
    },
    {
      "cell_type": "code",
      "source": [
        "X.shape"
      ],
      "metadata": {
        "colab": {
          "base_uri": "https://localhost:8080/"
        },
        "id": "ZiyqA0Y5IVJn",
        "outputId": "36949266-2f96-4971-bef8-8211bc6354ad"
      },
      "execution_count": 32,
      "outputs": [
        {
          "output_type": "execute_result",
          "data": {
            "text/plain": [
              "(37590, 50)"
            ]
          },
          "metadata": {},
          "execution_count": 32
        }
      ]
    },
    {
      "cell_type": "code",
      "source": [
        "import keras\n",
        "import tensorflow\n",
        "vectorizer = keras.layers.TextVectorization(max_tokens=vocab_size, output_sequence_length=200)\n",
        "text_ds = tensorflow.data.Dataset.from_tensor_slices(tokens).batch(64)\n",
        "vectorizer.adapt(text_ds)"
      ],
      "metadata": {
        "id": "R4c5aiaWHhs3"
      },
      "execution_count": 54,
      "outputs": []
    },
    {
      "cell_type": "code",
      "source": [
        "next(iter(text_ds))"
      ],
      "metadata": {
        "colab": {
          "base_uri": "https://localhost:8080/"
        },
        "id": "42h6q9dRILFq",
        "outputId": "1865a3a7-0da5-42f5-9e13-b70929f9e424"
      },
      "execution_count": 55,
      "outputs": [
        {
          "output_type": "execute_result",
          "data": {
            "text/plain": [
              "<tf.Tensor: shape=(64,), dtype=string, numpy=\n",
              "array([b'artificial', b'intelligence', b'ai', b'in', b'its', b'broadest',\n",
              "       b'sense', b'is', b'intelligence', b'exhibited', b'by', b'machines',\n",
              "       b'particularly', b'computer', b'systems', b'it', b'is', b'a',\n",
              "       b'field', b'of', b'research', b'in', b'computer', b'science',\n",
              "       b'that', b'develops', b'and', b'studies', b'methods', b'and',\n",
              "       b'software', b'which', b'enable', b'machines', b'to', b'perceive',\n",
              "       b'their', b'environment', b'and', b'uses', b'learning', b'and',\n",
              "       b'intelligence', b'to', b'take', b'actions', b'that', b'maximize',\n",
              "       b'their', b'chances', b'of', b'achieving', b'defined', b'goals',\n",
              "       b'such', b'machines', b'may', b'be', b'called', b'ais', b'ai',\n",
              "       b'technology', b'is', b'widely'], dtype=object)>"
            ]
          },
          "metadata": {},
          "execution_count": 55
        }
      ]
    },
    {
      "cell_type": "code",
      "source": [
        "len(vectorizer.get_vocabulary()), *vectorizer.get_vocabulary()[500:515]"
      ],
      "metadata": {
        "colab": {
          "base_uri": "https://localhost:8080/"
        },
        "id": "xiFu8_VNIL_h",
        "outputId": "a9183d53-a23b-4ec7-f85a-cfb0ce5ede0e"
      },
      "execution_count": 57,
      "outputs": [
        {
          "output_type": "execute_result",
          "data": {
            "text/plain": [
              "(5727,\n",
              " 't',\n",
              " 'sparse',\n",
              " 'sometimes',\n",
              " 'situation',\n",
              " 'showed',\n",
              " 'schmidhuber',\n",
              " 'robot',\n",
              " 'rights',\n",
              " 'result',\n",
              " 'represent',\n",
              " 'recurrent',\n",
              " 'recommendation',\n",
              " 'real',\n",
              " 'previous',\n",
              " 'practical')"
            ]
          },
          "metadata": {},
          "execution_count": 57
        }
      ]
    },
    {
      "cell_type": "code",
      "source": [
        "test_sent = \"machine learning is so good\".lower()\n",
        "output = vectorizer([[test_sent]])\n",
        "output.numpy()"
      ],
      "metadata": {
        "colab": {
          "base_uri": "https://localhost:8080/"
        },
        "id": "5Dz8KwgiInYg",
        "outputId": "b37bb91f-2222-44ff-ccfc-1fe70abf80c3"
      },
      "execution_count": 67,
      "outputs": [
        {
          "output_type": "execute_result",
          "data": {
            "text/plain": [
              "array([[ 19,  10,   8, 227, 915,   0,   0,   0,   0,   0,   0,   0,   0,\n",
              "          0,   0,   0,   0,   0,   0,   0,   0,   0,   0,   0,   0,   0,\n",
              "          0,   0,   0,   0,   0,   0,   0,   0,   0,   0,   0,   0,   0,\n",
              "          0,   0,   0,   0,   0,   0,   0,   0,   0,   0,   0,   0,   0,\n",
              "          0,   0,   0,   0,   0,   0,   0,   0,   0,   0,   0,   0,   0,\n",
              "          0,   0,   0,   0,   0,   0,   0,   0,   0,   0,   0,   0,   0,\n",
              "          0,   0,   0,   0,   0,   0,   0,   0,   0,   0,   0,   0,   0,\n",
              "          0,   0,   0,   0,   0,   0,   0,   0,   0,   0,   0,   0,   0,\n",
              "          0,   0,   0,   0,   0,   0,   0,   0,   0,   0,   0,   0,   0,\n",
              "          0,   0,   0,   0,   0,   0,   0,   0,   0,   0,   0,   0,   0,\n",
              "          0,   0,   0,   0,   0,   0,   0,   0,   0,   0,   0,   0,   0,\n",
              "          0,   0,   0,   0,   0,   0,   0,   0,   0,   0,   0,   0,   0,\n",
              "          0,   0,   0,   0,   0,   0,   0,   0,   0,   0,   0,   0,   0,\n",
              "          0,   0,   0,   0,   0,   0,   0,   0,   0,   0,   0,   0,   0,\n",
              "          0,   0,   0,   0,   0,   0,   0,   0,   0,   0,   0,   0,   0,\n",
              "          0,   0,   0,   0,   0]])"
            ]
          },
          "metadata": {},
          "execution_count": 67
        }
      ]
    },
    {
      "cell_type": "code",
      "source": [
        "voc = vectorizer.get_vocabulary()\n",
        "word_index = dict(zip(voc, range(len(voc))))"
      ],
      "metadata": {
        "id": "-m5wRJfXI_Ag"
      },
      "execution_count": 68,
      "outputs": []
    },
    {
      "cell_type": "code",
      "source": [
        "[word_index[w] for w in test_sent.split()]"
      ],
      "metadata": {
        "colab": {
          "base_uri": "https://localhost:8080/"
        },
        "id": "XBll3uMdIy2B",
        "outputId": "1d7a4241-8549-4475-ec82-91d93a660cca"
      },
      "execution_count": 69,
      "outputs": [
        {
          "output_type": "execute_result",
          "data": {
            "text/plain": [
              "[19, 10, 8, 227, 915]"
            ]
          },
          "metadata": {},
          "execution_count": 69
        }
      ]
    },
    {
      "cell_type": "code",
      "source": [
        "data_y = []\n",
        "data_x = []\n",
        "for line in lines:\n",
        "    data_y.append(line.split()[-1])\n",
        "    rem = line.split()[:-1]\n",
        "    rem = ' '.join(rem)\n",
        "    data_x.append(rem)\n",
        "data_y = np.array(data_y)\n",
        "data_x = np.array(data_x)"
      ],
      "metadata": {
        "id": "n9RRpmV4KEF0"
      },
      "execution_count": 91,
      "outputs": []
    },
    {
      "cell_type": "code",
      "source": [
        "# data_x[0]"
      ],
      "metadata": {
        "colab": {
          "base_uri": "https://localhost:8080/",
          "height": 70
        },
        "id": "6Ed1sS7BMHc0",
        "outputId": "d7821c72-fc27-437c-f596-51070099d034"
      },
      "execution_count": 93,
      "outputs": [
        {
          "output_type": "execute_result",
          "data": {
            "text/plain": [
              "'artificial intelligence ai in its broadest sense is intelligence exhibited by machines particularly computer systems it is a field of research in computer science that develops and studies methods and software which enable machines to perceive their environment and uses learning and intelligence to take actions that maximize their chances'"
            ],
            "application/vnd.google.colaboratory.intrinsic+json": {
              "type": "string"
            }
          },
          "metadata": {},
          "execution_count": 93
        }
      ]
    },
    {
      "cell_type": "code",
      "source": [
        "data_y.shape, data_x.shape"
      ],
      "metadata": {
        "colab": {
          "base_uri": "https://localhost:8080/"
        },
        "id": "kvi-dPZBKkO5",
        "outputId": "d951d46a-3d4e-478d-9148-1c5f49b8aac2"
      },
      "execution_count": 92,
      "outputs": [
        {
          "output_type": "execute_result",
          "data": {
            "text/plain": [
              "((37590,), (37590,))"
            ]
          },
          "metadata": {},
          "execution_count": 92
        }
      ]
    },
    {
      "cell_type": "code",
      "source": [
        "X_train = vectorizer(np.array([[s] for s in data_x])).numpy().astype(np.float64)\n",
        "y_train = vectorizer(np.array([[s] for s in data_y])).numpy().astype(np.float64)\n",
        "X_train = np.array(y_train).astype(np.float32)\n",
        "y_train = np.array(y_train).astype(np.float32)\n",
        "X_train.shape, y_train.shape"
      ],
      "metadata": {
        "colab": {
          "base_uri": "https://localhost:8080/"
        },
        "id": "skt8wd8kI2er",
        "outputId": "49100f5b-3a31-43a4-d5b3-d07d6005dfb1"
      },
      "execution_count": 94,
      "outputs": [
        {
          "output_type": "execute_result",
          "data": {
            "text/plain": [
              "((37590, 200), (37590, 200))"
            ]
          },
          "metadata": {},
          "execution_count": 94
        }
      ]
    },
    {
      "cell_type": "code",
      "source": [
        "path_to_glove_file = \"glove.6B.300d.txt\"\n",
        "\n",
        "embeddings_index = {}\n",
        "with open(path_to_glove_file) as f:\n",
        "    for line in f:\n",
        "        word, coefs = line.split(maxsplit=1)\n",
        "        coefs = np.fromstring(coefs, \"f\", sep=\" \")\n",
        "        embeddings_index[word] = coefs\n",
        "\n",
        "print(\"Found %s word vectors.\" % len(embeddings_index))"
      ],
      "metadata": {
        "colab": {
          "base_uri": "https://localhost:8080/"
        },
        "id": "jOB_aOnCJnOC",
        "outputId": "f791ea95-5d18-42de-e5c3-fb6bf3c56822"
      },
      "execution_count": 95,
      "outputs": [
        {
          "output_type": "stream",
          "name": "stdout",
          "text": [
            "Found 400000 word vectors.\n"
          ]
        }
      ]
    },
    {
      "cell_type": "code",
      "source": [
        "num_tokens = len(voc) + 2\n",
        "embedding_dim = 300\n",
        "hits = 0\n",
        "misses = 0\n",
        "\n",
        "# Prepare embedding matrix\n",
        "embedding_matrix = np.zeros((num_tokens, embedding_dim))\n",
        "for word, i in word_index.items():\n",
        "    embedding_vector = embeddings_index.get(word)\n",
        "    if embedding_vector is not None:\n",
        "        # Words not found in embedding index will be all-zeros.\n",
        "        # This includes the representation for \"padding\" and \"OOV\"\n",
        "        embedding_matrix[i] = embedding_vector\n",
        "        hits += 1\n",
        "    else:\n",
        "        misses += 1\n",
        "print(\"Converted %d words (%d misses)\" % (hits, misses))"
      ],
      "metadata": {
        "colab": {
          "base_uri": "https://localhost:8080/"
        },
        "id": "50moleh3MRsQ",
        "outputId": "62bb20d2-ad8f-49d2-ab27-89984a20f693"
      },
      "execution_count": 96,
      "outputs": [
        {
          "output_type": "stream",
          "name": "stdout",
          "text": [
            "Converted 5218 words (509 misses)\n"
          ]
        }
      ]
    },
    {
      "cell_type": "code",
      "source": [
        "embedding_layer = Embedding(\n",
        "    num_tokens,\n",
        "    embedding_dim,\n",
        "    trainable=False,\n",
        ")\n",
        "embedding_layer.build((1,))\n",
        "embedding_layer.set_weights([embedding_matrix])\n",
        "\n",
        "\n",
        "model = Sequential()\n",
        "model.add(embedding_layer)\n",
        "model.add(SimpleRNN(100))\n",
        "model.add(Dense(vocab_size, activation='softmax'))\n",
        "model.summary()"
      ],
      "metadata": {
        "colab": {
          "base_uri": "https://localhost:8080/"
        },
        "id": "iWM53GdQMzQC",
        "outputId": "fff3b653-7635-4222-dfed-3bf72932956e"
      },
      "execution_count": 101,
      "outputs": [
        {
          "output_type": "stream",
          "name": "stdout",
          "text": [
            "Model: \"sequential_4\"\n",
            "_________________________________________________________________\n",
            " Layer (type)                Output Shape              Param #   \n",
            "=================================================================\n",
            " embedding_8 (Embedding)     (None, None, 300)         1718700   \n",
            "                                                                 \n",
            " simple_rnn_4 (SimpleRNN)    (None, 100)               40100     \n",
            "                                                                 \n",
            " dense_3 (Dense)             (None, 5727)              578427    \n",
            "                                                                 \n",
            "=================================================================\n",
            "Total params: 2337227 (8.92 MB)\n",
            "Trainable params: 618527 (2.36 MB)\n",
            "Non-trainable params: 1718700 (6.56 MB)\n",
            "_________________________________________________________________\n"
          ]
        }
      ]
    },
    {
      "cell_type": "code",
      "source": [
        "model.compile(loss='categorical_crossentropy', optimizer='adam', metrics=['accuracy'])"
      ],
      "metadata": {
        "id": "8lSM3V1nNxF5"
      },
      "execution_count": 102,
      "outputs": []
    },
    {
      "cell_type": "code",
      "source": [
        "y_train_cat = to_categorical(y_train, num_classes=vocab_size)\n",
        "model.fit(X_train, y_train_cat, batch_size=128, epochs=10)"
      ],
      "metadata": {
        "id": "Wmmg15ZnOMnj"
      },
      "execution_count": null,
      "outputs": []
    },
    {
      "cell_type": "code",
      "source": [],
      "metadata": {
        "id": "mzDfNQjeOPX8"
      },
      "execution_count": null,
      "outputs": []
    }
  ]
}