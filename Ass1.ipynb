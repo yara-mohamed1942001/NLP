{
  "nbformat": 4,
  "nbformat_minor": 0,
  "metadata": {
    "colab": {
      "provenance": []
    },
    "kernelspec": {
      "name": "python3",
      "display_name": "Python 3"
    },
    "language_info": {
      "name": "python"
    }
  },
  "cells": [
    {
      "cell_type": "code",
      "execution_count": null,
      "metadata": {
        "id": "ks6GmQqWc-In",
        "colab": {
          "base_uri": "https://localhost:8080/"
        },
        "outputId": "58704908-c66b-4fb4-81ec-8f1b1a483bf1"
      },
      "outputs": [
        {
          "output_type": "stream",
          "name": "stderr",
          "text": [
            "[nltk_data] Downloading package punkt to /root/nltk_data...\n",
            "[nltk_data]   Package punkt is already up-to-date!\n",
            "[nltk_data] Downloading package stopwords to /root/nltk_data...\n",
            "[nltk_data]   Package stopwords is already up-to-date!\n",
            "[nltk_data] Downloading package wordnet to /root/nltk_data...\n",
            "[nltk_data]   Package wordnet is already up-to-date!\n"
          ]
        },
        {
          "output_type": "execute_result",
          "data": {
            "text/plain": [
              "True"
            ]
          },
          "metadata": {},
          "execution_count": 12
        }
      ],
      "source": [
        "import requests\n",
        "from bs4 import BeautifulSoup\n",
        "import re\n",
        "from nltk.tokenize import word_tokenize\n",
        "from nltk.corpus import stopwords\n",
        "from nltk.stem import WordNetLemmatizer\n",
        "import nltk\n",
        "nltk.download('punkt')\n",
        "nltk.download('stopwords')\n",
        "nltk.download('wordnet')"
      ]
    },
    {
      "cell_type": "code",
      "source": [
        "url = \"https://en.wikipedia.org/wiki/Review_article\"\n",
        "response = requests.get(url) # to retrieve the HTML content from the URL.\n",
        "html_content = response.text\n",
        "soup = BeautifulSoup(html_content, 'html.parser')        #BeautifulSoup  to parse the HTML, extract text from  HTML\n",
        "text = \"\"                                            #The extracted text is stored in text\n",
        "for paragraph in soup.find_all('p'):\n",
        "    text += paragraph.get_text() + \" \""
      ],
      "metadata": {
        "id": "pHA0usqvspTJ"
      },
      "execution_count": null,
      "outputs": []
    },
    {
      "cell_type": "code",
      "source": [
        "from nltk.corpus import wordnet\n",
        "\n",
        "text = re.sub(r'[^a-zA-Z\\s]', '', text)       #Removing Non-Alphabetic Characters\n",
        "text = text.lower()\n",
        "tokens = word_tokenize(text)                   #splitting the text into individual words\n",
        "lemmatizer = WordNetLemmatizer()                        #reducing words to their base or dictionary form\n",
        "tokens = [lemmatizer.lemmatize(token) for token in tokens]\n",
        "stop_words = set(stopwords.words('english'))\n",
        "filtered_tokens = [token for token in tokens if token not in stop_words]       #Remove stop words\n",
        "words = [word for word in filtered_tokens if wordnet.synsets(word)]\n",
        "words = [word for word in filtered_tokens if len(word)>2]\n",
        "unique_words = set(words)\n",
        "\n",
        "print(unique_words)"
      ],
      "metadata": {
        "id": "ZNz9phXqsxSE",
        "colab": {
          "base_uri": "https://localhost:8080/"
        },
        "outputId": "62724af2-0fe0-491a-8a5a-08641b7f9fa1"
      },
      "execution_count": null,
      "outputs": [
        {
          "output_type": "stream",
          "name": "stdout",
          "text": [
            "{'whilst', 'highlight', 'multiple', 'claim', 'either', 'practice', 'analysis', 'summary', 'provides', 'referenced', 'stipulated', 'regarded', 'specificity', 'key', 'grant', 'opposed', 'extend', 'overview', 'neutral', 'effect', 'current', 'reference', 'reporting', 'feature', 'improvement', 'deeming', 'acknowledged', 'issuance', 'large', 'vulnerable', 'specifically', 'likewise', 'presenting', 'work', 'inclusion', 'strength', 'peerinvited', 'highly', 'remain', 'instils', 'synthesis', 'thereby', 'forecast', 'developing', 'field', 'outlining', 'intends', 'new', 'evidence', 'valuable', 'hold', 'considered', 'released', 'sometimes', 'put', 'mere', 'mean', 'ideal', 'ensures', 'meet', 'dependent', 'underlying', 'clearly', 'could', 'come', 'called', 'sinding', 'expertise', 'often', 'specialize', 'database', 'different', 'generally', 'impactful', 'comparing', 'made', 'category', 'validity', 'past', 'assurance', 'reason', 'concept', 'compiled', 'theory', 'aided', 'product', 'established', 'one', 'selected', 'written', 'way', 'without', 'marketing', 'evaluate', 'replace', 'common', 'develop', 'since', 'figure', 'secondary', 'behavioural', 'basis', 'navigate', 'found', 'importance', 'done', 'executed', 'comprehensiveness', 'year', 'onethird', 'recommend', 'resembles', 'editorial', 'six', 'produced', 'citation', 'utilise', 'involved', 'add', 'still', 'challenge', 'article', 'highlighting', 'ensure', 'text', 'handbook', 'social', 'formulating', 'topic', 'daft', 'write', 'depending', 'discipline', 'given', 'author', 'accepted', 'depend', 'may', 'academia', 'prevents', 'support', 'lacking', 'although', 'experimental', 'explanation', 'disproportionate', 'initiative', 'crake', 'refreshing', 'sense', 'medline', 'clinical', 'undertook', 'easily', 'future', 'cocitation', 'expert', 'publishing', 'certain', 'mcalister', 'overlap', 'american', 'overly', 'term', 'presentation', 'suggestion', 'statistical', 'piece', 'popularity', 'nature', 'source', 'development', 'scholarship', 'aiming', 'publishes', 'apparent', 'conjunction', 'modelling', 'reasonably', 'improved', 'submitted', 'fellow', 'quantitative', 'following', 'meyers', 'difficult', 'peer', 'confusion', 'set', 'final', 'limitation', 'number', 'presented', 'lead', 'proposal', 'mining', 'identified', 'writing', 'instead', 'review', 'systematic', 'converting', 'impact', 'exception', 'sociological', 'awareness', 'describe', 'financial', 'sending', 'structured', 'draw', 'software', 'similarity', 'advancement', 'experienced', 'serve', 'little', 'attracted', 'participant', 'amount', 'critical', 'say', 'coined', 'keywords', 'medical', 'synergy', 'release', 'already', 'planning', 'comparison', 'analyze', 'drawn', 'annually', 'structuring', 'result', 'potentially', 'statistic', 'frequently', 'requested', 'experience', 'content', 'balanced', 'submission', 'tend', 'per', 'varying', 'zotero', 'growth', 'implication', 'evidencebased', 'according', 'within', 'endnote', 'whereas', 'stated', 'angus', 'advance', 'forty', 'inundation', 'extension', 'compare', 'chosen', 'domain', 'synopsis', 'encourage', 'dramatic', 'historically', 'journal', 'innovative', 'stating', 'due', 'metastudy', 'paper', 'initially', 'upon', 'half', 'include', 'conducted', 'effective', 'possible', 'proven', 'consumer', 'criticising', 'experiment', 'make', 'reader', 'would', 'index', 'audience', 'platform', 'submit', 'inadequate', 'best', 'publication', 'grounded', 'word', 'scholar', 'sackett', 'investigation', 'discussed', 'use', 'researched', 'muddy', 'biased', 'well', 'provided', 'greater', 'mentioned', 'reading', 'potential', 'strictly', 'refers', 'issue', 'metaanalyses', 'encourages', 'aim', 'list', 'published', 'encompasses', 'bridge', 'impactfullness', 'subject', 'relevance', 'submitting', 'area', 'task', 'loss', 'exclusively', 'analyse', 'need', 'optimisation', 'furthermore', 'present', 'included', 'identify', 'perspective', 'cited', 'organisation', 'criterion', 'guideline', 'small', 'pathology', 'pattern', 'including', 'peerreviewed', 'categorised', 'evaluation', 'indicates', 'read', 'clear', 'recent', 'vary', 'finding', 'state', 'sciencebased', 'shortcoming', 'date', 'actually', 'determine', 'moher', 'publish', 'currently', 'summarizes', 'believe', 'neutrality', 'decreased', 'survey', 'percentage', 'pose', 'understanding', 'benefit', 'gap', 'biodiversity', 'available', 'start', 'assessment', 'attributed', 'succinct', 'embase', 'sculpt', 'like', 'forefront', 'particular', 'slightly', 'study', 'jargon', 'intended', 'ten', 'towards', 'identifies', 'also', 'description', 'news', 'jam', 'juxtaposes', 'sift', 'explain', 'dissonance', 'water', 'applicability', 'summarises', 'others', 'among', 'higher', 'increased', 'concise', 'explicit', 'reviewing', 'ongoing', 'title', 'avenue', 'popular', 'trial', 'saying', 'provide', 'abstract', 'combination', 'process', 'teach', 'wide', 'characterized', 'cochrane', 'exponential', 'sample', 'research', 'primary', 'rate', 'opportunity', 'includes', 'clinicianresearcher', 'lends', 'quality', 'prior', 'metaanalysis', 'requirement', 'must', 'accurate', 'familiarise', 'get', 'allowing', 'usually', 'identifying', 'accept', 'reiterate', 'important', 'system', 'build', 'useful', 'search', 'known', 'theoretical', 'however', 'berth', 'concerned', 'edition', 'example', 'cinahl', 'always', 'engine', 'missing', 'academic', 'variety', 'science', 'conclusion', 'metric', 'information', 'reviewed', 'management', 'credibility', 'method', 'addition', 'additional', 'see', 'clinician', 'adheres', 'even', 'healthcare', 'born', 'individual', 'raw', 'organising', 'synthesising', 'additionally', 'plethora', 'value', 'scope', 'end', 'together', 'synthesised', 'allows', 'doe', 'certainty', 'context', 'inconsistent', 'focus', 'equates', 'technique', 'transparent', 'proliferated', 'easy', 'define', 'alike', 'form', 'referred', 'saturated', 'format', 'discussion', 'objective', 'alone', 'essentially', 'pertaining', 'previously', 'equally', 'attention', 'searching', 'relevant', 'find', 'showed', 'various', 'nonpeerreviewed', 'categorise', 'heavily', 'foundation', 'theme', 'student', 'time', 'type', 'formed', 'comprehensive', 'bring', 'throughout', 'empirical', 'original', 'size', 'existing', 'studied', 'data', 'tertiary', 'epidemiological', 'collating', 'narrative', 'opinion', 'treated', 'prevalence', 'laboratory', 'practitioner', 'incompetent', 'literature', 'cluster', 'health', 'poorly', 'emphasis', 'necessity', 'allocated', 'indicative', 'previous', 'amongst', 'trend', 'condition', 'scientist', 'discus', 'rather', 'confidence', 'knowledge', 'drawing', 'hypothesis', 'undertaking', 'teacher', 'miss', 'pull', 'researching', 'personal', 'detail', 'formal', 'detailed', 'typically', 'able', 'methodological', 'using', 'harder', 'especially', 'academy', 'overload', 'used', 'separate', 'assign', 'selects', 'wellinformed', 'adhere', 'based', 'commenting', 'manageable', 'inadequately', 'introduce', 'bibliography', 'alongside', 'first', 'section', 'selecting', 'anomaly', 'dedicated', 'conducting', 'emphasised', 'specific', 'increase', 'top', 'fact', 'school', 'grew', 'polished', 'university'}\n"
          ]
        }
      ]
    },
    {
      "cell_type": "code",
      "source": [
        "len_3 = [unique_word for unique_word in unique_words if len(unique_word)<3]\n",
        "print(len_3)"
      ],
      "metadata": {
        "id": "jFRmBAj0tTR_",
        "colab": {
          "base_uri": "https://localhost:8080/"
        },
        "outputId": "d2379dfb-ff71-412b-a9f9-290f668ff010"
      },
      "execution_count": null,
      "outputs": [
        {
          "output_type": "stream",
          "name": "stdout",
          "text": [
            "[]\n"
          ]
        }
      ]
    }
  ]
}